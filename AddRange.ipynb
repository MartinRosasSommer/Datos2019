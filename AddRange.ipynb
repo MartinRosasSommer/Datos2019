{
 "cells": [
  {
   "cell_type": "code",
   "execution_count": 4,
   "metadata": {},
   "outputs": [],
   "source": [
    "import pyspark\n",
    "from datetime import datetime, timedelta\n",
    "\n",
    "\n",
    "spark = pyspark.sql.SparkSession.builder.appName(\"auctions\").getOrCreate()\n",
    "df_auctions = spark.read.csv('auctions.csv', header=True)\n",
    "df_installs = spark.read.csv('installs.csv', header=True)\n",
    "rdd_auctions = df_auctions.rdd\n",
    "rdd_installs = df_installs.rdd\n"
   ]
  },
  {
   "cell_type": "code",
   "execution_count": 8,
   "metadata": {},
   "outputs": [
    {
     "data": {
      "text/plain": [
       "[Row(date=u'2019-04-23 18:58:00.842116', device_id=u'2564673204772915246', ref_type_id=u'1', source_id=u'0'),\n",
       " Row(date=u'2019-04-23 18:58:01.530771', device_id=u'4441121667607578179', ref_type_id=u'7', source_id=u'0'),\n",
       " Row(date=u'2019-04-23 18:58:01.767562', device_id=u'7721769811471055264', ref_type_id=u'1', source_id=u'0'),\n",
       " Row(date=u'2019-04-23 18:58:02.363468', device_id=u'6416039086842158968', ref_type_id=u'1', source_id=u'0'),\n",
       " Row(date=u'2019-04-23 18:58:02.397559', device_id=u'1258642015983312729', ref_type_id=u'1', source_id=u'0')]"
      ]
     },
     "execution_count": 8,
     "metadata": {},
     "output_type": "execute_result"
    }
   ],
   "source": [
    "rdd_auctions.take(5)"
   ]
  },
  {
   "cell_type": "code",
   "execution_count": null,
   "metadata": {},
   "outputs": [],
   "source": [
    "rdd_auctions1 = rdd_auctions.map(lambda x: (x[1], datetime.strptime(x[0], \"%Y-%m-%d %H:%M:%S.%f\")))"
   ]
  },
  {
   "cell_type": "code",
   "execution_count": null,
   "metadata": {},
   "outputs": [],
   "source": [
    "rdd_auctions2 = rdd_auctions1.map(lambda x: (x[0], x[1], x[1].strftime(\"%H\"), x[1].strftime(\"%M\")))"
   ]
  },
  {
   "cell_type": "code",
   "execution_count": null,
   "metadata": {},
   "outputs": [],
   "source": [
    "def getRange(row):\n",
    "    a = None\n",
    "    for i in range(0,6):\n",
    "        if i*10<=int(row[3]) and int(row[3])<=(i+1)*10:\n",
    "            a = i\n",
    "    return (row[0], row[1], row[2], row[3], a)"
   ]
  },
  {
   "cell_type": "code",
   "execution_count": null,
   "metadata": {},
   "outputs": [],
   "source": []
  },
  {
   "cell_type": "code",
   "execution_count": null,
   "metadata": {},
   "outputs": [],
   "source": [
    "rdd_auctions3 = rdd_auctions2.map(getRange)"
   ]
  },
  {
   "cell_type": "code",
   "execution_count": null,
   "metadata": {},
   "outputs": [],
   "source": [
    "rdd_auctions3.take(1)"
   ]
  },
  {
   "cell_type": "code",
   "execution_count": null,
   "metadata": {},
   "outputs": [],
   "source": [
    "rdd_auctions3"
   ]
  },
  {
   "cell_type": "code",
   "execution_count": 17,
   "metadata": {},
   "outputs": [],
   "source": [
    "def toCSVLine(data):\n",
    "    try:\n",
    "        return ','.join(str(d)) for d in data)\n",
    "    except:\n",
    "        return ','.join('' for d in data)"
   ]
  },
  {
   "cell_type": "code",
   "execution_count": null,
   "metadata": {},
   "outputs": [],
   "source": [
    "lines_train = rdd_auctions3.map(toCSVLine)\n",
    "rdd_auctions3.repartition(1).saveAsTextFile('auction_with_range.csv')"
   ]
  },
  {
   "cell_type": "code",
   "execution_count": null,
   "metadata": {},
   "outputs": [],
   "source": [
    "# Installs"
   ]
  },
  {
   "cell_type": "code",
   "execution_count": 5,
   "metadata": {},
   "outputs": [],
   "source": [
    "df_installs = spark.read.csv('installs.csv', header=True)\n",
    "rdd_installs = df_installs.rdd"
   ]
  },
  {
   "cell_type": "code",
   "execution_count": 6,
   "metadata": {},
   "outputs": [],
   "source": [
    "rdd_installs1 = rdd_installs.map(lambda x: (datetime.strptime(x[0], \"%Y-%m-%d %H:%M:%S.%f\"), \\\n",
    "                                  x[1], x[2], x[3], x[4], x[5], x[6], x[7], x[8], x[9], x[10], x[11], x[12], x[13],\\\n",
    "                                           x[14], x[15], x[16], x[17]))"
   ]
  },
  {
   "cell_type": "code",
   "execution_count": 7,
   "metadata": {},
   "outputs": [
    {
     "data": {
      "text/plain": [
       "[Row(created=u'2019-04-24 06:23:29.495', application_id=u'1', ref_type=u'1494519392962156891', ref_hash=u'4716708407362582887', click_hash=None, attributed=u'False', implicit=u'True', device_countrycode=u'6287817205707153877', device_brand=None, device_model=u'3.739127126472163e+17', session_user_agent=u'adjust.com', user_agent=None, event_uuid=u'79837499-2f2a-4605-a663-e322f759424f', kind=u'app_open', wifi=None, trans_id=None, ip_address=u'4243443387795468703', device_language=u'3.3013777759776993e+18')]"
      ]
     },
     "execution_count": 7,
     "metadata": {},
     "output_type": "execute_result"
    }
   ],
   "source": [
    "rdd_installs.take(1)"
   ]
  },
  {
   "cell_type": "code",
   "execution_count": 8,
   "metadata": {},
   "outputs": [],
   "source": [
    "rdd_installs2 = rdd_installs1.map(lambda x: (x[0], x[1], x[2], x[3], x[4], x[5], x[6], x[7], x[8], x[9], x[10], x[11], x[12], x[13],\\\n",
    "                                           x[14], x[15], x[16], x[17],x[0].strftime(\"%H\"), x[0].strftime(\"%M\")))"
   ]
  },
  {
   "cell_type": "code",
   "execution_count": 9,
   "metadata": {},
   "outputs": [],
   "source": [
    "def getRange(row):\n",
    "    a = None\n",
    "    for i in range(0,6):\n",
    "        if i*10<=int(row[19]) and int(row[19])<=(i+1)*10:\n",
    "            a = i\n",
    "    return (row[0], row[1], row[2], row[3], row[4], row[5],\\\n",
    "            row[6], row[7], row[8], row[9], row[10], row[11], row[12],\\\n",
    "            row[13], row[14], row[15], row[16], row[17], row[18], row[19], a)"
   ]
  },
  {
   "cell_type": "code",
   "execution_count": 10,
   "metadata": {},
   "outputs": [],
   "source": [
    "rdd_installs3 = rdd_installs2.map(getRange)"
   ]
  },
  {
   "cell_type": "code",
   "execution_count": 11,
   "metadata": {},
   "outputs": [
    {
     "data": {
      "text/plain": [
       "[(datetime.datetime(2019, 4, 24, 6, 23, 29, 495000),\n",
       "  u'1',\n",
       "  u'1494519392962156891',\n",
       "  u'4716708407362582887',\n",
       "  None,\n",
       "  u'False',\n",
       "  u'True',\n",
       "  u'6287817205707153877',\n",
       "  None,\n",
       "  u'3.739127126472163e+17',\n",
       "  u'adjust.com',\n",
       "  None,\n",
       "  u'79837499-2f2a-4605-a663-e322f759424f',\n",
       "  u'app_open',\n",
       "  None,\n",
       "  None,\n",
       "  u'4243443387795468703',\n",
       "  u'3.3013777759776993e+18',\n",
       "  '06',\n",
       "  '23',\n",
       "  2)]"
      ]
     },
     "execution_count": 11,
     "metadata": {},
     "output_type": "execute_result"
    }
   ],
   "source": [
    "rdd_installs3.take(1)"
   ]
  },
  {
   "cell_type": "code",
   "execution_count": 12,
   "metadata": {},
   "outputs": [],
   "source": [
    "def toCSVLine(data):\n",
    "    try:\n",
    "        return ','.join(str(d).replace(\",\", \"\") for d in data)\n",
    "    except:\n",
    "        return ','.join('' for d in data)"
   ]
  },
  {
   "cell_type": "code",
   "execution_count": 13,
   "metadata": {},
   "outputs": [],
   "source": [
    "rdd_installs4 = rdd_installs3.map(toCSVLine)\n",
    "rdd_installs4.repartition(1).saveAsTextFile('installs_with_range.csv')"
   ]
  },
  {
   "cell_type": "code",
   "execution_count": 14,
   "metadata": {},
   "outputs": [],
   "source": [
    "import pandas as pd"
   ]
  },
  {
   "cell_type": "code",
   "execution_count": 18,
   "metadata": {},
   "outputs": [
    {
     "name": "stderr",
     "output_type": "stream",
     "text": [
      "/Users/emi/venv/lib/python2.7/site-packages/IPython/core/interactiveshell.py:2714: DtypeWarning: Columns (5,6) have mixed types. Specify dtype option on import or set low_memory=False.\n",
      "  interactivity=interactivity, compiler=compiler, result=result)\n"
     ]
    }
   ],
   "source": [
    "installs_range = pd.read_csv('installs_with_range.csv')"
   ]
  },
  {
   "cell_type": "code",
   "execution_count": 21,
   "metadata": {},
   "outputs": [],
   "source": [
    "auctions_range = pd.read_csv('auction_with_range.csv')"
   ]
  },
  {
   "cell_type": "code",
   "execution_count": 22,
   "metadata": {
    "scrolled": true
   },
   "outputs": [
    {
     "data": {
      "text/html": [
       "<div>\n",
       "<style scoped>\n",
       "    .dataframe tbody tr th:only-of-type {\n",
       "        vertical-align: middle;\n",
       "    }\n",
       "\n",
       "    .dataframe tbody tr th {\n",
       "        vertical-align: top;\n",
       "    }\n",
       "\n",
       "    .dataframe thead th {\n",
       "        text-align: right;\n",
       "    }\n",
       "</style>\n",
       "<table border=\"1\" class=\"dataframe\">\n",
       "  <thead>\n",
       "    <tr style=\"text-align: right;\">\n",
       "      <th></th>\n",
       "      <th>2019-04-24 06:23:29.495000</th>\n",
       "      <th>1</th>\n",
       "      <th>1494519392962156891</th>\n",
       "      <th>4716708407362582887</th>\n",
       "      <th>None</th>\n",
       "      <th>False</th>\n",
       "      <th>True</th>\n",
       "      <th>6287817205707153877</th>\n",
       "      <th>None.1</th>\n",
       "      <th>3.739127126472163e+17</th>\n",
       "      <th>...</th>\n",
       "      <th>None.2</th>\n",
       "      <th>79837499-2f2a-4605-a663-e322f759424f</th>\n",
       "      <th>app_open</th>\n",
       "      <th>None.3</th>\n",
       "      <th>None.4</th>\n",
       "      <th>4243443387795468703</th>\n",
       "      <th>3.3013777759776993e+18</th>\n",
       "      <th>06</th>\n",
       "      <th>23</th>\n",
       "      <th>2</th>\n",
       "    </tr>\n",
       "  </thead>\n",
       "  <tbody>\n",
       "    <tr>\n",
       "      <th>0</th>\n",
       "      <td>2019-04-24 02:06:01.032000</td>\n",
       "      <td>1.0</td>\n",
       "      <td>1.494519e+18</td>\n",
       "      <td>7.143569e+18</td>\n",
       "      <td>None</td>\n",
       "      <td>False</td>\n",
       "      <td>False</td>\n",
       "      <td>6.287817e+18</td>\n",
       "      <td>None</td>\n",
       "      <td>7.80553892759877e+18</td>\n",
       "      <td>...</td>\n",
       "      <td>None</td>\n",
       "      <td>None</td>\n",
       "      <td>None</td>\n",
       "      <td>None</td>\n",
       "      <td>None</td>\n",
       "      <td>4.724289e+18</td>\n",
       "      <td>3.3013777759776993e+18</td>\n",
       "      <td>2.0</td>\n",
       "      <td>6.0</td>\n",
       "      <td>0.0</td>\n",
       "    </tr>\n",
       "    <tr>\n",
       "      <th>1</th>\n",
       "      <td>2019-04-20 10:15:36.274000</td>\n",
       "      <td>1.0</td>\n",
       "      <td>1.494519e+18</td>\n",
       "      <td>5.230323e+18</td>\n",
       "      <td>None</td>\n",
       "      <td>False</td>\n",
       "      <td>True</td>\n",
       "      <td>6.287817e+18</td>\n",
       "      <td>None</td>\n",
       "      <td>8.355495513718673e+18</td>\n",
       "      <td>...</td>\n",
       "      <td>None</td>\n",
       "      <td>dda99e3c-9c4b-487d-891c-79f0a02cb4a8</td>\n",
       "      <td>app_open</td>\n",
       "      <td>None</td>\n",
       "      <td>None</td>\n",
       "      <td>8.291809e+18</td>\n",
       "      <td>4.060929664968129e+18</td>\n",
       "      <td>10.0</td>\n",
       "      <td>15.0</td>\n",
       "      <td>1.0</td>\n",
       "    </tr>\n",
       "    <tr>\n",
       "      <th>2</th>\n",
       "      <td>2019-04-20 21:56:47.151000</td>\n",
       "      <td>1.0</td>\n",
       "      <td>1.494519e+18</td>\n",
       "      <td>5.097164e+18</td>\n",
       "      <td>None</td>\n",
       "      <td>False</td>\n",
       "      <td>True</td>\n",
       "      <td>6.287817e+18</td>\n",
       "      <td>None</td>\n",
       "      <td>2.3557720913769155e+18</td>\n",
       "      <td>...</td>\n",
       "      <td>None</td>\n",
       "      <td>7010c3ce-0fcf-46c6-9be8-374cc0e20af4</td>\n",
       "      <td>app_open</td>\n",
       "      <td>None</td>\n",
       "      <td>None</td>\n",
       "      <td>4.006812e+18</td>\n",
       "      <td>3.3013777759776993e+18</td>\n",
       "      <td>21.0</td>\n",
       "      <td>56.0</td>\n",
       "      <td>5.0</td>\n",
       "    </tr>\n",
       "    <tr>\n",
       "      <th>3</th>\n",
       "      <td>2019-04-20 22:40:41.239000</td>\n",
       "      <td>1.0</td>\n",
       "      <td>1.494519e+18</td>\n",
       "      <td>6.328028e+18</td>\n",
       "      <td>None</td>\n",
       "      <td>False</td>\n",
       "      <td>False</td>\n",
       "      <td>6.287817e+18</td>\n",
       "      <td>None</td>\n",
       "      <td>6.156971151807135e+18</td>\n",
       "      <td>...</td>\n",
       "      <td>None</td>\n",
       "      <td>None</td>\n",
       "      <td>None</td>\n",
       "      <td>None</td>\n",
       "      <td>None</td>\n",
       "      <td>3.386455e+18</td>\n",
       "      <td>3.3013777759776993e+18</td>\n",
       "      <td>22.0</td>\n",
       "      <td>40.0</td>\n",
       "      <td>4.0</td>\n",
       "    </tr>\n",
       "    <tr>\n",
       "      <th>4</th>\n",
       "      <td>2019-04-20 18:19:27.485000</td>\n",
       "      <td>1.0</td>\n",
       "      <td>1.494519e+18</td>\n",
       "      <td>7.522786e+18</td>\n",
       "      <td>None</td>\n",
       "      <td>False</td>\n",
       "      <td>True</td>\n",
       "      <td>6.287817e+18</td>\n",
       "      <td>None</td>\n",
       "      <td>6.208879341562586e+18</td>\n",
       "      <td>...</td>\n",
       "      <td>None</td>\n",
       "      <td>35e7504f-cd9b-4a78-b89f-7335a8bd735a</td>\n",
       "      <td>app_open</td>\n",
       "      <td>None</td>\n",
       "      <td>None</td>\n",
       "      <td>7.297343e+18</td>\n",
       "      <td>3.3013777759776993e+18</td>\n",
       "      <td>18.0</td>\n",
       "      <td>19.0</td>\n",
       "      <td>1.0</td>\n",
       "    </tr>\n",
       "  </tbody>\n",
       "</table>\n",
       "<p>5 rows × 21 columns</p>\n",
       "</div>"
      ],
      "text/plain": [
       "   2019-04-24 06:23:29.495000    1  1494519392962156891  4716708407362582887  \\\n",
       "0  2019-04-24 02:06:01.032000  1.0         1.494519e+18         7.143569e+18   \n",
       "1  2019-04-20 10:15:36.274000  1.0         1.494519e+18         5.230323e+18   \n",
       "2  2019-04-20 21:56:47.151000  1.0         1.494519e+18         5.097164e+18   \n",
       "3  2019-04-20 22:40:41.239000  1.0         1.494519e+18         6.328028e+18   \n",
       "4  2019-04-20 18:19:27.485000  1.0         1.494519e+18         7.522786e+18   \n",
       "\n",
       "   None  False   True  6287817205707153877 None.1   3.739127126472163e+17  \\\n",
       "0  None  False  False         6.287817e+18   None    7.80553892759877e+18   \n",
       "1  None  False   True         6.287817e+18   None   8.355495513718673e+18   \n",
       "2  None  False   True         6.287817e+18   None  2.3557720913769155e+18   \n",
       "3  None  False  False         6.287817e+18   None   6.156971151807135e+18   \n",
       "4  None  False   True         6.287817e+18   None   6.208879341562586e+18   \n",
       "\n",
       "   ... None.2  79837499-2f2a-4605-a663-e322f759424f  app_open None.3 None.4  \\\n",
       "0  ...   None                                  None      None   None   None   \n",
       "1  ...   None  dda99e3c-9c4b-487d-891c-79f0a02cb4a8  app_open   None   None   \n",
       "2  ...   None  7010c3ce-0fcf-46c6-9be8-374cc0e20af4  app_open   None   None   \n",
       "3  ...   None                                  None      None   None   None   \n",
       "4  ...   None  35e7504f-cd9b-4a78-b89f-7335a8bd735a  app_open   None   None   \n",
       "\n",
       "  4243443387795468703  3.3013777759776993e+18    06    23    2  \n",
       "0        4.724289e+18  3.3013777759776993e+18   2.0   6.0  0.0  \n",
       "1        8.291809e+18   4.060929664968129e+18  10.0  15.0  1.0  \n",
       "2        4.006812e+18  3.3013777759776993e+18  21.0  56.0  5.0  \n",
       "3        3.386455e+18  3.3013777759776993e+18  22.0  40.0  4.0  \n",
       "4        7.297343e+18  3.3013777759776993e+18  18.0  19.0  1.0  \n",
       "\n",
       "[5 rows x 21 columns]"
      ]
     },
     "execution_count": 22,
     "metadata": {},
     "output_type": "execute_result"
    }
   ],
   "source": [
    "installs_range.head()"
   ]
  },
  {
   "cell_type": "code",
   "execution_count": 23,
   "metadata": {},
   "outputs": [
    {
     "data": {
      "text/html": [
       "<div>\n",
       "<style scoped>\n",
       "    .dataframe tbody tr th:only-of-type {\n",
       "        vertical-align: middle;\n",
       "    }\n",
       "\n",
       "    .dataframe tbody tr th {\n",
       "        vertical-align: top;\n",
       "    }\n",
       "\n",
       "    .dataframe thead th {\n",
       "        text-align: right;\n",
       "    }\n",
       "</style>\n",
       "<table border=\"1\" class=\"dataframe\">\n",
       "  <thead>\n",
       "    <tr style=\"text-align: right;\">\n",
       "      <th></th>\n",
       "      <th>(u'2564673204772915246'</th>\n",
       "      <th>datetime.datetime(2019</th>\n",
       "      <th>4</th>\n",
       "      <th>23</th>\n",
       "      <th>18</th>\n",
       "      <th>58</th>\n",
       "      <th>0</th>\n",
       "      <th>842116)</th>\n",
       "      <th>'18'</th>\n",
       "      <th>'58'</th>\n",
       "      <th>5)</th>\n",
       "    </tr>\n",
       "  </thead>\n",
       "  <tbody>\n",
       "    <tr>\n",
       "      <th>0</th>\n",
       "      <td>(u'4441121667607578179'</td>\n",
       "      <td>datetime.datetime(2019</td>\n",
       "      <td>4</td>\n",
       "      <td>23</td>\n",
       "      <td>18</td>\n",
       "      <td>58</td>\n",
       "      <td>1</td>\n",
       "      <td>530771)</td>\n",
       "      <td>'18'</td>\n",
       "      <td>'58'</td>\n",
       "      <td>5)</td>\n",
       "    </tr>\n",
       "    <tr>\n",
       "      <th>1</th>\n",
       "      <td>(u'7721769811471055264'</td>\n",
       "      <td>datetime.datetime(2019</td>\n",
       "      <td>4</td>\n",
       "      <td>23</td>\n",
       "      <td>18</td>\n",
       "      <td>58</td>\n",
       "      <td>1</td>\n",
       "      <td>767562)</td>\n",
       "      <td>'18'</td>\n",
       "      <td>'58'</td>\n",
       "      <td>5)</td>\n",
       "    </tr>\n",
       "    <tr>\n",
       "      <th>2</th>\n",
       "      <td>(u'6416039086842158968'</td>\n",
       "      <td>datetime.datetime(2019</td>\n",
       "      <td>4</td>\n",
       "      <td>23</td>\n",
       "      <td>18</td>\n",
       "      <td>58</td>\n",
       "      <td>2</td>\n",
       "      <td>363468)</td>\n",
       "      <td>'18'</td>\n",
       "      <td>'58'</td>\n",
       "      <td>5)</td>\n",
       "    </tr>\n",
       "    <tr>\n",
       "      <th>3</th>\n",
       "      <td>(u'1258642015983312729'</td>\n",
       "      <td>datetime.datetime(2019</td>\n",
       "      <td>4</td>\n",
       "      <td>23</td>\n",
       "      <td>18</td>\n",
       "      <td>58</td>\n",
       "      <td>2</td>\n",
       "      <td>397559)</td>\n",
       "      <td>'18'</td>\n",
       "      <td>'58'</td>\n",
       "      <td>5)</td>\n",
       "    </tr>\n",
       "    <tr>\n",
       "      <th>4</th>\n",
       "      <td>(u'6707090658317158573'</td>\n",
       "      <td>datetime.datetime(2019</td>\n",
       "      <td>4</td>\n",
       "      <td>23</td>\n",
       "      <td>18</td>\n",
       "      <td>58</td>\n",
       "      <td>2</td>\n",
       "      <td>675804)</td>\n",
       "      <td>'18'</td>\n",
       "      <td>'58'</td>\n",
       "      <td>5)</td>\n",
       "    </tr>\n",
       "  </tbody>\n",
       "</table>\n",
       "</div>"
      ],
      "text/plain": [
       "   (u'2564673204772915246'   datetime.datetime(2019   4   23   18  58  0  \\\n",
       "0  (u'4441121667607578179'   datetime.datetime(2019   4   23   18  58  1   \n",
       "1  (u'7721769811471055264'   datetime.datetime(2019   4   23   18  58  1   \n",
       "2  (u'6416039086842158968'   datetime.datetime(2019   4   23   18  58  2   \n",
       "3  (u'1258642015983312729'   datetime.datetime(2019   4   23   18  58  2   \n",
       "4  (u'6707090658317158573'   datetime.datetime(2019   4   23   18  58  2   \n",
       "\n",
       "    842116)   '18'   '58'   5)  \n",
       "0   530771)   '18'   '58'   5)  \n",
       "1   767562)   '18'   '58'   5)  \n",
       "2   363468)   '18'   '58'   5)  \n",
       "3   397559)   '18'   '58'   5)  \n",
       "4   675804)   '18'   '58'   5)  "
      ]
     },
     "execution_count": 23,
     "metadata": {},
     "output_type": "execute_result"
    }
   ],
   "source": [
    "auctions_range.head()"
   ]
  },
  {
   "cell_type": "code",
   "execution_count": null,
   "metadata": {},
   "outputs": [],
   "source": []
  }
 ],
 "metadata": {
  "kernelspec": {
   "display_name": "Python 2",
   "language": "python",
   "name": "python2"
  },
  "language_info": {
   "codemirror_mode": {
    "name": "ipython",
    "version": 2
   },
   "file_extension": ".py",
   "mimetype": "text/x-python",
   "name": "python",
   "nbconvert_exporter": "python",
   "pygments_lexer": "ipython2",
   "version": "2.7.10"
  }
 },
 "nbformat": 4,
 "nbformat_minor": 2
}
