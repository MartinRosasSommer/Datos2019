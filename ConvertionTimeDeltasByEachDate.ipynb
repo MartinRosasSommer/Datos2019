{
 "cells": [
  {
   "cell_type": "code",
   "execution_count": 33,
   "metadata": {},
   "outputs": [],
   "source": [
    "from datetime import datetime, timedelta\n",
    "from pyspark import SparkContext, SQLContext\n",
    "from pyspark.sql.functions import hour, mean\n",
    "import pyspark\n",
    "import random\n",
    "sc = SparkContext.getOrCreate()"
   ]
  },
  {
   "cell_type": "code",
   "execution_count": 34,
   "metadata": {},
   "outputs": [
    {
     "data": {
      "text/plain": [
       "[Row(date='2019-04-23 18:58:00.842116', device_id='2564673204772915246', ref_type_id='1', source_id='0'),\n",
       " Row(date='2019-04-23 18:58:01.530771', device_id='4441121667607578179', ref_type_id='7', source_id='0'),\n",
       " Row(date='2019-04-23 18:58:01.767562', device_id='7721769811471055264', ref_type_id='1', source_id='0'),\n",
       " Row(date='2019-04-23 18:58:02.363468', device_id='6416039086842158968', ref_type_id='1', source_id='0'),\n",
       " Row(date='2019-04-23 18:58:02.397559', device_id='1258642015983312729', ref_type_id='1', source_id='0')]"
      ]
     },
     "execution_count": 34,
     "metadata": {},
     "output_type": "execute_result"
    }
   ],
   "source": [
    "spark = pyspark.sql.SparkSession.builder.appName(\"auctions\").getOrCreate()\n",
    "df_auctions = spark.read.csv('auctions.csv', header=True).limit(10000)\n",
    "rdd_auctions = df_auctions.rdd\n",
    "rdd_auctions.take(5)"
   ]
  },
  {
   "cell_type": "code",
   "execution_count": 35,
   "metadata": {},
   "outputs": [],
   "source": [
    "def didInstall():\n",
    "    return bool(random.getrandbits(1))"
   ]
  },
  {
   "cell_type": "code",
   "execution_count": 36,
   "metadata": {},
   "outputs": [],
   "source": [
    "rdd_auctions = rdd_auctions.map(lambda x: (x[1], (datetime.strptime(x[0], \"%Y-%m-%d %H:%M:%S.%f\"), didInstall())))"
   ]
  },
  {
   "cell_type": "code",
   "execution_count": 37,
   "metadata": {},
   "outputs": [],
   "source": [
    "rdd_train = rdd_auctions.groupByKey().mapValues(list).mapValues(sorted)"
   ]
  },
  {
   "cell_type": "code",
   "execution_count": 38,
   "metadata": {},
   "outputs": [
    {
     "data": {
      "text/plain": [
       "[('2564673204772915246',\n",
       "  [(datetime.datetime(2019, 4, 23, 18, 48, 20, 500673), True),\n",
       "   (datetime.datetime(2019, 4, 23, 18, 58, 0, 842116), True)]),\n",
       " ('4441121667607578179',\n",
       "  [(datetime.datetime(2019, 4, 23, 18, 58, 1, 530771), True),\n",
       "   (datetime.datetime(2019, 4, 23, 19, 8, 10, 57648), False),\n",
       "   (datetime.datetime(2019, 4, 23, 19, 18, 9, 722451), True)]),\n",
       " ('7721769811471055264',\n",
       "  [(datetime.datetime(2019, 4, 23, 18, 58, 1, 767562), False),\n",
       "   (datetime.datetime(2019, 4, 23, 19, 50, 40, 208816), False)]),\n",
       " ('6416039086842158968',\n",
       "  [(datetime.datetime(2019, 4, 23, 18, 58, 2, 363468), False)]),\n",
       " ('1258642015983312729',\n",
       "  [(datetime.datetime(2019, 4, 23, 18, 58, 2, 397559), True)]),\n",
       " ('6707090658317158573',\n",
       "  [(datetime.datetime(2019, 4, 23, 18, 58, 2, 675804), False),\n",
       "   (datetime.datetime(2019, 4, 23, 20, 58, 10, 905109), False)]),\n",
       " ('8869722088125970841',\n",
       "  [(datetime.datetime(2019, 4, 23, 18, 58, 2, 848212), True),\n",
       "   (datetime.datetime(2019, 4, 23, 19, 7, 49, 671153), False)]),\n",
       " ('7445213948764639634',\n",
       "  [(datetime.datetime(2019, 4, 23, 18, 58, 3, 48872), False)]),\n",
       " ('2932617030932207332',\n",
       "  [(datetime.datetime(2019, 4, 23, 18, 58, 3, 285788), False)]),\n",
       " ('6405811806780450397',\n",
       "  [(datetime.datetime(2019, 4, 23, 18, 58, 3, 532112), True)]),\n",
       " ('1016964604674548371',\n",
       "  [(datetime.datetime(2019, 4, 23, 18, 58, 3, 592586), True)]),\n",
       " ('6128993631208059516',\n",
       "  [(datetime.datetime(2019, 4, 23, 18, 58, 4, 956218), True),\n",
       "   (datetime.datetime(2019, 4, 23, 18, 58, 5, 962703), True),\n",
       "   (datetime.datetime(2019, 4, 23, 18, 58, 37, 273447), True),\n",
       "   (datetime.datetime(2019, 4, 23, 21, 50, 47, 635899), False),\n",
       "   (datetime.datetime(2019, 4, 23, 21, 50, 47, 901079), False)]),\n",
       " ('3611339082207397874',\n",
       "  [(datetime.datetime(2019, 4, 23, 18, 58, 5, 513681), False)]),\n",
       " ('2749372725404302683',\n",
       "  [(datetime.datetime(2019, 4, 23, 18, 49, 15, 253896), True),\n",
       "   (datetime.datetime(2019, 4, 23, 18, 58, 6, 902183), False)]),\n",
       " ('2511255463637788199',\n",
       "  [(datetime.datetime(2019, 4, 23, 18, 58, 8, 50630), False),\n",
       "   (datetime.datetime(2019, 4, 23, 18, 58, 15, 17336), True),\n",
       "   (datetime.datetime(2019, 4, 23, 19, 10, 21, 657798), True)]),\n",
       " ('4449848882683774963',\n",
       "  [(datetime.datetime(2019, 4, 23, 18, 46, 9, 366064), True),\n",
       "   (datetime.datetime(2019, 4, 23, 18, 49, 8, 808643), True),\n",
       "   (datetime.datetime(2019, 4, 23, 18, 58, 9, 932333), False)]),\n",
       " ('7918003943044320156',\n",
       "  [(datetime.datetime(2019, 4, 23, 18, 58, 10, 914748), True)]),\n",
       " ('4260139173429359652',\n",
       "  [(datetime.datetime(2019, 4, 23, 18, 23, 13, 174367), False),\n",
       "   (datetime.datetime(2019, 4, 23, 18, 58, 11, 228460), False),\n",
       "   (datetime.datetime(2019, 4, 23, 19, 57, 54, 749416), False),\n",
       "   (datetime.datetime(2019, 4, 23, 21, 48, 45, 132558), True),\n",
       "   (datetime.datetime(2019, 4, 23, 21, 48, 53, 877187), False)]),\n",
       " ('6979971691991862458',\n",
       "  [(datetime.datetime(2019, 4, 23, 18, 58, 12, 129322), False),\n",
       "   (datetime.datetime(2019, 4, 23, 18, 58, 18, 668393), True)]),\n",
       " ('599652221973595515',\n",
       "  [(datetime.datetime(2019, 4, 23, 18, 58, 12, 363812), True),\n",
       "   (datetime.datetime(2019, 4, 23, 18, 58, 15, 562112), False)])]"
      ]
     },
     "execution_count": 38,
     "metadata": {},
     "output_type": "execute_result"
    }
   ],
   "source": [
    "rdd_train.take(20)"
   ]
  },
  {
   "cell_type": "code",
   "execution_count": 39,
   "metadata": {},
   "outputs": [],
   "source": [
    "def get_installation_timeDeltas(dateList):\n",
    "    \"\"\"\n",
    "    esta funcion recibe una lista de fechas ordenada de las apariciones de un ID\n",
    "    la idea es devolver una lista de tuplas, en la que cada tupla sea asi:\n",
    "    valor 1 = fecha en que aparecio en un auction\n",
    "    valor 2 = distancia temporal hasta la siguiente fecha donde convirtió (0 segundos: si convirtió en esa fecha,\n",
    "                                                                            3 días (en segundos): si no convirtió \n",
    "                                                                            en una fecha posterior)\n",
    "    Esta tupla solo se inserta en la lista si en la fecha donde se esta parado no hubo una instalación\n",
    "    \"\"\"\n",
    "    distancias = []\n",
    "    longitud_actual = len(dateList)\n",
    "    \"\"\"\n",
    "    En lastConversionIndexFound guardo el indice de la última conversión encontrada, \n",
    "    no quiero iterar n veces si aplica para otras fechas\n",
    "    \"\"\"\n",
    "    lastConversionIndexFound = None\n",
    "    for x in range(longitud_actual):\n",
    "        if(dateList[x][1] == True):\n",
    "            continue\n",
    "        if(lastConversionIndexFound is not None and dateList[x][1] == False and x <= lastConversionIndexFound):\n",
    "            distancias.append([dateList[x][0],\n",
    "                                    (dateList[lastConversionIndexFound][0] - dateList[x][0]).total_seconds()])\n",
    "            continue\n",
    "        for y in range(x, longitud_actual):\n",
    "            if(y == longitud_actual - 1 and dateList[y][1] != True):\n",
    "                distancias.append([dateList[x][0],\n",
    "                                            timedelta(days=3).total_seconds()\n",
    "                                        ])\n",
    "                break\n",
    "            elif(dateList[y][1] == True):\n",
    "                distancias.append([dateList[x][0],\n",
    "                                    (dateList[y][0] - dateList[x][0]).total_seconds()\n",
    "                                    ])\n",
    "                lastConversionIndexFound = y\n",
    "                break\n",
    "        \n",
    "    return distancias"
   ]
  },
  {
   "cell_type": "code",
   "execution_count": 40,
   "metadata": {},
   "outputs": [],
   "source": [
    "rdd_train_test = rdd_train.flatMapValues(get_installation_timeDeltas)"
   ]
  },
  {
   "cell_type": "code",
   "execution_count": 41,
   "metadata": {
    "scrolled": false
   },
   "outputs": [
    {
     "data": {
      "text/plain": [
       "[('4441121667607578179',\n",
       "  [datetime.datetime(2019, 4, 23, 19, 8, 10, 57648), 599.664803]),\n",
       " ('7721769811471055264',\n",
       "  [datetime.datetime(2019, 4, 23, 18, 58, 1, 767562), 259200.0]),\n",
       " ('7721769811471055264',\n",
       "  [datetime.datetime(2019, 4, 23, 19, 50, 40, 208816), 259200.0]),\n",
       " ('6416039086842158968',\n",
       "  [datetime.datetime(2019, 4, 23, 18, 58, 2, 363468), 259200.0]),\n",
       " ('6707090658317158573',\n",
       "  [datetime.datetime(2019, 4, 23, 18, 58, 2, 675804), 259200.0]),\n",
       " ('6707090658317158573',\n",
       "  [datetime.datetime(2019, 4, 23, 20, 58, 10, 905109), 259200.0]),\n",
       " ('8869722088125970841',\n",
       "  [datetime.datetime(2019, 4, 23, 19, 7, 49, 671153), 259200.0]),\n",
       " ('7445213948764639634',\n",
       "  [datetime.datetime(2019, 4, 23, 18, 58, 3, 48872), 259200.0]),\n",
       " ('2932617030932207332',\n",
       "  [datetime.datetime(2019, 4, 23, 18, 58, 3, 285788), 259200.0]),\n",
       " ('6128993631208059516',\n",
       "  [datetime.datetime(2019, 4, 23, 21, 50, 47, 635899), 259200.0]),\n",
       " ('6128993631208059516',\n",
       "  [datetime.datetime(2019, 4, 23, 21, 50, 47, 901079), 259200.0]),\n",
       " ('3611339082207397874',\n",
       "  [datetime.datetime(2019, 4, 23, 18, 58, 5, 513681), 259200.0]),\n",
       " ('2749372725404302683',\n",
       "  [datetime.datetime(2019, 4, 23, 18, 58, 6, 902183), 259200.0]),\n",
       " ('2511255463637788199',\n",
       "  [datetime.datetime(2019, 4, 23, 18, 58, 8, 50630), 6.966706]),\n",
       " ('4449848882683774963',\n",
       "  [datetime.datetime(2019, 4, 23, 18, 58, 9, 932333), 259200.0]),\n",
       " ('4260139173429359652',\n",
       "  [datetime.datetime(2019, 4, 23, 18, 23, 13, 174367), 12331.958191]),\n",
       " ('4260139173429359652',\n",
       "  [datetime.datetime(2019, 4, 23, 18, 58, 11, 228460), 10233.904098]),\n",
       " ('4260139173429359652',\n",
       "  [datetime.datetime(2019, 4, 23, 19, 57, 54, 749416), 6650.383142]),\n",
       " ('4260139173429359652',\n",
       "  [datetime.datetime(2019, 4, 23, 21, 48, 53, 877187), 259200.0]),\n",
       " ('6979971691991862458',\n",
       "  [datetime.datetime(2019, 4, 23, 18, 58, 12, 129322), 6.539071]),\n",
       " ('599652221973595515',\n",
       "  [datetime.datetime(2019, 4, 23, 18, 58, 15, 562112), 259200.0]),\n",
       " ('8315323311690794428',\n",
       "  [datetime.datetime(2019, 4, 23, 18, 58, 12, 579860), 259200.0]),\n",
       " ('8163472114152043023',\n",
       "  [datetime.datetime(2019, 4, 23, 18, 58, 13, 181160), 259200.0]),\n",
       " ('2179233056266516762',\n",
       "  [datetime.datetime(2019, 4, 23, 18, 58, 13, 265363), 1213.678949]),\n",
       " ('7122348392743770281',\n",
       "  [datetime.datetime(2019, 4, 23, 19, 50, 8, 527344), 259200.0]),\n",
       " ('3429312538327323541',\n",
       "  [datetime.datetime(2019, 4, 23, 18, 58, 16, 45103), 7365.623709]),\n",
       " ('6764331047130237504',\n",
       "  [datetime.datetime(2019, 4, 23, 18, 46, 20, 955260), 715.299695]),\n",
       " ('6764331047130237504',\n",
       "  [datetime.datetime(2019, 4, 23, 20, 57, 29, 750105), 5.174839]),\n",
       " ('1615307091672280645',\n",
       "  [datetime.datetime(2019, 4, 23, 18, 58, 16, 346034), 259200.0]),\n",
       " ('5178179337242355738',\n",
       "  [datetime.datetime(2019, 4, 23, 18, 58, 16, 512939), 259200.0])]"
      ]
     },
     "execution_count": 41,
     "metadata": {},
     "output_type": "execute_result"
    }
   ],
   "source": [
    "rdd_train_test.take(30)"
   ]
  },
  {
   "cell_type": "code",
   "execution_count": 42,
   "metadata": {},
   "outputs": [
    {
     "data": {
      "text/plain": [
       "259200.0"
      ]
     },
     "execution_count": 42,
     "metadata": {},
     "output_type": "execute_result"
    }
   ],
   "source": [
    "timedelta(days=3).total_seconds()"
   ]
  },
  {
   "cell_type": "code",
   "execution_count": 43,
   "metadata": {},
   "outputs": [
    {
     "data": {
      "text/plain": [
       "'\\n00:30:00\\t1546960\\tNaN\\t1546960.0\\n07:00:00\\t251925\\t251925.0\\tNaN\\n16:00:00\\t1269111\\tNaN\\t1269111.0\\n17:00:00\\t1257409\\t1257409.0\\tNaN\\n19:00:00\\t1291646\\tNaN\\t1291646.0\\n19:30:00\\t1288588\\t1288588.0\\tNaN\\n20:30:00\\t1323592\\tNaN\\t1323592.0\\n21:30:00\\t1294431\\t1294431.0\\tNaN\\n'"
      ]
     },
     "execution_count": 43,
     "metadata": {},
     "output_type": "execute_result"
    }
   ],
   "source": [
    "#Auctions date, count, min, max\n",
    "\"\"\"\n",
    "00:30:00\t1546960\tNaN\t1546960.0\n",
    "07:00:00\t251925\t251925.0\tNaN\n",
    "16:00:00\t1269111\tNaN\t1269111.0\n",
    "17:00:00\t1257409\t1257409.0\tNaN\n",
    "19:00:00\t1291646\tNaN\t1291646.0\n",
    "19:30:00\t1288588\t1288588.0\tNaN\n",
    "20:30:00\t1323592\tNaN\t1323592.0\n",
    "21:30:00\t1294431\t1294431.0\tNaN\n",
    "\"\"\""
   ]
  },
  {
   "cell_type": "code",
   "execution_count": 44,
   "metadata": {},
   "outputs": [],
   "source": [
    "auctionsMax = datetime.strptime(\"00:30:00\", \"%H:%M:%S\")\n",
    "installsMax = datetime.strptime(\"23:00:00\", \"%H:%M:%S\")"
   ]
  },
  {
   "cell_type": "code",
   "execution_count": 45,
   "metadata": {},
   "outputs": [
    {
     "data": {
      "text/plain": [
       "-66480.0"
      ]
     },
     "execution_count": 45,
     "metadata": {},
     "output_type": "execute_result"
    }
   ],
   "source": [
    "date = rdd_auctions.take(5)[0][1][0] \n",
    "(auctionsMax - datetime(year = 1900, month = 1, day = 1, hour = date.hour, minute = date.minute)).total_seconds()"
   ]
  },
  {
   "cell_type": "code",
   "execution_count": 46,
   "metadata": {},
   "outputs": [],
   "source": [
    "def get_timeDeltas_toMax_auctions(dateList):\n",
    "    \"\"\"\n",
    "    esta funcion recibe una lista de fechas ordenada de las apariciones de un ID\n",
    "    la idea es devolver una lista de tuplas, en la que cada tupla sea asi:\n",
    "    valor 1 = ultima fecha en que aparecio en un auction\n",
    "    valor 2 = distancia temporal hasta el siguiente pico de actividad (sea auctions o installs)\n",
    "    \"\"\"\n",
    "    distancias = []\n",
    "    longitud_actual = len(dateList)\n",
    "    \"\"\"\n",
    "    En lastConversionIndexFound guardo el indice de la última conversión encontrada, \n",
    "    no quiero iterar n veces si aplica para otras fechas\n",
    "    \"\"\"\n",
    "    date = dateList[longitud_actual - 1][0]\n",
    "    timeDeltaToMax = (datetime(year = 1900, month = 1, day = 1, hour = date.hour, minute = date.minute, second = date.second) - auctionsMax).total_seconds()\n",
    "    distancias.append([dateList[longitud_actual - 1][0],\n",
    "                                    timeDeltaToMax])\n",
    "        \n",
    "    return distancias"
   ]
  },
  {
   "cell_type": "code",
   "execution_count": 47,
   "metadata": {},
   "outputs": [],
   "source": [
    "rdd_train_test_1 = rdd_train.flatMapValues(get_timeDeltas_toMax_auctions)"
   ]
  },
  {
   "cell_type": "code",
   "execution_count": 48,
   "metadata": {},
   "outputs": [
    {
     "data": {
      "text/plain": [
       "[('2564673204772915246',\n",
       "  [datetime.datetime(2019, 4, 23, 18, 58, 0, 842116), 66480.0]),\n",
       " ('4441121667607578179',\n",
       "  [datetime.datetime(2019, 4, 23, 19, 18, 9, 722451), 67689.0]),\n",
       " ('7721769811471055264',\n",
       "  [datetime.datetime(2019, 4, 23, 19, 50, 40, 208816), 69640.0]),\n",
       " ('6416039086842158968',\n",
       "  [datetime.datetime(2019, 4, 23, 18, 58, 2, 363468), 66482.0]),\n",
       " ('1258642015983312729',\n",
       "  [datetime.datetime(2019, 4, 23, 18, 58, 2, 397559), 66482.0]),\n",
       " ('6707090658317158573',\n",
       "  [datetime.datetime(2019, 4, 23, 20, 58, 10, 905109), 73690.0]),\n",
       " ('8869722088125970841',\n",
       "  [datetime.datetime(2019, 4, 23, 19, 7, 49, 671153), 67069.0]),\n",
       " ('7445213948764639634',\n",
       "  [datetime.datetime(2019, 4, 23, 18, 58, 3, 48872), 66483.0]),\n",
       " ('2932617030932207332',\n",
       "  [datetime.datetime(2019, 4, 23, 18, 58, 3, 285788), 66483.0]),\n",
       " ('6405811806780450397',\n",
       "  [datetime.datetime(2019, 4, 23, 18, 58, 3, 532112), 66483.0]),\n",
       " ('1016964604674548371',\n",
       "  [datetime.datetime(2019, 4, 23, 18, 58, 3, 592586), 66483.0]),\n",
       " ('6128993631208059516',\n",
       "  [datetime.datetime(2019, 4, 23, 21, 50, 47, 901079), 76847.0]),\n",
       " ('3611339082207397874',\n",
       "  [datetime.datetime(2019, 4, 23, 18, 58, 5, 513681), 66485.0]),\n",
       " ('2749372725404302683',\n",
       "  [datetime.datetime(2019, 4, 23, 18, 58, 6, 902183), 66486.0]),\n",
       " ('2511255463637788199',\n",
       "  [datetime.datetime(2019, 4, 23, 19, 10, 21, 657798), 67221.0]),\n",
       " ('4449848882683774963',\n",
       "  [datetime.datetime(2019, 4, 23, 18, 58, 9, 932333), 66489.0]),\n",
       " ('7918003943044320156',\n",
       "  [datetime.datetime(2019, 4, 23, 18, 58, 10, 914748), 66490.0]),\n",
       " ('4260139173429359652',\n",
       "  [datetime.datetime(2019, 4, 23, 21, 48, 53, 877187), 76733.0]),\n",
       " ('6979971691991862458',\n",
       "  [datetime.datetime(2019, 4, 23, 18, 58, 18, 668393), 66498.0]),\n",
       " ('599652221973595515',\n",
       "  [datetime.datetime(2019, 4, 23, 18, 58, 15, 562112), 66495.0]),\n",
       " ('8315323311690794428',\n",
       "  [datetime.datetime(2019, 4, 23, 18, 58, 12, 579860), 66492.0]),\n",
       " ('8163472114152043023',\n",
       "  [datetime.datetime(2019, 4, 23, 18, 58, 13, 181160), 66493.0]),\n",
       " ('670595227383970341',\n",
       "  [datetime.datetime(2019, 4, 23, 18, 58, 13, 225149), 66493.0]),\n",
       " ('2179233056266516762',\n",
       "  [datetime.datetime(2019, 4, 23, 19, 18, 26, 944312), 67706.0]),\n",
       " ('7122348392743770281',\n",
       "  [datetime.datetime(2019, 4, 23, 19, 50, 8, 527344), 69608.0]),\n",
       " ('3429312538327323541',\n",
       "  [datetime.datetime(2019, 4, 23, 21, 1, 1, 668812), 73861.0]),\n",
       " ('6764331047130237504',\n",
       "  [datetime.datetime(2019, 4, 23, 20, 57, 34, 924944), 73654.0]),\n",
       " ('1615307091672280645',\n",
       "  [datetime.datetime(2019, 4, 23, 18, 58, 16, 346034), 66496.0]),\n",
       " ('7629401915670669810',\n",
       "  [datetime.datetime(2019, 4, 23, 18, 58, 16, 493503), 66496.0]),\n",
       " ('5178179337242355738',\n",
       "  [datetime.datetime(2019, 4, 23, 18, 58, 16, 512939), 66496.0]),\n",
       " ('5090554651215875766',\n",
       "  [datetime.datetime(2019, 4, 23, 18, 58, 16, 719423), 66496.0]),\n",
       " ('2633686059653986910',\n",
       "  [datetime.datetime(2019, 4, 23, 18, 58, 17, 398109), 66497.0]),\n",
       " ('8295148471294345313',\n",
       "  [datetime.datetime(2019, 4, 23, 18, 58, 17, 439820), 66497.0]),\n",
       " ('3699844778581354485',\n",
       "  [datetime.datetime(2019, 4, 23, 18, 58, 24, 649667), 66504.0]),\n",
       " ('3742763971006471066',\n",
       "  [datetime.datetime(2019, 4, 23, 18, 58, 17, 735678), 66497.0]),\n",
       " ('3947787848076540639',\n",
       "  [datetime.datetime(2019, 4, 23, 18, 58, 18, 292721), 66498.0]),\n",
       " ('5380940989825636411',\n",
       "  [datetime.datetime(2019, 4, 23, 18, 58, 33, 272733), 66513.0]),\n",
       " ('3131988490852463973',\n",
       "  [datetime.datetime(2019, 4, 23, 18, 58, 19, 670304), 66499.0]),\n",
       " ('7029951377496036514',\n",
       "  [datetime.datetime(2019, 4, 23, 19, 50, 37, 814248), 69637.0]),\n",
       " ('2133310771251033378',\n",
       "  [datetime.datetime(2019, 4, 23, 18, 58, 21, 456966), 66501.0]),\n",
       " ('867784864367290250',\n",
       "  [datetime.datetime(2019, 4, 23, 18, 58, 21, 929233), 66501.0]),\n",
       " ('7570894330076210132',\n",
       "  [datetime.datetime(2019, 4, 23, 18, 58, 22, 495739), 66502.0]),\n",
       " ('343081057244765266',\n",
       "  [datetime.datetime(2019, 4, 23, 18, 58, 22, 609778), 66502.0]),\n",
       " ('6089479998905728520',\n",
       "  [datetime.datetime(2019, 4, 23, 18, 58, 23, 748547), 66503.0]),\n",
       " ('6488295110559785958',\n",
       "  [datetime.datetime(2019, 4, 23, 18, 58, 24, 534616), 66504.0]),\n",
       " ('3231466902033746403',\n",
       "  [datetime.datetime(2019, 4, 23, 18, 58, 26, 495476), 66506.0]),\n",
       " ('2989838269464003844',\n",
       "  [datetime.datetime(2019, 4, 23, 18, 58, 25, 283112), 66505.0]),\n",
       " ('4166171707836899373',\n",
       "  [datetime.datetime(2019, 4, 23, 21, 0, 0, 156013), 73800.0]),\n",
       " ('455777597064521104',\n",
       "  [datetime.datetime(2019, 4, 23, 18, 58, 25, 892710), 66505.0]),\n",
       " ('248918322959656589',\n",
       "  [datetime.datetime(2019, 4, 23, 18, 58, 26, 637754), 66506.0]),\n",
       " ('1062816372410420954',\n",
       "  [datetime.datetime(2019, 4, 23, 18, 58, 27, 355850), 66507.0]),\n",
       " ('6060948052055988955',\n",
       "  [datetime.datetime(2019, 4, 23, 18, 58, 27, 839570), 66507.0]),\n",
       " ('6424307885596905204',\n",
       "  [datetime.datetime(2019, 4, 23, 18, 58, 27, 880840), 66507.0]),\n",
       " ('2928047885137002257',\n",
       "  [datetime.datetime(2019, 4, 23, 18, 58, 28, 100260), 66508.0]),\n",
       " ('4387225522552640517',\n",
       "  [datetime.datetime(2019, 4, 23, 18, 58, 28, 419618), 66508.0]),\n",
       " ('6781020342679131794',\n",
       "  [datetime.datetime(2019, 4, 23, 19, 11, 6, 104243), 67266.0]),\n",
       " ('6499784193189887141',\n",
       "  [datetime.datetime(2019, 4, 23, 18, 58, 29, 434613), 66509.0]),\n",
       " ('5705762716164421039',\n",
       "  [datetime.datetime(2019, 4, 23, 18, 58, 32, 194435), 66512.0]),\n",
       " ('563419132237047906',\n",
       "  [datetime.datetime(2019, 4, 23, 18, 58, 30, 609939), 66510.0]),\n",
       " ('3623025877409691837',\n",
       "  [datetime.datetime(2019, 4, 23, 18, 58, 31, 157279), 66511.0]),\n",
       " ('8307207936834725703',\n",
       "  [datetime.datetime(2019, 4, 23, 18, 58, 31, 620154), 66511.0]),\n",
       " ('4644040415584442469',\n",
       "  [datetime.datetime(2019, 4, 23, 18, 58, 31, 944485), 66511.0]),\n",
       " ('7041226240165495352',\n",
       "  [datetime.datetime(2019, 4, 23, 18, 58, 32, 692135), 66512.0]),\n",
       " ('4957235840548025624',\n",
       "  [datetime.datetime(2019, 4, 23, 19, 7, 51, 574248), 67071.0]),\n",
       " ('4071849124966326790',\n",
       "  [datetime.datetime(2019, 4, 23, 18, 58, 34, 55306), 66514.0]),\n",
       " ('4552881442956715945',\n",
       "  [datetime.datetime(2019, 4, 23, 18, 58, 34, 128915), 66514.0]),\n",
       " ('7420724791467951253',\n",
       "  [datetime.datetime(2019, 4, 23, 18, 58, 34, 164485), 66514.0]),\n",
       " ('798469165358860691',\n",
       "  [datetime.datetime(2019, 4, 23, 18, 58, 36, 792730), 66516.0]),\n",
       " ('7788028089145536933',\n",
       "  [datetime.datetime(2019, 4, 23, 19, 18, 26, 14828), 67706.0]),\n",
       " ('5770915108996516552',\n",
       "  [datetime.datetime(2019, 4, 23, 18, 58, 35, 124851), 66515.0]),\n",
       " ('2574172674740468361',\n",
       "  [datetime.datetime(2019, 4, 23, 18, 58, 36, 812773), 66516.0]),\n",
       " ('9209619586460965671',\n",
       "  [datetime.datetime(2019, 4, 23, 18, 58, 36, 851861), 66516.0]),\n",
       " ('6525578929189738674',\n",
       "  [datetime.datetime(2019, 4, 23, 18, 58, 37, 191054), 66517.0]),\n",
       " ('6733924935129780959',\n",
       "  [datetime.datetime(2019, 4, 23, 18, 58, 37, 245080), 66517.0]),\n",
       " ('6796522020696241953',\n",
       "  [datetime.datetime(2019, 4, 23, 18, 58, 37, 346219), 66517.0]),\n",
       " ('8516567090523236407',\n",
       "  [datetime.datetime(2019, 4, 23, 22, 4, 4, 615033), 77644.0]),\n",
       " ('2742357523268240611',\n",
       "  [datetime.datetime(2019, 4, 23, 18, 58, 38, 244778), 66518.0]),\n",
       " ('8530452618109918631',\n",
       "  [datetime.datetime(2019, 4, 23, 19, 18, 33, 141738), 67713.0]),\n",
       " ('3741421153106142791',\n",
       "  [datetime.datetime(2019, 4, 23, 19, 18, 23, 736309), 67703.0]),\n",
       " ('1368358562094374394',\n",
       "  [datetime.datetime(2019, 4, 23, 22, 7, 57, 903141), 77877.0]),\n",
       " ('9090404672728726736',\n",
       "  [datetime.datetime(2019, 4, 23, 19, 18, 24, 861178), 67704.0]),\n",
       " ('2548850214960561861',\n",
       "  [datetime.datetime(2019, 4, 23, 19, 18, 37, 73741), 67717.0]),\n",
       " ('6476009121479854118',\n",
       "  [datetime.datetime(2019, 4, 23, 19, 18, 26, 186671), 67706.0]),\n",
       " ('8514959568536237107',\n",
       "  [datetime.datetime(2019, 4, 23, 19, 18, 26, 477990), 67706.0]),\n",
       " ('4787075592330960790',\n",
       "  [datetime.datetime(2019, 4, 23, 21, 48, 31, 703561), 76711.0]),\n",
       " ('5489681103310955680',\n",
       "  [datetime.datetime(2019, 4, 23, 19, 18, 26, 706172), 67706.0]),\n",
       " ('7205846750030715274',\n",
       "  [datetime.datetime(2019, 4, 23, 22, 5, 52, 693951), 77752.0]),\n",
       " ('829368978622529799',\n",
       "  [datetime.datetime(2019, 4, 23, 19, 18, 28, 514523), 67708.0]),\n",
       " ('6110280340791170171',\n",
       "  [datetime.datetime(2019, 4, 23, 19, 18, 28, 775128), 67708.0]),\n",
       " ('191698831160819035',\n",
       "  [datetime.datetime(2019, 4, 23, 19, 18, 29, 58721), 67709.0]),\n",
       " ('4464324084219716027',\n",
       "  [datetime.datetime(2019, 4, 23, 19, 18, 29, 519070), 67709.0]),\n",
       " ('4449157189029964530',\n",
       "  [datetime.datetime(2019, 4, 23, 19, 18, 29, 811924), 67709.0]),\n",
       " ('1207744208153403315',\n",
       "  [datetime.datetime(2019, 4, 23, 19, 18, 30, 69538), 67710.0]),\n",
       " ('2335569987026098167',\n",
       "  [datetime.datetime(2019, 4, 23, 19, 18, 30, 414535), 67710.0]),\n",
       " ('670915069043726028',\n",
       "  [datetime.datetime(2019, 4, 23, 19, 18, 30, 566831), 67710.0]),\n",
       " ('6061499408659090954',\n",
       "  [datetime.datetime(2019, 4, 23, 19, 18, 30, 643319), 67710.0]),\n",
       " ('8588134357167134175',\n",
       "  [datetime.datetime(2019, 4, 23, 19, 18, 30, 898666), 67710.0]),\n",
       " ('7580898037915104718',\n",
       "  [datetime.datetime(2019, 4, 23, 19, 18, 31, 27505), 67711.0]),\n",
       " ('6108239185400727185',\n",
       "  [datetime.datetime(2019, 4, 23, 19, 18, 31, 903886), 67711.0]),\n",
       " ('4603430086560467676',\n",
       "  [datetime.datetime(2019, 4, 23, 21, 49, 55, 716487), 76795.0])]"
      ]
     },
     "execution_count": 48,
     "metadata": {},
     "output_type": "execute_result"
    }
   ],
   "source": [
    "rdd_train_test_1.take(100)"
   ]
  }
 ],
 "metadata": {
  "kernelspec": {
   "display_name": "Python 3",
   "language": "python",
   "name": "python3"
  },
  "language_info": {
   "codemirror_mode": {
    "name": "ipython",
    "version": 3
   },
   "file_extension": ".py",
   "mimetype": "text/x-python",
   "name": "python",
   "nbconvert_exporter": "python",
   "pygments_lexer": "ipython3",
   "version": "3.7.3"
  }
 },
 "nbformat": 4,
 "nbformat_minor": 2
}
