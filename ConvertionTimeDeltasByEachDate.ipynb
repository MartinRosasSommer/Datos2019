{
 "cells": [
  {
   "cell_type": "code",
   "execution_count": 2,
   "metadata": {},
   "outputs": [],
   "source": [
    "from datetime import datetime, timedelta\n",
    "from pyspark import SparkContext, SQLContext\n",
    "from pyspark.sql.functions import hour, mean\n",
    "import pyspark\n",
    "import random\n",
    "sc = SparkContext.getOrCreate()"
   ]
  },
  {
   "cell_type": "code",
   "execution_count": 3,
   "metadata": {},
   "outputs": [
    {
     "data": {
      "text/plain": [
       "[Row(date='2019-04-23 18:58:00.842116', device_id='2564673204772915246', ref_type_id='1', source_id='0'),\n",
       " Row(date='2019-04-23 18:58:01.530771', device_id='4441121667607578179', ref_type_id='7', source_id='0'),\n",
       " Row(date='2019-04-23 18:58:01.767562', device_id='7721769811471055264', ref_type_id='1', source_id='0'),\n",
       " Row(date='2019-04-23 18:58:02.363468', device_id='6416039086842158968', ref_type_id='1', source_id='0'),\n",
       " Row(date='2019-04-23 18:58:02.397559', device_id='1258642015983312729', ref_type_id='1', source_id='0')]"
      ]
     },
     "execution_count": 3,
     "metadata": {},
     "output_type": "execute_result"
    }
   ],
   "source": [
    "spark = pyspark.sql.SparkSession.builder.appName(\"auctions\").getOrCreate()\n",
    "df_auctions = spark.read.csv('auctions.csv', header=True).limit(10000)\n",
    "rdd_auctions = df_auctions.rdd\n",
    "rdd_auctions.take(5)"
   ]
  },
  {
   "cell_type": "code",
   "execution_count": 4,
   "metadata": {},
   "outputs": [],
   "source": [
    "def didInstall():\n",
    "    return bool(random.getrandbits(1))"
   ]
  },
  {
   "cell_type": "code",
   "execution_count": 5,
   "metadata": {},
   "outputs": [],
   "source": [
    "rdd_auctions = rdd_auctions.map(lambda x: (x[1], (datetime.strptime(x[0], \"%Y-%m-%d %H:%M:%S.%f\"), didInstall())))"
   ]
  },
  {
   "cell_type": "code",
   "execution_count": 6,
   "metadata": {},
   "outputs": [],
   "source": [
    "rdd_train = rdd_auctions.groupByKey().mapValues(list).mapValues(sorted)"
   ]
  },
  {
   "cell_type": "code",
   "execution_count": 7,
   "metadata": {},
   "outputs": [
    {
     "data": {
      "text/plain": [
       "[('2564673204772915246',\n",
       "  [(datetime.datetime(2019, 4, 23, 18, 48, 20, 500673), False),\n",
       "   (datetime.datetime(2019, 4, 23, 18, 58, 0, 842116), True)]),\n",
       " ('4441121667607578179',\n",
       "  [(datetime.datetime(2019, 4, 23, 18, 58, 1, 530771), True),\n",
       "   (datetime.datetime(2019, 4, 23, 19, 8, 10, 57648), False),\n",
       "   (datetime.datetime(2019, 4, 23, 19, 18, 9, 722451), False)]),\n",
       " ('7721769811471055264',\n",
       "  [(datetime.datetime(2019, 4, 23, 18, 58, 1, 767562), True),\n",
       "   (datetime.datetime(2019, 4, 23, 19, 50, 40, 208816), False)]),\n",
       " ('6416039086842158968',\n",
       "  [(datetime.datetime(2019, 4, 23, 18, 58, 2, 363468), False)]),\n",
       " ('1258642015983312729',\n",
       "  [(datetime.datetime(2019, 4, 23, 18, 58, 2, 397559), False)]),\n",
       " ('6707090658317158573',\n",
       "  [(datetime.datetime(2019, 4, 23, 18, 58, 2, 675804), False),\n",
       "   (datetime.datetime(2019, 4, 23, 20, 58, 10, 905109), False)]),\n",
       " ('8869722088125970841',\n",
       "  [(datetime.datetime(2019, 4, 23, 18, 58, 2, 848212), False),\n",
       "   (datetime.datetime(2019, 4, 23, 19, 7, 49, 671153), False)]),\n",
       " ('7445213948764639634',\n",
       "  [(datetime.datetime(2019, 4, 23, 18, 58, 3, 48872), True)]),\n",
       " ('2932617030932207332',\n",
       "  [(datetime.datetime(2019, 4, 23, 18, 58, 3, 285788), True)]),\n",
       " ('6405811806780450397',\n",
       "  [(datetime.datetime(2019, 4, 23, 18, 58, 3, 532112), False)]),\n",
       " ('1016964604674548371',\n",
       "  [(datetime.datetime(2019, 4, 23, 18, 58, 3, 592586), True)]),\n",
       " ('6128993631208059516',\n",
       "  [(datetime.datetime(2019, 4, 23, 18, 58, 4, 956218), True),\n",
       "   (datetime.datetime(2019, 4, 23, 18, 58, 5, 962703), True),\n",
       "   (datetime.datetime(2019, 4, 23, 18, 58, 37, 273447), True),\n",
       "   (datetime.datetime(2019, 4, 23, 21, 50, 47, 635899), True),\n",
       "   (datetime.datetime(2019, 4, 23, 21, 50, 47, 901079), False)]),\n",
       " ('3611339082207397874',\n",
       "  [(datetime.datetime(2019, 4, 23, 18, 58, 5, 513681), False)]),\n",
       " ('2749372725404302683',\n",
       "  [(datetime.datetime(2019, 4, 23, 18, 49, 15, 253896), True),\n",
       "   (datetime.datetime(2019, 4, 23, 18, 58, 6, 902183), True)]),\n",
       " ('2511255463637788199',\n",
       "  [(datetime.datetime(2019, 4, 23, 18, 58, 8, 50630), False),\n",
       "   (datetime.datetime(2019, 4, 23, 18, 58, 15, 17336), True),\n",
       "   (datetime.datetime(2019, 4, 23, 19, 10, 21, 657798), True)]),\n",
       " ('4449848882683774963',\n",
       "  [(datetime.datetime(2019, 4, 23, 18, 46, 9, 366064), False),\n",
       "   (datetime.datetime(2019, 4, 23, 18, 49, 8, 808643), False),\n",
       "   (datetime.datetime(2019, 4, 23, 18, 58, 9, 932333), True)]),\n",
       " ('7918003943044320156',\n",
       "  [(datetime.datetime(2019, 4, 23, 18, 58, 10, 914748), False)]),\n",
       " ('4260139173429359652',\n",
       "  [(datetime.datetime(2019, 4, 23, 18, 23, 13, 174367), True),\n",
       "   (datetime.datetime(2019, 4, 23, 18, 58, 11, 228460), False),\n",
       "   (datetime.datetime(2019, 4, 23, 19, 57, 54, 749416), True),\n",
       "   (datetime.datetime(2019, 4, 23, 21, 48, 45, 132558), False),\n",
       "   (datetime.datetime(2019, 4, 23, 21, 48, 53, 877187), False)]),\n",
       " ('6979971691991862458',\n",
       "  [(datetime.datetime(2019, 4, 23, 18, 58, 12, 129322), False),\n",
       "   (datetime.datetime(2019, 4, 23, 18, 58, 18, 668393), False)]),\n",
       " ('599652221973595515',\n",
       "  [(datetime.datetime(2019, 4, 23, 18, 58, 12, 363812), True),\n",
       "   (datetime.datetime(2019, 4, 23, 18, 58, 15, 562112), False)])]"
      ]
     },
     "execution_count": 7,
     "metadata": {},
     "output_type": "execute_result"
    }
   ],
   "source": [
    "rdd_train.take(20)"
   ]
  },
  {
   "cell_type": "code",
   "execution_count": 8,
   "metadata": {},
   "outputs": [],
   "source": [
    "def get_installation_timeDeltas(dateList):\n",
    "    \"\"\"\n",
    "    esta funcion recibe una lista de fechas ordenada de las apariciones de un ID\n",
    "    la idea es devolver una lista de tuplas, en la que cada tupla sea asi:\n",
    "    valor 1 = fecha en que aparecio en un auction\n",
    "    valor 2 = distancia temporal hasta la siguiente fecha donde convirtió (0 segundos: si convirtió en esa fecha,\n",
    "                                                                            3 días (en segundos): si no convirtió \n",
    "                                                                            en una fecha posterior)\n",
    "    Esta tupla solo se inserta en la lista si en la fecha donde se esta parado no hubo una instalación\n",
    "    \"\"\"\n",
    "    distancias = []\n",
    "    longitud_actual = len(dateList)\n",
    "    \"\"\"\n",
    "    En lastConversionIndexFound guardo el indice de la última conversión encontrada, \n",
    "    no quiero iterar n veces si aplica para otras fechas\n",
    "    \"\"\"\n",
    "    lastConversionIndexFound = None\n",
    "    for x in range(longitud_actual):\n",
    "        if(dateList[x][1] == True):\n",
    "            continue\n",
    "        if(lastConversionIndexFound is not None and dateList[x][1] == False and x <= lastConversionIndexFound):\n",
    "            distancias.append([dateList[x][0],\n",
    "                                    (dateList[lastConversionIndexFound][0] - dateList[x][0]).total_seconds()])\n",
    "            continue\n",
    "        for y in range(x, longitud_actual):\n",
    "            if(y == longitud_actual - 1 and dateList[y][1] != True):\n",
    "                distancias.append([dateList[x][0],\n",
    "                                            timedelta(days=3).total_seconds()\n",
    "                                        ])\n",
    "                break\n",
    "            elif(dateList[y][1] == True):\n",
    "                distancias.append([dateList[x][0],\n",
    "                                    (dateList[y][0] - dateList[x][0]).total_seconds()\n",
    "                                    ])\n",
    "                lastConversionIndexFound = y\n",
    "                break\n",
    "        \n",
    "    return distancias"
   ]
  },
  {
   "cell_type": "code",
   "execution_count": 9,
   "metadata": {},
   "outputs": [],
   "source": [
    "rdd_train_test = rdd_train.flatMapValues(get_installation_timeDeltas)"
   ]
  },
  {
   "cell_type": "code",
   "execution_count": 10,
   "metadata": {
    "scrolled": false
   },
   "outputs": [
    {
     "data": {
      "text/plain": [
       "[('2564673204772915246',\n",
       "  [datetime.datetime(2019, 4, 23, 18, 48, 20, 500673), 580.341443]),\n",
       " ('4441121667607578179',\n",
       "  [datetime.datetime(2019, 4, 23, 19, 8, 10, 57648), 259200.0]),\n",
       " ('4441121667607578179',\n",
       "  [datetime.datetime(2019, 4, 23, 19, 18, 9, 722451), 259200.0]),\n",
       " ('7721769811471055264',\n",
       "  [datetime.datetime(2019, 4, 23, 19, 50, 40, 208816), 259200.0]),\n",
       " ('6416039086842158968',\n",
       "  [datetime.datetime(2019, 4, 23, 18, 58, 2, 363468), 259200.0]),\n",
       " ('1258642015983312729',\n",
       "  [datetime.datetime(2019, 4, 23, 18, 58, 2, 397559), 259200.0]),\n",
       " ('6707090658317158573',\n",
       "  [datetime.datetime(2019, 4, 23, 18, 58, 2, 675804), 259200.0]),\n",
       " ('6707090658317158573',\n",
       "  [datetime.datetime(2019, 4, 23, 20, 58, 10, 905109), 259200.0]),\n",
       " ('8869722088125970841',\n",
       "  [datetime.datetime(2019, 4, 23, 18, 58, 2, 848212), 259200.0]),\n",
       " ('8869722088125970841',\n",
       "  [datetime.datetime(2019, 4, 23, 19, 7, 49, 671153), 259200.0]),\n",
       " ('6405811806780450397',\n",
       "  [datetime.datetime(2019, 4, 23, 18, 58, 3, 532112), 259200.0]),\n",
       " ('6128993631208059516',\n",
       "  [datetime.datetime(2019, 4, 23, 21, 50, 47, 901079), 259200.0]),\n",
       " ('3611339082207397874',\n",
       "  [datetime.datetime(2019, 4, 23, 18, 58, 5, 513681), 259200.0]),\n",
       " ('2511255463637788199',\n",
       "  [datetime.datetime(2019, 4, 23, 18, 58, 8, 50630), 6.966706]),\n",
       " ('4449848882683774963',\n",
       "  [datetime.datetime(2019, 4, 23, 18, 46, 9, 366064), 720.566269]),\n",
       " ('4449848882683774963',\n",
       "  [datetime.datetime(2019, 4, 23, 18, 49, 8, 808643), 541.12369]),\n",
       " ('7918003943044320156',\n",
       "  [datetime.datetime(2019, 4, 23, 18, 58, 10, 914748), 259200.0]),\n",
       " ('4260139173429359652',\n",
       "  [datetime.datetime(2019, 4, 23, 18, 58, 11, 228460), 3583.520956]),\n",
       " ('4260139173429359652',\n",
       "  [datetime.datetime(2019, 4, 23, 21, 48, 45, 132558), 259200.0]),\n",
       " ('4260139173429359652',\n",
       "  [datetime.datetime(2019, 4, 23, 21, 48, 53, 877187), 259200.0]),\n",
       " ('6979971691991862458',\n",
       "  [datetime.datetime(2019, 4, 23, 18, 58, 12, 129322), 259200.0]),\n",
       " ('6979971691991862458',\n",
       "  [datetime.datetime(2019, 4, 23, 18, 58, 18, 668393), 259200.0]),\n",
       " ('599652221973595515',\n",
       "  [datetime.datetime(2019, 4, 23, 18, 58, 15, 562112), 259200.0]),\n",
       " ('8315323311690794428',\n",
       "  [datetime.datetime(2019, 4, 23, 18, 58, 12, 579860), 259200.0]),\n",
       " ('670595227383970341',\n",
       "  [datetime.datetime(2019, 4, 23, 18, 24, 8, 558253), 2044.666896]),\n",
       " ('2179233056266516762',\n",
       "  [datetime.datetime(2019, 4, 23, 18, 58, 13, 265363), 1213.678949]),\n",
       " ('7122348392743770281',\n",
       "  [datetime.datetime(2019, 4, 23, 18, 58, 13, 560771), 259200.0]),\n",
       " ('7122348392743770281',\n",
       "  [datetime.datetime(2019, 4, 23, 19, 50, 8, 527344), 259200.0]),\n",
       " ('3429312538327323541',\n",
       "  [datetime.datetime(2019, 4, 23, 18, 58, 16, 45103), 7365.623709]),\n",
       " ('6764331047130237504',\n",
       "  [datetime.datetime(2019, 4, 23, 18, 45, 22, 115787), 7932.809157])]"
      ]
     },
     "execution_count": 10,
     "metadata": {},
     "output_type": "execute_result"
    }
   ],
   "source": [
    "rdd_train_test.take(30)"
   ]
  },
  {
   "cell_type": "code",
   "execution_count": 11,
   "metadata": {},
   "outputs": [
    {
     "data": {
      "text/plain": [
       "259200.0"
      ]
     },
     "execution_count": 11,
     "metadata": {},
     "output_type": "execute_result"
    }
   ],
   "source": [
    "timedelta(days=3).total_seconds()"
   ]
  },
  {
   "cell_type": "code",
   "execution_count": 12,
   "metadata": {},
   "outputs": [
    {
     "data": {
      "text/plain": [
       "'\\n00:30:00\\t1546960\\tNaN\\t1546960.0\\n07:00:00\\t251925\\t251925.0\\tNaN\\n16:00:00\\t1269111\\tNaN\\t1269111.0\\n17:00:00\\t1257409\\t1257409.0\\tNaN\\n19:00:00\\t1291646\\tNaN\\t1291646.0\\n19:30:00\\t1288588\\t1288588.0\\tNaN\\n20:30:00\\t1323592\\tNaN\\t1323592.0\\n21:30:00\\t1294431\\t1294431.0\\tNaN\\n'"
      ]
     },
     "execution_count": 12,
     "metadata": {},
     "output_type": "execute_result"
    }
   ],
   "source": [
    "#Auctions date, count, min, max\n",
    "\"\"\"\n",
    "00:30:00\t1546960\tNaN\t1546960.0\n",
    "07:00:00\t251925\t251925.0\tNaN\n",
    "16:00:00\t1269111\tNaN\t1269111.0\n",
    "17:00:00\t1257409\t1257409.0\tNaN\n",
    "19:00:00\t1291646\tNaN\t1291646.0\n",
    "19:30:00\t1288588\t1288588.0\tNaN\n",
    "20:30:00\t1323592\tNaN\t1323592.0\n",
    "21:30:00\t1294431\t1294431.0\tNaN\n",
    "\"\"\""
   ]
  },
  {
   "cell_type": "code",
   "execution_count": 31,
   "metadata": {},
   "outputs": [
    {
     "data": {
      "text/plain": [
       "datetime.datetime(1900, 1, 1, 7, 0)"
      ]
     },
     "execution_count": 31,
     "metadata": {},
     "output_type": "execute_result"
    }
   ],
   "source": [
    "auctionsMax = datetime.strptime(\"00:30:00\", \"%H:%M:%S\")\n",
    "auctionsMin = datetime.strptime(\"07:00:00\", \"%H:%M:%S\")\n",
    "installsMin = datetime.strptime(\"07:00:00\", \"%H:%M:%S\")\n",
    "installsMax = datetime.strptime(\"23:00:00\", \"%H:%M:%S\")\n",
    "auctionsMin"
   ]
  },
  {
   "cell_type": "code",
   "execution_count": 39,
   "metadata": {},
   "outputs": [
    {
     "data": {
      "text/plain": [
       "-43080.0"
      ]
     },
     "execution_count": 39,
     "metadata": {},
     "output_type": "execute_result"
    }
   ],
   "source": [
    "date = rdd_auctions.take(5)[0][1][0] \n",
    "(auctionsMin - datetime(year = 1900, month = 1, day = 1, hour = date.hour, minute = date.minute)).total_seconds()"
   ]
  },
  {
   "cell_type": "code",
   "execution_count": null,
   "metadata": {},
   "outputs": [],
   "source": [
    "def get_timeDeltas_toMax(dateList, maxTime, minTime):\n",
    "    \"\"\"\n",
    "    esta funcion recibe una lista de fechas ordenada de las apariciones de un ID\n",
    "    la idea es devolver una lista de tuplas, en la que cada tupla sea asi:\n",
    "    valor 1 = fecha en que aparecio en un auction\n",
    "    valor 2 = distancia temporal hasta el siguiente pico de actividad (sea auctions o installs)\n",
    "    \"\"\"\n",
    "    distancias = []\n",
    "    longitud_actual = len(dateList)\n",
    "    \"\"\"\n",
    "    En lastConversionIndexFound guardo el indice de la última conversión encontrada, \n",
    "    no quiero iterar n veces si aplica para otras fechas\n",
    "    \"\"\"\n",
    "    for x in range(longitud_actual):\n",
    "        date = dateList[x][0]\n",
    "        datetime(year = 1900, month = 1, day = 1, hour = date.hour, minute = date.minute) - maxTime\n",
    "        if(dateList[x][1] == True):\n",
    "            continue\n",
    "        if(lastConversionIndexFound is not None and dateList[x][1] == False and x <= lastConversionIndexFound):\n",
    "            distancias.append([dateList[x][0],\n",
    "                                    (dateList[lastConversionIndexFound][0] - dateList[x][0]).total_seconds()])\n",
    "            continue\n",
    "        for y in range(x, longitud_actual):\n",
    "            if(y == longitud_actual - 1 and dateList[y][1] != True):\n",
    "                distancias.append([dateList[x][0],\n",
    "                                            timedelta(days=3).total_seconds()\n",
    "                                        ])\n",
    "                break\n",
    "            elif(dateList[y][1] == True):\n",
    "                distancias.append([dateList[x][0],\n",
    "                                    (dateList[y][0] - dateList[x][0]).total_seconds()\n",
    "                                    ])\n",
    "                lastConversionIndexFound = y\n",
    "                break\n",
    "        \n",
    "    return distancias"
   ]
  }
 ],
 "metadata": {
  "kernelspec": {
   "display_name": "Python 3",
   "language": "python",
   "name": "python3"
  },
  "language_info": {
   "codemirror_mode": {
    "name": "ipython",
    "version": 3
   },
   "file_extension": ".py",
   "mimetype": "text/x-python",
   "name": "python",
   "nbconvert_exporter": "python",
   "pygments_lexer": "ipython3",
   "version": "3.7.3"
  }
 },
 "nbformat": 4,
 "nbformat_minor": 2
}
