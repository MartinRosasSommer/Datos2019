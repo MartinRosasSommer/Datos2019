{
 "cells": [
  {
   "cell_type": "code",
   "execution_count": 2,
   "metadata": {},
   "outputs": [],
   "source": [
    "import pandas as pd"
   ]
  },
  {
   "cell_type": "code",
   "execution_count": 3,
   "metadata": {},
   "outputs": [],
   "source": [
    "from datetime import datetime, timedelta"
   ]
  },
  {
   "cell_type": "code",
   "execution_count": 35,
   "metadata": {},
   "outputs": [],
   "source": [
    "from sklearn.metrics import mean_squared_error\n",
    "from sklearn.ensemble import RandomForestRegressor\n",
    "import numpy as np"
   ]
  },
  {
   "cell_type": "code",
   "execution_count": 4,
   "metadata": {},
   "outputs": [],
   "source": [
    "auctions = pd.read_csv(\"auctions.csv\")"
   ]
  },
  {
   "cell_type": "code",
   "execution_count": 5,
   "metadata": {},
   "outputs": [
    {
     "name": "stderr",
     "output_type": "stream",
     "text": [
      "/home/martinrosas/.local/lib/python3.6/site-packages/IPython/core/interactiveshell.py:2785: DtypeWarning: Columns (13,20) have mixed types. Specify dtype option on import or set low_memory=False.\n",
      "  interactivity=interactivity, compiler=compiler, result=result)\n"
     ]
    }
   ],
   "source": [
    "events = pd.read_csv(\"events.csv\")"
   ]
  },
  {
   "cell_type": "code",
   "execution_count": 6,
   "metadata": {},
   "outputs": [
    {
     "name": "stderr",
     "output_type": "stream",
     "text": [
      "/home/martinrosas/.local/lib/python3.6/site-packages/IPython/core/interactiveshell.py:2785: DtypeWarning: Columns (4,15) have mixed types. Specify dtype option on import or set low_memory=False.\n",
      "  interactivity=interactivity, compiler=compiler, result=result)\n"
     ]
    }
   ],
   "source": [
    "installs = pd.read_csv(\"installs.csv\")"
   ]
  },
  {
   "cell_type": "code",
   "execution_count": 7,
   "metadata": {},
   "outputs": [
    {
     "data": {
      "text/html": [
       "<div>\n",
       "<style scoped>\n",
       "    .dataframe tbody tr th:only-of-type {\n",
       "        vertical-align: middle;\n",
       "    }\n",
       "\n",
       "    .dataframe tbody tr th {\n",
       "        vertical-align: top;\n",
       "    }\n",
       "\n",
       "    .dataframe thead th {\n",
       "        text-align: right;\n",
       "    }\n",
       "</style>\n",
       "<table border=\"1\" class=\"dataframe\">\n",
       "  <thead>\n",
       "    <tr style=\"text-align: right;\">\n",
       "      <th></th>\n",
       "      <th>date</th>\n",
       "      <th>device_id</th>\n",
       "      <th>ref_type_id</th>\n",
       "      <th>source_id</th>\n",
       "    </tr>\n",
       "  </thead>\n",
       "  <tbody>\n",
       "    <tr>\n",
       "      <th>0</th>\n",
       "      <td>2019-04-23 18:58:00.842116</td>\n",
       "      <td>2564673204772915246</td>\n",
       "      <td>1</td>\n",
       "      <td>0</td>\n",
       "    </tr>\n",
       "    <tr>\n",
       "      <th>1</th>\n",
       "      <td>2019-04-23 18:58:01.530771</td>\n",
       "      <td>4441121667607578179</td>\n",
       "      <td>7</td>\n",
       "      <td>0</td>\n",
       "    </tr>\n",
       "    <tr>\n",
       "      <th>2</th>\n",
       "      <td>2019-04-23 18:58:01.767562</td>\n",
       "      <td>7721769811471055264</td>\n",
       "      <td>1</td>\n",
       "      <td>0</td>\n",
       "    </tr>\n",
       "    <tr>\n",
       "      <th>3</th>\n",
       "      <td>2019-04-23 18:58:02.363468</td>\n",
       "      <td>6416039086842158968</td>\n",
       "      <td>1</td>\n",
       "      <td>0</td>\n",
       "    </tr>\n",
       "    <tr>\n",
       "      <th>4</th>\n",
       "      <td>2019-04-23 18:58:02.397559</td>\n",
       "      <td>1258642015983312729</td>\n",
       "      <td>1</td>\n",
       "      <td>0</td>\n",
       "    </tr>\n",
       "  </tbody>\n",
       "</table>\n",
       "</div>"
      ],
      "text/plain": [
       "                         date            device_id  ref_type_id  source_id\n",
       "0  2019-04-23 18:58:00.842116  2564673204772915246            1          0\n",
       "1  2019-04-23 18:58:01.530771  4441121667607578179            7          0\n",
       "2  2019-04-23 18:58:01.767562  7721769811471055264            1          0\n",
       "3  2019-04-23 18:58:02.363468  6416039086842158968            1          0\n",
       "4  2019-04-23 18:58:02.397559  1258642015983312729            1          0"
      ]
     },
     "execution_count": 7,
     "metadata": {},
     "output_type": "execute_result"
    }
   ],
   "source": [
    "auctions.head()"
   ]
  },
  {
   "cell_type": "code",
   "execution_count": 8,
   "metadata": {},
   "outputs": [],
   "source": [
    "#ME QUEDO solo con los 3 primeros dias para uqe la distancia maxima sea de 3 dias\n",
    "#arranca el 2019-04-18 00:00:00 asi que el date limite es 2019-04-20 23:59:59\n",
    "limit_date_train = datetime(2019, 4, 20, 23, 59, 59, 999)\n",
    "#uso los siguientes 3 dias para testear\n",
    "limit_date_test_begin = datetime(2019, 4, 21, 0, 0, 0, 0)\n",
    "limit_date_test_end = datetime(2019, 4, 23, 23, 59, 59, 999)"
   ]
  },
  {
   "cell_type": "code",
   "execution_count": 9,
   "metadata": {},
   "outputs": [],
   "source": [
    "auctions[\"date\"] = pd.to_datetime(auctions[\"date\"])\n",
    "auctions_train = auctions[auctions[\"date\"] < limit_date_train]\n",
    "auctions_test = auctions[(auctions[\"date\"] > limit_date_test_begin) & (auctions[\"date\"] < limit_date_test_end)]"
   ]
  },
  {
   "cell_type": "code",
   "execution_count": 10,
   "metadata": {},
   "outputs": [],
   "source": [
    "#Agrupo por device_id, quedan los dates de apariciones en una lista\n",
    "deviceIdDates_train = auctions_train.groupby([\"device_id\"])[\"date\"].apply(list).to_frame().reset_index()"
   ]
  },
  {
   "cell_type": "code",
   "execution_count": 11,
   "metadata": {},
   "outputs": [],
   "source": [
    "deviceIdDates_test = auctions_test.groupby([\"device_id\"])[\"date\"].apply(list).to_frame().reset_index()"
   ]
  },
  {
   "cell_type": "code",
   "execution_count": 12,
   "metadata": {},
   "outputs": [],
   "source": [
    "#Ordeno las fechas\n",
    "deviceIdDates_train[\"date\"] = deviceIdDates_train[\"date\"].map(lambda x: sorted(x))"
   ]
  },
  {
   "cell_type": "code",
   "execution_count": 13,
   "metadata": {},
   "outputs": [],
   "source": [
    "deviceIdDates_test[\"date\"] = deviceIdDates_test[\"date\"].map(lambda x: sorted(x))"
   ]
  },
  {
   "cell_type": "code",
   "execution_count": 14,
   "metadata": {},
   "outputs": [
    {
     "data": {
      "text/html": [
       "<div>\n",
       "<style scoped>\n",
       "    .dataframe tbody tr th:only-of-type {\n",
       "        vertical-align: middle;\n",
       "    }\n",
       "\n",
       "    .dataframe tbody tr th {\n",
       "        vertical-align: top;\n",
       "    }\n",
       "\n",
       "    .dataframe thead th {\n",
       "        text-align: right;\n",
       "    }\n",
       "</style>\n",
       "<table border=\"1\" class=\"dataframe\">\n",
       "  <thead>\n",
       "    <tr style=\"text-align: right;\">\n",
       "      <th></th>\n",
       "      <th>device_id</th>\n",
       "      <th>date</th>\n",
       "    </tr>\n",
       "  </thead>\n",
       "  <tbody>\n",
       "    <tr>\n",
       "      <th>0</th>\n",
       "      <td>41863526108385</td>\n",
       "      <td>[2019-04-19 19:40:28.465866, 2019-04-20 02:52:...</td>\n",
       "    </tr>\n",
       "    <tr>\n",
       "      <th>1</th>\n",
       "      <td>135153013040192</td>\n",
       "      <td>[2019-04-20 04:10:54.009137, 2019-04-20 04:18:...</td>\n",
       "    </tr>\n",
       "    <tr>\n",
       "      <th>2</th>\n",
       "      <td>161514654074162</td>\n",
       "      <td>[2019-04-18 02:52:46.357746, 2019-04-18 02:53:...</td>\n",
       "    </tr>\n",
       "    <tr>\n",
       "      <th>3</th>\n",
       "      <td>181891380775191</td>\n",
       "      <td>[2019-04-20 23:19:25.420614]</td>\n",
       "    </tr>\n",
       "    <tr>\n",
       "      <th>4</th>\n",
       "      <td>186034136943920</td>\n",
       "      <td>[2019-04-18 16:42:46.331894, 2019-04-18 19:23:...</td>\n",
       "    </tr>\n",
       "  </tbody>\n",
       "</table>\n",
       "</div>"
      ],
      "text/plain": [
       "         device_id                                               date\n",
       "0   41863526108385  [2019-04-19 19:40:28.465866, 2019-04-20 02:52:...\n",
       "1  135153013040192  [2019-04-20 04:10:54.009137, 2019-04-20 04:18:...\n",
       "2  161514654074162  [2019-04-18 02:52:46.357746, 2019-04-18 02:53:...\n",
       "3  181891380775191                       [2019-04-20 23:19:25.420614]\n",
       "4  186034136943920  [2019-04-18 16:42:46.331894, 2019-04-18 19:23:..."
      ]
     },
     "execution_count": 14,
     "metadata": {},
     "output_type": "execute_result"
    }
   ],
   "source": [
    "deviceIdDates_train.head()"
   ]
  },
  {
   "cell_type": "code",
   "execution_count": 15,
   "metadata": {},
   "outputs": [],
   "source": [
    "#Función que resta una fecha de aparición con la que le sigue inmediatamente\n",
    "#limito a 500 el tamanio para que no itere tantas veces. sino itera muchas veces para los ids que aparecen\n",
    "#muchas veces. hay muchos que aparecen miles de veces\n",
    "def nextAppearanceTime( dateList ):\n",
    "    distancias = []\n",
    "    longitud_actual = len(dateList) if len(dateList)<500 else 500\n",
    "    if(longitud_actual > 1):\n",
    "        for x in range(longitud_actual):\n",
    "            if(x + 1 < longitud_actual):\n",
    "                distancias.append((pd.to_datetime(dateList[x + 1]) - pd.to_datetime(dateList[x])).total_seconds())\n",
    "        \n",
    "    return distancias"
   ]
  },
  {
   "cell_type": "code",
   "execution_count": 16,
   "metadata": {},
   "outputs": [],
   "source": [
    "deviceIdDates_train[\"datesTimeDeltas\"] = deviceIdDates_train[\"date\"].map(lambda x: nextAppearanceTime(x))"
   ]
  },
  {
   "cell_type": "code",
   "execution_count": 17,
   "metadata": {},
   "outputs": [],
   "source": [
    "deviceIdDates_test[\"datesTimeDeltas\"] = deviceIdDates_test[\"date\"].map(lambda x: nextAppearanceTime(x))"
   ]
  },
  {
   "cell_type": "code",
   "execution_count": 18,
   "metadata": {},
   "outputs": [
    {
     "data": {
      "text/html": [
       "<div>\n",
       "<style scoped>\n",
       "    .dataframe tbody tr th:only-of-type {\n",
       "        vertical-align: middle;\n",
       "    }\n",
       "\n",
       "    .dataframe tbody tr th {\n",
       "        vertical-align: top;\n",
       "    }\n",
       "\n",
       "    .dataframe thead th {\n",
       "        text-align: right;\n",
       "    }\n",
       "</style>\n",
       "<table border=\"1\" class=\"dataframe\">\n",
       "  <thead>\n",
       "    <tr style=\"text-align: right;\">\n",
       "      <th></th>\n",
       "      <th>device_id</th>\n",
       "      <th>date</th>\n",
       "      <th>datesTimeDeltas</th>\n",
       "    </tr>\n",
       "  </thead>\n",
       "  <tbody>\n",
       "    <tr>\n",
       "      <th>0</th>\n",
       "      <td>41863526108385</td>\n",
       "      <td>[2019-04-19 19:40:28.465866, 2019-04-20 02:52:...</td>\n",
       "      <td>[25918.427014, 395.61635, 419.166558, 175.7123...</td>\n",
       "    </tr>\n",
       "    <tr>\n",
       "      <th>1</th>\n",
       "      <td>135153013040192</td>\n",
       "      <td>[2019-04-20 04:10:54.009137, 2019-04-20 04:18:...</td>\n",
       "      <td>[480.352713, 27.220255, 1.312519, 80.049594, 6...</td>\n",
       "    </tr>\n",
       "    <tr>\n",
       "      <th>2</th>\n",
       "      <td>161514654074162</td>\n",
       "      <td>[2019-04-18 02:52:46.357746, 2019-04-18 02:53:...</td>\n",
       "      <td>[28.74402, 25.982516, 18.239779, 2.851261, 47....</td>\n",
       "    </tr>\n",
       "    <tr>\n",
       "      <th>3</th>\n",
       "      <td>181891380775191</td>\n",
       "      <td>[2019-04-20 23:19:25.420614]</td>\n",
       "      <td>[]</td>\n",
       "    </tr>\n",
       "    <tr>\n",
       "      <th>4</th>\n",
       "      <td>186034136943920</td>\n",
       "      <td>[2019-04-18 16:42:46.331894, 2019-04-18 19:23:...</td>\n",
       "      <td>[9655.874138, 114849.7393, 22.040434, 17.51386...</td>\n",
       "    </tr>\n",
       "  </tbody>\n",
       "</table>\n",
       "</div>"
      ],
      "text/plain": [
       "         device_id                                               date  \\\n",
       "0   41863526108385  [2019-04-19 19:40:28.465866, 2019-04-20 02:52:...   \n",
       "1  135153013040192  [2019-04-20 04:10:54.009137, 2019-04-20 04:18:...   \n",
       "2  161514654074162  [2019-04-18 02:52:46.357746, 2019-04-18 02:53:...   \n",
       "3  181891380775191                       [2019-04-20 23:19:25.420614]   \n",
       "4  186034136943920  [2019-04-18 16:42:46.331894, 2019-04-18 19:23:...   \n",
       "\n",
       "                                     datesTimeDeltas  \n",
       "0  [25918.427014, 395.61635, 419.166558, 175.7123...  \n",
       "1  [480.352713, 27.220255, 1.312519, 80.049594, 6...  \n",
       "2  [28.74402, 25.982516, 18.239779, 2.851261, 47....  \n",
       "3                                                 []  \n",
       "4  [9655.874138, 114849.7393, 22.040434, 17.51386...  "
      ]
     },
     "execution_count": 18,
     "metadata": {},
     "output_type": "execute_result"
    }
   ],
   "source": [
    "#ahora hay una fila por cada device id.\n",
    "#date es la lista de veces en las cuales aparecio\n",
    "#y datestimedeltas es el tiempo promedio que tardo en volver a aparecer, y el valor a predecir en el futuro\n",
    "deviceIdDates_train.head()"
   ]
  },
  {
   "cell_type": "code",
   "execution_count": 20,
   "metadata": {},
   "outputs": [],
   "source": [
    "#hago que dates time deltas sea un numero en milisegundos\n",
    "#si es una lista vacia(el id aparecio solamente en 1 auction) reemplazo por el tiempo en segundos equivalente \n",
    "# a 3 dias, ya que seria el maximo posible"
   ]
  },
  {
   "cell_type": "code",
   "execution_count": 19,
   "metadata": {},
   "outputs": [],
   "source": [
    "three_days_seconds = timedelta(3).total_seconds()"
   ]
  },
  {
   "cell_type": "code",
   "execution_count": 21,
   "metadata": {},
   "outputs": [],
   "source": [
    "deviceIdDates_train[\"datesTimeDeltas\"] = deviceIdDates_train[\"datesTimeDeltas\"].map(lambda x: three_days_seconds if len(x) == 0 else x[0])"
   ]
  },
  {
   "cell_type": "code",
   "execution_count": 22,
   "metadata": {},
   "outputs": [],
   "source": [
    "deviceIdDates_test[\"datesTimeDeltas\"] = deviceIdDates_test[\"datesTimeDeltas\"].map(lambda x: three_days_seconds if len(x) == 0 else x[0])"
   ]
  },
  {
   "cell_type": "code",
   "execution_count": 23,
   "metadata": {},
   "outputs": [],
   "source": [
    "#entreno asi nomas un modeo para despues poder usar como ejemplo"
   ]
  },
  {
   "cell_type": "code",
   "execution_count": 24,
   "metadata": {},
   "outputs": [],
   "source": [
    "#creo un feature que diga si su primer aparecion fue dia de semana o no"
   ]
  },
  {
   "cell_type": "code",
   "execution_count": 25,
   "metadata": {},
   "outputs": [],
   "source": [
    "deviceIdDates_train[\"first_appearence_is_weekend\"] = deviceIdDates_train.apply(lambda row: row[\"date\"][0].weekday()>4 , axis=1)"
   ]
  },
  {
   "cell_type": "code",
   "execution_count": 26,
   "metadata": {},
   "outputs": [],
   "source": [
    "deviceIdDates_test[\"first_appearence_is_weekend\"] = deviceIdDates_test.apply(lambda row: row[\"date\"][0].weekday()>4 , axis=1)"
   ]
  },
  {
   "cell_type": "code",
   "execution_count": 27,
   "metadata": {},
   "outputs": [],
   "source": [
    "#x train va a tener los features ( en este caso solo uno)\n",
    "X_train = deviceIdDates_train[[\"first_appearence_is_weekend\"]]\n",
    "X_test = deviceIdDates_test[[\"first_appearence_is_weekend\"]]\n",
    "#y train es el valor a predecir\n",
    "y_train = deviceIdDates_train[\"datesTimeDeltas\"]\n",
    "y_test = deviceIdDates_test[\"datesTimeDeltas\"]"
   ]
  },
  {
   "cell_type": "code",
   "execution_count": 28,
   "metadata": {},
   "outputs": [
    {
     "name": "stderr",
     "output_type": "stream",
     "text": [
      "/home/martinrosas/.local/lib/python3.6/site-packages/sklearn/ensemble/forest.py:245: FutureWarning: The default value of n_estimators will change from 10 in version 0.20 to 100 in 0.22.\n",
      "  \"10 in version 0.20 to 100 in 0.22.\", FutureWarning)\n"
     ]
    },
    {
     "data": {
      "text/plain": [
       "RandomForestRegressor(bootstrap=True, criterion='mse', max_depth=None,\n",
       "                      max_features='auto', max_leaf_nodes=None,\n",
       "                      min_impurity_decrease=0.0, min_impurity_split=None,\n",
       "                      min_samples_leaf=1, min_samples_split=2,\n",
       "                      min_weight_fraction_leaf=0.0, n_estimators=10,\n",
       "                      n_jobs=None, oob_score=False, random_state=None,\n",
       "                      verbose=0, warm_start=False)"
      ]
     },
     "execution_count": 28,
     "metadata": {},
     "output_type": "execute_result"
    }
   ],
   "source": [
    "#COMO LO QUE SE PREDICE ES TIEMPO USO UN REGRESOR\n",
    "#creo el regresor\n",
    "clf = RandomForestRegressor()\n",
    "#entreno el modeo\n",
    "clf.fit(X_train, y_train)  \n"
   ]
  },
  {
   "cell_type": "code",
   "execution_count": 30,
   "metadata": {},
   "outputs": [
    {
     "data": {
      "text/plain": [
       "array([46420.10212375, 46420.10212375, 88453.41434792, ...,\n",
       "       88453.41434792, 88453.41434792, 88453.41434792])"
      ]
     },
     "execution_count": 30,
     "metadata": {},
     "output_type": "execute_result"
    }
   ],
   "source": [
    "#esta es la prediccion para cada registro  X test\n",
    "pred = clf.predict(X_test)\n",
    "pred"
   ]
  },
  {
   "cell_type": "code",
   "execution_count": null,
   "metadata": {},
   "outputs": [],
   "source": []
  },
  {
   "cell_type": "code",
   "execution_count": null,
   "metadata": {},
   "outputs": [],
   "source": []
  },
  {
   "cell_type": "code",
   "execution_count": null,
   "metadata": {},
   "outputs": [],
   "source": []
  },
  {
   "cell_type": "code",
   "execution_count": 25,
   "metadata": {},
   "outputs": [],
   "source": [
    "#buscando features"
   ]
  },
  {
   "cell_type": "code",
   "execution_count": 32,
   "metadata": {},
   "outputs": [
    {
     "data": {
      "text/html": [
       "<div>\n",
       "<style scoped>\n",
       "    .dataframe tbody tr th:only-of-type {\n",
       "        vertical-align: middle;\n",
       "    }\n",
       "\n",
       "    .dataframe tbody tr th {\n",
       "        vertical-align: top;\n",
       "    }\n",
       "\n",
       "    .dataframe thead th {\n",
       "        text-align: right;\n",
       "    }\n",
       "</style>\n",
       "<table border=\"1\" class=\"dataframe\">\n",
       "  <thead>\n",
       "    <tr style=\"text-align: right;\">\n",
       "      <th></th>\n",
       "      <th>device_id</th>\n",
       "      <th>first_appearence_is_weekend</th>\n",
       "      <th>datesTimeDeltas</th>\n",
       "    </tr>\n",
       "  </thead>\n",
       "  <tbody>\n",
       "    <tr>\n",
       "      <th>0</th>\n",
       "      <td>41863526108385</td>\n",
       "      <td>False</td>\n",
       "      <td>25918.427014</td>\n",
       "    </tr>\n",
       "    <tr>\n",
       "      <th>1</th>\n",
       "      <td>135153013040192</td>\n",
       "      <td>True</td>\n",
       "      <td>480.352713</td>\n",
       "    </tr>\n",
       "    <tr>\n",
       "      <th>2</th>\n",
       "      <td>161514654074162</td>\n",
       "      <td>False</td>\n",
       "      <td>28.744020</td>\n",
       "    </tr>\n",
       "    <tr>\n",
       "      <th>3</th>\n",
       "      <td>181891380775191</td>\n",
       "      <td>True</td>\n",
       "      <td>259200.000000</td>\n",
       "    </tr>\n",
       "    <tr>\n",
       "      <th>4</th>\n",
       "      <td>186034136943920</td>\n",
       "      <td>False</td>\n",
       "      <td>9655.874138</td>\n",
       "    </tr>\n",
       "  </tbody>\n",
       "</table>\n",
       "</div>"
      ],
      "text/plain": [
       "         device_id  first_appearence_is_weekend  datesTimeDeltas\n",
       "0   41863526108385                        False     25918.427014\n",
       "1  135153013040192                         True       480.352713\n",
       "2  161514654074162                        False        28.744020\n",
       "3  181891380775191                         True    259200.000000\n",
       "4  186034136943920                        False      9655.874138"
      ]
     },
     "execution_count": 32,
     "metadata": {},
     "output_type": "execute_result"
    }
   ],
   "source": [
    "#en este df voy a ir agregando los nuevos features\n",
    "df_train = deviceIdDates_train[[\"device_id\", \"first_appearence_is_weekend\", \"datesTimeDeltas\"]]\n",
    "df_test = deviceIdDates_test[[\"device_id\", \"first_appearence_is_weekend\", \"datesTimeDeltas\"]]\n",
    "\n",
    "df_train.head()"
   ]
  },
  {
   "cell_type": "code",
   "execution_count": 34,
   "metadata": {},
   "outputs": [],
   "source": [
    "#creo feature -> para cada id cual es la app mas usada por cada dispositivo a partir del dataframe EVENTS"
   ]
  },
  {
   "cell_type": "code",
   "execution_count": 33,
   "metadata": {},
   "outputs": [
    {
     "data": {
      "text/html": [
       "<div>\n",
       "<style scoped>\n",
       "    .dataframe tbody tr th:only-of-type {\n",
       "        vertical-align: middle;\n",
       "    }\n",
       "\n",
       "    .dataframe tbody tr th {\n",
       "        vertical-align: top;\n",
       "    }\n",
       "\n",
       "    .dataframe thead th {\n",
       "        text-align: right;\n",
       "    }\n",
       "</style>\n",
       "<table border=\"1\" class=\"dataframe\">\n",
       "  <thead>\n",
       "    <tr style=\"text-align: right;\">\n",
       "      <th></th>\n",
       "      <th>device_id</th>\n",
       "      <th>application_id</th>\n",
       "    </tr>\n",
       "  </thead>\n",
       "  <tbody>\n",
       "    <tr>\n",
       "      <th>0</th>\n",
       "      <td>40621409780134</td>\n",
       "      <td>77</td>\n",
       "    </tr>\n",
       "    <tr>\n",
       "      <th>1</th>\n",
       "      <td>41863526108385</td>\n",
       "      <td>210</td>\n",
       "    </tr>\n",
       "    <tr>\n",
       "      <th>2</th>\n",
       "      <td>69039685746313</td>\n",
       "      <td>226</td>\n",
       "    </tr>\n",
       "    <tr>\n",
       "      <th>3</th>\n",
       "      <td>90072729247980</td>\n",
       "      <td>210</td>\n",
       "    </tr>\n",
       "    <tr>\n",
       "      <th>4</th>\n",
       "      <td>161514654074162</td>\n",
       "      <td>65</td>\n",
       "    </tr>\n",
       "  </tbody>\n",
       "</table>\n",
       "</div>"
      ],
      "text/plain": [
       "         device_id application_id\n",
       "0   40621409780134             77\n",
       "1   41863526108385            210\n",
       "2   69039685746313            226\n",
       "3   90072729247980            210\n",
       "4  161514654074162             65"
      ]
     },
     "execution_count": 33,
     "metadata": {},
     "output_type": "execute_result"
    }
   ],
   "source": [
    "most_used_app = events.groupby(\"ref_hash\")[\"application_id\"].agg(lambda x: x.mode()).rename_axis(\"device_id\").to_frame().reset_index()\n",
    "most_used_app.head()"
   ]
  },
  {
   "cell_type": "code",
   "execution_count": 36,
   "metadata": {},
   "outputs": [],
   "source": [
    "#arreglo que algunos casos la app id mas usada es una lista. porque la funcion .mode() devolvio mas de un elemento\n",
    "most_used_app[\"application_id\"] = most_used_app[\"application_id\"].apply(lambda x: x[0] if type(x) == np.ndarray else x)"
   ]
  },
  {
   "cell_type": "code",
   "execution_count": null,
   "metadata": {},
   "outputs": [],
   "source": []
  },
  {
   "cell_type": "code",
   "execution_count": 31,
   "metadata": {},
   "outputs": [],
   "source": [
    "#lo agrego al df actual"
   ]
  },
  {
   "cell_type": "code",
   "execution_count": 37,
   "metadata": {},
   "outputs": [],
   "source": [
    "df_train = df_train.merge(most_used_app, on=\"device_id\", how=\"left\")"
   ]
  },
  {
   "cell_type": "code",
   "execution_count": 38,
   "metadata": {},
   "outputs": [],
   "source": [
    "df_test = df_test.merge(most_used_app, on=\"device_id\", how=\"left\")"
   ]
  },
  {
   "cell_type": "code",
   "execution_count": 39,
   "metadata": {},
   "outputs": [],
   "source": [
    "#renombro para dejar mas claro que el nombre del nuevo feature\n",
    "df_train = df_train.rename({\"application_id\": \"most_used_app\"}, axis=\"columns\")\n",
    "df_test = df_test.rename({\"application_id\": \"most_used_app\"}, axis=\"columns\")"
   ]
  },
  {
   "cell_type": "code",
   "execution_count": 40,
   "metadata": {},
   "outputs": [],
   "source": [
    "#reemplazo los nan de most used app por un nuemero no existente\n",
    "df_train[\"most_used_app\"] = df_train[\"most_used_app\"].fillna(-1)\n",
    "df_test[\"most_used_app\"] = df_test[\"most_used_app\"].fillna(-1)"
   ]
  },
  {
   "cell_type": "code",
   "execution_count": 41,
   "metadata": {},
   "outputs": [
    {
     "data": {
      "text/html": [
       "<div>\n",
       "<style scoped>\n",
       "    .dataframe tbody tr th:only-of-type {\n",
       "        vertical-align: middle;\n",
       "    }\n",
       "\n",
       "    .dataframe tbody tr th {\n",
       "        vertical-align: top;\n",
       "    }\n",
       "\n",
       "    .dataframe thead th {\n",
       "        text-align: right;\n",
       "    }\n",
       "</style>\n",
       "<table border=\"1\" class=\"dataframe\">\n",
       "  <thead>\n",
       "    <tr style=\"text-align: right;\">\n",
       "      <th></th>\n",
       "      <th>device_id</th>\n",
       "      <th>first_appearence_is_weekend</th>\n",
       "      <th>datesTimeDeltas</th>\n",
       "      <th>most_used_app</th>\n",
       "    </tr>\n",
       "  </thead>\n",
       "  <tbody>\n",
       "    <tr>\n",
       "      <th>0</th>\n",
       "      <td>41863526108385</td>\n",
       "      <td>False</td>\n",
       "      <td>25918.427014</td>\n",
       "      <td>210.0</td>\n",
       "    </tr>\n",
       "    <tr>\n",
       "      <th>1</th>\n",
       "      <td>135153013040192</td>\n",
       "      <td>True</td>\n",
       "      <td>480.352713</td>\n",
       "      <td>-1.0</td>\n",
       "    </tr>\n",
       "    <tr>\n",
       "      <th>2</th>\n",
       "      <td>161514654074162</td>\n",
       "      <td>False</td>\n",
       "      <td>28.744020</td>\n",
       "      <td>65.0</td>\n",
       "    </tr>\n",
       "    <tr>\n",
       "      <th>3</th>\n",
       "      <td>181891380775191</td>\n",
       "      <td>True</td>\n",
       "      <td>259200.000000</td>\n",
       "      <td>-1.0</td>\n",
       "    </tr>\n",
       "    <tr>\n",
       "      <th>4</th>\n",
       "      <td>186034136943920</td>\n",
       "      <td>False</td>\n",
       "      <td>9655.874138</td>\n",
       "      <td>210.0</td>\n",
       "    </tr>\n",
       "  </tbody>\n",
       "</table>\n",
       "</div>"
      ],
      "text/plain": [
       "         device_id  first_appearence_is_weekend  datesTimeDeltas  \\\n",
       "0   41863526108385                        False     25918.427014   \n",
       "1  135153013040192                         True       480.352713   \n",
       "2  161514654074162                        False        28.744020   \n",
       "3  181891380775191                         True    259200.000000   \n",
       "4  186034136943920                        False      9655.874138   \n",
       "\n",
       "   most_used_app  \n",
       "0          210.0  \n",
       "1           -1.0  \n",
       "2           65.0  \n",
       "3           -1.0  \n",
       "4          210.0  "
      ]
     },
     "execution_count": 41,
     "metadata": {},
     "output_type": "execute_result"
    }
   ],
   "source": [
    "df_train.head()"
   ]
  },
  {
   "cell_type": "code",
   "execution_count": null,
   "metadata": {},
   "outputs": [],
   "source": []
  },
  {
   "cell_type": "code",
   "execution_count": 42,
   "metadata": {},
   "outputs": [],
   "source": [
    "#creo feature para cada ID el sistema operativo a partir de dataframe Installs"
   ]
  },
  {
   "cell_type": "code",
   "execution_count": 43,
   "metadata": {},
   "outputs": [],
   "source": [
    "def is_android_or_macos(row):\n",
    "    if row[\"user_agent\"] is np.nan:\n",
    "        return None\n",
    "    agent = row[\"user_agent\"].lower()\n",
    "    if \"android\" in agent:\n",
    "        return \"android\"\n",
    "    elif \"darwin\" in agent:\n",
    "        return \"mac os\"\n",
    "    else:\n",
    "        return \"other\""
   ]
  },
  {
   "cell_type": "code",
   "execution_count": 44,
   "metadata": {},
   "outputs": [],
   "source": [
    "installs[\"os\"] = installs.apply(is_android_or_macos, axis=1)"
   ]
  },
  {
   "cell_type": "code",
   "execution_count": 45,
   "metadata": {},
   "outputs": [],
   "source": [
    "os = installs[[\"ref_hash\", \"os\"]].dropna()"
   ]
  },
  {
   "cell_type": "code",
   "execution_count": 46,
   "metadata": {},
   "outputs": [],
   "source": [
    "#saco ids duplicados\n",
    "os = os.drop_duplicates(subset=\"ref_hash\", keep='first').rename({\"ref_hash\": \"device_id\"},axis=\"columns\")"
   ]
  },
  {
   "cell_type": "code",
   "execution_count": 52,
   "metadata": {},
   "outputs": [
    {
     "data": {
      "text/html": [
       "<div>\n",
       "<style scoped>\n",
       "    .dataframe tbody tr th:only-of-type {\n",
       "        vertical-align: middle;\n",
       "    }\n",
       "\n",
       "    .dataframe tbody tr th {\n",
       "        vertical-align: top;\n",
       "    }\n",
       "\n",
       "    .dataframe thead th {\n",
       "        text-align: right;\n",
       "    }\n",
       "</style>\n",
       "<table border=\"1\" class=\"dataframe\">\n",
       "  <thead>\n",
       "    <tr style=\"text-align: right;\">\n",
       "      <th></th>\n",
       "      <th>device_id</th>\n",
       "      <th>first_appearence_is_weekend</th>\n",
       "      <th>datesTimeDeltas</th>\n",
       "      <th>most_used_app</th>\n",
       "      <th>os_x</th>\n",
       "      <th>os_y</th>\n",
       "      <th>os_x</th>\n",
       "      <th>os_y</th>\n",
       "      <th>os</th>\n",
       "    </tr>\n",
       "  </thead>\n",
       "  <tbody>\n",
       "    <tr>\n",
       "      <th>0</th>\n",
       "      <td>41863526108385</td>\n",
       "      <td>False</td>\n",
       "      <td>25918.427014</td>\n",
       "      <td>210.0</td>\n",
       "      <td>android</td>\n",
       "      <td>android</td>\n",
       "      <td>android</td>\n",
       "      <td>android</td>\n",
       "      <td>android</td>\n",
       "    </tr>\n",
       "    <tr>\n",
       "      <th>1</th>\n",
       "      <td>135153013040192</td>\n",
       "      <td>True</td>\n",
       "      <td>480.352713</td>\n",
       "      <td>-1.0</td>\n",
       "      <td>NaN</td>\n",
       "      <td>NaN</td>\n",
       "      <td>NaN</td>\n",
       "      <td>NaN</td>\n",
       "      <td>NaN</td>\n",
       "    </tr>\n",
       "    <tr>\n",
       "      <th>2</th>\n",
       "      <td>161514654074162</td>\n",
       "      <td>False</td>\n",
       "      <td>28.744020</td>\n",
       "      <td>65.0</td>\n",
       "      <td>android</td>\n",
       "      <td>android</td>\n",
       "      <td>android</td>\n",
       "      <td>android</td>\n",
       "      <td>android</td>\n",
       "    </tr>\n",
       "    <tr>\n",
       "      <th>3</th>\n",
       "      <td>181891380775191</td>\n",
       "      <td>True</td>\n",
       "      <td>259200.000000</td>\n",
       "      <td>-1.0</td>\n",
       "      <td>NaN</td>\n",
       "      <td>NaN</td>\n",
       "      <td>NaN</td>\n",
       "      <td>NaN</td>\n",
       "      <td>NaN</td>\n",
       "    </tr>\n",
       "    <tr>\n",
       "      <th>4</th>\n",
       "      <td>186034136943920</td>\n",
       "      <td>False</td>\n",
       "      <td>9655.874138</td>\n",
       "      <td>210.0</td>\n",
       "      <td>NaN</td>\n",
       "      <td>NaN</td>\n",
       "      <td>NaN</td>\n",
       "      <td>NaN</td>\n",
       "      <td>NaN</td>\n",
       "    </tr>\n",
       "  </tbody>\n",
       "</table>\n",
       "</div>"
      ],
      "text/plain": [
       "         device_id  first_appearence_is_weekend  datesTimeDeltas  \\\n",
       "0   41863526108385                        False     25918.427014   \n",
       "1  135153013040192                         True       480.352713   \n",
       "2  161514654074162                        False        28.744020   \n",
       "3  181891380775191                         True    259200.000000   \n",
       "4  186034136943920                        False      9655.874138   \n",
       "\n",
       "   most_used_app     os_x     os_y     os_x     os_y       os  \n",
       "0          210.0  android  android  android  android  android  \n",
       "1           -1.0      NaN      NaN      NaN      NaN      NaN  \n",
       "2           65.0  android  android  android  android  android  \n",
       "3           -1.0      NaN      NaN      NaN      NaN      NaN  \n",
       "4          210.0      NaN      NaN      NaN      NaN      NaN  "
      ]
     },
     "execution_count": 52,
     "metadata": {},
     "output_type": "execute_result"
    }
   ],
   "source": [
    "#lo agrego a DF, siempre left join\n",
    "df_train = df_train.merge(os,how=\"left\", on=\"device_id\")\n",
    "df_test = df_test.merge(os,how=\"left\", on=\"device_id\")\n",
    "df_train.head()"
   ]
  },
  {
   "cell_type": "code",
   "execution_count": 42,
   "metadata": {},
   "outputs": [],
   "source": [
    "#como hay muchos que no tienen info de sistema operativo, relleno los NA con \"other\""
   ]
  },
  {
   "cell_type": "code",
   "execution_count": 53,
   "metadata": {},
   "outputs": [],
   "source": [
    "df_train[\"os\"] = df_train[\"os\"].fillna(\"other\")\n",
    "df_test[\"os\"] = df_test[\"os\"].fillna(\"other\")"
   ]
  },
  {
   "cell_type": "code",
   "execution_count": 54,
   "metadata": {},
   "outputs": [],
   "source": [
    "#PRUEBO OTRA VEZ con random forest\n",
    "#antes tengo que convertir a numeros los campos que son string (en este caso solo OS)\n",
    "#USO LABEL ENCODER\n",
    "from sklearn import preprocessing\n",
    "le = preprocessing.LabelEncoder()"
   ]
  },
  {
   "cell_type": "code",
   "execution_count": 55,
   "metadata": {},
   "outputs": [],
   "source": [
    "#encodeo columna os\n",
    "le.fit(df_train[\"os\"])\n",
    "df_train[\"os\"] = le.transform(df_train[\"os\"])\n",
    "df_test[\"os\"] = le.transform(df_test[\"os\"])"
   ]
  },
  {
   "cell_type": "code",
   "execution_count": 56,
   "metadata": {},
   "outputs": [
    {
     "data": {
      "text/plain": [
       "0    0\n",
       "1    2\n",
       "2    0\n",
       "3    2\n",
       "4    2\n",
       "Name: os, dtype: int64"
      ]
     },
     "execution_count": 56,
     "metadata": {},
     "output_type": "execute_result"
    }
   ],
   "source": [
    "#ahora en vez de string tengo sus codigos\n",
    "df_train[\"os\"].head()"
   ]
  },
  {
   "cell_type": "code",
   "execution_count": 57,
   "metadata": {},
   "outputs": [],
   "source": [
    "\n",
    "#CREO X_TRAIN Y Y_TRAIN\n",
    "X_train = df_train[['first_appearence_is_weekend',\n",
    "       'most_used_app', 'os']]\n",
    "y_train = df_train['datesTimeDeltas']\n",
    "X_test = df_test[['first_appearence_is_weekend',\n",
    "       'most_used_app', 'os']]\n",
    "y_test = df_test['datesTimeDeltas']"
   ]
  },
  {
   "cell_type": "code",
   "execution_count": 60,
   "metadata": {},
   "outputs": [],
   "source": [
    "#entreno nuevo arbol asi nomas"
   ]
  },
  {
   "cell_type": "code",
   "execution_count": 64,
   "metadata": {},
   "outputs": [
    {
     "name": "stderr",
     "output_type": "stream",
     "text": [
      "/home/martinrosas/.local/lib/python3.6/site-packages/sklearn/ensemble/forest.py:245: FutureWarning: The default value of n_estimators will change from 10 in version 0.20 to 100 in 0.22.\n",
      "  \"10 in version 0.20 to 100 in 0.22.\", FutureWarning)\n"
     ]
    }
   ],
   "source": [
    "clf = RandomForestRegressor()\n",
    "#entreno el modeo\n",
    "clf.fit(X_train, y_train)  \n",
    "y_pred = clf.predict(X_test)"
   ]
  },
  {
   "cell_type": "code",
   "execution_count": 65,
   "metadata": {},
   "outputs": [
    {
     "name": "stdout",
     "output_type": "stream",
     "text": [
      "Mean squared error: 10203212611.79\n"
     ]
    }
   ],
   "source": [
    "#en y_pred tengo las predicciones y en y_test tengo los valores de verdad que queria predecir\n",
    "#mido el error\n",
    "\n",
    "print(\"Mean squared error: %.2f\"\n",
    "      % mean_squared_error(y_test, y_pred))"
   ]
  },
  {
   "cell_type": "code",
   "execution_count": 66,
   "metadata": {},
   "outputs": [],
   "source": [
    "#ahora busco mejores features para bajar el error"
   ]
  },
  {
   "cell_type": "code",
   "execution_count": null,
   "metadata": {},
   "outputs": [],
   "source": []
  },
  {
   "cell_type": "code",
   "execution_count": null,
   "metadata": {},
   "outputs": [],
   "source": []
  },
  {
   "cell_type": "code",
   "execution_count": null,
   "metadata": {},
   "outputs": [],
   "source": []
  },
  {
   "cell_type": "code",
   "execution_count": null,
   "metadata": {},
   "outputs": [],
   "source": []
  },
  {
   "cell_type": "code",
   "execution_count": null,
   "metadata": {},
   "outputs": [],
   "source": []
  },
  {
   "cell_type": "code",
   "execution_count": null,
   "metadata": {},
   "outputs": [],
   "source": []
  },
  {
   "cell_type": "code",
   "execution_count": null,
   "metadata": {},
   "outputs": [],
   "source": []
  },
  {
   "cell_type": "code",
   "execution_count": null,
   "metadata": {},
   "outputs": [],
   "source": []
  },
  {
   "cell_type": "code",
   "execution_count": null,
   "metadata": {},
   "outputs": [],
   "source": []
  },
  {
   "cell_type": "code",
   "execution_count": null,
   "metadata": {},
   "outputs": [],
   "source": []
  },
  {
   "cell_type": "code",
   "execution_count": null,
   "metadata": {},
   "outputs": [],
   "source": []
  },
  {
   "cell_type": "code",
   "execution_count": null,
   "metadata": {},
   "outputs": [],
   "source": []
  },
  {
   "cell_type": "code",
   "execution_count": null,
   "metadata": {},
   "outputs": [],
   "source": []
  },
  {
   "cell_type": "code",
   "execution_count": null,
   "metadata": {},
   "outputs": [],
   "source": []
  },
  {
   "cell_type": "code",
   "execution_count": null,
   "metadata": {},
   "outputs": [],
   "source": []
  },
  {
   "cell_type": "code",
   "execution_count": null,
   "metadata": {},
   "outputs": [],
   "source": []
  },
  {
   "cell_type": "code",
   "execution_count": null,
   "metadata": {},
   "outputs": [],
   "source": []
  },
  {
   "cell_type": "code",
   "execution_count": null,
   "metadata": {},
   "outputs": [],
   "source": []
  },
  {
   "cell_type": "code",
   "execution_count": null,
   "metadata": {},
   "outputs": [],
   "source": []
  },
  {
   "cell_type": "code",
   "execution_count": null,
   "metadata": {},
   "outputs": [],
   "source": []
  },
  {
   "cell_type": "code",
   "execution_count": null,
   "metadata": {},
   "outputs": [],
   "source": []
  },
  {
   "cell_type": "code",
   "execution_count": null,
   "metadata": {},
   "outputs": [],
   "source": []
  }
 ],
 "metadata": {
  "kernelspec": {
   "display_name": "Python 3",
   "language": "python",
   "name": "python3"
  },
  "language_info": {
   "codemirror_mode": {
    "name": "ipython",
    "version": 3
   },
   "file_extension": ".py",
   "mimetype": "text/x-python",
   "name": "python",
   "nbconvert_exporter": "python",
   "pygments_lexer": "ipython3",
   "version": "3.6.5"
  }
 },
 "nbformat": 4,
 "nbformat_minor": 2
}
