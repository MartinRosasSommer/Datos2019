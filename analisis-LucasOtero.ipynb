{
 "cells": [
  {
   "cell_type": "code",
   "execution_count": null,
   "metadata": {},
   "outputs": [],
   "source": [
    "import pandas as pd\n",
    "parse_dates_clicks = [\"created\"]\n",
    "clicks = pd.read_csv('clicks.csv.gzip',  compression = 'gzip', parse_dates=parse_dates_clicks)\n",
    "parse_dates_auctions = [\"date\"]\n",
    "auctions = pd.read_csv('auctions.csv.gzip',  compression = 'gzip', parse_dates=parse_dates_auctions)\n",
    "parse_dates_installs = [\"created\"]\n",
    "installs = pd.read_csv('installs.csv.gzip',  compression = 'gzip', parse_dates=parse_dates_installs)\n",
    "parse_dates_events = [\"date\"]\n",
    "installs = pd.read_csv('events.csv.gzip',  compression = 'gzip', parse_dates=parse_dates_events)"
   ]
  },
  {
   "cell_type": "code",
   "execution_count": null,
   "metadata": {},
   "outputs": [],
   "source": [
    "clicks.head()"
   ]
  },
  {
   "cell_type": "code",
   "execution_count": null,
   "metadata": {},
   "outputs": [],
   "source": [
    "auctions.head()"
   ]
  },
  {
   "cell_type": "code",
   "execution_count": null,
   "metadata": {},
   "outputs": [],
   "source": [
    "installs.head()"
   ]
  },
  {
   "cell_type": "code",
   "execution_count": null,
   "metadata": {},
   "outputs": [],
   "source": [
    "clicks[\"created\"] = pd.to_datetime(clicks[\"created\"], utc=True)"
   ]
  },
  {
   "cell_type": "code",
   "execution_count": null,
   "metadata": {},
   "outputs": [],
   "source": [
    "clicks[\"created\"] = clicks[\"created\"].dt.tz_convert(\"America/Buenos_Aires\")"
   ]
  },
  {
   "cell_type": "code",
   "execution_count": null,
   "metadata": {},
   "outputs": [],
   "source": [
    "clicks.groupby([\"advertiser_id\"]).agg({'advertiser_id': ['count'], \"timeToClick\": [\"mean\"]})"
   ]
  },
  {
   "cell_type": "code",
   "execution_count": null,
   "metadata": {},
   "outputs": [],
   "source": [
    "clicks.groupby([\"advertiser_id\"]).agg({'timeToClick': ['mean', 'sum', 'count']})"
   ]
  },
  {
   "cell_type": "code",
   "execution_count": null,
   "metadata": {},
   "outputs": [],
   "source": [
    "clicks['created'] = pd.to_datetime(clicks['created']).dt.floor('30T').dt.time"
   ]
  },
  {
   "cell_type": "code",
   "execution_count": null,
   "metadata": {},
   "outputs": [],
   "source": [
    "clicks.head()"
   ]
  },
  {
   "cell_type": "code",
   "execution_count": null,
   "metadata": {},
   "outputs": [],
   "source": [
    "clicksIn30MinutesPeriods = clicks.groupby([\"created\"])[\"created\"].count()"
   ]
  },
  {
   "cell_type": "code",
   "execution_count": null,
   "metadata": {},
   "outputs": [],
   "source": [
    "clicksIn30MinutesPeriodDF = pd.DataFrame({'createdTime':clicksIn30MinutesPeriods.index, 'count':clicksIn30MinutesPeriods.values})"
   ]
  },
  {
   "cell_type": "code",
   "execution_count": null,
   "metadata": {},
   "outputs": [],
   "source": [
    "clicksIn30MinutesPeriodDF.head()"
   ]
  },
  {
   "cell_type": "code",
   "execution_count": null,
   "metadata": {},
   "outputs": [],
   "source": [
    "clicksIn30MinutesPeriodDF[\"createdTime\"] = clicksIn30MinutesPeriodDF[\"createdTime\"].apply(lambda t: t.strftime('%H:%M'))"
   ]
  },
  {
   "cell_type": "code",
   "execution_count": null,
   "metadata": {},
   "outputs": [],
   "source": [
    "clicksIn30MinutesPeriodDF.plot.line(x='createdTime', y='count', rot=0)"
   ]
  },
  {
   "cell_type": "code",
   "execution_count": null,
   "metadata": {},
   "outputs": [],
   "source": [
    "auctions[\"date\"] = pd.to_datetime(auctions[\"date\"], utc=True)"
   ]
  },
  {
   "cell_type": "code",
   "execution_count": null,
   "metadata": {},
   "outputs": [],
   "source": [
    "auctions[\"date\"] = auctions[\"date\"].dt.tz_convert(\"America/Buenos_Aires\")"
   ]
  },
  {
   "cell_type": "code",
   "execution_count": null,
   "metadata": {},
   "outputs": [],
   "source": [
    "auctions['date'] = pd.to_datetime(auctions['date']).dt.floor('30T').dt.time"
   ]
  },
  {
   "cell_type": "code",
   "execution_count": null,
   "metadata": {},
   "outputs": [],
   "source": [
    "auctionsIn30MinutesPeriods = auctions.groupby([\"date\"])[\"date\"].count()"
   ]
  },
  {
   "cell_type": "code",
   "execution_count": null,
   "metadata": {},
   "outputs": [],
   "source": [
    "auctionsIn30MinutesPeriodDF = pd.DataFrame({'createdTime':auctionsIn30MinutesPeriods.index, 'count':auctionsIn30MinutesPeriods.values},index=['00:00', '12:00', '24:00'])"
   ]
  },
  {
   "cell_type": "code",
   "execution_count": null,
   "metadata": {},
   "outputs": [],
   "source": [
    "auctionsIn30MinutesPeriodDF[\"createdTime\"] = auctionsIn30MinutesPeriodDF[\"createdTime\"].apply(lambda t: t.strftime('%H:%M'))"
   ]
  },
  {
   "cell_type": "code",
   "execution_count": null,
   "metadata": {},
   "outputs": [],
   "source": [
    "auctionsIn30MinutesPeriodDF.plot.line(x='createdTime', y='count', rot=90)"
   ]
  },
  {
   "cell_type": "code",
   "execution_count": null,
   "metadata": {},
   "outputs": [],
   "source": [
    "installs[\"created\"] = pd.to_datetime(installs[\"created\"], utc=True)"
   ]
  },
  {
   "cell_type": "code",
   "execution_count": null,
   "metadata": {},
   "outputs": [],
   "source": [
    "installs[\"created\"] = installs[\"created\"].dt.tz_convert(\"America/Buenos_Aires\")"
   ]
  },
  {
   "cell_type": "code",
   "execution_count": null,
   "metadata": {},
   "outputs": [],
   "source": [
    "installs[\"created\"] = pd.to_datetime(installs[\"created\"]).dt.floor('30T').dt.time"
   ]
  },
  {
   "cell_type": "code",
   "execution_count": null,
   "metadata": {},
   "outputs": [],
   "source": [
    "installsIn30MinutesPeriods = installs.groupby([\"created\"])[\"created\"].count()"
   ]
  },
  {
   "cell_type": "code",
   "execution_count": null,
   "metadata": {},
   "outputs": [],
   "source": [
    "installsIn30MinutesPeriodDF = pd.DataFrame({'createdTime':installsIn30MinutesPeriods.index, 'count':installsIn30MinutesPeriods.values},index=['00:00', '12:00', '24:00'])"
   ]
  },
  {
   "cell_type": "code",
   "execution_count": null,
   "metadata": {},
   "outputs": [],
   "source": [
    "installsIn30MinutesPeriodDF[\"createdTime\"] = installsIn30MinutesPeriodDF[\"createdTime\"].apply(lambda t: t.strftime('%H:%M'))"
   ]
  },
  {
   "cell_type": "code",
   "execution_count": null,
   "metadata": {},
   "outputs": [],
   "source": [
    "installsIn30MinutesPeriodDF.plot.line(x='createdTime', y='count', rot=90)"
   ]
  },
  {
   "cell_type": "code",
   "execution_count": null,
   "metadata": {},
   "outputs": [],
   "source": [
    "#Normalize to 20 range installs\n",
    "installsIn30MinutesPeriodDF[\"count\"]=((installsIn30MinutesPeriodDF[\"count\"]-installsIn30MinutesPeriodDF[\"count\"].min())/(installsIn30MinutesPeriodDF[\"count\"].max()-installsIn30MinutesPeriodDF[\"count\"].min()))*20"
   ]
  },
  {
   "cell_type": "code",
   "execution_count": null,
   "metadata": {},
   "outputs": [],
   "source": [
    "#Normalize to 20 range auctions\n",
    "auctionsIn30MinutesPeriodDF[\"count\"]=((auctionsIn30MinutesPeriodDF[\"count\"]-auctionsIn30MinutesPeriodDF[\"count\"].min())/(auctionsIn30MinutesPeriodDF[\"count\"].max()-auctionsIn30MinutesPeriodDF[\"count\"].min()))*20"
   ]
  },
  {
   "cell_type": "code",
   "execution_count": null,
   "metadata": {},
   "outputs": [],
   "source": [
    "#Normalize to 20 range clicks\n",
    "clicksIn30MinutesPeriodDF[\"count\"]=((clicksIn30MinutesPeriodDF[\"count\"]-clicksIn30MinutesPeriodDF[\"count\"].min())/(clicksIn30MinutesPeriodDF[\"count\"].max()-clicksIn30MinutesPeriodDF[\"count\"].min()))*20"
   ]
  },
  {
   "cell_type": "code",
   "execution_count": null,
   "metadata": {},
   "outputs": [],
   "source": [
    "import matplotlib.pyplot as plt"
   ]
  },
  {
   "cell_type": "code",
   "execution_count": null,
   "metadata": {},
   "outputs": [],
   "source": [
    "plt.plot( 'createdTime', 'count', data=clicksIn30MinutesPeriodDF, marker='', linewidth=2, label=\"clicks\")\n",
    "plt.plot( 'createdTime', 'count', data=auctionsIn30MinutesPeriodDF, marker='', linewidth=2, label=\"auctions\")\n",
    "plt.plot( 'createdTime', 'count', data=installsIn30MinutesPeriodDF, marker='', linewidth=2, label=\"installs\")\n",
    "plt.legend()"
   ]
  },
  {
   "cell_type": "code",
   "execution_count": null,
   "metadata": {},
   "outputs": [],
   "source": [
    "#Es importante que la brecha entre clicks y auctions sea baja para que rinda más el dinero invertido"
   ]
  },
  {
   "cell_type": "code",
   "execution_count": null,
   "metadata": {},
   "outputs": [],
   "source": []
  }
 ],
 "metadata": {
  "kernelspec": {
   "display_name": "Python 3",
   "language": "python",
   "name": "python3"
  },
  "language_info": {
   "codemirror_mode": {
    "name": "ipython",
    "version": 3
   },
   "file_extension": ".py",
   "mimetype": "text/x-python",
   "name": "python",
   "nbconvert_exporter": "python",
   "pygments_lexer": "ipython3",
   "version": "3.7.1"
  }
 },
 "nbformat": 4,
 "nbformat_minor": 2
}
