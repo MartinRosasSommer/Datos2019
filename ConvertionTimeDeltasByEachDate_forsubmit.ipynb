{
 "cells": [
  {
   "cell_type": "code",
   "execution_count": 124,
   "metadata": {},
   "outputs": [],
   "source": [
    "from datetime import datetime, timedelta\n",
    "from pyspark import SparkContext, SQLContext\n",
    "from pyspark.sql.functions import hour, mean\n",
    "import pyspark\n",
    "import random\n",
    "sc = SparkContext.getOrCreate()"
   ]
  },
  {
   "cell_type": "code",
   "execution_count": 132,
   "metadata": {},
   "outputs": [
    {
     "data": {
      "text/plain": [
       "[Row(_c0='0', date='2019-04-24 06:23:29.495', device_id='4716708407362582887', is_install='True'),\n",
       " Row(_c0='1', date='2019-04-24 02:06:01.032', device_id='7143568733100935872', is_install='True'),\n",
       " Row(_c0='2', date='2019-04-20 10:15:36.274', device_id='5230323462636548010', is_install='True'),\n",
       " Row(_c0='3', date='2019-04-20 21:56:47.151', device_id='5097163995161606833', is_install='True'),\n",
       " Row(_c0='4', date='2019-04-20 22:40:41.239', device_id='6328027616411983332', is_install='True')]"
      ]
     },
     "execution_count": 132,
     "metadata": {},
     "output_type": "execute_result"
    }
   ],
   "source": [
    "spark = pyspark.sql.SparkSession.builder.appName(\"auctions\").getOrCreate()\n",
    "df_auctions = spark.read.csv('concatenate_installs_auctions.csv', header=True)\n",
    "rdd_auctions = df_auctions.rdd\n",
    "\n",
    "rdd_auctions.take(5)"
   ]
  },
  {
   "cell_type": "code",
   "execution_count": 133,
   "metadata": {},
   "outputs": [
    {
     "data": {
      "text/plain": [
       "[Row(_c0='0', date='2019-04-24 06:23:29.495', device_id='4716708407362582887', is_install='True'),\n",
       " Row(_c0='1', date='2019-04-24 02:06:01.032', device_id='7143568733100935872', is_install='True'),\n",
       " Row(_c0='2', date='2019-04-20 10:15:36.274', device_id='5230323462636548010', is_install='True'),\n",
       " Row(_c0='3', date='2019-04-20 21:56:47.151', device_id='5097163995161606833', is_install='True'),\n",
       " Row(_c0='4', date='2019-04-20 22:40:41.239', device_id='6328027616411983332', is_install='True'),\n",
       " Row(_c0='5', date='2019-04-20 18:19:27.485', device_id='7522785771858684314', is_install='True'),\n",
       " Row(_c0='6', date='2019-04-20 03:40:21.239', device_id='7882044913917355073', is_install='True'),\n",
       " Row(_c0='7', date='2019-04-23 20:55:27.691', device_id='404154463572960372', is_install='True'),\n",
       " Row(_c0='8', date='2019-04-23 18:14:14.756', device_id='1448747284042458525', is_install='True'),\n",
       " Row(_c0='9', date='2019-04-23 06:32:40.906', device_id='1465267208368809184', is_install='True')]"
      ]
     },
     "execution_count": 133,
     "metadata": {},
     "output_type": "execute_result"
    }
   ],
   "source": [
    "rdd_auctions.take(10)"
   ]
  },
  {
   "cell_type": "code",
   "execution_count": 134,
   "metadata": {},
   "outputs": [],
   "source": [
    "def str_to_boolean(string):\n",
    "    return False if string == \"False\" else True"
   ]
  },
  {
   "cell_type": "code",
   "execution_count": 135,
   "metadata": {},
   "outputs": [],
   "source": [
    "rdd_auctions= rdd_auctions.map(lambda x: (x[2], (datetime.strptime(x[1], \"%Y-%m-%d %H:%M:%S.%f\"), str_to_boolean(x[3]))))"
   ]
  },
  {
   "cell_type": "code",
   "execution_count": 136,
   "metadata": {},
   "outputs": [
    {
     "data": {
      "text/plain": [
       "[('4716708407362582887',\n",
       "  (datetime.datetime(2019, 4, 24, 6, 23, 29, 495000), True))]"
      ]
     },
     "execution_count": 136,
     "metadata": {},
     "output_type": "execute_result"
    }
   ],
   "source": [
    "rdd_auctions.take(1)"
   ]
  },
  {
   "cell_type": "code",
   "execution_count": 137,
   "metadata": {},
   "outputs": [],
   "source": [
    "#ME QUEDO solo con los 3 primeros dias para uqe la distancia maxima sea de 3 dias\n",
    "#arranca el 2019-04-18 00:00:00 asi que el date limite es 2019-04-20 23:59:59\n",
    "limit_date_train = datetime(2019, 4, 20, 23, 59, 59, 999)\n",
    "#uso los siguientes 3 dias para testear\n",
    "limit_date_test_begin = datetime(2019, 4, 21, 0, 0, 0, 0)\n",
    "limit_date_test_end = datetime(2019, 4, 23, 23, 59, 59, 999)"
   ]
  },
  {
   "cell_type": "code",
   "execution_count": 138,
   "metadata": {},
   "outputs": [],
   "source": [
    "#filtro por los que son los primeros 3 dias para el train\n",
    "rdd_auctions_train = rdd_auctions.filter(lambda x: x[1][0] < limit_date_train)\n",
    "rdd_auctions_test = rdd_auctions.filter(lambda x: x[1][0] > limit_date_test_begin and x[1][0] < limit_date_test_end)"
   ]
  },
  {
   "cell_type": "code",
   "execution_count": 139,
   "metadata": {},
   "outputs": [],
   "source": [
    "def is_none(value):\n",
    "    return True if value is not None else False"
   ]
  },
  {
   "cell_type": "code",
   "execution_count": 20,
   "metadata": {},
   "outputs": [],
   "source": [
    "def didConvert():\n",
    "    return bool(random.getrandbits(1))"
   ]
  },
  {
   "cell_type": "code",
   "execution_count": 129,
   "metadata": {},
   "outputs": [],
   "source": []
  },
  {
   "cell_type": "code",
   "execution_count": 34,
   "metadata": {},
   "outputs": [
    {
     "data": {
      "text/plain": [
       "[('5230323462636548010',\n",
       "  (datetime.datetime(2019, 4, 20, 10, 15, 36, 274000), 'True')),\n",
       " ('5097163995161606833',\n",
       "  (datetime.datetime(2019, 4, 20, 21, 56, 47, 151000), 'True')),\n",
       " ('6328027616411983332',\n",
       "  (datetime.datetime(2019, 4, 20, 22, 40, 41, 239000), 'True')),\n",
       " ('7522785771858684314',\n",
       "  (datetime.datetime(2019, 4, 20, 18, 19, 27, 485000), 'True')),\n",
       " ('7882044913917355073',\n",
       "  (datetime.datetime(2019, 4, 20, 3, 40, 21, 239000), 'True'))]"
      ]
     },
     "execution_count": 34,
     "metadata": {},
     "output_type": "execute_result"
    }
   ],
   "source": [
    "rdd_auctions_train.take(5)"
   ]
  },
  {
   "cell_type": "code",
   "execution_count": 140,
   "metadata": {},
   "outputs": [],
   "source": [
    "rdd_train = rdd_auctions_train.groupByKey().mapValues(list).mapValues(sorted)\n",
    "rdd_test = rdd_auctions_test.groupByKey().mapValues(list).mapValues(sorted)"
   ]
  },
  {
   "cell_type": "code",
   "execution_count": null,
   "metadata": {},
   "outputs": [],
   "source": []
  },
  {
   "cell_type": "code",
   "execution_count": 106,
   "metadata": {},
   "outputs": [
    {
     "data": {
      "text/plain": [
       "[('8323952185725734415',\n",
       "  [(datetime.datetime(2019, 4, 19, 21, 29, 43, 34000), 'True'),\n",
       "   (datetime.datetime(2019, 4, 20, 5, 35, 45, 651502), 'False'),\n",
       "   (datetime.datetime(2019, 4, 20, 5, 40, 46, 744391), 'False'),\n",
       "   (datetime.datetime(2019, 4, 20, 5, 48, 22, 167361), 'False'),\n",
       "   (datetime.datetime(2019, 4, 20, 5, 51, 43, 749231), 'False'),\n",
       "   (datetime.datetime(2019, 4, 20, 5, 51, 52, 533312), 'False')]),\n",
       " ('7301194916031390155',\n",
       "  [(datetime.datetime(2019, 4, 18, 19, 31, 14, 235010), 'False'),\n",
       "   (datetime.datetime(2019, 4, 18, 22, 50, 14, 743995), 'False'),\n",
       "   (datetime.datetime(2019, 4, 18, 22, 50, 15, 533878), 'False'),\n",
       "   (datetime.datetime(2019, 4, 19, 16, 52, 9, 152000), 'True')]),\n",
       " ('7122583905705271595',\n",
       "  [(datetime.datetime(2019, 4, 19, 16, 20, 9, 790000), 'True')]),\n",
       " ('6925185306188918968',\n",
       "  [(datetime.datetime(2019, 4, 18, 3, 7, 57, 97324), 'False'),\n",
       "   (datetime.datetime(2019, 4, 18, 3, 8, 13, 654140), 'False'),\n",
       "   (datetime.datetime(2019, 4, 18, 3, 8, 30, 429718), 'False'),\n",
       "   (datetime.datetime(2019, 4, 18, 3, 8, 34, 60320), 'False'),\n",
       "   (datetime.datetime(2019, 4, 18, 3, 8, 50, 558621), 'False'),\n",
       "   (datetime.datetime(2019, 4, 18, 3, 10, 58, 794905), 'False'),\n",
       "   (datetime.datetime(2019, 4, 18, 3, 11, 47, 937478), 'False'),\n",
       "   (datetime.datetime(2019, 4, 18, 3, 12, 7, 204059), 'False'),\n",
       "   (datetime.datetime(2019, 4, 18, 3, 12, 23, 675090), 'False'),\n",
       "   (datetime.datetime(2019, 4, 18, 3, 12, 42, 832999), 'False'),\n",
       "   (datetime.datetime(2019, 4, 18, 3, 12, 53, 884764), 'False'),\n",
       "   (datetime.datetime(2019, 4, 18, 3, 13, 25, 916139), 'False'),\n",
       "   (datetime.datetime(2019, 4, 18, 3, 13, 58, 949778), 'False'),\n",
       "   (datetime.datetime(2019, 4, 18, 3, 14, 4, 438403), 'False'),\n",
       "   (datetime.datetime(2019, 4, 18, 3, 14, 49, 293955), 'False'),\n",
       "   (datetime.datetime(2019, 4, 18, 3, 17, 16, 580553), 'False'),\n",
       "   (datetime.datetime(2019, 4, 18, 3, 17, 32, 331528), 'False'),\n",
       "   (datetime.datetime(2019, 4, 18, 3, 17, 54, 226296), 'False'),\n",
       "   (datetime.datetime(2019, 4, 18, 3, 20, 24, 620839), 'False'),\n",
       "   (datetime.datetime(2019, 4, 18, 3, 20, 40, 633305), 'False'),\n",
       "   (datetime.datetime(2019, 4, 18, 3, 24, 49, 822998), 'False'),\n",
       "   (datetime.datetime(2019, 4, 18, 3, 25, 6, 738023), 'False'),\n",
       "   (datetime.datetime(2019, 4, 18, 3, 25, 55, 106752), 'False'),\n",
       "   (datetime.datetime(2019, 4, 18, 3, 25, 58, 430394), 'False'),\n",
       "   (datetime.datetime(2019, 4, 18, 3, 26, 11, 212505), 'False'),\n",
       "   (datetime.datetime(2019, 4, 18, 3, 26, 29, 429729), 'False'),\n",
       "   (datetime.datetime(2019, 4, 18, 3, 35, 35, 769666), 'False'),\n",
       "   (datetime.datetime(2019, 4, 18, 3, 40, 32, 835538), 'False'),\n",
       "   (datetime.datetime(2019, 4, 18, 3, 42, 43, 720296), 'False'),\n",
       "   (datetime.datetime(2019, 4, 18, 3, 43, 31, 466806), 'False'),\n",
       "   (datetime.datetime(2019, 4, 18, 3, 44, 39, 71775), 'False'),\n",
       "   (datetime.datetime(2019, 4, 18, 3, 49, 11, 268384), 'False'),\n",
       "   (datetime.datetime(2019, 4, 18, 3, 50, 12, 63572), 'False'),\n",
       "   (datetime.datetime(2019, 4, 18, 3, 50, 47, 347115), 'False'),\n",
       "   (datetime.datetime(2019, 4, 18, 3, 50, 58, 329374), 'False'),\n",
       "   (datetime.datetime(2019, 4, 18, 5, 24, 52, 364209), 'False'),\n",
       "   (datetime.datetime(2019, 4, 18, 5, 26, 5, 675746), 'False'),\n",
       "   (datetime.datetime(2019, 4, 18, 5, 26, 21, 550261), 'False'),\n",
       "   (datetime.datetime(2019, 4, 18, 5, 27, 26, 529643), 'False'),\n",
       "   (datetime.datetime(2019, 4, 18, 5, 29, 4, 92264), 'False'),\n",
       "   (datetime.datetime(2019, 4, 18, 13, 49, 58, 920709), 'False'),\n",
       "   (datetime.datetime(2019, 4, 18, 14, 41, 35, 817735), 'False'),\n",
       "   (datetime.datetime(2019, 4, 18, 14, 42, 10, 795682), 'False'),\n",
       "   (datetime.datetime(2019, 4, 19, 2, 31, 30, 126040), 'False'),\n",
       "   (datetime.datetime(2019, 4, 19, 2, 31, 37, 255163), 'False'),\n",
       "   (datetime.datetime(2019, 4, 19, 2, 32, 36, 953386), 'False'),\n",
       "   (datetime.datetime(2019, 4, 19, 2, 33, 48, 866865), 'False'),\n",
       "   (datetime.datetime(2019, 4, 19, 2, 37, 27, 151816), 'False'),\n",
       "   (datetime.datetime(2019, 4, 19, 2, 38, 17, 463635), 'False'),\n",
       "   (datetime.datetime(2019, 4, 19, 2, 39, 42, 913492), 'False'),\n",
       "   (datetime.datetime(2019, 4, 19, 2, 39, 57, 41789), 'False'),\n",
       "   (datetime.datetime(2019, 4, 19, 3, 5, 24, 211333), 'False'),\n",
       "   (datetime.datetime(2019, 4, 19, 3, 5, 57, 295316), 'False'),\n",
       "   (datetime.datetime(2019, 4, 19, 3, 6, 10, 631649), 'False'),\n",
       "   (datetime.datetime(2019, 4, 19, 3, 9, 18, 747004), 'False'),\n",
       "   (datetime.datetime(2019, 4, 19, 3, 51, 58, 770917), 'False'),\n",
       "   (datetime.datetime(2019, 4, 19, 3, 52, 50, 304519), 'False'),\n",
       "   (datetime.datetime(2019, 4, 19, 5, 57, 42, 691636), 'False'),\n",
       "   (datetime.datetime(2019, 4, 19, 5, 57, 58, 333221), 'False'),\n",
       "   (datetime.datetime(2019, 4, 19, 6, 7, 24, 148986), 'False'),\n",
       "   (datetime.datetime(2019, 4, 19, 6, 9, 59, 723473), 'False'),\n",
       "   (datetime.datetime(2019, 4, 19, 6, 10, 2, 237956), 'False'),\n",
       "   (datetime.datetime(2019, 4, 19, 6, 12, 13, 831903), 'False'),\n",
       "   (datetime.datetime(2019, 4, 19, 6, 13, 47, 347792), 'False'),\n",
       "   (datetime.datetime(2019, 4, 19, 6, 14, 3, 597377), 'False'),\n",
       "   (datetime.datetime(2019, 4, 19, 6, 14, 50, 967101), 'False'),\n",
       "   (datetime.datetime(2019, 4, 19, 6, 15, 6, 926102), 'False'),\n",
       "   (datetime.datetime(2019, 4, 19, 6, 15, 9, 321514), 'False'),\n",
       "   (datetime.datetime(2019, 4, 19, 6, 15, 22, 943262), 'False'),\n",
       "   (datetime.datetime(2019, 4, 19, 6, 15, 25, 783233), 'False'),\n",
       "   (datetime.datetime(2019, 4, 19, 6, 16, 2, 333613), 'False'),\n",
       "   (datetime.datetime(2019, 4, 19, 12, 55, 31, 722696), 'False'),\n",
       "   (datetime.datetime(2019, 4, 19, 12, 56, 8, 172612), 'False'),\n",
       "   (datetime.datetime(2019, 4, 19, 12, 56, 32, 277652), 'False'),\n",
       "   (datetime.datetime(2019, 4, 19, 12, 56, 34, 602672), 'False'),\n",
       "   (datetime.datetime(2019, 4, 19, 12, 57, 40, 782156), 'False'),\n",
       "   (datetime.datetime(2019, 4, 19, 12, 57, 53, 977474), 'False'),\n",
       "   (datetime.datetime(2019, 4, 19, 12, 59, 17, 275477), 'False'),\n",
       "   (datetime.datetime(2019, 4, 19, 12, 59, 36, 68591), 'False'),\n",
       "   (datetime.datetime(2019, 4, 19, 13, 59, 49, 733000), 'True'),\n",
       "   (datetime.datetime(2019, 4, 19, 14, 13, 43, 707263), 'False'),\n",
       "   (datetime.datetime(2019, 4, 19, 14, 14, 18, 529517), 'False'),\n",
       "   (datetime.datetime(2019, 4, 19, 14, 14, 34, 537094), 'False'),\n",
       "   (datetime.datetime(2019, 4, 19, 15, 5, 31, 427916), 'False'),\n",
       "   (datetime.datetime(2019, 4, 19, 15, 5, 45, 671577), 'False'),\n",
       "   (datetime.datetime(2019, 4, 19, 15, 6, 46, 923471), 'False'),\n",
       "   (datetime.datetime(2019, 4, 19, 15, 44, 33, 555257), 'False'),\n",
       "   (datetime.datetime(2019, 4, 19, 15, 45, 6, 58430), 'False'),\n",
       "   (datetime.datetime(2019, 4, 19, 15, 45, 22, 211136), 'False'),\n",
       "   (datetime.datetime(2019, 4, 19, 15, 46, 59, 256353), 'False'),\n",
       "   (datetime.datetime(2019, 4, 19, 16, 33, 20, 239669), 'False'),\n",
       "   (datetime.datetime(2019, 4, 19, 19, 57, 49, 288017), 'False'),\n",
       "   (datetime.datetime(2019, 4, 19, 19, 57, 51, 393769), 'False'),\n",
       "   (datetime.datetime(2019, 4, 19, 19, 58, 5, 330406), 'False'),\n",
       "   (datetime.datetime(2019, 4, 19, 19, 58, 7, 504092), 'False'),\n",
       "   (datetime.datetime(2019, 4, 19, 19, 58, 23, 687941), 'False'),\n",
       "   (datetime.datetime(2019, 4, 19, 19, 58, 42, 835890), 'False'),\n",
       "   (datetime.datetime(2019, 4, 19, 20, 20, 3, 482066), 'False'),\n",
       "   (datetime.datetime(2019, 4, 19, 20, 47, 51, 805703), 'False'),\n",
       "   (datetime.datetime(2019, 4, 19, 20, 48, 25, 765617), 'False'),\n",
       "   (datetime.datetime(2019, 4, 19, 21, 6, 59, 797456), 'False'),\n",
       "   (datetime.datetime(2019, 4, 19, 21, 7, 28, 360133), 'False'),\n",
       "   (datetime.datetime(2019, 4, 19, 21, 7, 34, 13033), 'False'),\n",
       "   (datetime.datetime(2019, 4, 19, 22, 59, 33, 198787), 'False'),\n",
       "   (datetime.datetime(2019, 4, 19, 23, 0, 23, 939132), 'False'),\n",
       "   (datetime.datetime(2019, 4, 19, 23, 0, 38, 6254), 'False'),\n",
       "   (datetime.datetime(2019, 4, 19, 23, 1, 13, 501763), 'False'),\n",
       "   (datetime.datetime(2019, 4, 20, 0, 16, 39, 986636), 'False'),\n",
       "   (datetime.datetime(2019, 4, 20, 0, 22, 18, 463531), 'False'),\n",
       "   (datetime.datetime(2019, 4, 20, 0, 22, 34, 566013), 'False'),\n",
       "   (datetime.datetime(2019, 4, 20, 1, 46, 22, 167030), 'False'),\n",
       "   (datetime.datetime(2019, 4, 20, 2, 12, 2, 258592), 'False'),\n",
       "   (datetime.datetime(2019, 4, 20, 3, 1, 15, 653117), 'False'),\n",
       "   (datetime.datetime(2019, 4, 20, 3, 3, 56, 587921), 'False'),\n",
       "   (datetime.datetime(2019, 4, 20, 3, 10, 22, 982506), 'False'),\n",
       "   (datetime.datetime(2019, 4, 20, 3, 11, 31, 585547), 'False'),\n",
       "   (datetime.datetime(2019, 4, 20, 3, 12, 14, 221810), 'False'),\n",
       "   (datetime.datetime(2019, 4, 20, 3, 39, 54, 432310), 'False'),\n",
       "   (datetime.datetime(2019, 4, 20, 3, 40, 57, 968193), 'False'),\n",
       "   (datetime.datetime(2019, 4, 20, 3, 41, 18, 562935), 'False'),\n",
       "   (datetime.datetime(2019, 4, 20, 3, 55, 7, 969865), 'False'),\n",
       "   (datetime.datetime(2019, 4, 20, 3, 55, 24, 16902), 'False'),\n",
       "   (datetime.datetime(2019, 4, 20, 15, 23, 44, 194189), 'False'),\n",
       "   (datetime.datetime(2019, 4, 20, 15, 23, 50, 538203), 'False'),\n",
       "   (datetime.datetime(2019, 4, 20, 15, 24, 33, 277338), 'False'),\n",
       "   (datetime.datetime(2019, 4, 20, 17, 8, 34, 443079), 'False'),\n",
       "   (datetime.datetime(2019, 4, 20, 17, 9, 39, 973178), 'False'),\n",
       "   (datetime.datetime(2019, 4, 20, 17, 10, 28, 331497), 'False'),\n",
       "   (datetime.datetime(2019, 4, 20, 17, 12, 56, 646940), 'False'),\n",
       "   (datetime.datetime(2019, 4, 20, 17, 13, 0, 158003), 'False'),\n",
       "   (datetime.datetime(2019, 4, 20, 17, 16, 21, 285122), 'False'),\n",
       "   (datetime.datetime(2019, 4, 20, 19, 35, 47, 747775), 'False'),\n",
       "   (datetime.datetime(2019, 4, 20, 22, 36, 23, 565477), 'False')]),\n",
       " ('6110944190279864954',\n",
       "  [(datetime.datetime(2019, 4, 19, 15, 51, 58, 300000), 'True')]),\n",
       " ('3015728650082320700',\n",
       "  [(datetime.datetime(2019, 4, 18, 3, 30, 57, 862000), 'True'),\n",
       "   (datetime.datetime(2019, 4, 18, 4, 0, 48, 617038), 'False'),\n",
       "   (datetime.datetime(2019, 4, 18, 4, 0, 48, 866329), 'False'),\n",
       "   (datetime.datetime(2019, 4, 18, 4, 0, 49, 151124), 'False'),\n",
       "   (datetime.datetime(2019, 4, 18, 4, 0, 57, 89153), 'False'),\n",
       "   (datetime.datetime(2019, 4, 19, 4, 7, 23, 172991), 'False'),\n",
       "   (datetime.datetime(2019, 4, 19, 4, 10, 2, 683334), 'False'),\n",
       "   (datetime.datetime(2019, 4, 19, 4, 10, 4, 89298), 'False'),\n",
       "   (datetime.datetime(2019, 4, 19, 4, 10, 24, 124255), 'False'),\n",
       "   (datetime.datetime(2019, 4, 19, 4, 10, 24, 801847), 'False'),\n",
       "   (datetime.datetime(2019, 4, 19, 6, 13, 1, 597819), 'False'),\n",
       "   (datetime.datetime(2019, 4, 19, 6, 13, 2, 301708), 'False'),\n",
       "   (datetime.datetime(2019, 4, 19, 6, 13, 7, 74650), 'False'),\n",
       "   (datetime.datetime(2019, 4, 19, 6, 13, 10, 743319), 'False'),\n",
       "   (datetime.datetime(2019, 4, 19, 6, 13, 31, 407479), 'False'),\n",
       "   (datetime.datetime(2019, 4, 19, 6, 13, 57, 817486), 'False'),\n",
       "   (datetime.datetime(2019, 4, 19, 6, 13, 58, 120548), 'False')]),\n",
       " ('7823000831145779270',\n",
       "  [(datetime.datetime(2019, 4, 18, 6, 48, 10, 381587), 'False'),\n",
       "   (datetime.datetime(2019, 4, 18, 6, 51, 33, 357151), 'False'),\n",
       "   (datetime.datetime(2019, 4, 18, 6, 54, 22, 374000), 'True')]),\n",
       " ('7019790060100223466',\n",
       "  [(datetime.datetime(2019, 4, 18, 22, 6, 24, 601000), 'True')]),\n",
       " ('6766097865401048427',\n",
       "  [(datetime.datetime(2019, 4, 18, 21, 3, 23, 245000), 'True'),\n",
       "   (datetime.datetime(2019, 4, 19, 20, 43, 10, 987118), 'False'),\n",
       "   (datetime.datetime(2019, 4, 19, 20, 49, 37, 927217), 'False')]),\n",
       " ('4679592618431953083',\n",
       "  [(datetime.datetime(2019, 4, 18, 0, 35, 7, 111117), 'False'),\n",
       "   (datetime.datetime(2019, 4, 18, 0, 35, 7, 472224), 'False'),\n",
       "   (datetime.datetime(2019, 4, 18, 0, 35, 8, 572455), 'False'),\n",
       "   (datetime.datetime(2019, 4, 18, 0, 35, 9, 306109), 'False'),\n",
       "   (datetime.datetime(2019, 4, 18, 12, 31, 33, 441186), 'False'),\n",
       "   (datetime.datetime(2019, 4, 18, 15, 29, 3, 429000), 'True'),\n",
       "   (datetime.datetime(2019, 4, 18, 15, 39, 15, 982000), 'True'),\n",
       "   (datetime.datetime(2019, 4, 18, 20, 38, 48, 318022), 'False'),\n",
       "   (datetime.datetime(2019, 4, 18, 20, 40, 49, 798753), 'False'),\n",
       "   (datetime.datetime(2019, 4, 20, 11, 46, 59, 991373), 'False'),\n",
       "   (datetime.datetime(2019, 4, 20, 11, 51, 23, 8918), 'False')]),\n",
       " ('7814418052500529710',\n",
       "  [(datetime.datetime(2019, 4, 18, 1, 26, 0, 339000), 'True'),\n",
       "   (datetime.datetime(2019, 4, 20, 17, 42, 29, 342754), 'False'),\n",
       "   (datetime.datetime(2019, 4, 20, 17, 42, 29, 358212), 'False'),\n",
       "   (datetime.datetime(2019, 4, 20, 17, 42, 36, 101642), 'False'),\n",
       "   (datetime.datetime(2019, 4, 20, 17, 44, 28, 664797), 'False'),\n",
       "   (datetime.datetime(2019, 4, 20, 17, 45, 5, 297055), 'False'),\n",
       "   (datetime.datetime(2019, 4, 20, 17, 45, 6, 71014), 'False'),\n",
       "   (datetime.datetime(2019, 4, 20, 17, 45, 11, 889936), 'False'),\n",
       "   (datetime.datetime(2019, 4, 20, 17, 45, 29, 790497), 'False'),\n",
       "   (datetime.datetime(2019, 4, 20, 17, 45, 31, 202081), 'False'),\n",
       "   (datetime.datetime(2019, 4, 20, 17, 45, 33, 62902), 'False'),\n",
       "   (datetime.datetime(2019, 4, 20, 17, 46, 7, 266182), 'False'),\n",
       "   (datetime.datetime(2019, 4, 20, 17, 46, 48, 9268), 'False'),\n",
       "   (datetime.datetime(2019, 4, 20, 17, 46, 52, 829948), 'False'),\n",
       "   (datetime.datetime(2019, 4, 20, 17, 46, 54, 428884), 'False'),\n",
       "   (datetime.datetime(2019, 4, 20, 17, 47, 2, 252272), 'False'),\n",
       "   (datetime.datetime(2019, 4, 20, 17, 47, 10, 97616), 'False'),\n",
       "   (datetime.datetime(2019, 4, 20, 17, 48, 33, 264639), 'False'),\n",
       "   (datetime.datetime(2019, 4, 20, 17, 55, 53, 830851), 'False'),\n",
       "   (datetime.datetime(2019, 4, 20, 17, 56, 14, 960109), 'False'),\n",
       "   (datetime.datetime(2019, 4, 20, 17, 56, 16, 828655), 'False'),\n",
       "   (datetime.datetime(2019, 4, 20, 21, 17, 16, 539841), 'False'),\n",
       "   (datetime.datetime(2019, 4, 20, 21, 17, 22, 666526), 'False'),\n",
       "   (datetime.datetime(2019, 4, 20, 21, 17, 26, 18634), 'False'),\n",
       "   (datetime.datetime(2019, 4, 20, 21, 17, 29, 428651), 'False'),\n",
       "   (datetime.datetime(2019, 4, 20, 21, 17, 40, 501743), 'False'),\n",
       "   (datetime.datetime(2019, 4, 20, 21, 17, 42, 865934), 'False'),\n",
       "   (datetime.datetime(2019, 4, 20, 21, 17, 44, 68209), 'False'),\n",
       "   (datetime.datetime(2019, 4, 20, 21, 17, 52, 185301), 'False'),\n",
       "   (datetime.datetime(2019, 4, 20, 21, 18, 29, 409692), 'False'),\n",
       "   (datetime.datetime(2019, 4, 20, 21, 21, 36, 818307), 'False'),\n",
       "   (datetime.datetime(2019, 4, 20, 21, 22, 51, 459745), 'False'),\n",
       "   (datetime.datetime(2019, 4, 20, 21, 26, 23, 241323), 'False'),\n",
       "   (datetime.datetime(2019, 4, 20, 21, 26, 39, 63866), 'False'),\n",
       "   (datetime.datetime(2019, 4, 20, 21, 26, 58, 198569), 'False'),\n",
       "   (datetime.datetime(2019, 4, 20, 21, 37, 47, 328257), 'False'),\n",
       "   (datetime.datetime(2019, 4, 20, 21, 37, 52, 177493), 'False'),\n",
       "   (datetime.datetime(2019, 4, 20, 21, 37, 54, 362399), 'False'),\n",
       "   (datetime.datetime(2019, 4, 20, 21, 37, 56, 263684), 'False'),\n",
       "   (datetime.datetime(2019, 4, 20, 21, 37, 57, 21104), 'False'),\n",
       "   (datetime.datetime(2019, 4, 20, 21, 37, 59, 896140), 'False'),\n",
       "   (datetime.datetime(2019, 4, 20, 21, 38, 2, 99796), 'False'),\n",
       "   (datetime.datetime(2019, 4, 20, 22, 12, 29, 572881), 'False'),\n",
       "   (datetime.datetime(2019, 4, 20, 22, 12, 37, 811667), 'False'),\n",
       "   (datetime.datetime(2019, 4, 20, 22, 13, 57, 752251), 'False'),\n",
       "   (datetime.datetime(2019, 4, 20, 23, 34, 40, 671700), 'False'),\n",
       "   (datetime.datetime(2019, 4, 20, 23, 34, 48, 333082), 'False'),\n",
       "   (datetime.datetime(2019, 4, 20, 23, 36, 32, 949251), 'False'),\n",
       "   (datetime.datetime(2019, 4, 20, 23, 37, 46, 235873), 'False')]),\n",
       " ('549876687010207490',\n",
       "  [(datetime.datetime(2019, 4, 18, 17, 46, 41, 699000), 'True')]),\n",
       " ('415181229811031007',\n",
       "  [(datetime.datetime(2019, 4, 18, 19, 3, 58, 778000), 'True')]),\n",
       " ('5380431968594650452',\n",
       "  [(datetime.datetime(2019, 4, 18, 14, 10, 22, 608000), 'True')]),\n",
       " ('301990394611075341',\n",
       "  [(datetime.datetime(2019, 4, 18, 14, 8, 54, 969000), 'True'),\n",
       "   (datetime.datetime(2019, 4, 19, 0, 0, 34, 768712), 'False'),\n",
       "   (datetime.datetime(2019, 4, 19, 17, 49, 57, 921856), 'False')]),\n",
       " ('7745540355908118195',\n",
       "  [(datetime.datetime(2019, 4, 18, 16, 54, 49, 325000), 'True')]),\n",
       " ('9221520040591038699',\n",
       "  [(datetime.datetime(2019, 4, 18, 4, 25, 59, 428429), 'False'),\n",
       "   (datetime.datetime(2019, 4, 18, 4, 26, 27, 940154), 'False'),\n",
       "   (datetime.datetime(2019, 4, 18, 16, 31, 56, 663000), 'True'),\n",
       "   (datetime.datetime(2019, 4, 20, 15, 5, 51, 178388), 'False'),\n",
       "   (datetime.datetime(2019, 4, 20, 15, 10, 0, 412169), 'False'),\n",
       "   (datetime.datetime(2019, 4, 20, 15, 10, 0, 424081), 'False'),\n",
       "   (datetime.datetime(2019, 4, 20, 15, 10, 0, 426102), 'False'),\n",
       "   (datetime.datetime(2019, 4, 20, 15, 11, 15, 97278), 'False'),\n",
       "   (datetime.datetime(2019, 4, 20, 15, 11, 15, 134917), 'False')]),\n",
       " ('8492048907057106529',\n",
       "  [(datetime.datetime(2019, 4, 18, 1, 32, 49, 588335), 'False'),\n",
       "   (datetime.datetime(2019, 4, 18, 1, 32, 51, 45930), 'False'),\n",
       "   (datetime.datetime(2019, 4, 18, 1, 32, 51, 927260), 'False'),\n",
       "   (datetime.datetime(2019, 4, 18, 16, 13, 26, 475000), 'True'),\n",
       "   (datetime.datetime(2019, 4, 20, 5, 18, 34, 397310), 'False'),\n",
       "   (datetime.datetime(2019, 4, 20, 5, 19, 49, 70786), 'False')]),\n",
       " ('971120250428818977',\n",
       "  [(datetime.datetime(2019, 4, 18, 16, 28, 36, 912000), 'True')]),\n",
       " ('685587798268101242',\n",
       "  [(datetime.datetime(2019, 4, 20, 10, 48, 25, 104000), 'True')])]"
      ]
     },
     "execution_count": 106,
     "metadata": {},
     "output_type": "execute_result"
    }
   ],
   "source": [
    "rdd_train.take(20)"
   ]
  },
  {
   "cell_type": "code",
   "execution_count": 141,
   "metadata": {},
   "outputs": [],
   "source": [
    "def get_installation_timeDeltas(dateList):\n",
    "    \"\"\"\n",
    "    esta funcion recibe una lista de fechas ordenada de las apariciones de un ID\n",
    "    la idea es devolver una lista de tuplas, en la que cada tupla sea asi:\n",
    "    valor 1 = fecha en que aparecio en un auction\n",
    "    valor 2 = distancia temporal hasta la siguiente fecha donde convirtió (0 segundos: si convirtió en esa fecha,\n",
    "                                                                            3 días (en segundos): si no convirtió \n",
    "                                                                            en una fecha posterior)\n",
    "    Esta tupla solo se inserta en la lista si en la fecha donde se esta parado no hubo una instalación\n",
    "    \"\"\"\n",
    "    distancias = []\n",
    "    longitud_actual = len(dateList)\n",
    "    \"\"\"\n",
    "    En lastConversionIndexFound guardo el indice de la última conversión encontrada, \n",
    "    no quiero iterar n veces si aplica para otras fechas\n",
    "    \"\"\"\n",
    "    lastConversionIndexFound = None\n",
    "    for x in range(longitud_actual):\n",
    "        if(dateList[x][1] == True):\n",
    "            continue\n",
    "        if(lastConversionIndexFound is not None and dateList[x][1] == False and x <= lastConversionIndexFound):\n",
    "            distancias.append([dateList[x][0],\n",
    "                                    (dateList[lastConversionIndexFound][0] - dateList[x][0]).total_seconds()])\n",
    "            continue\n",
    "        for y in range(x, longitud_actual):\n",
    "            if(y == longitud_actual - 1 and dateList[y][1] != True):\n",
    "                distancias.append([dateList[x][0],\n",
    "                                            timedelta(days=3).total_seconds()\n",
    "                                        ])\n",
    "                break\n",
    "            elif(dateList[y][1] == True):\n",
    "                distancias.append([dateList[x][0],\n",
    "                                    (dateList[y][0] - dateList[x][0]).total_seconds()\n",
    "                                    ])\n",
    "                lastConversionIndexFound = y\n",
    "                break\n",
    "        \n",
    "    return distancias"
   ]
  },
  {
   "cell_type": "code",
   "execution_count": 142,
   "metadata": {},
   "outputs": [],
   "source": [
    "rdd_train = rdd_train.flatMapValues(get_installation_timeDeltas)\n",
    "rdd_test = rdd_test.flatMapValues(get_installation_timeDeltas)\n"
   ]
  },
  {
   "cell_type": "code",
   "execution_count": 149,
   "metadata": {
    "scrolled": false
   },
   "outputs": [
    {
     "data": {
      "text/plain": [
       "[('8323952185725734415',\n",
       "  datetime.datetime(2019, 4, 20, 5, 35, 45, 651502),\n",
       "  259200.0),\n",
       " ('8323952185725734415',\n",
       "  datetime.datetime(2019, 4, 20, 5, 40, 46, 744391),\n",
       "  259200.0),\n",
       " ('8323952185725734415',\n",
       "  datetime.datetime(2019, 4, 20, 5, 48, 22, 167361),\n",
       "  259200.0),\n",
       " ('8323952185725734415',\n",
       "  datetime.datetime(2019, 4, 20, 5, 51, 43, 749231),\n",
       "  259200.0),\n",
       " ('8323952185725734415',\n",
       "  datetime.datetime(2019, 4, 20, 5, 51, 52, 533312),\n",
       "  259200.0),\n",
       " ('7301194916031390155',\n",
       "  datetime.datetime(2019, 4, 18, 19, 31, 14, 235010),\n",
       "  76854.91699),\n",
       " ('7301194916031390155',\n",
       "  datetime.datetime(2019, 4, 18, 22, 50, 14, 743995),\n",
       "  64914.408005),\n",
       " ('7301194916031390155',\n",
       "  datetime.datetime(2019, 4, 18, 22, 50, 15, 533878),\n",
       "  64913.618122),\n",
       " ('6925185306188918968',\n",
       "  datetime.datetime(2019, 4, 18, 3, 7, 57, 97324),\n",
       "  125512.635676),\n",
       " ('6925185306188918968',\n",
       "  datetime.datetime(2019, 4, 18, 3, 8, 13, 654140),\n",
       "  125496.07886)]"
      ]
     },
     "execution_count": 149,
     "metadata": {},
     "output_type": "execute_result"
    }
   ],
   "source": [
    "rdd_train.take(10)"
   ]
  },
  {
   "cell_type": "code",
   "execution_count": null,
   "metadata": {},
   "outputs": [],
   "source": []
  },
  {
   "cell_type": "code",
   "execution_count": 143,
   "metadata": {},
   "outputs": [],
   "source": [
    "#los mapeo para pasar a csv \n",
    "rdd_train = rdd_train.map(lambda x: (x[0], x[1][0], x[1][1]))\n",
    "rdd_test = rdd_test.map(lambda x: (x[0], x[1][0], x[1][1]))"
   ]
  },
  {
   "cell_type": "code",
   "execution_count": 144,
   "metadata": {},
   "outputs": [],
   "source": [
    "def toCSVLine(data):\n",
    "  return ','.join(str(d) for d in data)\n"
   ]
  },
  {
   "cell_type": "code",
   "execution_count": null,
   "metadata": {},
   "outputs": [],
   "source": []
  },
  {
   "cell_type": "code",
   "execution_count": 145,
   "metadata": {},
   "outputs": [],
   "source": [
    "#paso a csv. el repartition es para que se cree 1 solo archivo. sino me crea 1 archivo por particion\n",
    "lines_train = rdd_train.map(toCSVLine)\n",
    "lines_train.repartition(1).saveAsTextFile('convertion_deltas_train.csv')"
   ]
  },
  {
   "cell_type": "code",
   "execution_count": 148,
   "metadata": {},
   "outputs": [],
   "source": [
    "lines_test = rdd_test.map(toCSVLine)\n",
    "lines_test.repartition(1).saveAsTextFile('convertion_deltas_test.csv')"
   ]
  },
  {
   "cell_type": "code",
   "execution_count": null,
   "metadata": {},
   "outputs": [],
   "source": []
  },
  {
   "cell_type": "code",
   "execution_count": null,
   "metadata": {},
   "outputs": [],
   "source": []
  },
  {
   "cell_type": "code",
   "execution_count": null,
   "metadata": {},
   "outputs": [],
   "source": []
  },
  {
   "cell_type": "code",
   "execution_count": null,
   "metadata": {},
   "outputs": [],
   "source": []
  },
  {
   "cell_type": "code",
   "execution_count": null,
   "metadata": {},
   "outputs": [],
   "source": []
  },
  {
   "cell_type": "code",
   "execution_count": null,
   "metadata": {},
   "outputs": [],
   "source": []
  },
  {
   "cell_type": "code",
   "execution_count": null,
   "metadata": {},
   "outputs": [],
   "source": []
  },
  {
   "cell_type": "code",
   "execution_count": null,
   "metadata": {},
   "outputs": [],
   "source": []
  },
  {
   "cell_type": "code",
   "execution_count": null,
   "metadata": {},
   "outputs": [],
   "source": []
  },
  {
   "cell_type": "code",
   "execution_count": null,
   "metadata": {},
   "outputs": [],
   "source": []
  },
  {
   "cell_type": "code",
   "execution_count": null,
   "metadata": {},
   "outputs": [],
   "source": []
  },
  {
   "cell_type": "code",
   "execution_count": 110,
   "metadata": {},
   "outputs": [],
   "source": [
    "df_prueba = spark.read.csv('auctions.csv', header=True).limit(10000)\n"
   ]
  },
  {
   "cell_type": "code",
   "execution_count": 111,
   "metadata": {},
   "outputs": [],
   "source": [
    "rdd_prueba = df_prueba.rdd\n"
   ]
  },
  {
   "cell_type": "code",
   "execution_count": 54,
   "metadata": {},
   "outputs": [
    {
     "data": {
      "text/plain": [
       "[Row(date='2019-04-23 18:58:00.842116', device_id='2564673204772915246', ref_type_id='1', source_id='0'),\n",
       " Row(date='2019-04-23 18:58:01.530771', device_id='4441121667607578179', ref_type_id='7', source_id='0'),\n",
       " Row(date='2019-04-23 18:58:01.767562', device_id='7721769811471055264', ref_type_id='1', source_id='0'),\n",
       " Row(date='2019-04-23 18:58:02.363468', device_id='6416039086842158968', ref_type_id='1', source_id='0'),\n",
       " Row(date='2019-04-23 18:58:02.397559', device_id='1258642015983312729', ref_type_id='1', source_id='0')]"
      ]
     },
     "execution_count": 54,
     "metadata": {},
     "output_type": "execute_result"
    }
   ],
   "source": [
    "rdd_prueba.take(5)"
   ]
  },
  {
   "cell_type": "code",
   "execution_count": 112,
   "metadata": {},
   "outputs": [],
   "source": [
    "rdd_prueba = rdd_prueba.map(lambda x: (x[1], (datetime.strptime(x[0], \"%Y-%m-%d %H:%M:%S.%f\"), didConvert())))"
   ]
  },
  {
   "cell_type": "code",
   "execution_count": 113,
   "metadata": {},
   "outputs": [
    {
     "data": {
      "text/plain": [
       "[('2564673204772915246',\n",
       "  (datetime.datetime(2019, 4, 23, 18, 58, 0, 842116), False)),\n",
       " ('4441121667607578179',\n",
       "  (datetime.datetime(2019, 4, 23, 18, 58, 1, 530771), False)),\n",
       " ('7721769811471055264',\n",
       "  (datetime.datetime(2019, 4, 23, 18, 58, 1, 767562), False)),\n",
       " ('6416039086842158968',\n",
       "  (datetime.datetime(2019, 4, 23, 18, 58, 2, 363468), True)),\n",
       " ('1258642015983312729',\n",
       "  (datetime.datetime(2019, 4, 23, 18, 58, 2, 397559), True))]"
      ]
     },
     "execution_count": 113,
     "metadata": {},
     "output_type": "execute_result"
    }
   ],
   "source": [
    "rdd_prueba.take(5)"
   ]
  },
  {
   "cell_type": "code",
   "execution_count": 114,
   "metadata": {},
   "outputs": [],
   "source": [
    "rdd_prueba = rdd_prueba.groupByKey().mapValues(list).mapValues(sorted)"
   ]
  },
  {
   "cell_type": "code",
   "execution_count": 115,
   "metadata": {},
   "outputs": [],
   "source": [
    "rdd_prueba = rdd_prueba.flatMapValues(get_installation_timeDeltas)"
   ]
  },
  {
   "cell_type": "code",
   "execution_count": 116,
   "metadata": {},
   "outputs": [
    {
     "data": {
      "text/plain": [
       "[('2564673204772915246',\n",
       "  [datetime.datetime(2019, 4, 23, 18, 48, 20, 500673), 259200.0]),\n",
       " ('2564673204772915246',\n",
       "  [datetime.datetime(2019, 4, 23, 18, 58, 0, 842116), 259200.0]),\n",
       " ('4441121667607578179',\n",
       "  [datetime.datetime(2019, 4, 23, 18, 58, 1, 530771), 259200.0]),\n",
       " ('4441121667607578179',\n",
       "  [datetime.datetime(2019, 4, 23, 19, 8, 10, 57648), 259200.0]),\n",
       " ('4441121667607578179',\n",
       "  [datetime.datetime(2019, 4, 23, 19, 18, 9, 722451), 259200.0]),\n",
       " ('7721769811471055264',\n",
       "  [datetime.datetime(2019, 4, 23, 18, 58, 1, 767562), 259200.0]),\n",
       " ('7721769811471055264',\n",
       "  [datetime.datetime(2019, 4, 23, 19, 50, 40, 208816), 259200.0]),\n",
       " ('6707090658317158573',\n",
       "  [datetime.datetime(2019, 4, 23, 20, 58, 10, 905109), 259200.0]),\n",
       " ('8869722088125970841',\n",
       "  [datetime.datetime(2019, 4, 23, 19, 7, 49, 671153), 259200.0]),\n",
       " ('7445213948764639634',\n",
       "  [datetime.datetime(2019, 4, 23, 18, 58, 3, 48872), 259200.0]),\n",
       " ('2932617030932207332',\n",
       "  [datetime.datetime(2019, 4, 23, 18, 58, 3, 285788), 259200.0]),\n",
       " ('6405811806780450397',\n",
       "  [datetime.datetime(2019, 4, 23, 18, 58, 3, 532112), 259200.0]),\n",
       " ('1016964604674548371',\n",
       "  [datetime.datetime(2019, 4, 23, 18, 58, 3, 592586), 259200.0]),\n",
       " ('6128993631208059516',\n",
       "  [datetime.datetime(2019, 4, 23, 18, 58, 4, 956218), 1.006485]),\n",
       " ('6128993631208059516',\n",
       "  [datetime.datetime(2019, 4, 23, 21, 50, 47, 635899), 0.26518]),\n",
       " ('3611339082207397874',\n",
       "  [datetime.datetime(2019, 4, 23, 18, 58, 5, 513681), 259200.0]),\n",
       " ('2749372725404302683',\n",
       "  [datetime.datetime(2019, 4, 23, 18, 49, 15, 253896), 259200.0]),\n",
       " ('2749372725404302683',\n",
       "  [datetime.datetime(2019, 4, 23, 18, 58, 6, 902183), 259200.0]),\n",
       " ('2511255463637788199',\n",
       "  [datetime.datetime(2019, 4, 23, 18, 58, 15, 17336), 726.640462]),\n",
       " ('4449848882683774963',\n",
       "  [datetime.datetime(2019, 4, 23, 18, 58, 9, 932333), 259200.0]),\n",
       " ('7918003943044320156',\n",
       "  [datetime.datetime(2019, 4, 23, 18, 58, 10, 914748), 259200.0]),\n",
       " ('4260139173429359652',\n",
       "  [datetime.datetime(2019, 4, 23, 21, 48, 45, 132558), 259200.0]),\n",
       " ('4260139173429359652',\n",
       "  [datetime.datetime(2019, 4, 23, 21, 48, 53, 877187), 259200.0]),\n",
       " ('6979971691991862458',\n",
       "  [datetime.datetime(2019, 4, 23, 18, 58, 12, 129322), 6.539071]),\n",
       " ('599652221973595515',\n",
       "  [datetime.datetime(2019, 4, 23, 18, 58, 12, 363812), 3.1983]),\n",
       " ('8163472114152043023',\n",
       "  [datetime.datetime(2019, 4, 23, 18, 58, 13, 181160), 259200.0]),\n",
       " ('670595227383970341',\n",
       "  [datetime.datetime(2019, 4, 23, 18, 24, 8, 558253), 2044.666896]),\n",
       " ('2179233056266516762',\n",
       "  [datetime.datetime(2019, 4, 23, 18, 58, 13, 265363), 259200.0]),\n",
       " ('2179233056266516762',\n",
       "  [datetime.datetime(2019, 4, 23, 19, 18, 26, 944312), 259200.0]),\n",
       " ('7122348392743770281',\n",
       "  [datetime.datetime(2019, 4, 23, 19, 50, 8, 527344), 259200.0]),\n",
       " ('3429312538327323541',\n",
       "  [datetime.datetime(2019, 4, 23, 18, 58, 16, 45103), 7365.623709]),\n",
       " ('6764331047130237504',\n",
       "  [datetime.datetime(2019, 4, 23, 18, 45, 22, 115787), 58.839473]),\n",
       " ('6764331047130237504',\n",
       "  [datetime.datetime(2019, 4, 23, 20, 57, 29, 750105), 259200.0]),\n",
       " ('6764331047130237504',\n",
       "  [datetime.datetime(2019, 4, 23, 20, 57, 34, 924944), 259200.0]),\n",
       " ('7629401915670669810',\n",
       "  [datetime.datetime(2019, 4, 23, 18, 58, 16, 493503), 259200.0]),\n",
       " ('5178179337242355738',\n",
       "  [datetime.datetime(2019, 4, 23, 18, 58, 16, 512939), 259200.0]),\n",
       " ('3699844778581354485',\n",
       "  [datetime.datetime(2019, 4, 23, 18, 58, 24, 649667), 259200.0]),\n",
       " ('3742763971006471066',\n",
       "  [datetime.datetime(2019, 4, 23, 18, 58, 17, 735678), 259200.0]),\n",
       " ('3131988490852463973',\n",
       "  [datetime.datetime(2019, 4, 23, 18, 58, 19, 670304), 259200.0]),\n",
       " ('7029951377496036514',\n",
       "  [datetime.datetime(2019, 4, 23, 18, 58, 21, 369583), 3136.444665]),\n",
       " ('2133310771251033378',\n",
       "  [datetime.datetime(2019, 4, 23, 18, 58, 21, 456966), 259200.0]),\n",
       " ('867784864367290250',\n",
       "  [datetime.datetime(2019, 4, 23, 18, 58, 21, 929233), 259200.0]),\n",
       " ('7570894330076210132',\n",
       "  [datetime.datetime(2019, 4, 23, 18, 58, 22, 495739), 259200.0]),\n",
       " ('6089479998905728520',\n",
       "  [datetime.datetime(2019, 4, 23, 18, 58, 23, 748547), 259200.0]),\n",
       " ('6488295110559785958',\n",
       "  [datetime.datetime(2019, 4, 23, 18, 58, 24, 534616), 259200.0]),\n",
       " ('3231466902033746403',\n",
       "  [datetime.datetime(2019, 4, 23, 18, 58, 25, 189328), 1.306148]),\n",
       " ('2989838269464003844',\n",
       "  [datetime.datetime(2019, 4, 23, 18, 45, 18, 627968), 786.655144]),\n",
       " ('2989838269464003844',\n",
       "  [datetime.datetime(2019, 4, 23, 18, 48, 23, 511313), 601.771799]),\n",
       " ('248918322959656589',\n",
       "  [datetime.datetime(2019, 4, 23, 18, 58, 26, 637754), 259200.0]),\n",
       " ('1062816372410420954',\n",
       "  [datetime.datetime(2019, 4, 23, 18, 58, 27, 355850), 259200.0])]"
      ]
     },
     "execution_count": 116,
     "metadata": {},
     "output_type": "execute_result"
    }
   ],
   "source": [
    "rdd_prueba.take(50)"
   ]
  },
  {
   "cell_type": "code",
   "execution_count": null,
   "metadata": {},
   "outputs": [],
   "source": []
  },
  {
   "cell_type": "code",
   "execution_count": null,
   "metadata": {},
   "outputs": [],
   "source": []
  },
  {
   "cell_type": "code",
   "execution_count": null,
   "metadata": {},
   "outputs": [],
   "source": []
  },
  {
   "cell_type": "code",
   "execution_count": null,
   "metadata": {},
   "outputs": [],
   "source": []
  },
  {
   "cell_type": "code",
   "execution_count": 34,
   "metadata": {},
   "outputs": [
    {
     "data": {
      "text/plain": [
       "259200.0"
      ]
     },
     "execution_count": 34,
     "metadata": {},
     "output_type": "execute_result"
    }
   ],
   "source": [
    "timedelta(days=3).total_seconds()"
   ]
  }
 ],
 "metadata": {
  "kernelspec": {
   "display_name": "Python 3",
   "language": "python",
   "name": "python3"
  },
  "language_info": {
   "codemirror_mode": {
    "name": "ipython",
    "version": 3
   },
   "file_extension": ".py",
   "mimetype": "text/x-python",
   "name": "python",
   "nbconvert_exporter": "python",
   "pygments_lexer": "ipython3",
   "version": "3.6.5"
  }
 },
 "nbformat": 4,
 "nbformat_minor": 2
}
