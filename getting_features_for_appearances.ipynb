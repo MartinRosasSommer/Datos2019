{
 "cells": [
  {
   "cell_type": "code",
   "execution_count": 2,
   "metadata": {},
   "outputs": [],
   "source": [
    "import pandas as pd"
   ]
  },
  {
   "cell_type": "code",
   "execution_count": 3,
   "metadata": {},
   "outputs": [],
   "source": [
    "import numpy as np"
   ]
  },
  {
   "cell_type": "code",
   "execution_count": 4,
   "metadata": {},
   "outputs": [],
   "source": [
    "from sklearn.metrics import mean_squared_error\n",
    "from sklearn.ensemble import RandomForestRegressor"
   ]
  },
  {
   "cell_type": "code",
   "execution_count": 5,
   "metadata": {},
   "outputs": [],
   "source": [
    "appearances_train = pd.read_csv(\"appearances_first_3_days.csv\", header=None, names=[\"device_id\", \"date\", \"seconds_until_next_appearence\"])"
   ]
  },
  {
   "cell_type": "code",
   "execution_count": 6,
   "metadata": {},
   "outputs": [],
   "source": [
    "appearances_test =  pd.read_csv(\"appearances_second_3_days.csv\", header=None, names=[\"device_id\", \"date\", \"seconds_until_next_appearence\"])"
   ]
  },
  {
   "cell_type": "code",
   "execution_count": 7,
   "metadata": {},
   "outputs": [],
   "source": [
    "appearances_train[\"date\"] = pd.to_datetime(appearances_train[\"date\"])"
   ]
  },
  {
   "cell_type": "code",
   "execution_count": 8,
   "metadata": {},
   "outputs": [],
   "source": [
    "appearances_test[\"date\"] = pd.to_datetime(appearances_test[\"date\"])"
   ]
  },
  {
   "cell_type": "code",
   "execution_count": 9,
   "metadata": {},
   "outputs": [],
   "source": [
    "#agrego feature si es fin de semana o no"
   ]
  },
  {
   "cell_type": "code",
   "execution_count": 10,
   "metadata": {},
   "outputs": [],
   "source": [
    "appearances_train[\"first_appearence_is_weekend\"] = appearances_train.apply(lambda row: row[\"date\"].weekday()>4 , axis=1)"
   ]
  },
  {
   "cell_type": "code",
   "execution_count": 11,
   "metadata": {},
   "outputs": [],
   "source": [
    "appearances_test[\"first_appearence_is_weekend\"] = appearances_test.apply(lambda row: row[\"date\"].weekday()>4 , axis=1)"
   ]
  },
  {
   "cell_type": "code",
   "execution_count": null,
   "metadata": {},
   "outputs": [],
   "source": []
  },
  {
   "cell_type": "code",
   "execution_count": 12,
   "metadata": {},
   "outputs": [
    {
     "name": "stderr",
     "output_type": "stream",
     "text": [
      "/home/martinrosas/.local/lib/python3.6/site-packages/IPython/core/interactiveshell.py:2785: DtypeWarning: Columns (13,20) have mixed types. Specify dtype option on import or set low_memory=False.\n",
      "  interactivity=interactivity, compiler=compiler, result=result)\n"
     ]
    }
   ],
   "source": [
    "events = pd.read_csv(\"events.csv\")"
   ]
  },
  {
   "cell_type": "code",
   "execution_count": 13,
   "metadata": {},
   "outputs": [
    {
     "name": "stderr",
     "output_type": "stream",
     "text": [
      "/home/martinrosas/.local/lib/python3.6/site-packages/IPython/core/interactiveshell.py:2785: DtypeWarning: Columns (4,15) have mixed types. Specify dtype option on import or set low_memory=False.\n",
      "  interactivity=interactivity, compiler=compiler, result=result)\n"
     ]
    }
   ],
   "source": [
    "installs = pd.read_csv(\"installs.csv\")"
   ]
  },
  {
   "cell_type": "code",
   "execution_count": null,
   "metadata": {},
   "outputs": [],
   "source": []
  },
  {
   "cell_type": "code",
   "execution_count": 14,
   "metadata": {},
   "outputs": [],
   "source": [
    "#creo feature -> para cada id cual es la app mas usada por cada dispositivo a partir del dataframe EVENTS"
   ]
  },
  {
   "cell_type": "code",
   "execution_count": 15,
   "metadata": {},
   "outputs": [],
   "source": [
    "most_used_app = events.groupby(\"ref_hash\")[\"application_id\"].agg(lambda x: x.mode()).rename_axis(\"device_id\").to_frame().reset_index()\n"
   ]
  },
  {
   "cell_type": "code",
   "execution_count": 16,
   "metadata": {},
   "outputs": [],
   "source": [
    "#arreglo que algunos casos la app id mas usada es una lista. porque la funcion .mode() devolvio mas de un elemento\n",
    "most_used_app[\"application_id\"] = most_used_app[\"application_id\"].apply(lambda x: x[0] if type(x) == np.ndarray else x)"
   ]
  },
  {
   "cell_type": "code",
   "execution_count": 17,
   "metadata": {},
   "outputs": [],
   "source": [
    "df_train = appearances_train.merge(most_used_app, on=\"device_id\", how=\"left\")"
   ]
  },
  {
   "cell_type": "code",
   "execution_count": 18,
   "metadata": {},
   "outputs": [],
   "source": [
    "df_test = appearances_test.merge(most_used_app, on=\"device_id\", how=\"left\")"
   ]
  },
  {
   "cell_type": "code",
   "execution_count": 19,
   "metadata": {},
   "outputs": [],
   "source": [
    "#renombro para dejar mas claro que el nombre del nuevo feature\n",
    "df_train = df_train.rename({\"application_id\": \"most_used_app\"}, axis=\"columns\")\n",
    "df_test = df_test.rename({\"application_id\": \"most_used_app\"}, axis=\"columns\")"
   ]
  },
  {
   "cell_type": "code",
   "execution_count": 20,
   "metadata": {},
   "outputs": [],
   "source": [
    "#reemplazo los nan de most used app por un nuemero no existente\n",
    "df_train[\"most_used_app\"] = df_train[\"most_used_app\"].fillna(-1)\n",
    "df_test[\"most_used_app\"] = df_test[\"most_used_app\"].fillna(-1)"
   ]
  },
  {
   "cell_type": "code",
   "execution_count": 21,
   "metadata": {},
   "outputs": [],
   "source": [
    "def is_android_or_macos(row):\n",
    "    if row[\"user_agent\"] is np.nan:\n",
    "        return None\n",
    "    agent = row[\"user_agent\"].lower()\n",
    "    if \"android\" in agent:\n",
    "        return \"android\"\n",
    "    elif \"darwin\" in agent:\n",
    "        return \"mac os\"\n",
    "    else:\n",
    "        return \"other\""
   ]
  },
  {
   "cell_type": "code",
   "execution_count": 22,
   "metadata": {},
   "outputs": [],
   "source": [
    "installs[\"os\"] = installs.apply(is_android_or_macos, axis=1)"
   ]
  },
  {
   "cell_type": "code",
   "execution_count": 23,
   "metadata": {},
   "outputs": [],
   "source": [
    "os = installs[[\"ref_hash\", \"os\"]].dropna()"
   ]
  },
  {
   "cell_type": "code",
   "execution_count": 24,
   "metadata": {},
   "outputs": [],
   "source": [
    "#saco ids duplicados\n",
    "os = os.drop_duplicates(subset=\"ref_hash\", keep='first').rename({\"ref_hash\": \"device_id\"},axis=\"columns\")"
   ]
  },
  {
   "cell_type": "code",
   "execution_count": 25,
   "metadata": {},
   "outputs": [],
   "source": [
    "#lo agrego a DF, siempre left join\n",
    "df_train = df_train.merge(os,how=\"left\", on=\"device_id\")\n",
    "df_test = df_test.merge(os,how=\"left\", on=\"device_id\")"
   ]
  },
  {
   "cell_type": "code",
   "execution_count": 26,
   "metadata": {},
   "outputs": [],
   "source": [
    "df_train[\"os\"] = df_train[\"os\"].fillna(\"other\")\n",
    "df_test[\"os\"] = df_test[\"os\"].fillna(\"other\")"
   ]
  },
  {
   "cell_type": "code",
   "execution_count": null,
   "metadata": {},
   "outputs": [],
   "source": []
  },
  {
   "cell_type": "code",
   "execution_count": 27,
   "metadata": {},
   "outputs": [],
   "source": [
    "#PRUEBO OTRA VEZ con random forest\n",
    "#antes tengo que convertir a numeros los campos que son string (en este caso solo OS)\n",
    "#USO LABEL ENCODER\n",
    "from sklearn import preprocessing\n",
    "le = preprocessing.LabelEncoder()"
   ]
  },
  {
   "cell_type": "code",
   "execution_count": 28,
   "metadata": {},
   "outputs": [],
   "source": [
    "#encodeo columna os\n",
    "le.fit(df_train[\"os\"])\n",
    "df_train[\"os\"] = le.transform(df_train[\"os\"])\n",
    "df_test[\"os\"] = le.transform(df_test[\"os\"])"
   ]
  },
  {
   "cell_type": "code",
   "execution_count": 29,
   "metadata": {},
   "outputs": [
    {
     "data": {
      "text/plain": [
       "0    2\n",
       "1    2\n",
       "2    2\n",
       "3    2\n",
       "4    2\n",
       "Name: os, dtype: int64"
      ]
     },
     "execution_count": 29,
     "metadata": {},
     "output_type": "execute_result"
    }
   ],
   "source": [
    "#ahora en vez de string tengo sus codigos\n",
    "df_train[\"os\"].head()"
   ]
  },
  {
   "cell_type": "code",
   "execution_count": null,
   "metadata": {},
   "outputs": [],
   "source": []
  },
  {
   "cell_type": "code",
   "execution_count": 30,
   "metadata": {},
   "outputs": [],
   "source": [
    "\n",
    "#CREO X_TRAIN Y Y_TRAIN SIN DEVICE ID\n",
    "X_train = df_train[['first_appearence_is_weekend',\n",
    "       'most_used_app', 'os']]\n",
    "y_train = df_train['seconds_until_next_appearence']\n",
    "X_test = df_test[['first_appearence_is_weekend',\n",
    "       'most_used_app', 'os']]\n",
    "y_test = df_test['seconds_until_next_appearence']"
   ]
  },
  {
   "cell_type": "code",
   "execution_count": 31,
   "metadata": {},
   "outputs": [
    {
     "name": "stderr",
     "output_type": "stream",
     "text": [
      "/home/martinrosas/.local/lib/python3.6/site-packages/sklearn/ensemble/forest.py:245: FutureWarning: The default value of n_estimators will change from 10 in version 0.20 to 100 in 0.22.\n",
      "  \"10 in version 0.20 to 100 in 0.22.\", FutureWarning)\n"
     ]
    }
   ],
   "source": [
    "clf = RandomForestRegressor()\n",
    "#entreno el modeo\n",
    "clf.fit(X_train, y_train)  \n",
    "y_pred = clf.predict(X_test)"
   ]
  },
  {
   "cell_type": "code",
   "execution_count": 32,
   "metadata": {},
   "outputs": [
    {
     "name": "stdout",
     "output_type": "stream",
     "text": [
      "Mean squared error: 134283789.22\n"
     ]
    }
   ],
   "source": [
    "#en y_pred tengo las predicciones y en y_test tengo los valores de verdad que queria predecir\n",
    "#mido el error\n",
    "\n",
    "print(\"Mean squared error: %.2f\"\n",
    "      % mean_squared_error(y_test, y_pred))"
   ]
  },
  {
   "cell_type": "code",
   "execution_count": 33,
   "metadata": {},
   "outputs": [],
   "source": [
    "#ahora agrego como feature el device ID y mido el error a ver que onda"
   ]
  },
  {
   "cell_type": "code",
   "execution_count": 34,
   "metadata": {},
   "outputs": [],
   "source": [
    "\n",
    "#CREO X_TRAIN Y Y_TRAIN CON DEVICE ID\n",
    "X_train = df_train[['first_appearence_is_weekend',\n",
    "       'most_used_app', 'os', 'device_id']]\n",
    "y_train = df_train['seconds_until_next_appearence']\n",
    "X_test = df_test[['first_appearence_is_weekend',\n",
    "       'most_used_app', 'os', 'device_id']]\n",
    "y_test = df_test['seconds_until_next_appearence']"
   ]
  },
  {
   "cell_type": "code",
   "execution_count": 35,
   "metadata": {},
   "outputs": [
    {
     "name": "stderr",
     "output_type": "stream",
     "text": [
      "/home/martinrosas/.local/lib/python3.6/site-packages/sklearn/ensemble/forest.py:245: FutureWarning: The default value of n_estimators will change from 10 in version 0.20 to 100 in 0.22.\n",
      "  \"10 in version 0.20 to 100 in 0.22.\", FutureWarning)\n"
     ]
    }
   ],
   "source": [
    "clf = RandomForestRegressor()\n",
    "#entreno el modeo\n",
    "clf.fit(X_train, y_train)  \n",
    "y_pred = clf.predict(X_test)"
   ]
  },
  {
   "cell_type": "code",
   "execution_count": 36,
   "metadata": {},
   "outputs": [
    {
     "name": "stdout",
     "output_type": "stream",
     "text": [
      "Mean squared error: 393557254.59\n"
     ]
    }
   ],
   "source": [
    "#en y_pred tengo las predicciones y en y_test tengo los valores de verdad que queria predecir\n",
    "#mido el error\n",
    "\n",
    "print(\"Mean squared error: %.2f\"\n",
    "      % mean_squared_error(y_test, y_pred))"
   ]
  },
  {
   "cell_type": "code",
   "execution_count": 37,
   "metadata": {},
   "outputs": [],
   "source": [
    "#EL ERROR PASO DE 134,284,950 A 393,557,254\n",
    "#parece que no conviene usar el ID como feature. pruebo mas adelante cuando tengamos mas features"
   ]
  },
  {
   "cell_type": "code",
   "execution_count": null,
   "metadata": {},
   "outputs": [],
   "source": [
    "#busco mas features"
   ]
  },
  {
   "cell_type": "code",
   "execution_count": null,
   "metadata": {},
   "outputs": [],
   "source": []
  },
  {
   "cell_type": "code",
   "execution_count": null,
   "metadata": {},
   "outputs": [],
   "source": []
  },
  {
   "cell_type": "code",
   "execution_count": null,
   "metadata": {},
   "outputs": [],
   "source": []
  },
  {
   "cell_type": "code",
   "execution_count": null,
   "metadata": {},
   "outputs": [],
   "source": []
  },
  {
   "cell_type": "code",
   "execution_count": null,
   "metadata": {},
   "outputs": [],
   "source": []
  },
  {
   "cell_type": "code",
   "execution_count": null,
   "metadata": {},
   "outputs": [],
   "source": []
  },
  {
   "cell_type": "code",
   "execution_count": null,
   "metadata": {},
   "outputs": [],
   "source": []
  }
 ],
 "metadata": {
  "kernelspec": {
   "display_name": "Python 3",
   "language": "python",
   "name": "python3"
  },
  "language_info": {
   "codemirror_mode": {
    "name": "ipython",
    "version": 3
   },
   "file_extension": ".py",
   "mimetype": "text/x-python",
   "name": "python",
   "nbconvert_exporter": "python",
   "pygments_lexer": "ipython3",
   "version": "3.6.5"
  }
 },
 "nbformat": 4,
 "nbformat_minor": 2
}
