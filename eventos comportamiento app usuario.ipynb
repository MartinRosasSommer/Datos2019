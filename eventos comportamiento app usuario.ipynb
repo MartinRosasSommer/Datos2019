{
 "cells": [
  {
   "cell_type": "code",
   "execution_count": 1,
   "metadata": {},
   "outputs": [],
   "source": [
    "import pandas as pd\n",
    "import matplotlib.pyplot as plt\n"
   ]
  },
  {
   "cell_type": "code",
   "execution_count": 2,
   "metadata": {},
   "outputs": [],
   "source": [
    "from datetime import timedelta"
   ]
  },
  {
   "cell_type": "code",
   "execution_count": 3,
   "metadata": {},
   "outputs": [
    {
     "name": "stderr",
     "output_type": "stream",
     "text": [
      "/home/martinrosas/.local/lib/python3.6/site-packages/IPython/core/interactiveshell.py:2785: DtypeWarning: Columns (12,18,19) have mixed types. Specify dtype option on import or set low_memory=False.\n",
      "  interactivity=interactivity, compiler=compiler, result=result)\n"
     ]
    }
   ],
   "source": [
    "events = pd.read_csv('events.csv')\n",
    "installs = pd.read_csv('installs.csv')"
   ]
  },
  {
   "cell_type": "code",
   "execution_count": 4,
   "metadata": {},
   "outputs": [],
   "source": [
    "    #busco si hay alguna relacion entre evento e install\n",
    "    #es una instalacion un evento?\n",
    "    #hay un patron de eventos previos a la instalacion?\n"
   ]
  },
  {
   "cell_type": "code",
   "execution_count": 5,
   "metadata": {},
   "outputs": [
    {
     "data": {
      "text/plain": [
       "1    2629\n",
       "2     356\n",
       "3      21\n",
       "4       2\n",
       "Name: created, dtype: int64"
      ]
     },
     "execution_count": 5,
     "metadata": {},
     "output_type": "execute_result"
    }
   ],
   "source": [
    "#puede haber mas de un install para un ref hash?\n",
    "#vemos que la gran mayoria tienen solo 1 install\n",
    "installs.groupby([\"ref_hash\"]).count()[\"created\"].value_counts()"
   ]
  },
  {
   "cell_type": "code",
   "execution_count": 6,
   "metadata": {},
   "outputs": [
    {
     "data": {
      "text/plain": [
       "12.723467092410571"
      ]
     },
     "execution_count": 6,
     "metadata": {},
     "output_type": "execute_result"
    }
   ],
   "source": [
    "#en promedio 12 eventos por usuario \n",
    "events.groupby(\"ref_hash\")[\"date\"].count().mean()"
   ]
  },
  {
   "cell_type": "code",
   "execution_count": 7,
   "metadata": {},
   "outputs": [
    {
     "data": {
      "text/plain": [
       "1.134308510638298"
      ]
     },
     "execution_count": 7,
     "metadata": {},
     "output_type": "execute_result"
    }
   ],
   "source": [
    "installs.groupby(\"ref_hash\")[\"created\"].count().mean()"
   ]
  },
  {
   "cell_type": "code",
   "execution_count": 8,
   "metadata": {},
   "outputs": [],
   "source": [
    "#junto installs y events y convierto\n",
    "#tambien creo nueva columna para ver la diferencia de tiempo entre eventos e instalacion\n",
    "events_installs = events.merge(installs, on=\"ref_hash\", how=\"inner\")\n",
    "events_installs[\"date\"] = pd.to_datetime(events_installs[\"date\"])\n",
    "events_installs[\"created\"] = pd.to_datetime(events_installs[\"created\"])\n",
    "events_installs['event_install_delta'] = (events_installs.date - events_installs.created)"
   ]
  },
  {
   "cell_type": "code",
   "execution_count": 9,
   "metadata": {},
   "outputs": [],
   "source": [
    "#pudimos mergear 53157 filas"
   ]
  },
  {
   "cell_type": "code",
   "execution_count": 10,
   "metadata": {},
   "outputs": [
    {
     "data": {
      "text/plain": [
       "(53157, 40)"
      ]
     },
     "execution_count": 10,
     "metadata": {},
     "output_type": "execute_result"
    }
   ],
   "source": [
    "events_installs.shape"
   ]
  },
  {
   "cell_type": "code",
   "execution_count": null,
   "metadata": {},
   "outputs": [],
   "source": []
  },
  {
   "cell_type": "code",
   "execution_count": 11,
   "metadata": {},
   "outputs": [],
   "source": [
    "#pero hay que ver por cada install cuantos eventos hubo"
   ]
  },
  {
   "cell_type": "code",
   "execution_count": 12,
   "metadata": {},
   "outputs": [
    {
     "data": {
      "text/plain": [
       "3272750442824629569    3804\n",
       "5517347051664000025    1696\n",
       "3816297129738440699    1288\n",
       "1688171320462340261    1256\n",
       "973455336199876331      893\n",
       "Name: ref_hash, dtype: int64"
      ]
     },
     "execution_count": 12,
     "metadata": {},
     "output_type": "execute_result"
    }
   ],
   "source": [
    "#algunos casos tienen muchismos eventos por instalacion\n",
    "events_installs[\"ref_hash\"].value_counts().head()"
   ]
  },
  {
   "cell_type": "code",
   "execution_count": 13,
   "metadata": {},
   "outputs": [
    {
     "data": {
      "text/plain": [
       "9168281429540286244    39\n",
       "8525312051407599510    39\n",
       "1099416989433488717    39\n",
       "8527604787383141398    39\n",
       "7796605824867175329    39\n",
       "8735836123417337347    39\n",
       "5838075190630496098    39\n",
       "3379048624467743523    39\n",
       "932077630707827878     39\n",
       "8556062440603295870    38\n",
       "3555281314719408539    38\n",
       "4487853432814042975    38\n",
       "8317150186907675790    38\n",
       "5152529264026804406    38\n",
       "7138844938300812761    38\n",
       "Name: ref_hash, dtype: int64"
      ]
     },
     "execution_count": 13,
     "metadata": {},
     "output_type": "execute_result"
    }
   ],
   "source": [
    "#busquemos casos con menos eventos para poder analizar mas comodamente\n",
    "events_installs[\"ref_hash\"].value_counts()[240:255]"
   ]
  },
  {
   "cell_type": "code",
   "execution_count": 14,
   "metadata": {},
   "outputs": [
    {
     "data": {
      "text/plain": [
       "6845037217675131758    28\n",
       "2071738157451677767    28\n",
       "7320573886575734140    28\n",
       "3669878150775083010    28\n",
       "8947591389357963511    28\n",
       "4143283144026585511    28\n",
       "7268796360514441238    28\n",
       "7417822407482261471    27\n",
       "6060683872408318039    27\n",
       "2204156414763118594    27\n",
       "2808800821029079796    27\n",
       "4842920655031550505    27\n",
       "1416601277953245608    27\n",
       "2908949234038448252    27\n",
       "4190874602193582646    27\n",
       "4603142710878547974    27\n",
       "3825524615010901958    27\n",
       "3997915214730909865    27\n",
       "4584182785584272504    27\n",
       "4808380625474100800    27\n",
       "Name: ref_hash, dtype: int64"
      ]
     },
     "execution_count": 14,
     "metadata": {},
     "output_type": "execute_result"
    }
   ],
   "source": [
    "events_installs[\"ref_hash\"].value_counts()[400:420]"
   ]
  },
  {
   "cell_type": "code",
   "execution_count": 15,
   "metadata": {},
   "outputs": [
    {
     "data": {
      "text/html": [
       "<div>\n",
       "<style scoped>\n",
       "    .dataframe tbody tr th:only-of-type {\n",
       "        vertical-align: middle;\n",
       "    }\n",
       "\n",
       "    .dataframe tbody tr th {\n",
       "        vertical-align: top;\n",
       "    }\n",
       "\n",
       "    .dataframe thead th {\n",
       "        text-align: right;\n",
       "    }\n",
       "</style>\n",
       "<table border=\"1\" class=\"dataframe\">\n",
       "  <thead>\n",
       "    <tr style=\"text-align: right;\">\n",
       "      <th></th>\n",
       "      <th>created</th>\n",
       "      <th>application_id</th>\n",
       "      <th>ref_type</th>\n",
       "      <th>ref_hash</th>\n",
       "      <th>click_hash</th>\n",
       "      <th>attributed</th>\n",
       "      <th>implicit</th>\n",
       "      <th>device_countrycode</th>\n",
       "      <th>device_brand</th>\n",
       "      <th>device_model</th>\n",
       "      <th>session_user_agent</th>\n",
       "      <th>user_agent</th>\n",
       "      <th>event_uuid</th>\n",
       "      <th>kind</th>\n",
       "      <th>wifi</th>\n",
       "      <th>trans_id</th>\n",
       "      <th>ip_address</th>\n",
       "      <th>device_language</th>\n",
       "    </tr>\n",
       "  </thead>\n",
       "  <tbody>\n",
       "    <tr>\n",
       "      <th>1081</th>\n",
       "      <td>2019-03-05 00:17:46.709</td>\n",
       "      <td>10</td>\n",
       "      <td>1891515180541284343</td>\n",
       "      <td>1688171320462340261</td>\n",
       "      <td>NaN</td>\n",
       "      <td>False</td>\n",
       "      <td>False</td>\n",
       "      <td>6333597102633388268</td>\n",
       "      <td>3.083059e+17</td>\n",
       "      <td>1.148522e+18</td>\n",
       "      <td>http-kit/2.0</td>\n",
       "      <td>Dalvik/2.1.0 (Linux; U; Android 8.1.0; SM-J410...</td>\n",
       "      <td>NaN</td>\n",
       "      <td>NaN</td>\n",
       "      <td>True</td>\n",
       "      <td>NaN</td>\n",
       "      <td>8531002764348621869</td>\n",
       "      <td>9.028383e+18</td>\n",
       "    </tr>\n",
       "    <tr>\n",
       "      <th>2212</th>\n",
       "      <td>2019-03-06 23:00:42.859</td>\n",
       "      <td>16</td>\n",
       "      <td>1891515180541284343</td>\n",
       "      <td>1688171320462340261</td>\n",
       "      <td>NaN</td>\n",
       "      <td>False</td>\n",
       "      <td>False</td>\n",
       "      <td>6333597102633388268</td>\n",
       "      <td>3.083059e+17</td>\n",
       "      <td>1.148522e+18</td>\n",
       "      <td>http-kit/2.0</td>\n",
       "      <td>Dalvik/2.1.0 (Linux; U; Android 8.1.0; SM-J410...</td>\n",
       "      <td>NaN</td>\n",
       "      <td>NaN</td>\n",
       "      <td>True</td>\n",
       "      <td>NaN</td>\n",
       "      <td>8531002764348621869</td>\n",
       "      <td>9.028383e+18</td>\n",
       "    </tr>\n",
       "  </tbody>\n",
       "</table>\n",
       "</div>"
      ],
      "text/plain": [
       "                      created  application_id             ref_type  \\\n",
       "1081  2019-03-05 00:17:46.709              10  1891515180541284343   \n",
       "2212  2019-03-06 23:00:42.859              16  1891515180541284343   \n",
       "\n",
       "                 ref_hash  click_hash  attributed  implicit  \\\n",
       "1081  1688171320462340261         NaN       False     False   \n",
       "2212  1688171320462340261         NaN       False     False   \n",
       "\n",
       "       device_countrycode  device_brand  device_model session_user_agent  \\\n",
       "1081  6333597102633388268  3.083059e+17  1.148522e+18       http-kit/2.0   \n",
       "2212  6333597102633388268  3.083059e+17  1.148522e+18       http-kit/2.0   \n",
       "\n",
       "                                             user_agent event_uuid kind  wifi  \\\n",
       "1081  Dalvik/2.1.0 (Linux; U; Android 8.1.0; SM-J410...        NaN  NaN  True   \n",
       "2212  Dalvik/2.1.0 (Linux; U; Android 8.1.0; SM-J410...        NaN  NaN  True   \n",
       "\n",
       "     trans_id           ip_address  device_language  \n",
       "1081      NaN  8531002764348621869     9.028383e+18  \n",
       "2212      NaN  8531002764348621869     9.028383e+18  "
      ]
     },
     "execution_count": 15,
     "metadata": {},
     "output_type": "execute_result"
    }
   ],
   "source": [
    "installs[installs[\"ref_hash\"] == 1688171320462340261]"
   ]
  },
  {
   "cell_type": "code",
   "execution_count": 16,
   "metadata": {},
   "outputs": [],
   "source": [
    "#date es de events y created es de installs "
   ]
  },
  {
   "cell_type": "code",
   "execution_count": 17,
   "metadata": {},
   "outputs": [
    {
     "data": {
      "text/html": [
       "<div>\n",
       "<style scoped>\n",
       "    .dataframe tbody tr th:only-of-type {\n",
       "        vertical-align: middle;\n",
       "    }\n",
       "\n",
       "    .dataframe tbody tr th {\n",
       "        vertical-align: top;\n",
       "    }\n",
       "\n",
       "    .dataframe thead th {\n",
       "        text-align: right;\n",
       "    }\n",
       "</style>\n",
       "<table border=\"1\" class=\"dataframe\">\n",
       "  <thead>\n",
       "    <tr style=\"text-align: right;\">\n",
       "      <th></th>\n",
       "      <th>ref_hash</th>\n",
       "      <th>date</th>\n",
       "      <th>created</th>\n",
       "      <th>event_install_delta</th>\n",
       "      <th>event_id</th>\n",
       "    </tr>\n",
       "  </thead>\n",
       "  <tbody>\n",
       "    <tr>\n",
       "      <th>0</th>\n",
       "      <td>5007008548832677915</td>\n",
       "      <td>2019-03-10 18:28:09.696</td>\n",
       "      <td>2019-03-09 22:32:48.032</td>\n",
       "      <td>0 days 19:55:21.664000</td>\n",
       "      <td>1</td>\n",
       "    </tr>\n",
       "    <tr>\n",
       "      <th>1</th>\n",
       "      <td>5007008548832677915</td>\n",
       "      <td>2019-03-10 18:28:30.550</td>\n",
       "      <td>2019-03-09 22:32:48.032</td>\n",
       "      <td>0 days 19:55:42.518000</td>\n",
       "      <td>33</td>\n",
       "    </tr>\n",
       "    <tr>\n",
       "      <th>2</th>\n",
       "      <td>5007008548832677915</td>\n",
       "      <td>2019-03-11 15:39:41.486</td>\n",
       "      <td>2019-03-09 22:32:48.032</td>\n",
       "      <td>1 days 17:06:53.454000</td>\n",
       "      <td>1</td>\n",
       "    </tr>\n",
       "    <tr>\n",
       "      <th>3</th>\n",
       "      <td>5007008548832677915</td>\n",
       "      <td>2019-03-11 15:40:36.377</td>\n",
       "      <td>2019-03-09 22:32:48.032</td>\n",
       "      <td>1 days 17:07:48.345000</td>\n",
       "      <td>33</td>\n",
       "    </tr>\n",
       "    <tr>\n",
       "      <th>4</th>\n",
       "      <td>5007008548832677915</td>\n",
       "      <td>2019-03-11 15:39:20.750</td>\n",
       "      <td>2019-03-09 22:32:48.032</td>\n",
       "      <td>1 days 17:06:32.718000</td>\n",
       "      <td>33</td>\n",
       "    </tr>\n",
       "    <tr>\n",
       "      <th>5</th>\n",
       "      <td>5007008548832677915</td>\n",
       "      <td>2019-03-09 22:33:32.533</td>\n",
       "      <td>2019-03-09 22:32:48.032</td>\n",
       "      <td>0 days 00:00:44.501000</td>\n",
       "      <td>22</td>\n",
       "    </tr>\n",
       "    <tr>\n",
       "      <th>6</th>\n",
       "      <td>5007008548832677915</td>\n",
       "      <td>2019-03-09 22:32:51.465</td>\n",
       "      <td>2019-03-09 22:32:48.032</td>\n",
       "      <td>0 days 00:00:03.433000</td>\n",
       "      <td>22</td>\n",
       "    </tr>\n",
       "    <tr>\n",
       "      <th>7</th>\n",
       "      <td>5007008548832677915</td>\n",
       "      <td>2019-03-09 22:32:54.805</td>\n",
       "      <td>2019-03-09 22:32:48.032</td>\n",
       "      <td>0 days 00:00:06.773000</td>\n",
       "      <td>22</td>\n",
       "    </tr>\n",
       "    <tr>\n",
       "      <th>8</th>\n",
       "      <td>5007008548832677915</td>\n",
       "      <td>2019-03-09 01:21:02.008</td>\n",
       "      <td>2019-03-09 22:32:48.032</td>\n",
       "      <td>-1 days +02:48:13.976000</td>\n",
       "      <td>33</td>\n",
       "    </tr>\n",
       "    <tr>\n",
       "      <th>9</th>\n",
       "      <td>5007008548832677915</td>\n",
       "      <td>2019-03-09 01:41:51.713</td>\n",
       "      <td>2019-03-09 22:32:48.032</td>\n",
       "      <td>-1 days +03:09:03.681000</td>\n",
       "      <td>33</td>\n",
       "    </tr>\n",
       "  </tbody>\n",
       "</table>\n",
       "</div>"
      ],
      "text/plain": [
       "              ref_hash                    date                 created  \\\n",
       "0  5007008548832677915 2019-03-10 18:28:09.696 2019-03-09 22:32:48.032   \n",
       "1  5007008548832677915 2019-03-10 18:28:30.550 2019-03-09 22:32:48.032   \n",
       "2  5007008548832677915 2019-03-11 15:39:41.486 2019-03-09 22:32:48.032   \n",
       "3  5007008548832677915 2019-03-11 15:40:36.377 2019-03-09 22:32:48.032   \n",
       "4  5007008548832677915 2019-03-11 15:39:20.750 2019-03-09 22:32:48.032   \n",
       "5  5007008548832677915 2019-03-09 22:33:32.533 2019-03-09 22:32:48.032   \n",
       "6  5007008548832677915 2019-03-09 22:32:51.465 2019-03-09 22:32:48.032   \n",
       "7  5007008548832677915 2019-03-09 22:32:54.805 2019-03-09 22:32:48.032   \n",
       "8  5007008548832677915 2019-03-09 01:21:02.008 2019-03-09 22:32:48.032   \n",
       "9  5007008548832677915 2019-03-09 01:41:51.713 2019-03-09 22:32:48.032   \n",
       "\n",
       "       event_install_delta  event_id  \n",
       "0   0 days 19:55:21.664000         1  \n",
       "1   0 days 19:55:42.518000        33  \n",
       "2   1 days 17:06:53.454000         1  \n",
       "3   1 days 17:07:48.345000        33  \n",
       "4   1 days 17:06:32.718000        33  \n",
       "5   0 days 00:00:44.501000        22  \n",
       "6   0 days 00:00:03.433000        22  \n",
       "7   0 days 00:00:06.773000        22  \n",
       "8 -1 days +02:48:13.976000        33  \n",
       "9 -1 days +03:09:03.681000        33  "
      ]
     },
     "execution_count": 17,
     "metadata": {},
     "output_type": "execute_result"
    }
   ],
   "source": [
    "events_installs_dates = events_installs[[\"ref_hash\", \"date\", \"created\", \"event_install_delta\", \"event_id\"]]\n",
    "events_installs_dates.head(10)"
   ]
  },
  {
   "cell_type": "code",
   "execution_count": null,
   "metadata": {},
   "outputs": [],
   "source": []
  },
  {
   "cell_type": "code",
   "execution_count": 18,
   "metadata": {},
   "outputs": [],
   "source": [
    "#analizamos un caso con 19 eventos. hubo solo 1 install\n",
    "#en la filas 5,6,y 7 los dates parecen coincidir en el tiempo donde fue isntalado (created)\n",
    "#ninguno es exacto, pero los 3 tienen de event id al 22.\n",
    "#¿el install es el evento 22?\n",
    "#los ordeno por fecha del evento para comparar\n",
    "\n",
    "#todas las secuencias de eventos parecen arrancar con el ID 1, y continuan con el 33\n",
    "#sera 1 el evento que se entra a la publicidad?"
   ]
  },
  {
   "cell_type": "code",
   "execution_count": 19,
   "metadata": {},
   "outputs": [
    {
     "data": {
      "text/html": [
       "<div>\n",
       "<style scoped>\n",
       "    .dataframe tbody tr th:only-of-type {\n",
       "        vertical-align: middle;\n",
       "    }\n",
       "\n",
       "    .dataframe tbody tr th {\n",
       "        vertical-align: top;\n",
       "    }\n",
       "\n",
       "    .dataframe thead th {\n",
       "        text-align: right;\n",
       "    }\n",
       "</style>\n",
       "<table border=\"1\" class=\"dataframe\">\n",
       "  <thead>\n",
       "    <tr style=\"text-align: right;\">\n",
       "      <th></th>\n",
       "      <th>ref_hash</th>\n",
       "      <th>date</th>\n",
       "      <th>created</th>\n",
       "      <th>event_install_delta</th>\n",
       "      <th>event_id</th>\n",
       "    </tr>\n",
       "  </thead>\n",
       "  <tbody>\n",
       "    <tr>\n",
       "      <th>16</th>\n",
       "      <td>5007008548832677915</td>\n",
       "      <td>2019-03-09 00:16:30.922</td>\n",
       "      <td>2019-03-09 22:32:48.032</td>\n",
       "      <td>-1 days +01:43:42.890000</td>\n",
       "      <td>1</td>\n",
       "    </tr>\n",
       "    <tr>\n",
       "      <th>15</th>\n",
       "      <td>5007008548832677915</td>\n",
       "      <td>2019-03-09 00:16:50.492</td>\n",
       "      <td>2019-03-09 22:32:48.032</td>\n",
       "      <td>-1 days +01:44:02.460000</td>\n",
       "      <td>33</td>\n",
       "    </tr>\n",
       "    <tr>\n",
       "      <th>13</th>\n",
       "      <td>5007008548832677915</td>\n",
       "      <td>2019-03-09 01:05:40.107</td>\n",
       "      <td>2019-03-09 22:32:48.032</td>\n",
       "      <td>-1 days +02:32:52.075000</td>\n",
       "      <td>1</td>\n",
       "    </tr>\n",
       "    <tr>\n",
       "      <th>12</th>\n",
       "      <td>5007008548832677915</td>\n",
       "      <td>2019-03-09 01:06:05.959</td>\n",
       "      <td>2019-03-09 22:32:48.032</td>\n",
       "      <td>-1 days +02:33:17.927000</td>\n",
       "      <td>33</td>\n",
       "    </tr>\n",
       "    <tr>\n",
       "      <th>14</th>\n",
       "      <td>5007008548832677915</td>\n",
       "      <td>2019-03-09 01:20:40.774</td>\n",
       "      <td>2019-03-09 22:32:48.032</td>\n",
       "      <td>-1 days +02:47:52.742000</td>\n",
       "      <td>33</td>\n",
       "    </tr>\n",
       "    <tr>\n",
       "      <th>8</th>\n",
       "      <td>5007008548832677915</td>\n",
       "      <td>2019-03-09 01:21:02.008</td>\n",
       "      <td>2019-03-09 22:32:48.032</td>\n",
       "      <td>-1 days +02:48:13.976000</td>\n",
       "      <td>33</td>\n",
       "    </tr>\n",
       "    <tr>\n",
       "      <th>11</th>\n",
       "      <td>5007008548832677915</td>\n",
       "      <td>2019-03-09 01:22:01.076</td>\n",
       "      <td>2019-03-09 22:32:48.032</td>\n",
       "      <td>-1 days +02:49:13.044000</td>\n",
       "      <td>33</td>\n",
       "    </tr>\n",
       "    <tr>\n",
       "      <th>10</th>\n",
       "      <td>5007008548832677915</td>\n",
       "      <td>2019-03-09 01:40:38.844</td>\n",
       "      <td>2019-03-09 22:32:48.032</td>\n",
       "      <td>-1 days +03:07:50.812000</td>\n",
       "      <td>33</td>\n",
       "    </tr>\n",
       "    <tr>\n",
       "      <th>9</th>\n",
       "      <td>5007008548832677915</td>\n",
       "      <td>2019-03-09 01:41:51.713</td>\n",
       "      <td>2019-03-09 22:32:48.032</td>\n",
       "      <td>-1 days +03:09:03.681000</td>\n",
       "      <td>33</td>\n",
       "    </tr>\n",
       "    <tr>\n",
       "      <th>17</th>\n",
       "      <td>5007008548832677915</td>\n",
       "      <td>2019-03-09 02:30:11.598</td>\n",
       "      <td>2019-03-09 22:32:48.032</td>\n",
       "      <td>-1 days +03:57:23.566000</td>\n",
       "      <td>1</td>\n",
       "    </tr>\n",
       "    <tr>\n",
       "      <th>18</th>\n",
       "      <td>5007008548832677915</td>\n",
       "      <td>2019-03-09 02:30:38.297</td>\n",
       "      <td>2019-03-09 22:32:48.032</td>\n",
       "      <td>-1 days +03:57:50.265000</td>\n",
       "      <td>33</td>\n",
       "    </tr>\n",
       "    <tr>\n",
       "      <th>6</th>\n",
       "      <td>5007008548832677915</td>\n",
       "      <td>2019-03-09 22:32:51.465</td>\n",
       "      <td>2019-03-09 22:32:48.032</td>\n",
       "      <td>0 days 00:00:03.433000</td>\n",
       "      <td>22</td>\n",
       "    </tr>\n",
       "    <tr>\n",
       "      <th>7</th>\n",
       "      <td>5007008548832677915</td>\n",
       "      <td>2019-03-09 22:32:54.805</td>\n",
       "      <td>2019-03-09 22:32:48.032</td>\n",
       "      <td>0 days 00:00:06.773000</td>\n",
       "      <td>22</td>\n",
       "    </tr>\n",
       "    <tr>\n",
       "      <th>5</th>\n",
       "      <td>5007008548832677915</td>\n",
       "      <td>2019-03-09 22:33:32.533</td>\n",
       "      <td>2019-03-09 22:32:48.032</td>\n",
       "      <td>0 days 00:00:44.501000</td>\n",
       "      <td>22</td>\n",
       "    </tr>\n",
       "    <tr>\n",
       "      <th>0</th>\n",
       "      <td>5007008548832677915</td>\n",
       "      <td>2019-03-10 18:28:09.696</td>\n",
       "      <td>2019-03-09 22:32:48.032</td>\n",
       "      <td>0 days 19:55:21.664000</td>\n",
       "      <td>1</td>\n",
       "    </tr>\n",
       "    <tr>\n",
       "      <th>1</th>\n",
       "      <td>5007008548832677915</td>\n",
       "      <td>2019-03-10 18:28:30.550</td>\n",
       "      <td>2019-03-09 22:32:48.032</td>\n",
       "      <td>0 days 19:55:42.518000</td>\n",
       "      <td>33</td>\n",
       "    </tr>\n",
       "    <tr>\n",
       "      <th>4</th>\n",
       "      <td>5007008548832677915</td>\n",
       "      <td>2019-03-11 15:39:20.750</td>\n",
       "      <td>2019-03-09 22:32:48.032</td>\n",
       "      <td>1 days 17:06:32.718000</td>\n",
       "      <td>33</td>\n",
       "    </tr>\n",
       "    <tr>\n",
       "      <th>2</th>\n",
       "      <td>5007008548832677915</td>\n",
       "      <td>2019-03-11 15:39:41.486</td>\n",
       "      <td>2019-03-09 22:32:48.032</td>\n",
       "      <td>1 days 17:06:53.454000</td>\n",
       "      <td>1</td>\n",
       "    </tr>\n",
       "    <tr>\n",
       "      <th>3</th>\n",
       "      <td>5007008548832677915</td>\n",
       "      <td>2019-03-11 15:40:36.377</td>\n",
       "      <td>2019-03-09 22:32:48.032</td>\n",
       "      <td>1 days 17:07:48.345000</td>\n",
       "      <td>33</td>\n",
       "    </tr>\n",
       "  </tbody>\n",
       "</table>\n",
       "</div>"
      ],
      "text/plain": [
       "               ref_hash                    date                 created  \\\n",
       "16  5007008548832677915 2019-03-09 00:16:30.922 2019-03-09 22:32:48.032   \n",
       "15  5007008548832677915 2019-03-09 00:16:50.492 2019-03-09 22:32:48.032   \n",
       "13  5007008548832677915 2019-03-09 01:05:40.107 2019-03-09 22:32:48.032   \n",
       "12  5007008548832677915 2019-03-09 01:06:05.959 2019-03-09 22:32:48.032   \n",
       "14  5007008548832677915 2019-03-09 01:20:40.774 2019-03-09 22:32:48.032   \n",
       "8   5007008548832677915 2019-03-09 01:21:02.008 2019-03-09 22:32:48.032   \n",
       "11  5007008548832677915 2019-03-09 01:22:01.076 2019-03-09 22:32:48.032   \n",
       "10  5007008548832677915 2019-03-09 01:40:38.844 2019-03-09 22:32:48.032   \n",
       "9   5007008548832677915 2019-03-09 01:41:51.713 2019-03-09 22:32:48.032   \n",
       "17  5007008548832677915 2019-03-09 02:30:11.598 2019-03-09 22:32:48.032   \n",
       "18  5007008548832677915 2019-03-09 02:30:38.297 2019-03-09 22:32:48.032   \n",
       "6   5007008548832677915 2019-03-09 22:32:51.465 2019-03-09 22:32:48.032   \n",
       "7   5007008548832677915 2019-03-09 22:32:54.805 2019-03-09 22:32:48.032   \n",
       "5   5007008548832677915 2019-03-09 22:33:32.533 2019-03-09 22:32:48.032   \n",
       "0   5007008548832677915 2019-03-10 18:28:09.696 2019-03-09 22:32:48.032   \n",
       "1   5007008548832677915 2019-03-10 18:28:30.550 2019-03-09 22:32:48.032   \n",
       "4   5007008548832677915 2019-03-11 15:39:20.750 2019-03-09 22:32:48.032   \n",
       "2   5007008548832677915 2019-03-11 15:39:41.486 2019-03-09 22:32:48.032   \n",
       "3   5007008548832677915 2019-03-11 15:40:36.377 2019-03-09 22:32:48.032   \n",
       "\n",
       "        event_install_delta  event_id  \n",
       "16 -1 days +01:43:42.890000         1  \n",
       "15 -1 days +01:44:02.460000        33  \n",
       "13 -1 days +02:32:52.075000         1  \n",
       "12 -1 days +02:33:17.927000        33  \n",
       "14 -1 days +02:47:52.742000        33  \n",
       "8  -1 days +02:48:13.976000        33  \n",
       "11 -1 days +02:49:13.044000        33  \n",
       "10 -1 days +03:07:50.812000        33  \n",
       "9  -1 days +03:09:03.681000        33  \n",
       "17 -1 days +03:57:23.566000         1  \n",
       "18 -1 days +03:57:50.265000        33  \n",
       "6    0 days 00:00:03.433000        22  \n",
       "7    0 days 00:00:06.773000        22  \n",
       "5    0 days 00:00:44.501000        22  \n",
       "0    0 days 19:55:21.664000         1  \n",
       "1    0 days 19:55:42.518000        33  \n",
       "4    1 days 17:06:32.718000        33  \n",
       "2    1 days 17:06:53.454000         1  \n",
       "3    1 days 17:07:48.345000        33  "
      ]
     },
     "execution_count": 19,
     "metadata": {},
     "output_type": "execute_result"
    }
   ],
   "source": [
    "events_installs_dates[events_installs_dates[\"ref_hash\"] == 5007008548832677915].sort_values(by=\"date\")"
   ]
  },
  {
   "cell_type": "code",
   "execution_count": 20,
   "metadata": {},
   "outputs": [
    {
     "data": {
      "text/html": [
       "<div>\n",
       "<style scoped>\n",
       "    .dataframe tbody tr th:only-of-type {\n",
       "        vertical-align: middle;\n",
       "    }\n",
       "\n",
       "    .dataframe tbody tr th {\n",
       "        vertical-align: top;\n",
       "    }\n",
       "\n",
       "    .dataframe thead th {\n",
       "        text-align: right;\n",
       "    }\n",
       "</style>\n",
       "<table border=\"1\" class=\"dataframe\">\n",
       "  <thead>\n",
       "    <tr style=\"text-align: right;\">\n",
       "      <th></th>\n",
       "      <th>ref_hash</th>\n",
       "      <th>event_install_delta</th>\n",
       "      <th>event_id</th>\n",
       "    </tr>\n",
       "  </thead>\n",
       "  <tbody>\n",
       "    <tr>\n",
       "      <th>9</th>\n",
       "      <td>5007008548832677915</td>\n",
       "      <td>-1 days +03:09:03.681000</td>\n",
       "      <td>33</td>\n",
       "    </tr>\n",
       "    <tr>\n",
       "      <th>17</th>\n",
       "      <td>5007008548832677915</td>\n",
       "      <td>-1 days +03:57:23.566000</td>\n",
       "      <td>1</td>\n",
       "    </tr>\n",
       "    <tr>\n",
       "      <th>18</th>\n",
       "      <td>5007008548832677915</td>\n",
       "      <td>-1 days +03:57:50.265000</td>\n",
       "      <td>33</td>\n",
       "    </tr>\n",
       "    <tr>\n",
       "      <th>6</th>\n",
       "      <td>5007008548832677915</td>\n",
       "      <td>00:00:03.433000</td>\n",
       "      <td>22</td>\n",
       "    </tr>\n",
       "  </tbody>\n",
       "</table>\n",
       "</div>"
      ],
      "text/plain": [
       "               ref_hash      event_install_delta  event_id\n",
       "9   5007008548832677915 -1 days +03:09:03.681000        33\n",
       "17  5007008548832677915 -1 days +03:57:23.566000         1\n",
       "18  5007008548832677915 -1 days +03:57:50.265000        33\n",
       "6   5007008548832677915          00:00:03.433000        22"
      ]
     },
     "execution_count": 20,
     "metadata": {},
     "output_type": "execute_result"
    }
   ],
   "source": [
    "#hay eventos previso a la instlacion para usuario unico\n",
    "events_installs_dates[events_installs_dates[\"ref_hash\"] == 5007008548832677915].sort_values(by=\"date\")[8:12][[\"ref_hash\", \"event_install_delta\", \"event_id\"]]"
   ]
  },
  {
   "cell_type": "code",
   "execution_count": 21,
   "metadata": {},
   "outputs": [],
   "source": [
    "#analizamos con otro ref hash\n",
    "#9137998220583496972 tiene 71 eventos\n",
    "#nuevamente el evento 33 es el mas comun \n",
    "#miramos los ultimos 10 porque son los mas cercanos a la instalacion\n",
    "#mirando las diferencias de tiempo , parece ser que el evento 1 sigue siendo el principio de cada secuencia de eventos\n",
    "#cada vez que hay un evento 1, el evento anterior en tiempo es lejano, asi que debe ser otra \"sesion\"\n",
    "#excepto por el caso de la fila 24, que arranca con 80. hay que ver otros casos similares"
   ]
  },
  {
   "cell_type": "code",
   "execution_count": 22,
   "metadata": {},
   "outputs": [
    {
     "data": {
      "text/html": [
       "<div>\n",
       "<style scoped>\n",
       "    .dataframe tbody tr th:only-of-type {\n",
       "        vertical-align: middle;\n",
       "    }\n",
       "\n",
       "    .dataframe tbody tr th {\n",
       "        vertical-align: top;\n",
       "    }\n",
       "\n",
       "    .dataframe thead th {\n",
       "        text-align: right;\n",
       "    }\n",
       "</style>\n",
       "<table border=\"1\" class=\"dataframe\">\n",
       "  <thead>\n",
       "    <tr style=\"text-align: right;\">\n",
       "      <th></th>\n",
       "      <th>ref_hash</th>\n",
       "      <th>date</th>\n",
       "      <th>created</th>\n",
       "      <th>event_install_delta</th>\n",
       "      <th>event_id</th>\n",
       "    </tr>\n",
       "  </thead>\n",
       "  <tbody>\n",
       "    <tr>\n",
       "      <th>76</th>\n",
       "      <td>9137998220583496972</td>\n",
       "      <td>2019-03-09 00:30:14.782</td>\n",
       "      <td>2019-03-10 03:25:06.939</td>\n",
       "      <td>-2 days +21:05:07.843000</td>\n",
       "      <td>33</td>\n",
       "    </tr>\n",
       "    <tr>\n",
       "      <th>88</th>\n",
       "      <td>9137998220583496972</td>\n",
       "      <td>2019-03-09 02:51:17.796</td>\n",
       "      <td>2019-03-10 03:25:06.939</td>\n",
       "      <td>-2 days +23:26:10.857000</td>\n",
       "      <td>1</td>\n",
       "    </tr>\n",
       "    <tr>\n",
       "      <th>87</th>\n",
       "      <td>9137998220583496972</td>\n",
       "      <td>2019-03-09 02:59:14.847</td>\n",
       "      <td>2019-03-10 03:25:06.939</td>\n",
       "      <td>-2 days +23:34:07.908000</td>\n",
       "      <td>33</td>\n",
       "    </tr>\n",
       "    <tr>\n",
       "      <th>89</th>\n",
       "      <td>9137998220583496972</td>\n",
       "      <td>2019-03-09 03:00:24.740</td>\n",
       "      <td>2019-03-10 03:25:06.939</td>\n",
       "      <td>-2 days +23:35:17.801000</td>\n",
       "      <td>33</td>\n",
       "    </tr>\n",
       "    <tr>\n",
       "      <th>24</th>\n",
       "      <td>9137998220583496972</td>\n",
       "      <td>2019-03-10 03:25:08.572</td>\n",
       "      <td>2019-03-10 03:25:06.939</td>\n",
       "      <td>0 days 00:00:01.633000</td>\n",
       "      <td>80</td>\n",
       "    </tr>\n",
       "    <tr>\n",
       "      <th>23</th>\n",
       "      <td>9137998220583496972</td>\n",
       "      <td>2019-03-10 03:25:10.077</td>\n",
       "      <td>2019-03-10 03:25:06.939</td>\n",
       "      <td>0 days 00:00:03.138000</td>\n",
       "      <td>80</td>\n",
       "    </tr>\n",
       "    <tr>\n",
       "      <th>22</th>\n",
       "      <td>9137998220583496972</td>\n",
       "      <td>2019-03-10 03:25:13.866</td>\n",
       "      <td>2019-03-10 03:25:06.939</td>\n",
       "      <td>0 days 00:00:06.927000</td>\n",
       "      <td>81</td>\n",
       "    </tr>\n",
       "    <tr>\n",
       "      <th>21</th>\n",
       "      <td>9137998220583496972</td>\n",
       "      <td>2019-03-10 13:07:41.761</td>\n",
       "      <td>2019-03-10 03:25:06.939</td>\n",
       "      <td>0 days 09:42:34.822000</td>\n",
       "      <td>80</td>\n",
       "    </tr>\n",
       "    <tr>\n",
       "      <th>19</th>\n",
       "      <td>9137998220583496972</td>\n",
       "      <td>2019-03-10 18:04:47.323</td>\n",
       "      <td>2019-03-10 03:25:06.939</td>\n",
       "      <td>0 days 14:39:40.384000</td>\n",
       "      <td>1</td>\n",
       "    </tr>\n",
       "    <tr>\n",
       "      <th>20</th>\n",
       "      <td>9137998220583496972</td>\n",
       "      <td>2019-03-10 19:10:49.349</td>\n",
       "      <td>2019-03-10 03:25:06.939</td>\n",
       "      <td>0 days 15:45:42.410000</td>\n",
       "      <td>1</td>\n",
       "    </tr>\n",
       "  </tbody>\n",
       "</table>\n",
       "</div>"
      ],
      "text/plain": [
       "               ref_hash                    date                 created  \\\n",
       "76  9137998220583496972 2019-03-09 00:30:14.782 2019-03-10 03:25:06.939   \n",
       "88  9137998220583496972 2019-03-09 02:51:17.796 2019-03-10 03:25:06.939   \n",
       "87  9137998220583496972 2019-03-09 02:59:14.847 2019-03-10 03:25:06.939   \n",
       "89  9137998220583496972 2019-03-09 03:00:24.740 2019-03-10 03:25:06.939   \n",
       "24  9137998220583496972 2019-03-10 03:25:08.572 2019-03-10 03:25:06.939   \n",
       "23  9137998220583496972 2019-03-10 03:25:10.077 2019-03-10 03:25:06.939   \n",
       "22  9137998220583496972 2019-03-10 03:25:13.866 2019-03-10 03:25:06.939   \n",
       "21  9137998220583496972 2019-03-10 13:07:41.761 2019-03-10 03:25:06.939   \n",
       "19  9137998220583496972 2019-03-10 18:04:47.323 2019-03-10 03:25:06.939   \n",
       "20  9137998220583496972 2019-03-10 19:10:49.349 2019-03-10 03:25:06.939   \n",
       "\n",
       "        event_install_delta  event_id  \n",
       "76 -2 days +21:05:07.843000        33  \n",
       "88 -2 days +23:26:10.857000         1  \n",
       "87 -2 days +23:34:07.908000        33  \n",
       "89 -2 days +23:35:17.801000        33  \n",
       "24   0 days 00:00:01.633000        80  \n",
       "23   0 days 00:00:03.138000        80  \n",
       "22   0 days 00:00:06.927000        81  \n",
       "21   0 days 09:42:34.822000        80  \n",
       "19   0 days 14:39:40.384000         1  \n",
       "20   0 days 15:45:42.410000         1  "
      ]
     },
     "execution_count": 22,
     "metadata": {},
     "output_type": "execute_result"
    }
   ],
   "source": [
    "events_installs_dates[events_installs_dates[\"ref_hash\"] == 9137998220583496972].sort_values(by=\"date\").tail(10)"
   ]
  },
  {
   "cell_type": "code",
   "execution_count": 23,
   "metadata": {},
   "outputs": [],
   "source": [
    "#en este caso todos los eventos son 22, pero parecen corresponder a la misma sesion"
   ]
  },
  {
   "cell_type": "code",
   "execution_count": 24,
   "metadata": {},
   "outputs": [
    {
     "data": {
      "text/html": [
       "<div>\n",
       "<style scoped>\n",
       "    .dataframe tbody tr th:only-of-type {\n",
       "        vertical-align: middle;\n",
       "    }\n",
       "\n",
       "    .dataframe tbody tr th {\n",
       "        vertical-align: top;\n",
       "    }\n",
       "\n",
       "    .dataframe thead th {\n",
       "        text-align: right;\n",
       "    }\n",
       "</style>\n",
       "<table border=\"1\" class=\"dataframe\">\n",
       "  <thead>\n",
       "    <tr style=\"text-align: right;\">\n",
       "      <th></th>\n",
       "      <th>ref_hash</th>\n",
       "      <th>date</th>\n",
       "      <th>created</th>\n",
       "      <th>event_install_delta</th>\n",
       "      <th>event_id</th>\n",
       "    </tr>\n",
       "  </thead>\n",
       "  <tbody>\n",
       "    <tr>\n",
       "      <th>48089</th>\n",
       "      <td>3825524615010901958</td>\n",
       "      <td>2019-03-12 01:54:10.514</td>\n",
       "      <td>2019-03-12 01:54:06.304</td>\n",
       "      <td>00:00:04.210000</td>\n",
       "      <td>22</td>\n",
       "    </tr>\n",
       "    <tr>\n",
       "      <th>48087</th>\n",
       "      <td>3825524615010901958</td>\n",
       "      <td>2019-03-12 01:54:11.269</td>\n",
       "      <td>2019-03-12 01:54:06.304</td>\n",
       "      <td>00:00:04.965000</td>\n",
       "      <td>22</td>\n",
       "    </tr>\n",
       "    <tr>\n",
       "      <th>48086</th>\n",
       "      <td>3825524615010901958</td>\n",
       "      <td>2019-03-12 01:54:31.001</td>\n",
       "      <td>2019-03-12 01:54:06.304</td>\n",
       "      <td>00:00:24.697000</td>\n",
       "      <td>22</td>\n",
       "    </tr>\n",
       "    <tr>\n",
       "      <th>48085</th>\n",
       "      <td>3825524615010901958</td>\n",
       "      <td>2019-03-12 01:55:36.241</td>\n",
       "      <td>2019-03-12 01:54:06.304</td>\n",
       "      <td>00:01:29.937000</td>\n",
       "      <td>22</td>\n",
       "    </tr>\n",
       "    <tr>\n",
       "      <th>48088</th>\n",
       "      <td>3825524615010901958</td>\n",
       "      <td>2019-03-12 01:56:14.262</td>\n",
       "      <td>2019-03-12 01:54:06.304</td>\n",
       "      <td>00:02:07.958000</td>\n",
       "      <td>22</td>\n",
       "    </tr>\n",
       "    <tr>\n",
       "      <th>48084</th>\n",
       "      <td>3825524615010901958</td>\n",
       "      <td>2019-03-12 02:05:03.640</td>\n",
       "      <td>2019-03-12 01:54:06.304</td>\n",
       "      <td>00:10:57.336000</td>\n",
       "      <td>22</td>\n",
       "    </tr>\n",
       "    <tr>\n",
       "      <th>48082</th>\n",
       "      <td>3825524615010901958</td>\n",
       "      <td>2019-03-12 02:05:47.472</td>\n",
       "      <td>2019-03-12 01:54:06.304</td>\n",
       "      <td>00:11:41.168000</td>\n",
       "      <td>22</td>\n",
       "    </tr>\n",
       "    <tr>\n",
       "      <th>48078</th>\n",
       "      <td>3825524615010901958</td>\n",
       "      <td>2019-03-12 02:07:49.397</td>\n",
       "      <td>2019-03-12 01:54:06.304</td>\n",
       "      <td>00:13:43.093000</td>\n",
       "      <td>22</td>\n",
       "    </tr>\n",
       "    <tr>\n",
       "      <th>48083</th>\n",
       "      <td>3825524615010901958</td>\n",
       "      <td>2019-03-12 02:11:30.648</td>\n",
       "      <td>2019-03-12 01:54:06.304</td>\n",
       "      <td>00:17:24.344000</td>\n",
       "      <td>22</td>\n",
       "    </tr>\n",
       "    <tr>\n",
       "      <th>48077</th>\n",
       "      <td>3825524615010901958</td>\n",
       "      <td>2019-03-12 02:19:20.824</td>\n",
       "      <td>2019-03-12 01:54:06.304</td>\n",
       "      <td>00:25:14.520000</td>\n",
       "      <td>22</td>\n",
       "    </tr>\n",
       "    <tr>\n",
       "      <th>48076</th>\n",
       "      <td>3825524615010901958</td>\n",
       "      <td>2019-03-12 02:19:22.294</td>\n",
       "      <td>2019-03-12 01:54:06.304</td>\n",
       "      <td>00:25:15.990000</td>\n",
       "      <td>22</td>\n",
       "    </tr>\n",
       "    <tr>\n",
       "      <th>48073</th>\n",
       "      <td>3825524615010901958</td>\n",
       "      <td>2019-03-12 02:19:37.746</td>\n",
       "      <td>2019-03-12 01:54:06.304</td>\n",
       "      <td>00:25:31.442000</td>\n",
       "      <td>22</td>\n",
       "    </tr>\n",
       "    <tr>\n",
       "      <th>48069</th>\n",
       "      <td>3825524615010901958</td>\n",
       "      <td>2019-03-12 02:19:43.365</td>\n",
       "      <td>2019-03-12 01:54:06.304</td>\n",
       "      <td>00:25:37.061000</td>\n",
       "      <td>22</td>\n",
       "    </tr>\n",
       "    <tr>\n",
       "      <th>48070</th>\n",
       "      <td>3825524615010901958</td>\n",
       "      <td>2019-03-12 02:19:51.340</td>\n",
       "      <td>2019-03-12 01:54:06.304</td>\n",
       "      <td>00:25:45.036000</td>\n",
       "      <td>22</td>\n",
       "    </tr>\n",
       "    <tr>\n",
       "      <th>48075</th>\n",
       "      <td>3825524615010901958</td>\n",
       "      <td>2019-03-12 02:20:14.571</td>\n",
       "      <td>2019-03-12 01:54:06.304</td>\n",
       "      <td>00:26:08.267000</td>\n",
       "      <td>22</td>\n",
       "    </tr>\n",
       "    <tr>\n",
       "      <th>48067</th>\n",
       "      <td>3825524615010901958</td>\n",
       "      <td>2019-03-12 02:20:28.973</td>\n",
       "      <td>2019-03-12 01:54:06.304</td>\n",
       "      <td>00:26:22.669000</td>\n",
       "      <td>22</td>\n",
       "    </tr>\n",
       "    <tr>\n",
       "      <th>48079</th>\n",
       "      <td>3825524615010901958</td>\n",
       "      <td>2019-03-12 02:21:04.889</td>\n",
       "      <td>2019-03-12 01:54:06.304</td>\n",
       "      <td>00:26:58.585000</td>\n",
       "      <td>22</td>\n",
       "    </tr>\n",
       "    <tr>\n",
       "      <th>48071</th>\n",
       "      <td>3825524615010901958</td>\n",
       "      <td>2019-03-12 02:23:32.904</td>\n",
       "      <td>2019-03-12 01:54:06.304</td>\n",
       "      <td>00:29:26.600000</td>\n",
       "      <td>22</td>\n",
       "    </tr>\n",
       "    <tr>\n",
       "      <th>48072</th>\n",
       "      <td>3825524615010901958</td>\n",
       "      <td>2019-03-12 02:24:53.841</td>\n",
       "      <td>2019-03-12 01:54:06.304</td>\n",
       "      <td>00:30:47.537000</td>\n",
       "      <td>22</td>\n",
       "    </tr>\n",
       "    <tr>\n",
       "      <th>48074</th>\n",
       "      <td>3825524615010901958</td>\n",
       "      <td>2019-03-12 02:29:17.388</td>\n",
       "      <td>2019-03-12 01:54:06.304</td>\n",
       "      <td>00:35:11.084000</td>\n",
       "      <td>22</td>\n",
       "    </tr>\n",
       "    <tr>\n",
       "      <th>48080</th>\n",
       "      <td>3825524615010901958</td>\n",
       "      <td>2019-03-12 02:29:56.334</td>\n",
       "      <td>2019-03-12 01:54:06.304</td>\n",
       "      <td>00:35:50.030000</td>\n",
       "      <td>22</td>\n",
       "    </tr>\n",
       "    <tr>\n",
       "      <th>48068</th>\n",
       "      <td>3825524615010901958</td>\n",
       "      <td>2019-03-12 02:34:15.303</td>\n",
       "      <td>2019-03-12 01:54:06.304</td>\n",
       "      <td>00:40:08.999000</td>\n",
       "      <td>22</td>\n",
       "    </tr>\n",
       "    <tr>\n",
       "      <th>48081</th>\n",
       "      <td>3825524615010901958</td>\n",
       "      <td>2019-03-12 02:34:21.442</td>\n",
       "      <td>2019-03-12 01:54:06.304</td>\n",
       "      <td>00:40:15.138000</td>\n",
       "      <td>22</td>\n",
       "    </tr>\n",
       "    <tr>\n",
       "      <th>48091</th>\n",
       "      <td>3825524615010901958</td>\n",
       "      <td>2019-03-12 03:04:41.228</td>\n",
       "      <td>2019-03-12 01:54:06.304</td>\n",
       "      <td>01:10:34.924000</td>\n",
       "      <td>22</td>\n",
       "    </tr>\n",
       "    <tr>\n",
       "      <th>48090</th>\n",
       "      <td>3825524615010901958</td>\n",
       "      <td>2019-03-12 03:35:08.293</td>\n",
       "      <td>2019-03-12 01:54:06.304</td>\n",
       "      <td>01:41:01.989000</td>\n",
       "      <td>22</td>\n",
       "    </tr>\n",
       "    <tr>\n",
       "      <th>48092</th>\n",
       "      <td>3825524615010901958</td>\n",
       "      <td>2019-03-12 03:45:03.130</td>\n",
       "      <td>2019-03-12 01:54:06.304</td>\n",
       "      <td>01:50:56.826000</td>\n",
       "      <td>22</td>\n",
       "    </tr>\n",
       "    <tr>\n",
       "      <th>48093</th>\n",
       "      <td>3825524615010901958</td>\n",
       "      <td>2019-03-12 04:57:12.748</td>\n",
       "      <td>2019-03-12 01:54:06.304</td>\n",
       "      <td>03:03:06.444000</td>\n",
       "      <td>22</td>\n",
       "    </tr>\n",
       "  </tbody>\n",
       "</table>\n",
       "</div>"
      ],
      "text/plain": [
       "                  ref_hash                    date                 created  \\\n",
       "48089  3825524615010901958 2019-03-12 01:54:10.514 2019-03-12 01:54:06.304   \n",
       "48087  3825524615010901958 2019-03-12 01:54:11.269 2019-03-12 01:54:06.304   \n",
       "48086  3825524615010901958 2019-03-12 01:54:31.001 2019-03-12 01:54:06.304   \n",
       "48085  3825524615010901958 2019-03-12 01:55:36.241 2019-03-12 01:54:06.304   \n",
       "48088  3825524615010901958 2019-03-12 01:56:14.262 2019-03-12 01:54:06.304   \n",
       "48084  3825524615010901958 2019-03-12 02:05:03.640 2019-03-12 01:54:06.304   \n",
       "48082  3825524615010901958 2019-03-12 02:05:47.472 2019-03-12 01:54:06.304   \n",
       "48078  3825524615010901958 2019-03-12 02:07:49.397 2019-03-12 01:54:06.304   \n",
       "48083  3825524615010901958 2019-03-12 02:11:30.648 2019-03-12 01:54:06.304   \n",
       "48077  3825524615010901958 2019-03-12 02:19:20.824 2019-03-12 01:54:06.304   \n",
       "48076  3825524615010901958 2019-03-12 02:19:22.294 2019-03-12 01:54:06.304   \n",
       "48073  3825524615010901958 2019-03-12 02:19:37.746 2019-03-12 01:54:06.304   \n",
       "48069  3825524615010901958 2019-03-12 02:19:43.365 2019-03-12 01:54:06.304   \n",
       "48070  3825524615010901958 2019-03-12 02:19:51.340 2019-03-12 01:54:06.304   \n",
       "48075  3825524615010901958 2019-03-12 02:20:14.571 2019-03-12 01:54:06.304   \n",
       "48067  3825524615010901958 2019-03-12 02:20:28.973 2019-03-12 01:54:06.304   \n",
       "48079  3825524615010901958 2019-03-12 02:21:04.889 2019-03-12 01:54:06.304   \n",
       "48071  3825524615010901958 2019-03-12 02:23:32.904 2019-03-12 01:54:06.304   \n",
       "48072  3825524615010901958 2019-03-12 02:24:53.841 2019-03-12 01:54:06.304   \n",
       "48074  3825524615010901958 2019-03-12 02:29:17.388 2019-03-12 01:54:06.304   \n",
       "48080  3825524615010901958 2019-03-12 02:29:56.334 2019-03-12 01:54:06.304   \n",
       "48068  3825524615010901958 2019-03-12 02:34:15.303 2019-03-12 01:54:06.304   \n",
       "48081  3825524615010901958 2019-03-12 02:34:21.442 2019-03-12 01:54:06.304   \n",
       "48091  3825524615010901958 2019-03-12 03:04:41.228 2019-03-12 01:54:06.304   \n",
       "48090  3825524615010901958 2019-03-12 03:35:08.293 2019-03-12 01:54:06.304   \n",
       "48092  3825524615010901958 2019-03-12 03:45:03.130 2019-03-12 01:54:06.304   \n",
       "48093  3825524615010901958 2019-03-12 04:57:12.748 2019-03-12 01:54:06.304   \n",
       "\n",
       "      event_install_delta  event_id  \n",
       "48089     00:00:04.210000        22  \n",
       "48087     00:00:04.965000        22  \n",
       "48086     00:00:24.697000        22  \n",
       "48085     00:01:29.937000        22  \n",
       "48088     00:02:07.958000        22  \n",
       "48084     00:10:57.336000        22  \n",
       "48082     00:11:41.168000        22  \n",
       "48078     00:13:43.093000        22  \n",
       "48083     00:17:24.344000        22  \n",
       "48077     00:25:14.520000        22  \n",
       "48076     00:25:15.990000        22  \n",
       "48073     00:25:31.442000        22  \n",
       "48069     00:25:37.061000        22  \n",
       "48070     00:25:45.036000        22  \n",
       "48075     00:26:08.267000        22  \n",
       "48067     00:26:22.669000        22  \n",
       "48079     00:26:58.585000        22  \n",
       "48071     00:29:26.600000        22  \n",
       "48072     00:30:47.537000        22  \n",
       "48074     00:35:11.084000        22  \n",
       "48080     00:35:50.030000        22  \n",
       "48068     00:40:08.999000        22  \n",
       "48081     00:40:15.138000        22  \n",
       "48091     01:10:34.924000        22  \n",
       "48090     01:41:01.989000        22  \n",
       "48092     01:50:56.826000        22  \n",
       "48093     03:03:06.444000        22  "
      ]
     },
     "execution_count": 24,
     "metadata": {},
     "output_type": "execute_result"
    }
   ],
   "source": [
    "events_installs_dates[events_installs_dates[\"ref_hash\"] == 3825524615010901958].sort_values(by=\"date\")"
   ]
  },
  {
   "cell_type": "code",
   "execution_count": 25,
   "metadata": {},
   "outputs": [
    {
     "data": {
      "text/html": [
       "<div>\n",
       "<style scoped>\n",
       "    .dataframe tbody tr th:only-of-type {\n",
       "        vertical-align: middle;\n",
       "    }\n",
       "\n",
       "    .dataframe tbody tr th {\n",
       "        vertical-align: top;\n",
       "    }\n",
       "\n",
       "    .dataframe thead th {\n",
       "        text-align: right;\n",
       "    }\n",
       "</style>\n",
       "<table border=\"1\" class=\"dataframe\">\n",
       "  <thead>\n",
       "    <tr style=\"text-align: right;\">\n",
       "      <th></th>\n",
       "      <th>ref_hash</th>\n",
       "      <th>date</th>\n",
       "      <th>created</th>\n",
       "      <th>event_install_delta</th>\n",
       "      <th>event_id</th>\n",
       "    </tr>\n",
       "  </thead>\n",
       "  <tbody>\n",
       "    <tr>\n",
       "      <th>44687</th>\n",
       "      <td>2808800821029079796</td>\n",
       "      <td>2019-03-07 20:12:21.168</td>\n",
       "      <td>2019-03-10 14:21:05.625</td>\n",
       "      <td>-3 days +05:51:15.543000</td>\n",
       "      <td>80</td>\n",
       "    </tr>\n",
       "    <tr>\n",
       "      <th>44686</th>\n",
       "      <td>2808800821029079796</td>\n",
       "      <td>2019-03-07 20:12:25.070</td>\n",
       "      <td>2019-03-10 14:21:05.625</td>\n",
       "      <td>-3 days +05:51:19.445000</td>\n",
       "      <td>80</td>\n",
       "    </tr>\n",
       "    <tr>\n",
       "      <th>44685</th>\n",
       "      <td>2808800821029079796</td>\n",
       "      <td>2019-03-07 20:12:42.700</td>\n",
       "      <td>2019-03-10 14:21:05.625</td>\n",
       "      <td>-3 days +05:51:37.075000</td>\n",
       "      <td>1</td>\n",
       "    </tr>\n",
       "    <tr>\n",
       "      <th>44678</th>\n",
       "      <td>2808800821029079796</td>\n",
       "      <td>2019-03-07 20:12:54.580</td>\n",
       "      <td>2019-03-10 14:21:05.625</td>\n",
       "      <td>-3 days +05:51:48.955000</td>\n",
       "      <td>81</td>\n",
       "    </tr>\n",
       "    <tr>\n",
       "      <th>44682</th>\n",
       "      <td>2808800821029079796</td>\n",
       "      <td>2019-03-07 20:13:47.690</td>\n",
       "      <td>2019-03-10 14:21:05.625</td>\n",
       "      <td>-3 days +05:52:42.065000</td>\n",
       "      <td>83</td>\n",
       "    </tr>\n",
       "    <tr>\n",
       "      <th>44688</th>\n",
       "      <td>2808800821029079796</td>\n",
       "      <td>2019-03-07 20:14:26.765</td>\n",
       "      <td>2019-03-10 14:21:05.625</td>\n",
       "      <td>-3 days +05:53:21.140000</td>\n",
       "      <td>86</td>\n",
       "    </tr>\n",
       "    <tr>\n",
       "      <th>44680</th>\n",
       "      <td>2808800821029079796</td>\n",
       "      <td>2019-03-07 20:14:48.648</td>\n",
       "      <td>2019-03-10 14:21:05.625</td>\n",
       "      <td>-3 days +05:53:43.023000</td>\n",
       "      <td>118</td>\n",
       "    </tr>\n",
       "    <tr>\n",
       "      <th>44679</th>\n",
       "      <td>2808800821029079796</td>\n",
       "      <td>2019-03-07 20:14:58.111</td>\n",
       "      <td>2019-03-10 14:21:05.625</td>\n",
       "      <td>-3 days +05:53:52.486000</td>\n",
       "      <td>118</td>\n",
       "    </tr>\n",
       "    <tr>\n",
       "      <th>44689</th>\n",
       "      <td>2808800821029079796</td>\n",
       "      <td>2019-03-07 20:15:16.450</td>\n",
       "      <td>2019-03-10 14:21:05.625</td>\n",
       "      <td>-3 days +05:54:10.825000</td>\n",
       "      <td>118</td>\n",
       "    </tr>\n",
       "    <tr>\n",
       "      <th>44681</th>\n",
       "      <td>2808800821029079796</td>\n",
       "      <td>2019-03-07 20:16:05.916</td>\n",
       "      <td>2019-03-10 14:21:05.625</td>\n",
       "      <td>-3 days +05:55:00.291000</td>\n",
       "      <td>83</td>\n",
       "    </tr>\n",
       "    <tr>\n",
       "      <th>44684</th>\n",
       "      <td>2808800821029079796</td>\n",
       "      <td>2019-03-07 20:16:45.757</td>\n",
       "      <td>2019-03-10 14:21:05.625</td>\n",
       "      <td>-3 days +05:55:40.132000</td>\n",
       "      <td>83</td>\n",
       "    </tr>\n",
       "    <tr>\n",
       "      <th>44683</th>\n",
       "      <td>2808800821029079796</td>\n",
       "      <td>2019-03-07 20:17:59.168</td>\n",
       "      <td>2019-03-10 14:21:05.625</td>\n",
       "      <td>-3 days +05:56:53.543000</td>\n",
       "      <td>83</td>\n",
       "    </tr>\n",
       "    <tr>\n",
       "      <th>44690</th>\n",
       "      <td>2808800821029079796</td>\n",
       "      <td>2019-03-07 20:21:34.587</td>\n",
       "      <td>2019-03-10 14:21:05.625</td>\n",
       "      <td>-3 days +06:00:28.962000</td>\n",
       "      <td>89</td>\n",
       "    </tr>\n",
       "    <tr>\n",
       "      <th>44691</th>\n",
       "      <td>2808800821029079796</td>\n",
       "      <td>2019-03-08 11:46:08.467</td>\n",
       "      <td>2019-03-10 14:21:05.625</td>\n",
       "      <td>-3 days +21:25:02.842000</td>\n",
       "      <td>80</td>\n",
       "    </tr>\n",
       "    <tr>\n",
       "      <th>44668</th>\n",
       "      <td>2808800821029079796</td>\n",
       "      <td>2019-03-08 11:46:10.077</td>\n",
       "      <td>2019-03-10 14:21:05.625</td>\n",
       "      <td>-3 days +21:25:04.452000</td>\n",
       "      <td>80</td>\n",
       "    </tr>\n",
       "    <tr>\n",
       "      <th>44692</th>\n",
       "      <td>2808800821029079796</td>\n",
       "      <td>2019-03-08 11:46:11.703</td>\n",
       "      <td>2019-03-10 14:21:05.625</td>\n",
       "      <td>-3 days +21:25:06.078000</td>\n",
       "      <td>1</td>\n",
       "    </tr>\n",
       "    <tr>\n",
       "      <th>44669</th>\n",
       "      <td>2808800821029079796</td>\n",
       "      <td>2019-03-08 11:46:13.402</td>\n",
       "      <td>2019-03-10 14:21:05.625</td>\n",
       "      <td>-3 days +21:25:07.777000</td>\n",
       "      <td>81</td>\n",
       "    </tr>\n",
       "    <tr>\n",
       "      <th>44693</th>\n",
       "      <td>2808800821029079796</td>\n",
       "      <td>2019-03-08 11:46:14.508</td>\n",
       "      <td>2019-03-10 14:21:05.625</td>\n",
       "      <td>-3 days +21:25:08.883000</td>\n",
       "      <td>83</td>\n",
       "    </tr>\n",
       "    <tr>\n",
       "      <th>44667</th>\n",
       "      <td>2808800821029079796</td>\n",
       "      <td>2019-03-09 20:01:29.998</td>\n",
       "      <td>2019-03-10 14:21:05.625</td>\n",
       "      <td>-1 days +05:40:24.373000</td>\n",
       "      <td>80</td>\n",
       "    </tr>\n",
       "    <tr>\n",
       "      <th>44670</th>\n",
       "      <td>2808800821029079796</td>\n",
       "      <td>2019-03-10 14:21:05.625</td>\n",
       "      <td>2019-03-10 14:21:05.625</td>\n",
       "      <td>0 days 00:00:00</td>\n",
       "      <td>22</td>\n",
       "    </tr>\n",
       "    <tr>\n",
       "      <th>44671</th>\n",
       "      <td>2808800821029079796</td>\n",
       "      <td>2019-03-10 21:39:38.017</td>\n",
       "      <td>2019-03-10 14:21:05.625</td>\n",
       "      <td>0 days 07:18:32.392000</td>\n",
       "      <td>80</td>\n",
       "    </tr>\n",
       "    <tr>\n",
       "      <th>44674</th>\n",
       "      <td>2808800821029079796</td>\n",
       "      <td>2019-03-10 21:39:39.339</td>\n",
       "      <td>2019-03-10 14:21:05.625</td>\n",
       "      <td>0 days 07:18:33.714000</td>\n",
       "      <td>1</td>\n",
       "    </tr>\n",
       "    <tr>\n",
       "      <th>44677</th>\n",
       "      <td>2808800821029079796</td>\n",
       "      <td>2019-03-10 21:39:40.646</td>\n",
       "      <td>2019-03-10 14:21:05.625</td>\n",
       "      <td>0 days 07:18:35.021000</td>\n",
       "      <td>81</td>\n",
       "    </tr>\n",
       "    <tr>\n",
       "      <th>44675</th>\n",
       "      <td>2808800821029079796</td>\n",
       "      <td>2019-03-10 21:39:43.356</td>\n",
       "      <td>2019-03-10 14:21:05.625</td>\n",
       "      <td>0 days 07:18:37.731000</td>\n",
       "      <td>80</td>\n",
       "    </tr>\n",
       "    <tr>\n",
       "      <th>44672</th>\n",
       "      <td>2808800821029079796</td>\n",
       "      <td>2019-03-10 21:39:45.021</td>\n",
       "      <td>2019-03-10 14:21:05.625</td>\n",
       "      <td>0 days 07:18:39.396000</td>\n",
       "      <td>80</td>\n",
       "    </tr>\n",
       "    <tr>\n",
       "      <th>44673</th>\n",
       "      <td>2808800821029079796</td>\n",
       "      <td>2019-03-10 21:39:46.561</td>\n",
       "      <td>2019-03-10 14:21:05.625</td>\n",
       "      <td>0 days 07:18:40.936000</td>\n",
       "      <td>1</td>\n",
       "    </tr>\n",
       "    <tr>\n",
       "      <th>44676</th>\n",
       "      <td>2808800821029079796</td>\n",
       "      <td>2019-03-10 21:39:48.280</td>\n",
       "      <td>2019-03-10 14:21:05.625</td>\n",
       "      <td>0 days 07:18:42.655000</td>\n",
       "      <td>81</td>\n",
       "    </tr>\n",
       "  </tbody>\n",
       "</table>\n",
       "</div>"
      ],
      "text/plain": [
       "                  ref_hash                    date                 created  \\\n",
       "44687  2808800821029079796 2019-03-07 20:12:21.168 2019-03-10 14:21:05.625   \n",
       "44686  2808800821029079796 2019-03-07 20:12:25.070 2019-03-10 14:21:05.625   \n",
       "44685  2808800821029079796 2019-03-07 20:12:42.700 2019-03-10 14:21:05.625   \n",
       "44678  2808800821029079796 2019-03-07 20:12:54.580 2019-03-10 14:21:05.625   \n",
       "44682  2808800821029079796 2019-03-07 20:13:47.690 2019-03-10 14:21:05.625   \n",
       "44688  2808800821029079796 2019-03-07 20:14:26.765 2019-03-10 14:21:05.625   \n",
       "44680  2808800821029079796 2019-03-07 20:14:48.648 2019-03-10 14:21:05.625   \n",
       "44679  2808800821029079796 2019-03-07 20:14:58.111 2019-03-10 14:21:05.625   \n",
       "44689  2808800821029079796 2019-03-07 20:15:16.450 2019-03-10 14:21:05.625   \n",
       "44681  2808800821029079796 2019-03-07 20:16:05.916 2019-03-10 14:21:05.625   \n",
       "44684  2808800821029079796 2019-03-07 20:16:45.757 2019-03-10 14:21:05.625   \n",
       "44683  2808800821029079796 2019-03-07 20:17:59.168 2019-03-10 14:21:05.625   \n",
       "44690  2808800821029079796 2019-03-07 20:21:34.587 2019-03-10 14:21:05.625   \n",
       "44691  2808800821029079796 2019-03-08 11:46:08.467 2019-03-10 14:21:05.625   \n",
       "44668  2808800821029079796 2019-03-08 11:46:10.077 2019-03-10 14:21:05.625   \n",
       "44692  2808800821029079796 2019-03-08 11:46:11.703 2019-03-10 14:21:05.625   \n",
       "44669  2808800821029079796 2019-03-08 11:46:13.402 2019-03-10 14:21:05.625   \n",
       "44693  2808800821029079796 2019-03-08 11:46:14.508 2019-03-10 14:21:05.625   \n",
       "44667  2808800821029079796 2019-03-09 20:01:29.998 2019-03-10 14:21:05.625   \n",
       "44670  2808800821029079796 2019-03-10 14:21:05.625 2019-03-10 14:21:05.625   \n",
       "44671  2808800821029079796 2019-03-10 21:39:38.017 2019-03-10 14:21:05.625   \n",
       "44674  2808800821029079796 2019-03-10 21:39:39.339 2019-03-10 14:21:05.625   \n",
       "44677  2808800821029079796 2019-03-10 21:39:40.646 2019-03-10 14:21:05.625   \n",
       "44675  2808800821029079796 2019-03-10 21:39:43.356 2019-03-10 14:21:05.625   \n",
       "44672  2808800821029079796 2019-03-10 21:39:45.021 2019-03-10 14:21:05.625   \n",
       "44673  2808800821029079796 2019-03-10 21:39:46.561 2019-03-10 14:21:05.625   \n",
       "44676  2808800821029079796 2019-03-10 21:39:48.280 2019-03-10 14:21:05.625   \n",
       "\n",
       "           event_install_delta  event_id  \n",
       "44687 -3 days +05:51:15.543000        80  \n",
       "44686 -3 days +05:51:19.445000        80  \n",
       "44685 -3 days +05:51:37.075000         1  \n",
       "44678 -3 days +05:51:48.955000        81  \n",
       "44682 -3 days +05:52:42.065000        83  \n",
       "44688 -3 days +05:53:21.140000        86  \n",
       "44680 -3 days +05:53:43.023000       118  \n",
       "44679 -3 days +05:53:52.486000       118  \n",
       "44689 -3 days +05:54:10.825000       118  \n",
       "44681 -3 days +05:55:00.291000        83  \n",
       "44684 -3 days +05:55:40.132000        83  \n",
       "44683 -3 days +05:56:53.543000        83  \n",
       "44690 -3 days +06:00:28.962000        89  \n",
       "44691 -3 days +21:25:02.842000        80  \n",
       "44668 -3 days +21:25:04.452000        80  \n",
       "44692 -3 days +21:25:06.078000         1  \n",
       "44669 -3 days +21:25:07.777000        81  \n",
       "44693 -3 days +21:25:08.883000        83  \n",
       "44667 -1 days +05:40:24.373000        80  \n",
       "44670          0 days 00:00:00        22  \n",
       "44671   0 days 07:18:32.392000        80  \n",
       "44674   0 days 07:18:33.714000         1  \n",
       "44677   0 days 07:18:35.021000        81  \n",
       "44675   0 days 07:18:37.731000        80  \n",
       "44672   0 days 07:18:39.396000        80  \n",
       "44673   0 days 07:18:40.936000         1  \n",
       "44676   0 days 07:18:42.655000        81  "
      ]
     },
     "execution_count": 25,
     "metadata": {},
     "output_type": "execute_result"
    }
   ],
   "source": [
    "#en este caso no se arranca la sesion con evento 1 sino con el 80.\n",
    "#el evento 22 vuelve a parecer ser el de la instalacion\n",
    "events_installs_dates[events_installs_dates[\"ref_hash\"] == 2808800821029079796].sort_values(by=\"date\")"
   ]
  },
  {
   "cell_type": "code",
   "execution_count": 26,
   "metadata": {},
   "outputs": [
    {
     "data": {
      "text/plain": [
       "22     17696\n",
       "31      5756\n",
       "80      3120\n",
       "138     3039\n",
       "81      2464\n",
       "1       2385\n",
       "171     2272\n",
       "513     1726\n",
       "82      1634\n",
       "89      1097\n",
       "Name: event_id, dtype: int64"
      ]
     },
     "execution_count": 26,
     "metadata": {},
     "output_type": "execute_result"
    }
   ],
   "source": [
    "#cuales son los eventos mas comunes?\n",
    "\n",
    "events_installs[\"event_id\"].value_counts().head(10)"
   ]
  },
  {
   "cell_type": "code",
   "execution_count": 27,
   "metadata": {},
   "outputs": [],
   "source": [
    "\n",
    "#events_installs[\"event_id\"].value_counts().head(10).plot(kind=\"bar\", title)"
   ]
  },
  {
   "cell_type": "code",
   "execution_count": 28,
   "metadata": {},
   "outputs": [],
   "source": [
    "#Miremos los event id mas comunes ,en un rango de 1 minuto desde la instalacion hacia atras"
   ]
  },
  {
   "cell_type": "code",
   "execution_count": 29,
   "metadata": {},
   "outputs": [],
   "source": [
    "from datetime import timedelta\n",
    "ten_minutes_delta = timedelta(minutes=10)\n",
    "half_hour_delta = timedelta(minutes=30)\n",
    "two_hour_delta = timedelta(minutes=120)\n",
    "five_hour_delta = timedelta(minutes=300)\n",
    "one_day_delta = timedelta(days=1)"
   ]
  },
  {
   "cell_type": "code",
   "execution_count": 30,
   "metadata": {},
   "outputs": [
    {
     "data": {
      "text/html": [
       "<div>\n",
       "<style scoped>\n",
       "    .dataframe tbody tr th:only-of-type {\n",
       "        vertical-align: middle;\n",
       "    }\n",
       "\n",
       "    .dataframe tbody tr th {\n",
       "        vertical-align: top;\n",
       "    }\n",
       "\n",
       "    .dataframe thead th {\n",
       "        text-align: right;\n",
       "    }\n",
       "</style>\n",
       "<table border=\"1\" class=\"dataframe\">\n",
       "  <thead>\n",
       "    <tr style=\"text-align: right;\">\n",
       "      <th></th>\n",
       "      <th>ref_hash</th>\n",
       "      <th>date</th>\n",
       "      <th>created</th>\n",
       "      <th>event_install_delta</th>\n",
       "      <th>event_id</th>\n",
       "    </tr>\n",
       "  </thead>\n",
       "  <tbody>\n",
       "    <tr>\n",
       "      <th>5</th>\n",
       "      <td>5007008548832677915</td>\n",
       "      <td>2019-03-09 22:33:32.533</td>\n",
       "      <td>2019-03-09 22:32:48.032</td>\n",
       "      <td>00:00:44.501000</td>\n",
       "      <td>22</td>\n",
       "    </tr>\n",
       "    <tr>\n",
       "      <th>6</th>\n",
       "      <td>5007008548832677915</td>\n",
       "      <td>2019-03-09 22:32:51.465</td>\n",
       "      <td>2019-03-09 22:32:48.032</td>\n",
       "      <td>00:00:03.433000</td>\n",
       "      <td>22</td>\n",
       "    </tr>\n",
       "    <tr>\n",
       "      <th>7</th>\n",
       "      <td>5007008548832677915</td>\n",
       "      <td>2019-03-09 22:32:54.805</td>\n",
       "      <td>2019-03-09 22:32:48.032</td>\n",
       "      <td>00:00:06.773000</td>\n",
       "      <td>22</td>\n",
       "    </tr>\n",
       "    <tr>\n",
       "      <th>8</th>\n",
       "      <td>5007008548832677915</td>\n",
       "      <td>2019-03-09 01:21:02.008</td>\n",
       "      <td>2019-03-09 22:32:48.032</td>\n",
       "      <td>-1 days +02:48:13.976000</td>\n",
       "      <td>33</td>\n",
       "    </tr>\n",
       "    <tr>\n",
       "      <th>9</th>\n",
       "      <td>5007008548832677915</td>\n",
       "      <td>2019-03-09 01:41:51.713</td>\n",
       "      <td>2019-03-09 22:32:48.032</td>\n",
       "      <td>-1 days +03:09:03.681000</td>\n",
       "      <td>33</td>\n",
       "    </tr>\n",
       "  </tbody>\n",
       "</table>\n",
       "</div>"
      ],
      "text/plain": [
       "              ref_hash                    date                 created  \\\n",
       "5  5007008548832677915 2019-03-09 22:33:32.533 2019-03-09 22:32:48.032   \n",
       "6  5007008548832677915 2019-03-09 22:32:51.465 2019-03-09 22:32:48.032   \n",
       "7  5007008548832677915 2019-03-09 22:32:54.805 2019-03-09 22:32:48.032   \n",
       "8  5007008548832677915 2019-03-09 01:21:02.008 2019-03-09 22:32:48.032   \n",
       "9  5007008548832677915 2019-03-09 01:41:51.713 2019-03-09 22:32:48.032   \n",
       "\n",
       "       event_install_delta  event_id  \n",
       "5          00:00:44.501000        22  \n",
       "6          00:00:03.433000        22  \n",
       "7          00:00:06.773000        22  \n",
       "8 -1 days +02:48:13.976000        33  \n",
       "9 -1 days +03:09:03.681000        33  "
      ]
     },
     "execution_count": 30,
     "metadata": {},
     "output_type": "execute_result"
    }
   ],
   "source": [
    "events_installs_dates[events_installs_dates[\"event_install_delta\"] < half_hour_delta].head()"
   ]
  },
  {
   "cell_type": "code",
   "execution_count": 31,
   "metadata": {},
   "outputs": [],
   "source": [
    "#miro en distintas distancias de tiempo desde la instalacion"
   ]
  },
  {
   "cell_type": "code",
   "execution_count": 32,
   "metadata": {},
   "outputs": [],
   "source": [
    "#los 10 minuots mas cercanos a la instalacion tienen gran mayoria de eventos 22\n",
    "#aparece mucho el evento 138 "
   ]
  },
  {
   "cell_type": "code",
   "execution_count": 33,
   "metadata": {},
   "outputs": [
    {
     "data": {
      "text/plain": [
       "22     8154\n",
       "138    2291\n",
       "80     1615\n",
       "31     1455\n",
       "81     1303\n",
       "Name: event_id, dtype: int64"
      ]
     },
     "execution_count": 33,
     "metadata": {},
     "output_type": "execute_result"
    }
   ],
   "source": [
    "events_installs_dates[events_installs_dates[\"event_install_delta\"] < ten_minutes_delta][\"event_id\"].value_counts().head()"
   ]
  },
  {
   "cell_type": "code",
   "execution_count": 34,
   "metadata": {},
   "outputs": [
    {
     "data": {
      "text/plain": [
       "<matplotlib.axes._subplots.AxesSubplot at 0x7fd7715d0240>"
      ]
     },
     "execution_count": 34,
     "metadata": {},
     "output_type": "execute_result"
    },
    {
     "data": {
      "image/png": "[encoded data removed]",
      "text/plain": [
       "<Figure size 432x288 with 1 Axes>"
      ]
     },
     "metadata": {},
     "output_type": "display_data"
    }
   ],
   "source": [
    "events_installs_dates[events_installs_dates[\"event_install_delta\"] < ten_minutes_delta][\"event_id\"].value_counts().head().plot(kind=\"bar\")"
   ]
  },
  {
   "cell_type": "code",
   "execution_count": 35,
   "metadata": {},
   "outputs": [],
   "source": [
    "#si agrando a media hora mas cercana, la cantidad de eventos nro 138 es la misma casi\n",
    "#pero crece mucho el evento 22"
   ]
  },
  {
   "cell_type": "code",
   "execution_count": 36,
   "metadata": {},
   "outputs": [
    {
     "data": {
      "text/plain": [
       "22     9580\n",
       "138    2297\n",
       "31     1792\n",
       "80     1702\n",
       "81     1374\n",
       "Name: event_id, dtype: int64"
      ]
     },
     "execution_count": 36,
     "metadata": {},
     "output_type": "execute_result"
    }
   ],
   "source": [
    "half_hour_frequent_events = events_installs_dates[events_installs_dates[\"event_install_delta\"] < half_hour_delta][\"event_id\"].value_counts().head()\n",
    "half_hour_frequent_events"
   ]
  },
  {
   "cell_type": "code",
   "execution_count": 37,
   "metadata": {},
   "outputs": [],
   "source": [
    "half_hour_total_events = events_installs_dates[events_installs_dates[\"event_install_delta\"] < half_hour_delta][\"event_id\"].value_counts().sum()"
   ]
  },
  {
   "cell_type": "code",
   "execution_count": 38,
   "metadata": {},
   "outputs": [
    {
     "data": {
      "text/plain": [
       "Text(0, 0.5, 'percentage')"
      ]
     },
     "execution_count": 38,
     "metadata": {},
     "output_type": "execute_result"
    },
    {
     "data": {
      "image/png": "[encoded data removed]",
      "text/plain": [
       "<Figure size 432x288 with 1 Axes>"
      ]
     },
     "metadata": {},
     "output_type": "display_data"
    }
   ],
   "source": [
    "#porcentajes por eventos\n",
    "plot = (half_hour_frequent_events/half_hour_total_events*100).plot(kind=\"bar\", title=\"Event percentages in half hour delta\")\n",
    "plot.set_xlabel(\"event id\")\n",
    "plot.set_ylabel(\"percentage\")"
   ]
  },
  {
   "cell_type": "code",
   "execution_count": 39,
   "metadata": {},
   "outputs": [
    {
     "data": {
      "text/plain": [
       "Text(0, 0.5, 'percentage')"
      ]
     },
     "execution_count": 39,
     "metadata": {},
     "output_type": "execute_result"
    },
    {
     "data": {
      "image/png": "[encoded data removed]",
      "text/plain": [
       "<Figure size 432x288 with 1 Axes>"
      ]
     },
     "metadata": {},
     "output_type": "display_data"
    }
   ],
   "source": [
    "plot = (events_installs_dates[events_installs_dates[\"event_install_delta\"] < half_hour_delta][\"event_id\"].value_counts(normalize=True)*100).head(10).plot(kind=\"bar\", title=\"Event percentages in half hour delta\")\n",
    "plot.set_xlabel(\"event id\")\n",
    "plot.set_ylabel(\"percentage\")"
   ]
  },
  {
   "cell_type": "code",
   "execution_count": null,
   "metadata": {},
   "outputs": [],
   "source": []
  },
  {
   "cell_type": "code",
   "execution_count": null,
   "metadata": {},
   "outputs": [],
   "source": []
  },
  {
   "cell_type": "code",
   "execution_count": 40,
   "metadata": {},
   "outputs": [],
   "source": [
    "#miro los eventos mas comunes con mas de 2 horas de diferencia con la instalacion\n",
    "#el porcentaje de eventos 22 es menor, pero sigue siendo la mayoria\n",
    "#desaparece el evento 138"
   ]
  },
  {
   "cell_type": "code",
   "execution_count": 41,
   "metadata": {},
   "outputs": [
    {
     "data": {
      "text/plain": [
       "22     6741\n",
       "31     3721\n",
       "171    1697\n",
       "1      1458\n",
       "80     1260\n",
       "Name: event_id, dtype: int64"
      ]
     },
     "execution_count": 41,
     "metadata": {},
     "output_type": "execute_result"
    }
   ],
   "source": [
    "events_installs_dates[events_installs_dates[\"event_install_delta\"] > two_hour_delta][\"event_id\"].value_counts().head()"
   ]
  },
  {
   "cell_type": "code",
   "execution_count": 42,
   "metadata": {
    "scrolled": true
   },
   "outputs": [
    {
     "data": {
      "text/plain": [
       "Text(0, 0.5, 'percentage')"
      ]
     },
     "execution_count": 42,
     "metadata": {},
     "output_type": "execute_result"
    },
    {
     "data": {
      "image/png": "[encoded data removed]",
      "text/plain": [
       "<Figure size 432x288 with 1 Axes>"
      ]
     },
     "metadata": {},
     "output_type": "display_data"
    }
   ],
   "source": [
    "plot = (events_installs_dates[events_installs_dates[\"event_install_delta\"] > two_hour_delta][\"event_id\"].value_counts(normalize=True)*100).head(10).plot(kind=\"bar\", title=\"Event percentages in more than two hours delta\")\n",
    "plot.set_xlabel(\"event id\")\n",
    "plot.set_ylabel(\"percentage\")"
   ]
  },
  {
   "cell_type": "code",
   "execution_count": null,
   "metadata": {},
   "outputs": [],
   "source": []
  },
  {
   "cell_type": "code",
   "execution_count": 43,
   "metadata": {},
   "outputs": [
    {
     "data": {
      "text/plain": [
       "<matplotlib.axes._subplots.AxesSubplot at 0x7fd754e1ca90>"
      ]
     },
     "execution_count": 43,
     "metadata": {},
     "output_type": "execute_result"
    },
    {
     "data": {
      "image/png": "[encoded data removed]",
      "text/plain": [
       "<Figure size 432x288 with 1 Axes>"
      ]
     },
     "metadata": {},
     "output_type": "display_data"
    }
   ],
   "source": [
    "two_hour_delta_percentages = events_installs_dates[events_installs_dates[\"event_install_delta\"] > two_hour_delta][\"event_id\"].value_counts(normalize=True)*100\n",
    "two_hour_delta_percentages[:10].plot(kind=\"bar\")"
   ]
  },
  {
   "cell_type": "code",
   "execution_count": 44,
   "metadata": {},
   "outputs": [],
   "source": [
    "#con 5 horas o mas de diferencia el evento 22 sigue sienod el principal pero su porcentaje respecto al resto sigue bajando"
   ]
  },
  {
   "cell_type": "code",
   "execution_count": 45,
   "metadata": {},
   "outputs": [
    {
     "data": {
      "text/plain": [
       "22     5810\n",
       "31     3403\n",
       "171    1404\n",
       "1      1324\n",
       "80     1146\n",
       "Name: event_id, dtype: int64"
      ]
     },
     "execution_count": 45,
     "metadata": {},
     "output_type": "execute_result"
    }
   ],
   "source": [
    "events_installs_dates[events_installs_dates[\"event_install_delta\"] > five_hour_delta][\"event_id\"].value_counts().head()"
   ]
  },
  {
   "cell_type": "code",
   "execution_count": 46,
   "metadata": {},
   "outputs": [
    {
     "data": {
      "text/plain": [
       "Text(0, 0.5, 'percentage')"
      ]
     },
     "execution_count": 46,
     "metadata": {},
     "output_type": "execute_result"
    },
    {
     "data": {
      "image/png": "[encoded data removed]",
      "text/plain": [
       "<Figure size 432x288 with 1 Axes>"
      ]
     },
     "metadata": {},
     "output_type": "display_data"
    }
   ],
   "source": [
    "plot = (events_installs_dates[events_installs_dates[\"event_install_delta\"] > five_hour_delta][\"event_id\"].value_counts(normalize=True)*100).head(10).plot(kind=\"bar\", title=\"Event percentages in more than five hours delta\")\n",
    "plot.set_xlabel(\"event id\")\n",
    "plot.set_ylabel(\"percentage\")"
   ]
  },
  {
   "cell_type": "code",
   "execution_count": 47,
   "metadata": {},
   "outputs": [],
   "source": [
    "#con 1 dia o mas es lo mismo que con 5 horas o mas"
   ]
  },
  {
   "cell_type": "code",
   "execution_count": 48,
   "metadata": {},
   "outputs": [
    {
     "data": {
      "text/plain": [
       "Text(0, 0.5, 'percentage')"
      ]
     },
     "execution_count": 48,
     "metadata": {},
     "output_type": "execute_result"
    },
    {
     "data": {
      "image/png": "[encoded data removed]",
      "text/plain": [
       "<Figure size 432x288 with 1 Axes>"
      ]
     },
     "metadata": {},
     "output_type": "display_data"
    }
   ],
   "source": [
    "plot= (events_installs_dates[events_installs_dates[\"event_install_delta\"] > one_day_delta][\"event_id\"].value_counts(normalize=True)*100).head(10).plot(kind=\"bar\", title=\"Event percentages in more than one day delta\")\n",
    "plot.set_xlabel(\"event id\")\n",
    "plot.set_ylabel(\"percentage\")"
   ]
  },
  {
   "cell_type": "code",
   "execution_count": 49,
   "metadata": {},
   "outputs": [],
   "source": [
    "#al ser el 138 un evento que solo aparece bien cerca del momento de instalacion, y el 22 \n",
    "#un evento que aparece en proporcion muchisimo mas cuando mas nos acercamos a la instalacion\n",
    "#tal vez el evento 22 sea un paso previo muy cercano a la instalacion\n",
    "#y el evento 138 sea la instalacion en si. no creo que sea casualidad que la cantidad total\n",
    "#de eventos 138 tenga una cifra muy cercana al tamaño en filas del csv de installs\n",
    "#hay que seguir analizando"
   ]
  },
  {
   "cell_type": "code",
   "execution_count": null,
   "metadata": {},
   "outputs": [],
   "source": []
  },
  {
   "cell_type": "code",
   "execution_count": 50,
   "metadata": {},
   "outputs": [],
   "source": [
    "#y si la el event id  para un determinado evento es distinto entre distintas apps?\n",
    "#podemos analizar lo mismo filtrando por aplicacion"
   ]
  },
  {
   "cell_type": "code",
   "execution_count": 51,
   "metadata": {},
   "outputs": [],
   "source": [
    "#miremos las 10 apps con mas eventos"
   ]
  },
  {
   "cell_type": "code",
   "execution_count": 52,
   "metadata": {
    "scrolled": true
   },
   "outputs": [
    {
     "data": {
      "text/plain": [
       "application_id_x\n",
       "10     6709\n",
       "7      6699\n",
       "9      6192\n",
       "8      5322\n",
       "2      5257\n",
       "57     4460\n",
       "16     4175\n",
       "120    3303\n",
       "103     918\n",
       "64      740\n",
       "Name: date, dtype: int64"
      ]
     },
     "execution_count": 52,
     "metadata": {},
     "output_type": "execute_result"
    }
   ],
   "source": [
    "events_installs.groupby(\"application_id_x\").count()[\"date\"].sort_values(ascending=False).head(10)"
   ]
  },
  {
   "cell_type": "code",
   "execution_count": 53,
   "metadata": {},
   "outputs": [
    {
     "data": {
      "text/plain": [
       "<matplotlib.axes._subplots.AxesSubplot at 0x7fd754c927f0>"
      ]
     },
     "execution_count": 53,
     "metadata": {},
     "output_type": "execute_result"
    },
    {
     "data": {
      "image/png": "[encoded data removed]",
      "text/plain": [
       "<Figure size 432x288 with 1 Axes>"
      ]
     },
     "metadata": {},
     "output_type": "display_data"
    }
   ],
   "source": [
    "plot = events_installs.groupby(\"application_id_x\").count()[\"date\"].sort_values(ascending=False).head(10).plot(kind=\"bar\", title=\"Apps ordered by amount of events\")\n",
    "plot.set_xlabel(\"Application id\")\n",
    "plot.set_ylabel(\"Amount of events\")\n",
    "plot"
   ]
  },
  {
   "cell_type": "markdown",
   "metadata": {},
   "source": [
    "app 10"
   ]
  },
  {
   "cell_type": "code",
   "execution_count": 54,
   "metadata": {},
   "outputs": [],
   "source": [
    "#veamos si la app 10 , la de mayor cantidad de eventos no corresponden a muy pocos usuarios (pueden ser bots)\n",
    "app_10 = events_installs[events_installs[\"application_id_x\"] == 10]"
   ]
  },
  {
   "cell_type": "code",
   "execution_count": 55,
   "metadata": {},
   "outputs": [
    {
     "data": {
      "text/plain": [
       "321"
      ]
     },
     "execution_count": 55,
     "metadata": {},
     "output_type": "execute_result"
    }
   ],
   "source": [
    "#hay 321 ref hashes distintos. por lo cual deberian haber en promedio aprox 20 eventos por usuario\n",
    "#lo cual tendria bastante sentido y la mayoria no deberian ser bots\n",
    "len(app_10[\"ref_hash\"].value_counts())"
   ]
  },
  {
   "cell_type": "code",
   "execution_count": 56,
   "metadata": {},
   "outputs": [
    {
     "data": {
      "text/plain": [
       "22    6709\n",
       "Name: event_id, dtype: int64"
      ]
     },
     "execution_count": 56,
     "metadata": {},
     "output_type": "execute_result"
    }
   ],
   "source": [
    "#cuantos eventos distintos hay para esta aplicacion?\n",
    "app_10[\"event_id\"].value_counts()"
   ]
  },
  {
   "cell_type": "code",
   "execution_count": 57,
   "metadata": {},
   "outputs": [],
   "source": [
    "app_7 = events_installs[events_installs[\"application_id_x\"] == 7]"
   ]
  },
  {
   "cell_type": "code",
   "execution_count": 58,
   "metadata": {},
   "outputs": [
    {
     "data": {
      "text/plain": [
       "766"
      ]
     },
     "execution_count": 58,
     "metadata": {},
     "output_type": "execute_result"
    }
   ],
   "source": [
    "#hay 766 ref hashes distintos\n",
    "len(app_7[\"ref_hash\"].value_counts())"
   ]
  },
  {
   "cell_type": "code",
   "execution_count": 59,
   "metadata": {},
   "outputs": [
    {
     "data": {
      "text/plain": [
       "81     1402\n",
       "80     1269\n",
       "1       887\n",
       "82      803\n",
       "89      622\n",
       "117     409\n",
       "88      372\n",
       "83      197\n",
       "86      165\n",
       "84      160\n",
       "118      70\n",
       "124      68\n",
       "123      68\n",
       "126      53\n",
       "125      51\n",
       "121      42\n",
       "87       31\n",
       "120       7\n",
       "122       7\n",
       "36        6\n",
       "130       5\n",
       "129       3\n",
       "132       1\n",
       "128       1\n",
       "Name: event_id, dtype: int64"
      ]
     },
     "execution_count": 59,
     "metadata": {},
     "output_type": "execute_result"
    }
   ],
   "source": [
    "#en este caso los eventos son mucho mas variados\n",
    "app_7[\"event_id\"].value_counts()"
   ]
  },
  {
   "cell_type": "code",
   "execution_count": 60,
   "metadata": {},
   "outputs": [
    {
     "data": {
      "text/plain": [
       "Text(0, 0.5, 'Amount')"
      ]
     },
     "execution_count": 60,
     "metadata": {},
     "output_type": "execute_result"
    },
    {
     "data": {
      "image/png": "[encoded data removed]",
      "text/plain": [
       "<Figure size 432x288 with 1 Axes>"
      ]
     },
     "metadata": {},
     "output_type": "display_data"
    }
   ],
   "source": [
    "plot = app_7[\"event_id\"].value_counts().head(10).plot(kind=\"bar\", title=\"Event id distribution for top 10 events in app 7\")\n",
    "plot.set_xlabel(\"Event id\")\n",
    "plot.set_ylabel(\"Amount\")"
   ]
  },
  {
   "cell_type": "code",
   "execution_count": 61,
   "metadata": {},
   "outputs": [],
   "source": [
    "#analicemos distintos casos\n",
    "#primero hashes con muchos eventos y depsues con pocos \n",
    "#al final comparamos como se comportan"
   ]
  },
  {
   "cell_type": "code",
   "execution_count": 62,
   "metadata": {
    "scrolled": true
   },
   "outputs": [
    {
     "data": {
      "text/plain": [
       "6569613425210752721    13\n",
       "3785357483054183292    13\n",
       "6897152979808358868    13\n",
       "5121518301932488683    13\n",
       "3318538943125451633    13\n",
       "7438503121866457122    13\n",
       "8009419129110774489    13\n",
       "7683094929626334243    13\n",
       "563060213042591871     12\n",
       "6515641464796396829    12\n",
       "Name: ref_hash, dtype: int64"
      ]
     },
     "execution_count": 62,
     "metadata": {},
     "output_type": "execute_result"
    }
   ],
   "source": [
    "#analicemos hashes con pocos eventos\n",
    "app_7[\"ref_hash\"].value_counts()[120:130]"
   ]
  },
  {
   "cell_type": "code",
   "execution_count": null,
   "metadata": {},
   "outputs": [],
   "source": []
  },
  {
   "cell_type": "code",
   "execution_count": 63,
   "metadata": {},
   "outputs": [
    {
     "data": {
      "text/html": [
       "<div>\n",
       "<style scoped>\n",
       "    .dataframe tbody tr th:only-of-type {\n",
       "        vertical-align: middle;\n",
       "    }\n",
       "\n",
       "    .dataframe tbody tr th {\n",
       "        vertical-align: top;\n",
       "    }\n",
       "\n",
       "    .dataframe thead th {\n",
       "        text-align: right;\n",
       "    }\n",
       "</style>\n",
       "<table border=\"1\" class=\"dataframe\">\n",
       "  <thead>\n",
       "    <tr style=\"text-align: right;\">\n",
       "      <th></th>\n",
       "      <th>date</th>\n",
       "      <th>event_install_delta</th>\n",
       "      <th>event_id</th>\n",
       "    </tr>\n",
       "  </thead>\n",
       "  <tbody>\n",
       "    <tr>\n",
       "      <th>32960</th>\n",
       "      <td>2019-03-11 02:31:50.110</td>\n",
       "      <td>00:00:01.602000</td>\n",
       "      <td>81</td>\n",
       "    </tr>\n",
       "    <tr>\n",
       "      <th>32965</th>\n",
       "      <td>2019-03-11 02:33:29.944</td>\n",
       "      <td>00:01:41.436000</td>\n",
       "      <td>80</td>\n",
       "    </tr>\n",
       "    <tr>\n",
       "      <th>32963</th>\n",
       "      <td>2019-03-11 03:04:29.722</td>\n",
       "      <td>00:32:41.214000</td>\n",
       "      <td>89</td>\n",
       "    </tr>\n",
       "    <tr>\n",
       "      <th>32964</th>\n",
       "      <td>2019-03-11 03:06:31.802</td>\n",
       "      <td>00:34:43.294000</td>\n",
       "      <td>89</td>\n",
       "    </tr>\n",
       "    <tr>\n",
       "      <th>32971</th>\n",
       "      <td>2019-03-12 01:31:27.682</td>\n",
       "      <td>22:59:39.174000</td>\n",
       "      <td>1</td>\n",
       "    </tr>\n",
       "    <tr>\n",
       "      <th>32970</th>\n",
       "      <td>2019-03-12 01:31:29.434</td>\n",
       "      <td>22:59:40.926000</td>\n",
       "      <td>81</td>\n",
       "    </tr>\n",
       "    <tr>\n",
       "      <th>32962</th>\n",
       "      <td>2019-03-12 01:31:31.265</td>\n",
       "      <td>22:59:42.757000</td>\n",
       "      <td>80</td>\n",
       "    </tr>\n",
       "    <tr>\n",
       "      <th>32968</th>\n",
       "      <td>2019-03-12 01:32:30.385</td>\n",
       "      <td>23:00:41.877000</td>\n",
       "      <td>89</td>\n",
       "    </tr>\n",
       "    <tr>\n",
       "      <th>32961</th>\n",
       "      <td>2019-03-12 01:34:18.509</td>\n",
       "      <td>23:02:30.001000</td>\n",
       "      <td>89</td>\n",
       "    </tr>\n",
       "    <tr>\n",
       "      <th>32966</th>\n",
       "      <td>2019-03-12 01:45:59.447</td>\n",
       "      <td>23:14:10.939000</td>\n",
       "      <td>84</td>\n",
       "    </tr>\n",
       "    <tr>\n",
       "      <th>32969</th>\n",
       "      <td>2019-03-12 01:45:59.502</td>\n",
       "      <td>23:14:10.994000</td>\n",
       "      <td>118</td>\n",
       "    </tr>\n",
       "    <tr>\n",
       "      <th>32967</th>\n",
       "      <td>2019-03-12 01:45:59.515</td>\n",
       "      <td>23:14:11.007000</td>\n",
       "      <td>126</td>\n",
       "    </tr>\n",
       "    <tr>\n",
       "      <th>32972</th>\n",
       "      <td>2019-03-12 01:45:59.570</td>\n",
       "      <td>23:14:11.062000</td>\n",
       "      <td>125</td>\n",
       "    </tr>\n",
       "  </tbody>\n",
       "</table>\n",
       "</div>"
      ],
      "text/plain": [
       "                         date event_install_delta  event_id\n",
       "32960 2019-03-11 02:31:50.110     00:00:01.602000        81\n",
       "32965 2019-03-11 02:33:29.944     00:01:41.436000        80\n",
       "32963 2019-03-11 03:04:29.722     00:32:41.214000        89\n",
       "32964 2019-03-11 03:06:31.802     00:34:43.294000        89\n",
       "32971 2019-03-12 01:31:27.682     22:59:39.174000         1\n",
       "32970 2019-03-12 01:31:29.434     22:59:40.926000        81\n",
       "32962 2019-03-12 01:31:31.265     22:59:42.757000        80\n",
       "32968 2019-03-12 01:32:30.385     23:00:41.877000        89\n",
       "32961 2019-03-12 01:34:18.509     23:02:30.001000        89\n",
       "32966 2019-03-12 01:45:59.447     23:14:10.939000        84\n",
       "32969 2019-03-12 01:45:59.502     23:14:10.994000       118\n",
       "32967 2019-03-12 01:45:59.515     23:14:11.007000       126\n",
       "32972 2019-03-12 01:45:59.570     23:14:11.062000       125"
      ]
     },
     "execution_count": 63,
     "metadata": {},
     "output_type": "execute_result"
    }
   ],
   "source": [
    "\n",
    "#caso 6569613425210752721\n",
    "#hay secuencias de eventos uqe se repiten\n",
    "app_7[app_7[\"ref_hash\"] == 6569613425210752721][[\"date\", \"event_install_delta\", \"event_id\"]].sort_values(by=\"date\")"
   ]
  },
  {
   "cell_type": "code",
   "execution_count": 64,
   "metadata": {},
   "outputs": [
    {
     "name": "stderr",
     "output_type": "stream",
     "text": [
      "/home/martinrosas/.local/lib/python3.6/site-packages/ipykernel_launcher.py:2: SettingWithCopyWarning: \n",
      "A value is trying to be set on a copy of a slice from a DataFrame.\n",
      "Try using .loc[row_indexer,col_indexer] = value instead\n",
      "\n",
      "See the caveats in the documentation: http://pandas.pydata.org/pandas-docs/stable/indexing.html#indexing-view-versus-copy\n",
      "  \n",
      "/home/martinrosas/.local/lib/python3.6/site-packages/ipykernel_launcher.py:3: SettingWithCopyWarning: \n",
      "A value is trying to be set on a copy of a slice from a DataFrame.\n",
      "Try using .loc[row_indexer,col_indexer] = value instead\n",
      "\n",
      "See the caveats in the documentation: http://pandas.pydata.org/pandas-docs/stable/indexing.html#indexing-view-versus-copy\n",
      "  This is separate from the ipykernel package so we can avoid doing imports until\n"
     ]
    }
   ],
   "source": [
    "#si agrupamos por tiempo como si fueran SESIONES podemos ver que hubieron varias \n",
    "app_7[\"session_2_hours\"] = pd.to_datetime(app_7[\"date\"]).dt.floor('120T').dt.hour\n",
    "app_7[\"session_1_hours\"] = pd.to_datetime(app_7[\"date\"]).dt.floor('60T').dt.hour"
   ]
  },
  {
   "cell_type": "code",
   "execution_count": 65,
   "metadata": {},
   "outputs": [
    {
     "data": {
      "text/html": [
       "<div>\n",
       "<style scoped>\n",
       "    .dataframe tbody tr th:only-of-type {\n",
       "        vertical-align: middle;\n",
       "    }\n",
       "\n",
       "    .dataframe tbody tr th {\n",
       "        vertical-align: top;\n",
       "    }\n",
       "\n",
       "    .dataframe thead th {\n",
       "        text-align: right;\n",
       "    }\n",
       "</style>\n",
       "<table border=\"1\" class=\"dataframe\">\n",
       "  <thead>\n",
       "    <tr style=\"text-align: right;\">\n",
       "      <th></th>\n",
       "      <th>date</th>\n",
       "      <th>created</th>\n",
       "      <th>event_install_delta</th>\n",
       "      <th>event_id</th>\n",
       "      <th>session_1_hours</th>\n",
       "    </tr>\n",
       "  </thead>\n",
       "  <tbody>\n",
       "    <tr>\n",
       "      <th>32960</th>\n",
       "      <td>2019-03-11 02:31:50.110</td>\n",
       "      <td>2019-03-11 02:31:48.508</td>\n",
       "      <td>00:00:01.602000</td>\n",
       "      <td>81</td>\n",
       "      <td>2</td>\n",
       "    </tr>\n",
       "    <tr>\n",
       "      <th>32965</th>\n",
       "      <td>2019-03-11 02:33:29.944</td>\n",
       "      <td>2019-03-11 02:31:48.508</td>\n",
       "      <td>00:01:41.436000</td>\n",
       "      <td>80</td>\n",
       "      <td>2</td>\n",
       "    </tr>\n",
       "    <tr>\n",
       "      <th>32963</th>\n",
       "      <td>2019-03-11 03:04:29.722</td>\n",
       "      <td>2019-03-11 02:31:48.508</td>\n",
       "      <td>00:32:41.214000</td>\n",
       "      <td>89</td>\n",
       "      <td>3</td>\n",
       "    </tr>\n",
       "    <tr>\n",
       "      <th>32964</th>\n",
       "      <td>2019-03-11 03:06:31.802</td>\n",
       "      <td>2019-03-11 02:31:48.508</td>\n",
       "      <td>00:34:43.294000</td>\n",
       "      <td>89</td>\n",
       "      <td>3</td>\n",
       "    </tr>\n",
       "    <tr>\n",
       "      <th>32971</th>\n",
       "      <td>2019-03-12 01:31:27.682</td>\n",
       "      <td>2019-03-11 02:31:48.508</td>\n",
       "      <td>22:59:39.174000</td>\n",
       "      <td>1</td>\n",
       "      <td>1</td>\n",
       "    </tr>\n",
       "    <tr>\n",
       "      <th>32970</th>\n",
       "      <td>2019-03-12 01:31:29.434</td>\n",
       "      <td>2019-03-11 02:31:48.508</td>\n",
       "      <td>22:59:40.926000</td>\n",
       "      <td>81</td>\n",
       "      <td>1</td>\n",
       "    </tr>\n",
       "    <tr>\n",
       "      <th>32962</th>\n",
       "      <td>2019-03-12 01:31:31.265</td>\n",
       "      <td>2019-03-11 02:31:48.508</td>\n",
       "      <td>22:59:42.757000</td>\n",
       "      <td>80</td>\n",
       "      <td>1</td>\n",
       "    </tr>\n",
       "    <tr>\n",
       "      <th>32968</th>\n",
       "      <td>2019-03-12 01:32:30.385</td>\n",
       "      <td>2019-03-11 02:31:48.508</td>\n",
       "      <td>23:00:41.877000</td>\n",
       "      <td>89</td>\n",
       "      <td>1</td>\n",
       "    </tr>\n",
       "    <tr>\n",
       "      <th>32961</th>\n",
       "      <td>2019-03-12 01:34:18.509</td>\n",
       "      <td>2019-03-11 02:31:48.508</td>\n",
       "      <td>23:02:30.001000</td>\n",
       "      <td>89</td>\n",
       "      <td>1</td>\n",
       "    </tr>\n",
       "    <tr>\n",
       "      <th>32966</th>\n",
       "      <td>2019-03-12 01:45:59.447</td>\n",
       "      <td>2019-03-11 02:31:48.508</td>\n",
       "      <td>23:14:10.939000</td>\n",
       "      <td>84</td>\n",
       "      <td>1</td>\n",
       "    </tr>\n",
       "    <tr>\n",
       "      <th>32969</th>\n",
       "      <td>2019-03-12 01:45:59.502</td>\n",
       "      <td>2019-03-11 02:31:48.508</td>\n",
       "      <td>23:14:10.994000</td>\n",
       "      <td>118</td>\n",
       "      <td>1</td>\n",
       "    </tr>\n",
       "    <tr>\n",
       "      <th>32967</th>\n",
       "      <td>2019-03-12 01:45:59.515</td>\n",
       "      <td>2019-03-11 02:31:48.508</td>\n",
       "      <td>23:14:11.007000</td>\n",
       "      <td>126</td>\n",
       "      <td>1</td>\n",
       "    </tr>\n",
       "    <tr>\n",
       "      <th>32972</th>\n",
       "      <td>2019-03-12 01:45:59.570</td>\n",
       "      <td>2019-03-11 02:31:48.508</td>\n",
       "      <td>23:14:11.062000</td>\n",
       "      <td>125</td>\n",
       "      <td>1</td>\n",
       "    </tr>\n",
       "  </tbody>\n",
       "</table>\n",
       "</div>"
      ],
      "text/plain": [
       "                         date                 created event_install_delta  \\\n",
       "32960 2019-03-11 02:31:50.110 2019-03-11 02:31:48.508     00:00:01.602000   \n",
       "32965 2019-03-11 02:33:29.944 2019-03-11 02:31:48.508     00:01:41.436000   \n",
       "32963 2019-03-11 03:04:29.722 2019-03-11 02:31:48.508     00:32:41.214000   \n",
       "32964 2019-03-11 03:06:31.802 2019-03-11 02:31:48.508     00:34:43.294000   \n",
       "32971 2019-03-12 01:31:27.682 2019-03-11 02:31:48.508     22:59:39.174000   \n",
       "32970 2019-03-12 01:31:29.434 2019-03-11 02:31:48.508     22:59:40.926000   \n",
       "32962 2019-03-12 01:31:31.265 2019-03-11 02:31:48.508     22:59:42.757000   \n",
       "32968 2019-03-12 01:32:30.385 2019-03-11 02:31:48.508     23:00:41.877000   \n",
       "32961 2019-03-12 01:34:18.509 2019-03-11 02:31:48.508     23:02:30.001000   \n",
       "32966 2019-03-12 01:45:59.447 2019-03-11 02:31:48.508     23:14:10.939000   \n",
       "32969 2019-03-12 01:45:59.502 2019-03-11 02:31:48.508     23:14:10.994000   \n",
       "32967 2019-03-12 01:45:59.515 2019-03-11 02:31:48.508     23:14:11.007000   \n",
       "32972 2019-03-12 01:45:59.570 2019-03-11 02:31:48.508     23:14:11.062000   \n",
       "\n",
       "       event_id  session_1_hours  \n",
       "32960        81                2  \n",
       "32965        80                2  \n",
       "32963        89                3  \n",
       "32964        89                3  \n",
       "32971         1                1  \n",
       "32970        81                1  \n",
       "32962        80                1  \n",
       "32968        89                1  \n",
       "32961        89                1  \n",
       "32966        84                1  \n",
       "32969       118                1  \n",
       "32967       126                1  \n",
       "32972       125                1  "
      ]
     },
     "execution_count": 65,
     "metadata": {},
     "output_type": "execute_result"
    }
   ],
   "source": [
    "#podemos ver que hay 2 grupos de eventos , uno de la sesion de las 0 y otro de la sesion de las 2\n",
    "#la secuencia de eventos 81-80-89-89 se repite dos veces\n",
    "#vamos a mirar otros hashes de esta app a ver si es un comportamiento en comun al comenzar a usar la app\n",
    "app_7[app_7[\"ref_hash\"] == 6569613425210752721][[\"date\", \"created\", \"event_install_delta\", \"event_id\", \"session_1_hours\"]].sort_values(by=\"date\")"
   ]
  },
  {
   "cell_type": "code",
   "execution_count": null,
   "metadata": {},
   "outputs": [],
   "source": []
  },
  {
   "cell_type": "code",
   "execution_count": 66,
   "metadata": {},
   "outputs": [
    {
     "data": {
      "text/html": [
       "<div>\n",
       "<style scoped>\n",
       "    .dataframe tbody tr th:only-of-type {\n",
       "        vertical-align: middle;\n",
       "    }\n",
       "\n",
       "    .dataframe tbody tr th {\n",
       "        vertical-align: top;\n",
       "    }\n",
       "\n",
       "    .dataframe thead th {\n",
       "        text-align: right;\n",
       "    }\n",
       "</style>\n",
       "<table border=\"1\" class=\"dataframe\">\n",
       "  <thead>\n",
       "    <tr style=\"text-align: right;\">\n",
       "      <th></th>\n",
       "      <th>date</th>\n",
       "      <th>event_install_delta</th>\n",
       "      <th>event_id</th>\n",
       "      <th>session_1_hours</th>\n",
       "    </tr>\n",
       "  </thead>\n",
       "  <tbody>\n",
       "    <tr>\n",
       "      <th>32443</th>\n",
       "      <td>2019-03-12 19:27:21.458</td>\n",
       "      <td>00:00:02.613000</td>\n",
       "      <td>81</td>\n",
       "      <td>19</td>\n",
       "    </tr>\n",
       "    <tr>\n",
       "      <th>32440</th>\n",
       "      <td>2019-03-12 19:29:24.034</td>\n",
       "      <td>00:02:05.189000</td>\n",
       "      <td>80</td>\n",
       "      <td>19</td>\n",
       "    </tr>\n",
       "    <tr>\n",
       "      <th>32441</th>\n",
       "      <td>2019-03-12 19:31:29.294</td>\n",
       "      <td>00:04:10.449000</td>\n",
       "      <td>81</td>\n",
       "      <td>19</td>\n",
       "    </tr>\n",
       "    <tr>\n",
       "      <th>32444</th>\n",
       "      <td>2019-03-12 19:34:49.476</td>\n",
       "      <td>00:07:30.631000</td>\n",
       "      <td>81</td>\n",
       "      <td>19</td>\n",
       "    </tr>\n",
       "    <tr>\n",
       "      <th>32439</th>\n",
       "      <td>2019-03-12 19:34:53.165</td>\n",
       "      <td>00:07:34.320000</td>\n",
       "      <td>80</td>\n",
       "      <td>19</td>\n",
       "    </tr>\n",
       "    <tr>\n",
       "      <th>32451</th>\n",
       "      <td>2019-03-12 19:35:32.142</td>\n",
       "      <td>00:08:13.297000</td>\n",
       "      <td>81</td>\n",
       "      <td>19</td>\n",
       "    </tr>\n",
       "    <tr>\n",
       "      <th>32442</th>\n",
       "      <td>2019-03-12 19:35:35.858</td>\n",
       "      <td>00:08:17.013000</td>\n",
       "      <td>80</td>\n",
       "      <td>19</td>\n",
       "    </tr>\n",
       "    <tr>\n",
       "      <th>32448</th>\n",
       "      <td>2019-03-13 04:31:04.253</td>\n",
       "      <td>09:03:45.408000</td>\n",
       "      <td>1</td>\n",
       "      <td>4</td>\n",
       "    </tr>\n",
       "    <tr>\n",
       "      <th>32446</th>\n",
       "      <td>2019-03-13 04:31:07.685</td>\n",
       "      <td>09:03:48.840000</td>\n",
       "      <td>81</td>\n",
       "      <td>4</td>\n",
       "    </tr>\n",
       "    <tr>\n",
       "      <th>32447</th>\n",
       "      <td>2019-03-13 04:31:10.671</td>\n",
       "      <td>09:03:51.826000</td>\n",
       "      <td>80</td>\n",
       "      <td>4</td>\n",
       "    </tr>\n",
       "    <tr>\n",
       "      <th>32450</th>\n",
       "      <td>2019-03-13 04:32:22.622</td>\n",
       "      <td>09:05:03.777000</td>\n",
       "      <td>81</td>\n",
       "      <td>4</td>\n",
       "    </tr>\n",
       "    <tr>\n",
       "      <th>32449</th>\n",
       "      <td>2019-03-13 04:33:28.976</td>\n",
       "      <td>09:06:10.131000</td>\n",
       "      <td>123</td>\n",
       "      <td>4</td>\n",
       "    </tr>\n",
       "    <tr>\n",
       "      <th>32445</th>\n",
       "      <td>2019-03-13 04:41:06.237</td>\n",
       "      <td>09:13:47.392000</td>\n",
       "      <td>89</td>\n",
       "      <td>4</td>\n",
       "    </tr>\n",
       "  </tbody>\n",
       "</table>\n",
       "</div>"
      ],
      "text/plain": [
       "                         date event_install_delta  event_id  session_1_hours\n",
       "32443 2019-03-12 19:27:21.458     00:00:02.613000        81               19\n",
       "32440 2019-03-12 19:29:24.034     00:02:05.189000        80               19\n",
       "32441 2019-03-12 19:31:29.294     00:04:10.449000        81               19\n",
       "32444 2019-03-12 19:34:49.476     00:07:30.631000        81               19\n",
       "32439 2019-03-12 19:34:53.165     00:07:34.320000        80               19\n",
       "32451 2019-03-12 19:35:32.142     00:08:13.297000        81               19\n",
       "32442 2019-03-12 19:35:35.858     00:08:17.013000        80               19\n",
       "32448 2019-03-13 04:31:04.253     09:03:45.408000         1                4\n",
       "32446 2019-03-13 04:31:07.685     09:03:48.840000        81                4\n",
       "32447 2019-03-13 04:31:10.671     09:03:51.826000        80                4\n",
       "32450 2019-03-13 04:32:22.622     09:05:03.777000        81                4\n",
       "32449 2019-03-13 04:33:28.976     09:06:10.131000       123                4\n",
       "32445 2019-03-13 04:41:06.237     09:13:47.392000        89                4"
      ]
     },
     "execution_count": 66,
     "metadata": {},
     "output_type": "execute_result"
    }
   ],
   "source": [
    "#se repite la parte de 81-80 o 1-81-80 al iniciar\n",
    "app_7[app_7[\"ref_hash\"] == 3785357483054183292][[\"date\", \"event_install_delta\", \"event_id\", \"session_1_hours\"]].sort_values(by=\"date\")"
   ]
  },
  {
   "cell_type": "code",
   "execution_count": 67,
   "metadata": {
    "scrolled": true
   },
   "outputs": [
    {
     "data": {
      "text/html": [
       "<div>\n",
       "<style scoped>\n",
       "    .dataframe tbody tr th:only-of-type {\n",
       "        vertical-align: middle;\n",
       "    }\n",
       "\n",
       "    .dataframe tbody tr th {\n",
       "        vertical-align: top;\n",
       "    }\n",
       "\n",
       "    .dataframe thead th {\n",
       "        text-align: right;\n",
       "    }\n",
       "</style>\n",
       "<table border=\"1\" class=\"dataframe\">\n",
       "  <thead>\n",
       "    <tr style=\"text-align: right;\">\n",
       "      <th></th>\n",
       "      <th>date</th>\n",
       "      <th>created</th>\n",
       "      <th>event_install_delta</th>\n",
       "      <th>event_id</th>\n",
       "      <th>session_2_hours</th>\n",
       "    </tr>\n",
       "  </thead>\n",
       "  <tbody>\n",
       "    <tr>\n",
       "      <th>33434</th>\n",
       "      <td>2019-03-10 15:39:39.642</td>\n",
       "      <td>2019-03-10 15:39:38.424</td>\n",
       "      <td>00:00:01.218000</td>\n",
       "      <td>81</td>\n",
       "      <td>14</td>\n",
       "    </tr>\n",
       "    <tr>\n",
       "      <th>33433</th>\n",
       "      <td>2019-03-10 15:39:42.324</td>\n",
       "      <td>2019-03-10 15:39:38.424</td>\n",
       "      <td>00:00:03.900000</td>\n",
       "      <td>80</td>\n",
       "      <td>14</td>\n",
       "    </tr>\n",
       "    <tr>\n",
       "      <th>33435</th>\n",
       "      <td>2019-03-10 15:58:20.982</td>\n",
       "      <td>2019-03-10 15:39:38.424</td>\n",
       "      <td>00:18:42.558000</td>\n",
       "      <td>80</td>\n",
       "      <td>14</td>\n",
       "    </tr>\n",
       "    <tr>\n",
       "      <th>33438</th>\n",
       "      <td>2019-03-10 16:01:48.160</td>\n",
       "      <td>2019-03-10 15:39:38.424</td>\n",
       "      <td>00:22:09.736000</td>\n",
       "      <td>89</td>\n",
       "      <td>16</td>\n",
       "    </tr>\n",
       "    <tr>\n",
       "      <th>33437</th>\n",
       "      <td>2019-03-10 16:02:45.108</td>\n",
       "      <td>2019-03-10 15:39:38.424</td>\n",
       "      <td>00:23:06.684000</td>\n",
       "      <td>89</td>\n",
       "      <td>16</td>\n",
       "    </tr>\n",
       "    <tr>\n",
       "      <th>33439</th>\n",
       "      <td>2019-03-10 16:04:16.036</td>\n",
       "      <td>2019-03-10 15:39:38.424</td>\n",
       "      <td>00:24:37.612000</td>\n",
       "      <td>82</td>\n",
       "      <td>16</td>\n",
       "    </tr>\n",
       "    <tr>\n",
       "      <th>33436</th>\n",
       "      <td>2019-03-10 16:31:10.074</td>\n",
       "      <td>2019-03-10 15:39:38.424</td>\n",
       "      <td>00:51:31.650000</td>\n",
       "      <td>89</td>\n",
       "      <td>16</td>\n",
       "    </tr>\n",
       "    <tr>\n",
       "      <th>33444</th>\n",
       "      <td>2019-03-11 01:05:49.721</td>\n",
       "      <td>2019-03-10 15:39:38.424</td>\n",
       "      <td>09:26:11.297000</td>\n",
       "      <td>1</td>\n",
       "      <td>0</td>\n",
       "    </tr>\n",
       "    <tr>\n",
       "      <th>33441</th>\n",
       "      <td>2019-03-11 01:05:50.902</td>\n",
       "      <td>2019-03-10 15:39:38.424</td>\n",
       "      <td>09:26:12.478000</td>\n",
       "      <td>80</td>\n",
       "      <td>0</td>\n",
       "    </tr>\n",
       "    <tr>\n",
       "      <th>33443</th>\n",
       "      <td>2019-03-11 01:06:05.921</td>\n",
       "      <td>2019-03-10 15:39:38.424</td>\n",
       "      <td>09:26:27.497000</td>\n",
       "      <td>82</td>\n",
       "      <td>0</td>\n",
       "    </tr>\n",
       "    <tr>\n",
       "      <th>33432</th>\n",
       "      <td>2019-03-11 01:06:16.744</td>\n",
       "      <td>2019-03-10 15:39:38.424</td>\n",
       "      <td>09:26:38.320000</td>\n",
       "      <td>82</td>\n",
       "      <td>0</td>\n",
       "    </tr>\n",
       "    <tr>\n",
       "      <th>33442</th>\n",
       "      <td>2019-03-11 01:10:12.157</td>\n",
       "      <td>2019-03-10 15:39:38.424</td>\n",
       "      <td>09:30:33.733000</td>\n",
       "      <td>80</td>\n",
       "      <td>0</td>\n",
       "    </tr>\n",
       "    <tr>\n",
       "      <th>33440</th>\n",
       "      <td>2019-03-11 01:10:49.104</td>\n",
       "      <td>2019-03-10 15:39:38.424</td>\n",
       "      <td>09:31:10.680000</td>\n",
       "      <td>89</td>\n",
       "      <td>0</td>\n",
       "    </tr>\n",
       "  </tbody>\n",
       "</table>\n",
       "</div>"
      ],
      "text/plain": [
       "                         date                 created event_install_delta  \\\n",
       "33434 2019-03-10 15:39:39.642 2019-03-10 15:39:38.424     00:00:01.218000   \n",
       "33433 2019-03-10 15:39:42.324 2019-03-10 15:39:38.424     00:00:03.900000   \n",
       "33435 2019-03-10 15:58:20.982 2019-03-10 15:39:38.424     00:18:42.558000   \n",
       "33438 2019-03-10 16:01:48.160 2019-03-10 15:39:38.424     00:22:09.736000   \n",
       "33437 2019-03-10 16:02:45.108 2019-03-10 15:39:38.424     00:23:06.684000   \n",
       "33439 2019-03-10 16:04:16.036 2019-03-10 15:39:38.424     00:24:37.612000   \n",
       "33436 2019-03-10 16:31:10.074 2019-03-10 15:39:38.424     00:51:31.650000   \n",
       "33444 2019-03-11 01:05:49.721 2019-03-10 15:39:38.424     09:26:11.297000   \n",
       "33441 2019-03-11 01:05:50.902 2019-03-10 15:39:38.424     09:26:12.478000   \n",
       "33443 2019-03-11 01:06:05.921 2019-03-10 15:39:38.424     09:26:27.497000   \n",
       "33432 2019-03-11 01:06:16.744 2019-03-10 15:39:38.424     09:26:38.320000   \n",
       "33442 2019-03-11 01:10:12.157 2019-03-10 15:39:38.424     09:30:33.733000   \n",
       "33440 2019-03-11 01:10:49.104 2019-03-10 15:39:38.424     09:31:10.680000   \n",
       "\n",
       "       event_id  session_2_hours  \n",
       "33434        81               14  \n",
       "33433        80               14  \n",
       "33435        80               14  \n",
       "33438        89               16  \n",
       "33437        89               16  \n",
       "33439        82               16  \n",
       "33436        89               16  \n",
       "33444         1                0  \n",
       "33441        80                0  \n",
       "33443        82                0  \n",
       "33432        82                0  \n",
       "33442        80                0  \n",
       "33440        89                0  "
      ]
     },
     "execution_count": 67,
     "metadata": {},
     "output_type": "execute_result"
    }
   ],
   "source": [
    "\n",
    "#otra  vez 81-80 la primera vez y las demas arranques de sesio nes 1-81-80\n",
    "app_7[app_7[\"ref_hash\"] == 6897152979808358868][[\"date\", \"created\", \"event_install_delta\", \"event_id\", \"session_2_hours\"]].sort_values(by=\"date\")"
   ]
  },
  {
   "cell_type": "code",
   "execution_count": 68,
   "metadata": {},
   "outputs": [
    {
     "data": {
      "text/html": [
       "<div>\n",
       "<style scoped>\n",
       "    .dataframe tbody tr th:only-of-type {\n",
       "        vertical-align: middle;\n",
       "    }\n",
       "\n",
       "    .dataframe tbody tr th {\n",
       "        vertical-align: top;\n",
       "    }\n",
       "\n",
       "    .dataframe thead th {\n",
       "        text-align: right;\n",
       "    }\n",
       "</style>\n",
       "<table border=\"1\" class=\"dataframe\">\n",
       "  <thead>\n",
       "    <tr style=\"text-align: right;\">\n",
       "      <th></th>\n",
       "      <th>date</th>\n",
       "      <th>created</th>\n",
       "      <th>event_install_delta</th>\n",
       "      <th>event_id</th>\n",
       "      <th>session_1_hours</th>\n",
       "    </tr>\n",
       "  </thead>\n",
       "  <tbody>\n",
       "    <tr>\n",
       "      <th>33652</th>\n",
       "      <td>2019-03-11 19:01:10.954</td>\n",
       "      <td>2019-03-11 19:01:10.954</td>\n",
       "      <td>00:00:00</td>\n",
       "      <td>1</td>\n",
       "      <td>19</td>\n",
       "    </tr>\n",
       "    <tr>\n",
       "      <th>33654</th>\n",
       "      <td>2019-03-11 19:01:11.806</td>\n",
       "      <td>2019-03-11 19:01:10.954</td>\n",
       "      <td>00:00:00.852000</td>\n",
       "      <td>81</td>\n",
       "      <td>19</td>\n",
       "    </tr>\n",
       "    <tr>\n",
       "      <th>33655</th>\n",
       "      <td>2019-03-11 19:02:15.180</td>\n",
       "      <td>2019-03-11 19:01:10.954</td>\n",
       "      <td>00:01:04.226000</td>\n",
       "      <td>80</td>\n",
       "      <td>19</td>\n",
       "    </tr>\n",
       "    <tr>\n",
       "      <th>33653</th>\n",
       "      <td>2019-03-11 19:04:07.093</td>\n",
       "      <td>2019-03-11 19:01:10.954</td>\n",
       "      <td>00:02:56.139000</td>\n",
       "      <td>82</td>\n",
       "      <td>19</td>\n",
       "    </tr>\n",
       "    <tr>\n",
       "      <th>33651</th>\n",
       "      <td>2019-03-12 15:27:20.804</td>\n",
       "      <td>2019-03-11 19:01:10.954</td>\n",
       "      <td>20:26:09.850000</td>\n",
       "      <td>1</td>\n",
       "      <td>15</td>\n",
       "    </tr>\n",
       "    <tr>\n",
       "      <th>33646</th>\n",
       "      <td>2019-03-12 15:27:22.120</td>\n",
       "      <td>2019-03-11 19:01:10.954</td>\n",
       "      <td>20:26:11.166000</td>\n",
       "      <td>81</td>\n",
       "      <td>15</td>\n",
       "    </tr>\n",
       "    <tr>\n",
       "      <th>33650</th>\n",
       "      <td>2019-03-12 15:27:23.207</td>\n",
       "      <td>2019-03-11 19:01:10.954</td>\n",
       "      <td>20:26:12.253000</td>\n",
       "      <td>80</td>\n",
       "      <td>15</td>\n",
       "    </tr>\n",
       "    <tr>\n",
       "      <th>33647</th>\n",
       "      <td>2019-03-12 15:28:07.214</td>\n",
       "      <td>2019-03-11 19:01:10.954</td>\n",
       "      <td>20:26:56.260000</td>\n",
       "      <td>82</td>\n",
       "      <td>15</td>\n",
       "    </tr>\n",
       "    <tr>\n",
       "      <th>33645</th>\n",
       "      <td>2019-03-12 15:33:34.463</td>\n",
       "      <td>2019-03-11 19:01:10.954</td>\n",
       "      <td>20:32:23.509000</td>\n",
       "      <td>81</td>\n",
       "      <td>15</td>\n",
       "    </tr>\n",
       "    <tr>\n",
       "      <th>33649</th>\n",
       "      <td>2019-03-12 15:33:36.433</td>\n",
       "      <td>2019-03-11 19:01:10.954</td>\n",
       "      <td>20:32:25.479000</td>\n",
       "      <td>80</td>\n",
       "      <td>15</td>\n",
       "    </tr>\n",
       "    <tr>\n",
       "      <th>33648</th>\n",
       "      <td>2019-03-12 15:34:50.932</td>\n",
       "      <td>2019-03-11 19:01:10.954</td>\n",
       "      <td>20:33:39.978000</td>\n",
       "      <td>80</td>\n",
       "      <td>15</td>\n",
       "    </tr>\n",
       "    <tr>\n",
       "      <th>33644</th>\n",
       "      <td>2019-03-12 15:36:55.697</td>\n",
       "      <td>2019-03-11 19:01:10.954</td>\n",
       "      <td>20:35:44.743000</td>\n",
       "      <td>82</td>\n",
       "      <td>15</td>\n",
       "    </tr>\n",
       "    <tr>\n",
       "      <th>33643</th>\n",
       "      <td>2019-03-12 15:38:33.766</td>\n",
       "      <td>2019-03-11 19:01:10.954</td>\n",
       "      <td>20:37:22.812000</td>\n",
       "      <td>82</td>\n",
       "      <td>15</td>\n",
       "    </tr>\n",
       "  </tbody>\n",
       "</table>\n",
       "</div>"
      ],
      "text/plain": [
       "                         date                 created event_install_delta  \\\n",
       "33652 2019-03-11 19:01:10.954 2019-03-11 19:01:10.954            00:00:00   \n",
       "33654 2019-03-11 19:01:11.806 2019-03-11 19:01:10.954     00:00:00.852000   \n",
       "33655 2019-03-11 19:02:15.180 2019-03-11 19:01:10.954     00:01:04.226000   \n",
       "33653 2019-03-11 19:04:07.093 2019-03-11 19:01:10.954     00:02:56.139000   \n",
       "33651 2019-03-12 15:27:20.804 2019-03-11 19:01:10.954     20:26:09.850000   \n",
       "33646 2019-03-12 15:27:22.120 2019-03-11 19:01:10.954     20:26:11.166000   \n",
       "33650 2019-03-12 15:27:23.207 2019-03-11 19:01:10.954     20:26:12.253000   \n",
       "33647 2019-03-12 15:28:07.214 2019-03-11 19:01:10.954     20:26:56.260000   \n",
       "33645 2019-03-12 15:33:34.463 2019-03-11 19:01:10.954     20:32:23.509000   \n",
       "33649 2019-03-12 15:33:36.433 2019-03-11 19:01:10.954     20:32:25.479000   \n",
       "33648 2019-03-12 15:34:50.932 2019-03-11 19:01:10.954     20:33:39.978000   \n",
       "33644 2019-03-12 15:36:55.697 2019-03-11 19:01:10.954     20:35:44.743000   \n",
       "33643 2019-03-12 15:38:33.766 2019-03-11 19:01:10.954     20:37:22.812000   \n",
       "\n",
       "       event_id  session_1_hours  \n",
       "33652         1               19  \n",
       "33654        81               19  \n",
       "33655        80               19  \n",
       "33653        82               19  \n",
       "33651         1               15  \n",
       "33646        81               15  \n",
       "33650        80               15  \n",
       "33647        82               15  \n",
       "33645        81               15  \n",
       "33649        80               15  \n",
       "33648        80               15  \n",
       "33644        82               15  \n",
       "33643        82               15  "
      ]
     },
     "execution_count": 68,
     "metadata": {},
     "output_type": "execute_result"
    }
   ],
   "source": [
    "\n",
    "#en este caso arranca directamente la primer sesion con 1-81-80\n",
    "#el primer event id coincide exactamente con el horario de instalacion\n",
    "app_7[app_7[\"ref_hash\"] == 5121518301932488683][[\"date\", \"created\", \"event_install_delta\", \"event_id\", \"session_1_hours\"]].sort_values(by=\"date\")"
   ]
  },
  {
   "cell_type": "code",
   "execution_count": 69,
   "metadata": {},
   "outputs": [],
   "source": [
    "#miremos todos los casos que pase lo mismo"
   ]
  },
  {
   "cell_type": "code",
   "execution_count": 70,
   "metadata": {},
   "outputs": [
    {
     "data": {
      "text/plain": [
       "1     138\n",
       "81     27\n",
       "36      4\n",
       "80      3\n",
       "Name: event_id, dtype: int64"
      ]
     },
     "execution_count": 70,
     "metadata": {},
     "output_type": "execute_result"
    }
   ],
   "source": [
    "#la mayoria son event 1. sera el inicio de la aplicacion?\n",
    "#agarro el de timedelta = 0 o sea el momento exacto que coindia con el de la instalacion\n",
    "app_7[app_7[\"event_install_delta\"] == timedelta(0)][[\"date\", \"created\", \"event_install_delta\", \"event_id\", \"session_2_hours\"]].sort_values(by=\"date\")[\"event_id\"].value_counts()"
   ]
  },
  {
   "cell_type": "code",
   "execution_count": 71,
   "metadata": {},
   "outputs": [
    {
     "data": {
      "text/plain": [
       "Text(0, 0.5, 'Amount')"
      ]
     },
     "execution_count": 71,
     "metadata": {},
     "output_type": "execute_result"
    },
    {
     "data": {
      "image/png": "[encoded data removed]",
      "text/plain": [
       "<Figure size 432x288 with 1 Axes>"
      ]
     },
     "metadata": {},
     "output_type": "display_data"
    }
   ],
   "source": [
    "plot = app_7[app_7[\"event_install_delta\"] == timedelta(0)][[\"date\", \"created\", \"event_install_delta\", \"event_id\", \"session_2_hours\"]].sort_values(by=\"date\")[\"event_id\"].value_counts().plot(kind=\"bar\", title=\"Install time event distribution for app 7\")\n",
    "plot.set_xlabel(\"Event id\")\n",
    "plot.set_ylabel(\"Amount\")"
   ]
  },
  {
   "cell_type": "code",
   "execution_count": 72,
   "metadata": {},
   "outputs": [],
   "source": [
    "#hipotesis: evento 1 es iniciar la app desde el menu\n",
    "#cada sesion arranca con un evento 1 excepto algunas, y en esas algunas siempre es en el primer inicio \n",
    "#o sea el mas cercano a la instalacion\n",
    "#tal vez es porque al recien instalar una aplicacion, se la peude iniciar desde el play store y no desde el menu\n",
    "#y eso puede no valer como evento 1, por lo cual la primera vez que lo abren es sin evento 1\n",
    "#todas las demas si"
   ]
  },
  {
   "cell_type": "code",
   "execution_count": null,
   "metadata": {},
   "outputs": [],
   "source": []
  },
  {
   "cell_type": "code",
   "execution_count": 74,
   "metadata": {},
   "outputs": [],
   "source": [
    "#miremos ahora que pasa en los casos con muchos eventos, a ver si sigue repitiendose lo de los eventos 1-81-80"
   ]
  },
  {
   "cell_type": "code",
   "execution_count": 75,
   "metadata": {},
   "outputs": [
    {
     "data": {
      "text/plain": [
       "9116352215300385518    186\n",
       "983915507253118391     146\n",
       "1188395156750361204    139\n",
       "6993411212572451214    134\n",
       "573451007000964788     114\n",
       "608554137467186649      96\n",
       "1795534313031218928     78\n",
       "8922795840996298126     71\n",
       "4116266644251946584     69\n",
       "5056978422274473241     66\n",
       "Name: ref_hash, dtype: int64"
      ]
     },
     "execution_count": 75,
     "metadata": {},
     "output_type": "execute_result"
    }
   ],
   "source": [
    "app_7[\"ref_hash\"].value_counts()[0:10]"
   ]
  },
  {
   "cell_type": "code",
   "execution_count": 76,
   "metadata": {},
   "outputs": [
    {
     "data": {
      "text/html": [
       "<div>\n",
       "<style scoped>\n",
       "    .dataframe tbody tr th:only-of-type {\n",
       "        vertical-align: middle;\n",
       "    }\n",
       "\n",
       "    .dataframe tbody tr th {\n",
       "        vertical-align: top;\n",
       "    }\n",
       "\n",
       "    .dataframe thead th {\n",
       "        text-align: right;\n",
       "    }\n",
       "</style>\n",
       "<table border=\"1\" class=\"dataframe\">\n",
       "  <thead>\n",
       "    <tr style=\"text-align: right;\">\n",
       "      <th></th>\n",
       "      <th>date</th>\n",
       "      <th>created</th>\n",
       "      <th>event_install_delta</th>\n",
       "      <th>event_id</th>\n",
       "      <th>session_2_hours</th>\n",
       "    </tr>\n",
       "  </thead>\n",
       "  <tbody>\n",
       "    <tr>\n",
       "      <th>1619</th>\n",
       "      <td>2019-03-06 12:37:17.406</td>\n",
       "      <td>2019-03-06 12:37:20.069</td>\n",
       "      <td>-1 days +23:59:57.337000</td>\n",
       "      <td>1</td>\n",
       "      <td>12</td>\n",
       "    </tr>\n",
       "    <tr>\n",
       "      <th>1617</th>\n",
       "      <td>2019-03-06 12:37:20.069</td>\n",
       "      <td>2019-03-06 12:37:20.069</td>\n",
       "      <td>0 days 00:00:00</td>\n",
       "      <td>81</td>\n",
       "      <td>12</td>\n",
       "    </tr>\n",
       "    <tr>\n",
       "      <th>1616</th>\n",
       "      <td>2019-03-06 12:38:19.050</td>\n",
       "      <td>2019-03-06 12:37:20.069</td>\n",
       "      <td>0 days 00:00:58.981000</td>\n",
       "      <td>80</td>\n",
       "      <td>12</td>\n",
       "    </tr>\n",
       "    <tr>\n",
       "      <th>1711</th>\n",
       "      <td>2019-03-06 12:38:36.410</td>\n",
       "      <td>2019-03-06 12:37:20.069</td>\n",
       "      <td>0 days 00:01:16.341000</td>\n",
       "      <td>89</td>\n",
       "      <td>12</td>\n",
       "    </tr>\n",
       "    <tr>\n",
       "      <th>1618</th>\n",
       "      <td>2019-03-06 12:58:17.542</td>\n",
       "      <td>2019-03-06 12:37:20.069</td>\n",
       "      <td>0 days 00:20:57.473000</td>\n",
       "      <td>81</td>\n",
       "      <td>12</td>\n",
       "    </tr>\n",
       "    <tr>\n",
       "      <th>1710</th>\n",
       "      <td>2019-03-06 12:58:24.074</td>\n",
       "      <td>2019-03-06 12:37:20.069</td>\n",
       "      <td>0 days 00:21:04.005000</td>\n",
       "      <td>80</td>\n",
       "      <td>12</td>\n",
       "    </tr>\n",
       "    <tr>\n",
       "      <th>1620</th>\n",
       "      <td>2019-03-06 12:59:28.882</td>\n",
       "      <td>2019-03-06 12:37:20.069</td>\n",
       "      <td>0 days 00:22:08.813000</td>\n",
       "      <td>80</td>\n",
       "      <td>12</td>\n",
       "    </tr>\n",
       "    <tr>\n",
       "      <th>1705</th>\n",
       "      <td>2019-03-06 13:03:03.575</td>\n",
       "      <td>2019-03-06 12:37:20.069</td>\n",
       "      <td>0 days 00:25:43.506000</td>\n",
       "      <td>89</td>\n",
       "      <td>12</td>\n",
       "    </tr>\n",
       "    <tr>\n",
       "      <th>1708</th>\n",
       "      <td>2019-03-06 13:07:29.879</td>\n",
       "      <td>2019-03-06 12:37:20.069</td>\n",
       "      <td>0 days 00:30:09.810000</td>\n",
       "      <td>117</td>\n",
       "      <td>12</td>\n",
       "    </tr>\n",
       "    <tr>\n",
       "      <th>1706</th>\n",
       "      <td>2019-03-06 13:07:31.634</td>\n",
       "      <td>2019-03-06 12:37:20.069</td>\n",
       "      <td>0 days 00:30:11.565000</td>\n",
       "      <td>88</td>\n",
       "      <td>12</td>\n",
       "    </tr>\n",
       "    <tr>\n",
       "      <th>1699</th>\n",
       "      <td>2019-03-06 13:10:30.125</td>\n",
       "      <td>2019-03-06 12:37:20.069</td>\n",
       "      <td>0 days 00:33:10.056000</td>\n",
       "      <td>117</td>\n",
       "      <td>12</td>\n",
       "    </tr>\n",
       "    <tr>\n",
       "      <th>1709</th>\n",
       "      <td>2019-03-06 13:10:32.405</td>\n",
       "      <td>2019-03-06 12:37:20.069</td>\n",
       "      <td>0 days 00:33:12.336000</td>\n",
       "      <td>88</td>\n",
       "      <td>12</td>\n",
       "    </tr>\n",
       "    <tr>\n",
       "      <th>1703</th>\n",
       "      <td>2019-03-06 13:35:51.960</td>\n",
       "      <td>2019-03-06 12:37:20.069</td>\n",
       "      <td>0 days 00:58:31.891000</td>\n",
       "      <td>81</td>\n",
       "      <td>12</td>\n",
       "    </tr>\n",
       "    <tr>\n",
       "      <th>1653</th>\n",
       "      <td>2019-03-06 13:35:54.662</td>\n",
       "      <td>2019-03-06 12:37:20.069</td>\n",
       "      <td>0 days 00:58:34.593000</td>\n",
       "      <td>80</td>\n",
       "      <td>12</td>\n",
       "    </tr>\n",
       "    <tr>\n",
       "      <th>1652</th>\n",
       "      <td>2019-03-06 13:36:37.044</td>\n",
       "      <td>2019-03-06 12:37:20.069</td>\n",
       "      <td>0 days 00:59:16.975000</td>\n",
       "      <td>89</td>\n",
       "      <td>12</td>\n",
       "    </tr>\n",
       "    <tr>\n",
       "      <th>1702</th>\n",
       "      <td>2019-03-06 13:38:16.541</td>\n",
       "      <td>2019-03-06 12:37:20.069</td>\n",
       "      <td>0 days 01:00:56.472000</td>\n",
       "      <td>117</td>\n",
       "      <td>12</td>\n",
       "    </tr>\n",
       "    <tr>\n",
       "      <th>1701</th>\n",
       "      <td>2019-03-06 13:38:19.257</td>\n",
       "      <td>2019-03-06 12:37:20.069</td>\n",
       "      <td>0 days 01:00:59.188000</td>\n",
       "      <td>88</td>\n",
       "      <td>12</td>\n",
       "    </tr>\n",
       "    <tr>\n",
       "      <th>1704</th>\n",
       "      <td>2019-03-06 13:38:53.883</td>\n",
       "      <td>2019-03-06 12:37:20.069</td>\n",
       "      <td>0 days 01:01:33.814000</td>\n",
       "      <td>117</td>\n",
       "      <td>12</td>\n",
       "    </tr>\n",
       "    <tr>\n",
       "      <th>1700</th>\n",
       "      <td>2019-03-06 13:38:59.246</td>\n",
       "      <td>2019-03-06 12:37:20.069</td>\n",
       "      <td>0 days 01:01:39.177000</td>\n",
       "      <td>88</td>\n",
       "      <td>12</td>\n",
       "    </tr>\n",
       "    <tr>\n",
       "      <th>1707</th>\n",
       "      <td>2019-03-06 13:44:22.413</td>\n",
       "      <td>2019-03-06 12:37:20.069</td>\n",
       "      <td>0 days 01:07:02.344000</td>\n",
       "      <td>117</td>\n",
       "      <td>12</td>\n",
       "    </tr>\n",
       "    <tr>\n",
       "      <th>1697</th>\n",
       "      <td>2019-03-06 13:46:31.871</td>\n",
       "      <td>2019-03-06 12:37:20.069</td>\n",
       "      <td>0 days 01:09:11.802000</td>\n",
       "      <td>117</td>\n",
       "      <td>12</td>\n",
       "    </tr>\n",
       "    <tr>\n",
       "      <th>1698</th>\n",
       "      <td>2019-03-06 13:46:37.345</td>\n",
       "      <td>2019-03-06 12:37:20.069</td>\n",
       "      <td>0 days 01:09:17.276000</td>\n",
       "      <td>88</td>\n",
       "      <td>12</td>\n",
       "    </tr>\n",
       "    <tr>\n",
       "      <th>1649</th>\n",
       "      <td>2019-03-06 15:48:14.279</td>\n",
       "      <td>2019-03-06 12:37:20.069</td>\n",
       "      <td>0 days 03:10:54.210000</td>\n",
       "      <td>1</td>\n",
       "      <td>14</td>\n",
       "    </tr>\n",
       "    <tr>\n",
       "      <th>1603</th>\n",
       "      <td>2019-03-06 15:48:16.169</td>\n",
       "      <td>2019-03-06 12:37:20.069</td>\n",
       "      <td>0 days 03:10:56.100000</td>\n",
       "      <td>81</td>\n",
       "      <td>14</td>\n",
       "    </tr>\n",
       "    <tr>\n",
       "      <th>1601</th>\n",
       "      <td>2019-03-06 15:48:24.255</td>\n",
       "      <td>2019-03-06 12:37:20.069</td>\n",
       "      <td>0 days 03:11:04.186000</td>\n",
       "      <td>89</td>\n",
       "      <td>14</td>\n",
       "    </tr>\n",
       "    <tr>\n",
       "      <th>1598</th>\n",
       "      <td>2019-03-06 15:49:28.308</td>\n",
       "      <td>2019-03-06 12:37:20.069</td>\n",
       "      <td>0 days 03:12:08.239000</td>\n",
       "      <td>117</td>\n",
       "      <td>14</td>\n",
       "    </tr>\n",
       "    <tr>\n",
       "      <th>1600</th>\n",
       "      <td>2019-03-06 15:49:37.202</td>\n",
       "      <td>2019-03-06 12:37:20.069</td>\n",
       "      <td>0 days 03:12:17.133000</td>\n",
       "      <td>117</td>\n",
       "      <td>14</td>\n",
       "    </tr>\n",
       "    <tr>\n",
       "      <th>1650</th>\n",
       "      <td>2019-03-06 15:51:47.962</td>\n",
       "      <td>2019-03-06 12:37:20.069</td>\n",
       "      <td>0 days 03:14:27.893000</td>\n",
       "      <td>117</td>\n",
       "      <td>14</td>\n",
       "    </tr>\n",
       "    <tr>\n",
       "      <th>1599</th>\n",
       "      <td>2019-03-06 15:54:33.577</td>\n",
       "      <td>2019-03-06 12:37:20.069</td>\n",
       "      <td>0 days 03:17:13.508000</td>\n",
       "      <td>117</td>\n",
       "      <td>14</td>\n",
       "    </tr>\n",
       "    <tr>\n",
       "      <th>1602</th>\n",
       "      <td>2019-03-06 15:59:18.843</td>\n",
       "      <td>2019-03-06 12:37:20.069</td>\n",
       "      <td>0 days 03:21:58.774000</td>\n",
       "      <td>117</td>\n",
       "      <td>14</td>\n",
       "    </tr>\n",
       "    <tr>\n",
       "      <th>...</th>\n",
       "      <td>...</td>\n",
       "      <td>...</td>\n",
       "      <td>...</td>\n",
       "      <td>...</td>\n",
       "      <td>...</td>\n",
       "    </tr>\n",
       "    <tr>\n",
       "      <th>1679</th>\n",
       "      <td>2019-03-11 22:17:46.325</td>\n",
       "      <td>2019-03-06 12:37:20.069</td>\n",
       "      <td>5 days 09:40:26.256000</td>\n",
       "      <td>80</td>\n",
       "      <td>22</td>\n",
       "    </tr>\n",
       "    <tr>\n",
       "      <th>1696</th>\n",
       "      <td>2019-03-11 22:18:00.774</td>\n",
       "      <td>2019-03-06 12:37:20.069</td>\n",
       "      <td>5 days 09:40:40.705000</td>\n",
       "      <td>89</td>\n",
       "      <td>22</td>\n",
       "    </tr>\n",
       "    <tr>\n",
       "      <th>1695</th>\n",
       "      <td>2019-03-11 22:18:21.038</td>\n",
       "      <td>2019-03-06 12:37:20.069</td>\n",
       "      <td>5 days 09:41:00.969000</td>\n",
       "      <td>117</td>\n",
       "      <td>22</td>\n",
       "    </tr>\n",
       "    <tr>\n",
       "      <th>1680</th>\n",
       "      <td>2019-03-11 22:18:22.637</td>\n",
       "      <td>2019-03-06 12:37:20.069</td>\n",
       "      <td>5 days 09:41:02.568000</td>\n",
       "      <td>88</td>\n",
       "      <td>22</td>\n",
       "    </tr>\n",
       "    <tr>\n",
       "      <th>1688</th>\n",
       "      <td>2019-03-12 01:05:10.421</td>\n",
       "      <td>2019-03-06 12:37:20.069</td>\n",
       "      <td>5 days 12:27:50.352000</td>\n",
       "      <td>1</td>\n",
       "      <td>0</td>\n",
       "    </tr>\n",
       "    <tr>\n",
       "      <th>1670</th>\n",
       "      <td>2019-03-12 01:05:14.625</td>\n",
       "      <td>2019-03-06 12:37:20.069</td>\n",
       "      <td>5 days 12:27:54.556000</td>\n",
       "      <td>81</td>\n",
       "      <td>0</td>\n",
       "    </tr>\n",
       "    <tr>\n",
       "      <th>1665</th>\n",
       "      <td>2019-03-12 01:05:16.193</td>\n",
       "      <td>2019-03-06 12:37:20.069</td>\n",
       "      <td>5 days 12:27:56.124000</td>\n",
       "      <td>80</td>\n",
       "      <td>0</td>\n",
       "    </tr>\n",
       "    <tr>\n",
       "      <th>1668</th>\n",
       "      <td>2019-03-12 01:05:36.177</td>\n",
       "      <td>2019-03-06 12:37:20.069</td>\n",
       "      <td>5 days 12:28:16.108000</td>\n",
       "      <td>89</td>\n",
       "      <td>0</td>\n",
       "    </tr>\n",
       "    <tr>\n",
       "      <th>1691</th>\n",
       "      <td>2019-03-12 01:06:35.688</td>\n",
       "      <td>2019-03-06 12:37:20.069</td>\n",
       "      <td>5 days 12:29:15.619000</td>\n",
       "      <td>117</td>\n",
       "      <td>0</td>\n",
       "    </tr>\n",
       "    <tr>\n",
       "      <th>1692</th>\n",
       "      <td>2019-03-12 01:06:38.223</td>\n",
       "      <td>2019-03-06 12:37:20.069</td>\n",
       "      <td>5 days 12:29:18.154000</td>\n",
       "      <td>88</td>\n",
       "      <td>0</td>\n",
       "    </tr>\n",
       "    <tr>\n",
       "      <th>1671</th>\n",
       "      <td>2019-03-12 01:10:44.938</td>\n",
       "      <td>2019-03-06 12:37:20.069</td>\n",
       "      <td>5 days 12:33:24.869000</td>\n",
       "      <td>117</td>\n",
       "      <td>0</td>\n",
       "    </tr>\n",
       "    <tr>\n",
       "      <th>1684</th>\n",
       "      <td>2019-03-12 01:10:46.853</td>\n",
       "      <td>2019-03-06 12:37:20.069</td>\n",
       "      <td>5 days 12:33:26.784000</td>\n",
       "      <td>88</td>\n",
       "      <td>0</td>\n",
       "    </tr>\n",
       "    <tr>\n",
       "      <th>1687</th>\n",
       "      <td>2019-03-12 01:12:36.011</td>\n",
       "      <td>2019-03-06 12:37:20.069</td>\n",
       "      <td>5 days 12:35:15.942000</td>\n",
       "      <td>117</td>\n",
       "      <td>0</td>\n",
       "    </tr>\n",
       "    <tr>\n",
       "      <th>1686</th>\n",
       "      <td>2019-03-12 01:12:37.610</td>\n",
       "      <td>2019-03-06 12:37:20.069</td>\n",
       "      <td>5 days 12:35:17.541000</td>\n",
       "      <td>88</td>\n",
       "      <td>0</td>\n",
       "    </tr>\n",
       "    <tr>\n",
       "      <th>1667</th>\n",
       "      <td>2019-03-12 01:14:25.095</td>\n",
       "      <td>2019-03-06 12:37:20.069</td>\n",
       "      <td>5 days 12:37:05.026000</td>\n",
       "      <td>117</td>\n",
       "      <td>0</td>\n",
       "    </tr>\n",
       "    <tr>\n",
       "      <th>1666</th>\n",
       "      <td>2019-03-12 01:14:27.257</td>\n",
       "      <td>2019-03-06 12:37:20.069</td>\n",
       "      <td>5 days 12:37:07.188000</td>\n",
       "      <td>88</td>\n",
       "      <td>0</td>\n",
       "    </tr>\n",
       "    <tr>\n",
       "      <th>1685</th>\n",
       "      <td>2019-03-12 01:16:18.016</td>\n",
       "      <td>2019-03-06 12:37:20.069</td>\n",
       "      <td>5 days 12:38:57.947000</td>\n",
       "      <td>117</td>\n",
       "      <td>0</td>\n",
       "    </tr>\n",
       "    <tr>\n",
       "      <th>1683</th>\n",
       "      <td>2019-03-12 01:16:19.508</td>\n",
       "      <td>2019-03-06 12:37:20.069</td>\n",
       "      <td>5 days 12:38:59.439000</td>\n",
       "      <td>88</td>\n",
       "      <td>0</td>\n",
       "    </tr>\n",
       "    <tr>\n",
       "      <th>1690</th>\n",
       "      <td>2019-03-12 01:21:54.679</td>\n",
       "      <td>2019-03-06 12:37:20.069</td>\n",
       "      <td>5 days 12:44:34.610000</td>\n",
       "      <td>117</td>\n",
       "      <td>0</td>\n",
       "    </tr>\n",
       "    <tr>\n",
       "      <th>1689</th>\n",
       "      <td>2019-03-12 01:21:58.203</td>\n",
       "      <td>2019-03-06 12:37:20.069</td>\n",
       "      <td>5 days 12:44:38.134000</td>\n",
       "      <td>88</td>\n",
       "      <td>0</td>\n",
       "    </tr>\n",
       "    <tr>\n",
       "      <th>1694</th>\n",
       "      <td>2019-03-12 01:25:12.501</td>\n",
       "      <td>2019-03-06 12:37:20.069</td>\n",
       "      <td>5 days 12:47:52.432000</td>\n",
       "      <td>117</td>\n",
       "      <td>0</td>\n",
       "    </tr>\n",
       "    <tr>\n",
       "      <th>1693</th>\n",
       "      <td>2019-03-12 01:25:14.970</td>\n",
       "      <td>2019-03-06 12:37:20.069</td>\n",
       "      <td>5 days 12:47:54.901000</td>\n",
       "      <td>88</td>\n",
       "      <td>0</td>\n",
       "    </tr>\n",
       "    <tr>\n",
       "      <th>1669</th>\n",
       "      <td>2019-03-12 01:25:54.656</td>\n",
       "      <td>2019-03-06 12:37:20.069</td>\n",
       "      <td>5 days 12:48:34.587000</td>\n",
       "      <td>117</td>\n",
       "      <td>0</td>\n",
       "    </tr>\n",
       "    <tr>\n",
       "      <th>1672</th>\n",
       "      <td>2019-03-12 01:25:55.985</td>\n",
       "      <td>2019-03-06 12:37:20.069</td>\n",
       "      <td>5 days 12:48:35.916000</td>\n",
       "      <td>88</td>\n",
       "      <td>0</td>\n",
       "    </tr>\n",
       "    <tr>\n",
       "      <th>1676</th>\n",
       "      <td>2019-03-13 20:19:42.775</td>\n",
       "      <td>2019-03-06 12:37:20.069</td>\n",
       "      <td>7 days 07:42:22.706000</td>\n",
       "      <td>1</td>\n",
       "      <td>20</td>\n",
       "    </tr>\n",
       "    <tr>\n",
       "      <th>1675</th>\n",
       "      <td>2019-03-13 20:19:49.976</td>\n",
       "      <td>2019-03-06 12:37:20.069</td>\n",
       "      <td>7 days 07:42:29.907000</td>\n",
       "      <td>81</td>\n",
       "      <td>20</td>\n",
       "    </tr>\n",
       "    <tr>\n",
       "      <th>1673</th>\n",
       "      <td>2019-03-13 20:19:50.953</td>\n",
       "      <td>2019-03-06 12:37:20.069</td>\n",
       "      <td>7 days 07:42:30.884000</td>\n",
       "      <td>80</td>\n",
       "      <td>20</td>\n",
       "    </tr>\n",
       "    <tr>\n",
       "      <th>1677</th>\n",
       "      <td>2019-03-13 20:20:05.498</td>\n",
       "      <td>2019-03-06 12:37:20.069</td>\n",
       "      <td>7 days 07:42:45.429000</td>\n",
       "      <td>89</td>\n",
       "      <td>20</td>\n",
       "    </tr>\n",
       "    <tr>\n",
       "      <th>1682</th>\n",
       "      <td>2019-03-13 20:20:23.970</td>\n",
       "      <td>2019-03-06 12:37:20.069</td>\n",
       "      <td>7 days 07:43:03.901000</td>\n",
       "      <td>88</td>\n",
       "      <td>20</td>\n",
       "    </tr>\n",
       "    <tr>\n",
       "      <th>1674</th>\n",
       "      <td>2019-03-13 20:20:24.061</td>\n",
       "      <td>2019-03-06 12:37:20.069</td>\n",
       "      <td>7 days 07:43:03.992000</td>\n",
       "      <td>117</td>\n",
       "      <td>20</td>\n",
       "    </tr>\n",
       "  </tbody>\n",
       "</table>\n",
       "<p>134 rows × 5 columns</p>\n",
       "</div>"
      ],
      "text/plain": [
       "                        date                 created      event_install_delta  \\\n",
       "1619 2019-03-06 12:37:17.406 2019-03-06 12:37:20.069 -1 days +23:59:57.337000   \n",
       "1617 2019-03-06 12:37:20.069 2019-03-06 12:37:20.069          0 days 00:00:00   \n",
       "1616 2019-03-06 12:38:19.050 2019-03-06 12:37:20.069   0 days 00:00:58.981000   \n",
       "1711 2019-03-06 12:38:36.410 2019-03-06 12:37:20.069   0 days 00:01:16.341000   \n",
       "1618 2019-03-06 12:58:17.542 2019-03-06 12:37:20.069   0 days 00:20:57.473000   \n",
       "1710 2019-03-06 12:58:24.074 2019-03-06 12:37:20.069   0 days 00:21:04.005000   \n",
       "1620 2019-03-06 12:59:28.882 2019-03-06 12:37:20.069   0 days 00:22:08.813000   \n",
       "1705 2019-03-06 13:03:03.575 2019-03-06 12:37:20.069   0 days 00:25:43.506000   \n",
       "1708 2019-03-06 13:07:29.879 2019-03-06 12:37:20.069   0 days 00:30:09.810000   \n",
       "1706 2019-03-06 13:07:31.634 2019-03-06 12:37:20.069   0 days 00:30:11.565000   \n",
       "1699 2019-03-06 13:10:30.125 2019-03-06 12:37:20.069   0 days 00:33:10.056000   \n",
       "1709 2019-03-06 13:10:32.405 2019-03-06 12:37:20.069   0 days 00:33:12.336000   \n",
       "1703 2019-03-06 13:35:51.960 2019-03-06 12:37:20.069   0 days 00:58:31.891000   \n",
       "1653 2019-03-06 13:35:54.662 2019-03-06 12:37:20.069   0 days 00:58:34.593000   \n",
       "1652 2019-03-06 13:36:37.044 2019-03-06 12:37:20.069   0 days 00:59:16.975000   \n",
       "1702 2019-03-06 13:38:16.541 2019-03-06 12:37:20.069   0 days 01:00:56.472000   \n",
       "1701 2019-03-06 13:38:19.257 2019-03-06 12:37:20.069   0 days 01:00:59.188000   \n",
       "1704 2019-03-06 13:38:53.883 2019-03-06 12:37:20.069   0 days 01:01:33.814000   \n",
       "1700 2019-03-06 13:38:59.246 2019-03-06 12:37:20.069   0 days 01:01:39.177000   \n",
       "1707 2019-03-06 13:44:22.413 2019-03-06 12:37:20.069   0 days 01:07:02.344000   \n",
       "1697 2019-03-06 13:46:31.871 2019-03-06 12:37:20.069   0 days 01:09:11.802000   \n",
       "1698 2019-03-06 13:46:37.345 2019-03-06 12:37:20.069   0 days 01:09:17.276000   \n",
       "1649 2019-03-06 15:48:14.279 2019-03-06 12:37:20.069   0 days 03:10:54.210000   \n",
       "1603 2019-03-06 15:48:16.169 2019-03-06 12:37:20.069   0 days 03:10:56.100000   \n",
       "1601 2019-03-06 15:48:24.255 2019-03-06 12:37:20.069   0 days 03:11:04.186000   \n",
       "1598 2019-03-06 15:49:28.308 2019-03-06 12:37:20.069   0 days 03:12:08.239000   \n",
       "1600 2019-03-06 15:49:37.202 2019-03-06 12:37:20.069   0 days 03:12:17.133000   \n",
       "1650 2019-03-06 15:51:47.962 2019-03-06 12:37:20.069   0 days 03:14:27.893000   \n",
       "1599 2019-03-06 15:54:33.577 2019-03-06 12:37:20.069   0 days 03:17:13.508000   \n",
       "1602 2019-03-06 15:59:18.843 2019-03-06 12:37:20.069   0 days 03:21:58.774000   \n",
       "...                      ...                     ...                      ...   \n",
       "1679 2019-03-11 22:17:46.325 2019-03-06 12:37:20.069   5 days 09:40:26.256000   \n",
       "1696 2019-03-11 22:18:00.774 2019-03-06 12:37:20.069   5 days 09:40:40.705000   \n",
       "1695 2019-03-11 22:18:21.038 2019-03-06 12:37:20.069   5 days 09:41:00.969000   \n",
       "1680 2019-03-11 22:18:22.637 2019-03-06 12:37:20.069   5 days 09:41:02.568000   \n",
       "1688 2019-03-12 01:05:10.421 2019-03-06 12:37:20.069   5 days 12:27:50.352000   \n",
       "1670 2019-03-12 01:05:14.625 2019-03-06 12:37:20.069   5 days 12:27:54.556000   \n",
       "1665 2019-03-12 01:05:16.193 2019-03-06 12:37:20.069   5 days 12:27:56.124000   \n",
       "1668 2019-03-12 01:05:36.177 2019-03-06 12:37:20.069   5 days 12:28:16.108000   \n",
       "1691 2019-03-12 01:06:35.688 2019-03-06 12:37:20.069   5 days 12:29:15.619000   \n",
       "1692 2019-03-12 01:06:38.223 2019-03-06 12:37:20.069   5 days 12:29:18.154000   \n",
       "1671 2019-03-12 01:10:44.938 2019-03-06 12:37:20.069   5 days 12:33:24.869000   \n",
       "1684 2019-03-12 01:10:46.853 2019-03-06 12:37:20.069   5 days 12:33:26.784000   \n",
       "1687 2019-03-12 01:12:36.011 2019-03-06 12:37:20.069   5 days 12:35:15.942000   \n",
       "1686 2019-03-12 01:12:37.610 2019-03-06 12:37:20.069   5 days 12:35:17.541000   \n",
       "1667 2019-03-12 01:14:25.095 2019-03-06 12:37:20.069   5 days 12:37:05.026000   \n",
       "1666 2019-03-12 01:14:27.257 2019-03-06 12:37:20.069   5 days 12:37:07.188000   \n",
       "1685 2019-03-12 01:16:18.016 2019-03-06 12:37:20.069   5 days 12:38:57.947000   \n",
       "1683 2019-03-12 01:16:19.508 2019-03-06 12:37:20.069   5 days 12:38:59.439000   \n",
       "1690 2019-03-12 01:21:54.679 2019-03-06 12:37:20.069   5 days 12:44:34.610000   \n",
       "1689 2019-03-12 01:21:58.203 2019-03-06 12:37:20.069   5 days 12:44:38.134000   \n",
       "1694 2019-03-12 01:25:12.501 2019-03-06 12:37:20.069   5 days 12:47:52.432000   \n",
       "1693 2019-03-12 01:25:14.970 2019-03-06 12:37:20.069   5 days 12:47:54.901000   \n",
       "1669 2019-03-12 01:25:54.656 2019-03-06 12:37:20.069   5 days 12:48:34.587000   \n",
       "1672 2019-03-12 01:25:55.985 2019-03-06 12:37:20.069   5 days 12:48:35.916000   \n",
       "1676 2019-03-13 20:19:42.775 2019-03-06 12:37:20.069   7 days 07:42:22.706000   \n",
       "1675 2019-03-13 20:19:49.976 2019-03-06 12:37:20.069   7 days 07:42:29.907000   \n",
       "1673 2019-03-13 20:19:50.953 2019-03-06 12:37:20.069   7 days 07:42:30.884000   \n",
       "1677 2019-03-13 20:20:05.498 2019-03-06 12:37:20.069   7 days 07:42:45.429000   \n",
       "1682 2019-03-13 20:20:23.970 2019-03-06 12:37:20.069   7 days 07:43:03.901000   \n",
       "1674 2019-03-13 20:20:24.061 2019-03-06 12:37:20.069   7 days 07:43:03.992000   \n",
       "\n",
       "      event_id  session_2_hours  \n",
       "1619         1               12  \n",
       "1617        81               12  \n",
       "1616        80               12  \n",
       "1711        89               12  \n",
       "1618        81               12  \n",
       "1710        80               12  \n",
       "1620        80               12  \n",
       "1705        89               12  \n",
       "1708       117               12  \n",
       "1706        88               12  \n",
       "1699       117               12  \n",
       "1709        88               12  \n",
       "1703        81               12  \n",
       "1653        80               12  \n",
       "1652        89               12  \n",
       "1702       117               12  \n",
       "1701        88               12  \n",
       "1704       117               12  \n",
       "1700        88               12  \n",
       "1707       117               12  \n",
       "1697       117               12  \n",
       "1698        88               12  \n",
       "1649         1               14  \n",
       "1603        81               14  \n",
       "1601        89               14  \n",
       "1598       117               14  \n",
       "1600       117               14  \n",
       "1650       117               14  \n",
       "1599       117               14  \n",
       "1602       117               14  \n",
       "...        ...              ...  \n",
       "1679        80               22  \n",
       "1696        89               22  \n",
       "1695       117               22  \n",
       "1680        88               22  \n",
       "1688         1                0  \n",
       "1670        81                0  \n",
       "1665        80                0  \n",
       "1668        89                0  \n",
       "1691       117                0  \n",
       "1692        88                0  \n",
       "1671       117                0  \n",
       "1684        88                0  \n",
       "1687       117                0  \n",
       "1686        88                0  \n",
       "1667       117                0  \n",
       "1666        88                0  \n",
       "1685       117                0  \n",
       "1683        88                0  \n",
       "1690       117                0  \n",
       "1689        88                0  \n",
       "1694       117                0  \n",
       "1693        88                0  \n",
       "1669       117                0  \n",
       "1672        88                0  \n",
       "1676         1               20  \n",
       "1675        81               20  \n",
       "1673        80               20  \n",
       "1677        89               20  \n",
       "1682        88               20  \n",
       "1674       117               20  \n",
       "\n",
       "[134 rows x 5 columns]"
      ]
     },
     "execution_count": 76,
     "metadata": {},
     "output_type": "execute_result"
    }
   ],
   "source": [
    "#sigue pasando lo de 1-81-80\n",
    "#en todos los inicios de sesion\n",
    "#seguramente sea por la hipotesis de mas arriba\n",
    "app_7[app_7[\"ref_hash\"] == 6993411212572451214][[\"date\", \"created\", \"event_install_delta\", \"event_id\", \"session_2_hours\"]].sort_values(by=\"date\")"
   ]
  },
  {
   "cell_type": "code",
   "execution_count": null,
   "metadata": {},
   "outputs": [],
   "source": []
  },
  {
   "cell_type": "code",
   "execution_count": 77,
   "metadata": {},
   "outputs": [],
   "source": [
    "#vemos si hay alguna relacion entre el comportamiento del suario y la marca del celular"
   ]
  },
  {
   "cell_type": "code",
   "execution_count": 78,
   "metadata": {},
   "outputs": [],
   "source": [
    "def brand_of_android_device(row):\n",
    "    if row[\"user_agent_y\"] is np.nan:\n",
    "        return None\n",
    "    agent = row[\"user_agent_y\"].lower()\n",
    "    if \"sm-\" in agent or \"gt-\" in agent:\n",
    "        return \"samsung\"\n",
    "    elif \"lg-\" in agent or \"lm-\" in agent:\n",
    "        return \"lg\"\n",
    "    elif \"moto\" in agent or \"xt\" in agent:\n",
    "        return \"motorola\"\n",
    "    elif \"miui\" in agent or \" mi \" in agent:\n",
    "        return \"xiaomi\"\n",
    "    elif \"asus\" in agent:\n",
    "        return \"asus\"\n",
    "    elif \"lenovo\" in agent:\n",
    "        return \"lenovo\"\n",
    "    elif  \"huawei\" in agent:\n",
    "        return \"huawei\"\n",
    "    elif \"oneplus\" in agent:\n",
    "        return \"oneplus\"\n",
    "    elif \"positivo\" in agent or \"S455\" in agent:\n",
    "        return \"positivo bgh\"\n",
    "    elif \"zte\" in agent:\n",
    "        return \"zte\"\n",
    "    elif \"nokia\" in agent:\n",
    "        return \"nokia\"\n",
    "    else:\n",
    "        return \"other\""
   ]
  },
  {
   "cell_type": "code",
   "execution_count": 79,
   "metadata": {},
   "outputs": [],
   "source": [
    "import numpy as np"
   ]
  },
  {
   "cell_type": "code",
   "execution_count": null,
   "metadata": {},
   "outputs": [],
   "source": []
  },
  {
   "cell_type": "code",
   "execution_count": 80,
   "metadata": {},
   "outputs": [
    {
     "name": "stderr",
     "output_type": "stream",
     "text": [
      "/home/martinrosas/.local/lib/python3.6/site-packages/ipykernel_launcher.py:1: SettingWithCopyWarning: \n",
      "A value is trying to be set on a copy of a slice from a DataFrame.\n",
      "Try using .loc[row_indexer,col_indexer] = value instead\n",
      "\n",
      "See the caveats in the documentation: http://pandas.pydata.org/pandas-docs/stable/indexing.html#indexing-view-versus-copy\n",
      "  \"\"\"Entry point for launching an IPython kernel.\n"
     ]
    }
   ],
   "source": [
    "app_7[\"brand\"] = app_7.apply(brand_of_android_device, axis=1)"
   ]
  },
  {
   "cell_type": "code",
   "execution_count": 81,
   "metadata": {},
   "outputs": [
    {
     "data": {
      "text/plain": [
       "(6699, 43)"
      ]
     },
     "execution_count": 81,
     "metadata": {},
     "output_type": "execute_result"
    }
   ],
   "source": [
    "app_7.shape"
   ]
  },
  {
   "cell_type": "code",
   "execution_count": 82,
   "metadata": {},
   "outputs": [],
   "source": [
    "#no se puede sacar ninguna conclusion respecto a las marcas porque no hay informacion de ello para el app 7"
   ]
  },
  {
   "cell_type": "code",
   "execution_count": 83,
   "metadata": {},
   "outputs": [
    {
     "data": {
      "text/plain": [
       "xiaomi     36\n",
       "samsung    17\n",
       "huawei      4\n",
       "Name: brand, dtype: int64"
      ]
     },
     "execution_count": 83,
     "metadata": {},
     "output_type": "execute_result"
    }
   ],
   "source": [
    "app_7[\"brand\"].value_counts()"
   ]
  },
  {
   "cell_type": "code",
   "execution_count": 84,
   "metadata": {},
   "outputs": [
    {
     "data": {
      "text/plain": [
       "53157"
      ]
     },
     "execution_count": 84,
     "metadata": {},
     "output_type": "execute_result"
    }
   ],
   "source": [
    "len(events_installs)"
   ]
  },
  {
   "cell_type": "code",
   "execution_count": 85,
   "metadata": {},
   "outputs": [],
   "source": [
    "#ahora vemos si podemos conseguir informacion del sistema operativo para ver\n",
    "#si hay algun patron de comportamiento con el mismo"
   ]
  },
  {
   "cell_type": "code",
   "execution_count": null,
   "metadata": {},
   "outputs": [],
   "source": []
  },
  {
   "cell_type": "code",
   "execution_count": null,
   "metadata": {},
   "outputs": [],
   "source": []
  },
  {
   "cell_type": "code",
   "execution_count": 86,
   "metadata": {},
   "outputs": [
    {
     "data": {
      "text/plain": [
       "7.531669e+18    8740\n",
       "6.941825e+18    7830\n",
       "2.748831e+18      25\n",
       "5.916187e+18       7\n",
       "Name: device_os, dtype: int64"
      ]
     },
     "execution_count": 86,
     "metadata": {},
     "output_type": "execute_result"
    }
   ],
   "source": [
    "#sistemas operativos\n",
    "#el feature device os tiene 4 valores encodeados\n",
    "#compraramos feature device os con user agent a ver si podemos decifrar cuales son\n",
    "events_installs[\"device_os\"].value_counts()"
   ]
  },
  {
   "cell_type": "code",
   "execution_count": 87,
   "metadata": {},
   "outputs": [],
   "source": [
    "#veamos para el sistema operativo mas comun\n",
    "most_frequent_os = events_installs[\"device_os\"].value_counts().index[0]"
   ]
  },
  {
   "cell_type": "code",
   "execution_count": 88,
   "metadata": {},
   "outputs": [
    {
     "data": {
      "text/plain": [
       "7.531669329342817e+18"
      ]
     },
     "execution_count": 88,
     "metadata": {},
     "output_type": "execute_result"
    }
   ],
   "source": [
    "abs(most_frequent_os)"
   ]
  },
  {
   "cell_type": "code",
   "execution_count": 89,
   "metadata": {},
   "outputs": [
    {
     "data": {
      "text/plain": [
       "Dalvik/2.1.0 (Linux; U; Android 9; SM-G9650 Build/PPR1.180610.011)                    151\n",
       "Dalvik/2.1.0 (Linux; U; Android 8.0.0; SM-J810M Build/R16NW)                           61\n",
       "Dalvik/2.1.0 (Linux; U; Android 9; SM-G960F Build/PPR1.180610.011)                     42\n",
       "Dalvik/2.1.0 (Linux; U; Android 8.0.0; SM-G930F Build/R16NW)                           39\n",
       "Dalvik/2.1.0 (Linux; U; Android 9; Mi A2 Build/PKQ1.180904.001)                        37\n",
       "Dalvik/2.1.0 (Linux; U; Android 7.1.2; Redmi Note 5A Prime MIUI/V10.2.1.0.NDKMIXM)     33\n",
       "Dalvik/2.1.0 (Linux; U; Android 7.0; Moto G (5) Build/NPPS25.137-93-2-5)               19\n",
       "Dalvik/2.1.0 (Linux; U; Android 8.1.0; Redmi Note 5 MIUI/V9.5.19.0.OEIMIFA)            18\n",
       "Dalvik/2.1.0 (Linux; U; Android 8.0.0; ANE-LX3 Build/HUAWEIANE-LX3)                    14\n",
       "Dalvik/2.1.0 (Linux; U; Android 8.0.0; SM-G955F Build/R16NW)                           13\n",
       "Dalvik/2.1.0 (Linux; U; Android 9; Mi A1 MIUI/V10.0.5.0.PDHMIXM)                        9\n",
       "Dalvik/2.1.0 (Linux; U; Android 8.1.0; Redmi S2 MIUI/V10.2.1.0.OEFMIXM)                 5\n",
       "Dalvik/2.1.0 (Linux; U; Android 7.0; Redmi Note 4 MIUI/V10.2.3.0.NCFMIXM)               5\n",
       "Dalvik/2.1.0 (Linux; U; Android 8.0.0; SM-J600G Build/R16NW)                            5\n",
       "Dalvik/2.1.0 (Linux; U; Android 9; moto g(6) plus Build/PPW29.116-16)                   5\n",
       "Dalvik/2.1.0 (Linux; U; Android 9; HMA-L09 Build/HUAWEIHMA-L09)                         4\n",
       "Dalvik/2.1.0 (Linux; U; Android 8.1.0; Redmi Note 5 MIUI/V10.2.1.0.OEIMIXM)             3\n",
       "Dalvik/2.1.0 (Linux; U; Android 8.0.0; RNE-L03 Build/HUAWEIRNE-L03)                     1\n",
       "Dalvik/2.1.0 (Linux; U; Android 8.0.0; SM-G9600 Build/R16NW)                            1\n",
       "Dalvik/2.1.0 (Linux; U; Android 7.0; Redmi Note 4 MIUI/8.12.20)                         1\n",
       "Name: user_agent_y, dtype: int64"
      ]
     },
     "execution_count": 89,
     "metadata": {},
     "output_type": "execute_result"
    }
   ],
   "source": [
    "#hay pocos valores que no sean NAN pero \n",
    "#los pocos que hay son android, p or lo cual asumimos que el sistema operativo\n",
    "#encodeado como 7.531669329342817e+18 corresponde a android\n",
    "events_installs[events_installs[\"device_os\"] == most_frequent_os][\"user_agent_y\"].value_counts()"
   ]
  },
  {
   "cell_type": "code",
   "execution_count": 90,
   "metadata": {},
   "outputs": [],
   "source": [
    "#vemos con el segiundo sistema operativo mas comun"
   ]
  },
  {
   "cell_type": "code",
   "execution_count": 91,
   "metadata": {},
   "outputs": [
    {
     "data": {
      "text/plain": [
       "6.94182462626038e+18"
      ]
     },
     "execution_count": 91,
     "metadata": {},
     "output_type": "execute_result"
    }
   ],
   "source": [
    "second_most_frequent_os = events_installs[\"device_os\"].value_counts().index[1]\n",
    "second_most_frequent_os"
   ]
  },
  {
   "cell_type": "code",
   "execution_count": 92,
   "metadata": {},
   "outputs": [
    {
     "data": {
      "text/plain": [
       "MercadoPago/2.58.0.2 CFNetwork/976 Darwin/18.2.0        509\n",
       "MercadoPago/2.57.0.2 CFNetwork/976 Darwin/18.2.0        238\n",
       "MercadoPago/2.59.0.1 CFNetwork/976 Darwin/18.2.0        192\n",
       "HotelUrbano/2189 CFNetwork/976 Darwin/18.2.0            113\n",
       "MercadoPago/2.57.0.2 CFNetwork/889.9 Darwin/17.2.0       40\n",
       "PeixeUrbano/2 CFNetwork/902.2 Darwin/17.7.0              31\n",
       "NextGen/1230.4 CFNetwork/974.2.1 Darwin/18.0.0           21\n",
       "MercadoPago/2.58.0.2 CFNetwork/978.0.6 Darwin/18.5.0     21\n",
       "MercadoPago/2.57.0.2 CFNetwork/901.1 Darwin/17.6.0       18\n",
       "MercadoPago/2.57.0.2 CFNetwork/894 Darwin/17.4.0         10\n",
       "NextGen/1270 CFNetwork/976 Darwin/18.2.0                  6\n",
       "HotelUrbano/2189 CFNetwork/897.15 Darwin/17.5.0           3\n",
       "NextGen/1261 CFNetwork/976 Darwin/18.2.0                  2\n",
       "Name: user_agent_y, dtype: int64"
      ]
     },
     "execution_count": 92,
     "metadata": {},
     "output_type": "execute_result"
    }
   ],
   "source": [
    "#el segundo sistema oeprativo encodeado tiene en todos sus valores de user agent\n",
    "#a  darwin (apple), entonces probalemente sea IOS\n",
    "#en este caso tambien la mayoria de los valores son NAN, pero de los datos que hay, ninguno deja de ser apple\n",
    "events_installs[events_installs[\"device_os\"] == second_most_frequent_os][\"user_agent_y\"].value_counts()"
   ]
  },
  {
   "cell_type": "code",
   "execution_count": 93,
   "metadata": {},
   "outputs": [
    {
     "data": {
      "text/plain": [
       "2.7488313570525307e+18"
      ]
     },
     "execution_count": 93,
     "metadata": {},
     "output_type": "execute_result"
    }
   ],
   "source": [
    "#que pasa con los 2 restantes\n",
    "#tercero mas frecuente\n",
    "third_frequent_os = events_installs[\"device_os\"].value_counts().index[2]\n",
    "third_frequent_os"
   ]
  },
  {
   "cell_type": "code",
   "execution_count": 94,
   "metadata": {},
   "outputs": [
    {
     "data": {
      "text/plain": [
       "Dalvik/2.1.0 (Linux; U; Android 8.0.0; SM-G950U Build/R16NW)    1\n",
       "Name: user_agent_y, dtype: int64"
      ]
     },
     "execution_count": 94,
     "metadata": {},
     "output_type": "execute_result"
    }
   ],
   "source": [
    "#solo hay 1 valor no nulo y no es android\n",
    "#lo mejor es descartar y no buscar patrones con este OS porque no hay informacion\n",
    "events_installs[events_installs[\"device_os\"] == third_frequent_os][\"user_agent_y\"].value_counts()"
   ]
  },
  {
   "cell_type": "code",
   "execution_count": 95,
   "metadata": {},
   "outputs": [
    {
     "data": {
      "text/plain": [
       "5.916186881232351e+18"
      ]
     },
     "execution_count": 95,
     "metadata": {},
     "output_type": "execute_result"
    }
   ],
   "source": [
    "#cuarto mas frecuente\n",
    "fourth_frequent_os = events_installs[\"device_os\"].value_counts().index[3]\n",
    "fourth_frequent_os"
   ]
  },
  {
   "cell_type": "code",
   "execution_count": 96,
   "metadata": {},
   "outputs": [
    {
     "data": {
      "text/plain": [
       "MercadoPago/2.58.0.2 CFNetwork/976 Darwin/18.2.0        2\n",
       "MercadoPago/2.58.0.2 CFNetwork/975.0.3 Darwin/18.2.0    1\n",
       "Name: user_agent_y, dtype: int64"
      ]
     },
     "execution_count": 96,
     "metadata": {},
     "output_type": "execute_result"
    }
   ],
   "source": [
    "#en este casoo se repite apple, pero denuevo, solo hay 3 no-nans, asi que no trabajemos con este valor\n",
    "events_installs[events_installs[\"device_os\"] == fourth_frequent_os][\"user_agent_y\"].value_counts()"
   ]
  },
  {
   "cell_type": "code",
   "execution_count": null,
   "metadata": {},
   "outputs": [],
   "source": []
  },
  {
   "cell_type": "code",
   "execution_count": 97,
   "metadata": {},
   "outputs": [],
   "source": [
    "#siguiendo el supuesto de que los 2 SO mas comunes son, primero android y depsues IOS\n",
    "#veamos si podemos encontrar alguna diferencia en e comportamiento usando la app 7\n",
    "app_7_android = app_7[app_7[\"device_os\"] == most_frequent_os]\n",
    "app_7_ios = app_7[app_7[\"device_os\"] == second_most_frequent_os]"
   ]
  },
  {
   "cell_type": "code",
   "execution_count": null,
   "metadata": {},
   "outputs": [],
   "source": []
  },
  {
   "cell_type": "code",
   "execution_count": 98,
   "metadata": {},
   "outputs": [],
   "source": [
    "#veamos los eventos mas frecuentes para cada sistema operativo"
   ]
  },
  {
   "cell_type": "code",
   "execution_count": 99,
   "metadata": {},
   "outputs": [
    {
     "data": {
      "text/plain": [
       "81    1402\n",
       "80    1269\n",
       "1      887\n",
       "82     803\n",
       "89     622\n",
       "Name: event_id, dtype: int64"
      ]
     },
     "execution_count": 99,
     "metadata": {},
     "output_type": "execute_result"
    }
   ],
   "source": [
    "app_7_android[\"event_id\"].value_counts().head()"
   ]
  },
  {
   "cell_type": "code",
   "execution_count": 100,
   "metadata": {},
   "outputs": [
    {
     "data": {
      "text/plain": [
       "Series([], Name: event_id, dtype: int64)"
      ]
     },
     "execution_count": 100,
     "metadata": {},
     "output_type": "execute_result"
    }
   ],
   "source": [
    "#ios vacio?\n",
    "app_7_ios[\"event_id\"].value_counts().head()"
   ]
  },
  {
   "cell_type": "code",
   "execution_count": 101,
   "metadata": {},
   "outputs": [],
   "source": [
    "#parece uqe la app 7 solo tiene dispositivos android\n",
    "#puede ser que sea una app solo disponible para android?\n",
    "#tal vez existe para IOS pero tiene otro event id"
   ]
  },
  {
   "cell_type": "code",
   "execution_count": 102,
   "metadata": {},
   "outputs": [
    {
     "data": {
      "text/plain": [
       "7.531669e+18    6699\n",
       "Name: device_os, dtype: int64"
      ]
     },
     "execution_count": 102,
     "metadata": {},
     "output_type": "execute_result"
    }
   ],
   "source": [
    "app_7[\"device_os\"].value_counts()"
   ]
  },
  {
   "cell_type": "code",
   "execution_count": 103,
   "metadata": {},
   "outputs": [],
   "source": [
    "#como buscamos su equivalente en IOS?\n",
    "#tal vez, si existe la misma aplicacion con otro ID, tenga los mismos event ids mas comunes\n",
    "#podemos buscar los 5 events ID mas comunes de cada aplicacion y ver si alguna coincide con la app 7\n",
    "#y en caso de que alguna coincida, ver ahi el sistema operativo"
   ]
  },
  {
   "cell_type": "code",
   "execution_count": 104,
   "metadata": {},
   "outputs": [
    {
     "data": {
      "text/plain": [
       "{1, 80, 81, 82, 89}"
      ]
     },
     "execution_count": 104,
     "metadata": {},
     "output_type": "execute_result"
    }
   ],
   "source": [
    "#usamos set para ver si conjuntos estan contenidos en otros\n",
    "app_7_most_frequent_events = set(app_7[\"event_id\"].value_counts().head().index)\n",
    "app_7_most_frequent_events"
   ]
  },
  {
   "cell_type": "code",
   "execution_count": 105,
   "metadata": {},
   "outputs": [
    {
     "data": {
      "text/plain": [
       "array([ 43,   9,  17,   8, 210, 170,   0,   7,  64,  16,  66,  63, 182,\n",
       "        82, 112, 224, 145, 214,  34, 113, 140,  95, 227,  56, 103, 212,\n",
       "       198,  74, 297,  40,  15, 242, 248, 125,  84, 107, 226,  20,  77,\n",
       "        10,  29,   2,  57, 104, 166,  88,  28,  21, 150, 215,  85,  45,\n",
       "         6,  39, 187, 120,  52, 162, 119, 121,  93,  24, 106, 147, 189,\n",
       "        12, 164, 276,  54, 193, 194, 175,  33, 208, 200,  36,  92,  99,\n",
       "       283,   5, 244,  30, 129,  23, 102, 123, 270,  32, 292, 148, 136,\n",
       "       265])"
      ]
     },
     "execution_count": 105,
     "metadata": {},
     "output_type": "execute_result"
    }
   ],
   "source": [
    "#iteramos sobre cada aplicacion y buscamos para cada una los event id mas comunes y vemos si coinciden\n",
    "app_ids = events_installs[\"application_id_x\"].unique()\n",
    "app_ids"
   ]
  },
  {
   "cell_type": "code",
   "execution_count": null,
   "metadata": {},
   "outputs": [],
   "source": []
  },
  {
   "cell_type": "code",
   "execution_count": 106,
   "metadata": {},
   "outputs": [
    {
     "name": "stdout",
     "output_type": "stream",
     "text": [
      "17 tiene mismos eventos comunes\n",
      "8 tiene mismos eventos comunes\n",
      "7 tiene mismos eventos comunes\n",
      "34 tiene mismos eventos comunes\n"
     ]
    }
   ],
   "source": [
    "#podemos ver que hay 3 apps que tienen los mismos  eventos entre los mas comunes (tambien obviamente aparece la misma 7)\n",
    "for app_id in app_ids:\n",
    "    current_app_df = events_installs[events_installs[\"application_id_x\"] == app_id]\n",
    "    current_app_ten_most_frequent_events = set(current_app_df[\"event_id\"].value_counts().head().index)\n",
    "    if app_7_most_frequent_events <= current_app_ten_most_frequent_events:\n",
    "        print(str(app_id) + \" tiene mismos eventos comunes\")"
   ]
  },
  {
   "cell_type": "code",
   "execution_count": 107,
   "metadata": {},
   "outputs": [
    {
     "data": {
      "text/plain": [
       "6.941825e+18    238\n",
       "Name: device_os, dtype: int64"
      ]
     },
     "execution_count": 107,
     "metadata": {},
     "output_type": "execute_result"
    }
   ],
   "source": [
    "#vemos con app 17\n",
    "app_17_device_os = events_installs[events_installs[\"application_id_x\"] == 17][\"device_os\"].value_counts()\n",
    "app_17_device_os"
   ]
  },
  {
   "cell_type": "code",
   "execution_count": 108,
   "metadata": {},
   "outputs": [
    {
     "data": {
      "text/plain": [
       "6.94182462626038e+18"
      ]
     },
     "execution_count": 108,
     "metadata": {},
     "output_type": "execute_result"
    }
   ],
   "source": [
    "#esta vez el sistema operativo mas comun es IOS\n",
    "#entonces sera la misma app que la 7 pero version IOS?\n",
    "\n",
    "second_most_frequent_os"
   ]
  },
  {
   "cell_type": "code",
   "execution_count": 109,
   "metadata": {},
   "outputs": [],
   "source": [
    "#veamos los eventos , a ver si ademas de tener los mismos IDS mas comunes \n",
    "#suelen ser en el mismo orden?"
   ]
  },
  {
   "cell_type": "code",
   "execution_count": 110,
   "metadata": {},
   "outputs": [
    {
     "data": {
      "text/plain": [
       "6070513676221662557    66\n",
       "3895390168213205094    34\n",
       "2908949234038448252    27\n",
       "8288214953927629367    21\n",
       "5810469285003819247    16\n",
       "Name: ref_hash, dtype: int64"
      ]
     },
     "execution_count": 110,
     "metadata": {},
     "output_type": "execute_result"
    }
   ],
   "source": [
    "#veamos los ref hashes para separar usuarios y ver como se comportan\n",
    "app_17 = events_installs[events_installs[\"application_id_x\"] == 17]\n",
    "app_17[\"ref_hash\"].value_counts().head()"
   ]
  },
  {
   "cell_type": "code",
   "execution_count": 111,
   "metadata": {},
   "outputs": [
    {
     "name": "stderr",
     "output_type": "stream",
     "text": [
      "/home/martinrosas/.local/lib/python3.6/site-packages/ipykernel_launcher.py:2: SettingWithCopyWarning: \n",
      "A value is trying to be set on a copy of a slice from a DataFrame.\n",
      "Try using .loc[row_indexer,col_indexer] = value instead\n",
      "\n",
      "See the caveats in the documentation: http://pandas.pydata.org/pandas-docs/stable/indexing.html#indexing-view-versus-copy\n",
      "  \n"
     ]
    }
   ],
   "source": [
    "#agrego feature sesiones \n",
    "app_17[\"session_2_hours\"] = pd.to_datetime(app_17[\"date\"]).dt.floor('120T').dt.hour"
   ]
  },
  {
   "cell_type": "code",
   "execution_count": 112,
   "metadata": {},
   "outputs": [
    {
     "data": {
      "text/html": [
       "<div>\n",
       "<style scoped>\n",
       "    .dataframe tbody tr th:only-of-type {\n",
       "        vertical-align: middle;\n",
       "    }\n",
       "\n",
       "    .dataframe tbody tr th {\n",
       "        vertical-align: top;\n",
       "    }\n",
       "\n",
       "    .dataframe thead th {\n",
       "        text-align: right;\n",
       "    }\n",
       "</style>\n",
       "<table border=\"1\" class=\"dataframe\">\n",
       "  <thead>\n",
       "    <tr style=\"text-align: right;\">\n",
       "      <th></th>\n",
       "      <th>date</th>\n",
       "      <th>created</th>\n",
       "      <th>event_install_delta</th>\n",
       "      <th>event_id</th>\n",
       "      <th>session_2_hours</th>\n",
       "    </tr>\n",
       "  </thead>\n",
       "  <tbody>\n",
       "    <tr>\n",
       "      <th>18929</th>\n",
       "      <td>2019-03-05 15:58:12.132</td>\n",
       "      <td>2019-03-06 16:12:43.944</td>\n",
       "      <td>-2 days +23:45:28.188000</td>\n",
       "      <td>80</td>\n",
       "      <td>14</td>\n",
       "    </tr>\n",
       "    <tr>\n",
       "      <th>18927</th>\n",
       "      <td>2019-03-05 15:58:14.873</td>\n",
       "      <td>2019-03-06 16:12:43.944</td>\n",
       "      <td>-2 days +23:45:30.929000</td>\n",
       "      <td>80</td>\n",
       "      <td>14</td>\n",
       "    </tr>\n",
       "    <tr>\n",
       "      <th>18928</th>\n",
       "      <td>2019-03-05 15:58:16.232</td>\n",
       "      <td>2019-03-06 16:12:43.944</td>\n",
       "      <td>-2 days +23:45:32.288000</td>\n",
       "      <td>81</td>\n",
       "      <td>14</td>\n",
       "    </tr>\n",
       "    <tr>\n",
       "      <th>18926</th>\n",
       "      <td>2019-03-05 15:58:16.285</td>\n",
       "      <td>2019-03-06 16:12:43.944</td>\n",
       "      <td>-2 days +23:45:32.341000</td>\n",
       "      <td>1</td>\n",
       "      <td>14</td>\n",
       "    </tr>\n",
       "    <tr>\n",
       "      <th>18943</th>\n",
       "      <td>2019-03-05 17:40:21.979</td>\n",
       "      <td>2019-03-06 16:12:43.944</td>\n",
       "      <td>-1 days +01:27:38.035000</td>\n",
       "      <td>1</td>\n",
       "      <td>16</td>\n",
       "    </tr>\n",
       "    <tr>\n",
       "      <th>18915</th>\n",
       "      <td>2019-03-05 19:07:29.296</td>\n",
       "      <td>2019-03-06 16:12:43.944</td>\n",
       "      <td>-1 days +02:54:45.352000</td>\n",
       "      <td>80</td>\n",
       "      <td>18</td>\n",
       "    </tr>\n",
       "    <tr>\n",
       "      <th>18916</th>\n",
       "      <td>2019-03-05 19:07:33.914</td>\n",
       "      <td>2019-03-06 16:12:43.944</td>\n",
       "      <td>-1 days +02:54:49.970000</td>\n",
       "      <td>80</td>\n",
       "      <td>18</td>\n",
       "    </tr>\n",
       "    <tr>\n",
       "      <th>18914</th>\n",
       "      <td>2019-03-05 19:07:37.090</td>\n",
       "      <td>2019-03-06 16:12:43.944</td>\n",
       "      <td>-1 days +02:54:53.146000</td>\n",
       "      <td>1</td>\n",
       "      <td>18</td>\n",
       "    </tr>\n",
       "    <tr>\n",
       "      <th>18913</th>\n",
       "      <td>2019-03-05 19:07:38.944</td>\n",
       "      <td>2019-03-06 16:12:43.944</td>\n",
       "      <td>-1 days +02:54:55</td>\n",
       "      <td>81</td>\n",
       "      <td>18</td>\n",
       "    </tr>\n",
       "    <tr>\n",
       "      <th>18941</th>\n",
       "      <td>2019-03-06 14:32:00.778</td>\n",
       "      <td>2019-03-06 16:12:43.944</td>\n",
       "      <td>-1 days +22:19:16.834000</td>\n",
       "      <td>80</td>\n",
       "      <td>14</td>\n",
       "    </tr>\n",
       "    <tr>\n",
       "      <th>18937</th>\n",
       "      <td>2019-03-06 14:32:00.908</td>\n",
       "      <td>2019-03-06 16:12:43.944</td>\n",
       "      <td>-1 days +22:19:16.964000</td>\n",
       "      <td>80</td>\n",
       "      <td>14</td>\n",
       "    </tr>\n",
       "    <tr>\n",
       "      <th>18942</th>\n",
       "      <td>2019-03-06 14:32:02.578</td>\n",
       "      <td>2019-03-06 16:12:43.944</td>\n",
       "      <td>-1 days +22:19:18.634000</td>\n",
       "      <td>1</td>\n",
       "      <td>14</td>\n",
       "    </tr>\n",
       "    <tr>\n",
       "      <th>18936</th>\n",
       "      <td>2019-03-06 14:32:04.436</td>\n",
       "      <td>2019-03-06 16:12:43.944</td>\n",
       "      <td>-1 days +22:19:20.492000</td>\n",
       "      <td>81</td>\n",
       "      <td>14</td>\n",
       "    </tr>\n",
       "    <tr>\n",
       "      <th>18939</th>\n",
       "      <td>2019-03-06 14:32:30.499</td>\n",
       "      <td>2019-03-06 16:12:43.944</td>\n",
       "      <td>-1 days +22:19:46.555000</td>\n",
       "      <td>82</td>\n",
       "      <td>14</td>\n",
       "    </tr>\n",
       "    <tr>\n",
       "      <th>18938</th>\n",
       "      <td>2019-03-06 14:32:38.693</td>\n",
       "      <td>2019-03-06 16:12:43.944</td>\n",
       "      <td>-1 days +22:19:54.749000</td>\n",
       "      <td>82</td>\n",
       "      <td>14</td>\n",
       "    </tr>\n",
       "    <tr>\n",
       "      <th>18940</th>\n",
       "      <td>2019-03-06 14:32:41.374</td>\n",
       "      <td>2019-03-06 16:12:43.944</td>\n",
       "      <td>-1 days +22:19:57.430000</td>\n",
       "      <td>82</td>\n",
       "      <td>14</td>\n",
       "    </tr>\n",
       "    <tr>\n",
       "      <th>18952</th>\n",
       "      <td>2019-03-06 16:16:55.904</td>\n",
       "      <td>2019-03-06 16:12:43.944</td>\n",
       "      <td>0 days 00:04:11.960000</td>\n",
       "      <td>80</td>\n",
       "      <td>16</td>\n",
       "    </tr>\n",
       "    <tr>\n",
       "      <th>18950</th>\n",
       "      <td>2019-03-06 16:16:58.351</td>\n",
       "      <td>2019-03-06 16:12:43.944</td>\n",
       "      <td>0 days 00:04:14.407000</td>\n",
       "      <td>80</td>\n",
       "      <td>16</td>\n",
       "    </tr>\n",
       "    <tr>\n",
       "      <th>18951</th>\n",
       "      <td>2019-03-06 16:17:00.192</td>\n",
       "      <td>2019-03-06 16:12:43.944</td>\n",
       "      <td>0 days 00:04:16.248000</td>\n",
       "      <td>1</td>\n",
       "      <td>16</td>\n",
       "    </tr>\n",
       "    <tr>\n",
       "      <th>18953</th>\n",
       "      <td>2019-03-06 16:17:04.728</td>\n",
       "      <td>2019-03-06 16:12:43.944</td>\n",
       "      <td>0 days 00:04:20.784000</td>\n",
       "      <td>81</td>\n",
       "      <td>16</td>\n",
       "    </tr>\n",
       "    <tr>\n",
       "      <th>18949</th>\n",
       "      <td>2019-03-06 16:18:02.865</td>\n",
       "      <td>2019-03-06 16:12:43.944</td>\n",
       "      <td>0 days 00:05:18.921000</td>\n",
       "      <td>82</td>\n",
       "      <td>16</td>\n",
       "    </tr>\n",
       "    <tr>\n",
       "      <th>18955</th>\n",
       "      <td>2019-03-06 16:18:38.706</td>\n",
       "      <td>2019-03-06 16:12:43.944</td>\n",
       "      <td>0 days 00:05:54.762000</td>\n",
       "      <td>82</td>\n",
       "      <td>16</td>\n",
       "    </tr>\n",
       "    <tr>\n",
       "      <th>18948</th>\n",
       "      <td>2019-03-06 16:19:19.984</td>\n",
       "      <td>2019-03-06 16:12:43.944</td>\n",
       "      <td>0 days 00:06:36.040000</td>\n",
       "      <td>82</td>\n",
       "      <td>16</td>\n",
       "    </tr>\n",
       "    <tr>\n",
       "      <th>18954</th>\n",
       "      <td>2019-03-06 16:20:20.782</td>\n",
       "      <td>2019-03-06 16:12:43.944</td>\n",
       "      <td>0 days 00:07:36.838000</td>\n",
       "      <td>82</td>\n",
       "      <td>16</td>\n",
       "    </tr>\n",
       "    <tr>\n",
       "      <th>18932</th>\n",
       "      <td>2019-03-06 23:51:42.553</td>\n",
       "      <td>2019-03-06 16:12:43.944</td>\n",
       "      <td>0 days 07:38:58.609000</td>\n",
       "      <td>80</td>\n",
       "      <td>22</td>\n",
       "    </tr>\n",
       "    <tr>\n",
       "      <th>18931</th>\n",
       "      <td>2019-03-06 23:51:43.862</td>\n",
       "      <td>2019-03-06 16:12:43.944</td>\n",
       "      <td>0 days 07:38:59.918000</td>\n",
       "      <td>80</td>\n",
       "      <td>22</td>\n",
       "    </tr>\n",
       "    <tr>\n",
       "      <th>18930</th>\n",
       "      <td>2019-03-06 23:51:45.517</td>\n",
       "      <td>2019-03-06 16:12:43.944</td>\n",
       "      <td>0 days 07:39:01.573000</td>\n",
       "      <td>1</td>\n",
       "      <td>22</td>\n",
       "    </tr>\n",
       "    <tr>\n",
       "      <th>18933</th>\n",
       "      <td>2019-03-06 23:51:47.338</td>\n",
       "      <td>2019-03-06 16:12:43.944</td>\n",
       "      <td>0 days 07:39:03.394000</td>\n",
       "      <td>81</td>\n",
       "      <td>22</td>\n",
       "    </tr>\n",
       "    <tr>\n",
       "      <th>18934</th>\n",
       "      <td>2019-03-06 23:52:01.319</td>\n",
       "      <td>2019-03-06 16:12:43.944</td>\n",
       "      <td>0 days 07:39:17.375000</td>\n",
       "      <td>89</td>\n",
       "      <td>22</td>\n",
       "    </tr>\n",
       "    <tr>\n",
       "      <th>18935</th>\n",
       "      <td>2019-03-06 23:53:22.492</td>\n",
       "      <td>2019-03-06 16:12:43.944</td>\n",
       "      <td>0 days 07:40:38.548000</td>\n",
       "      <td>89</td>\n",
       "      <td>22</td>\n",
       "    </tr>\n",
       "    <tr>\n",
       "      <th>18944</th>\n",
       "      <td>2019-03-07 02:37:27.702</td>\n",
       "      <td>2019-03-06 16:12:43.944</td>\n",
       "      <td>0 days 10:24:43.758000</td>\n",
       "      <td>80</td>\n",
       "      <td>2</td>\n",
       "    </tr>\n",
       "    <tr>\n",
       "      <th>18947</th>\n",
       "      <td>2019-03-07 02:37:29.175</td>\n",
       "      <td>2019-03-06 16:12:43.944</td>\n",
       "      <td>0 days 10:24:45.231000</td>\n",
       "      <td>80</td>\n",
       "      <td>2</td>\n",
       "    </tr>\n",
       "    <tr>\n",
       "      <th>18946</th>\n",
       "      <td>2019-03-07 02:37:30.789</td>\n",
       "      <td>2019-03-06 16:12:43.944</td>\n",
       "      <td>0 days 10:24:46.845000</td>\n",
       "      <td>1</td>\n",
       "      <td>2</td>\n",
       "    </tr>\n",
       "    <tr>\n",
       "      <th>18945</th>\n",
       "      <td>2019-03-07 02:37:32.090</td>\n",
       "      <td>2019-03-06 16:12:43.944</td>\n",
       "      <td>0 days 10:24:48.146000</td>\n",
       "      <td>81</td>\n",
       "      <td>2</td>\n",
       "    </tr>\n",
       "  </tbody>\n",
       "</table>\n",
       "</div>"
      ],
      "text/plain": [
       "                         date                 created  \\\n",
       "18929 2019-03-05 15:58:12.132 2019-03-06 16:12:43.944   \n",
       "18927 2019-03-05 15:58:14.873 2019-03-06 16:12:43.944   \n",
       "18928 2019-03-05 15:58:16.232 2019-03-06 16:12:43.944   \n",
       "18926 2019-03-05 15:58:16.285 2019-03-06 16:12:43.944   \n",
       "18943 2019-03-05 17:40:21.979 2019-03-06 16:12:43.944   \n",
       "18915 2019-03-05 19:07:29.296 2019-03-06 16:12:43.944   \n",
       "18916 2019-03-05 19:07:33.914 2019-03-06 16:12:43.944   \n",
       "18914 2019-03-05 19:07:37.090 2019-03-06 16:12:43.944   \n",
       "18913 2019-03-05 19:07:38.944 2019-03-06 16:12:43.944   \n",
       "18941 2019-03-06 14:32:00.778 2019-03-06 16:12:43.944   \n",
       "18937 2019-03-06 14:32:00.908 2019-03-06 16:12:43.944   \n",
       "18942 2019-03-06 14:32:02.578 2019-03-06 16:12:43.944   \n",
       "18936 2019-03-06 14:32:04.436 2019-03-06 16:12:43.944   \n",
       "18939 2019-03-06 14:32:30.499 2019-03-06 16:12:43.944   \n",
       "18938 2019-03-06 14:32:38.693 2019-03-06 16:12:43.944   \n",
       "18940 2019-03-06 14:32:41.374 2019-03-06 16:12:43.944   \n",
       "18952 2019-03-06 16:16:55.904 2019-03-06 16:12:43.944   \n",
       "18950 2019-03-06 16:16:58.351 2019-03-06 16:12:43.944   \n",
       "18951 2019-03-06 16:17:00.192 2019-03-06 16:12:43.944   \n",
       "18953 2019-03-06 16:17:04.728 2019-03-06 16:12:43.944   \n",
       "18949 2019-03-06 16:18:02.865 2019-03-06 16:12:43.944   \n",
       "18955 2019-03-06 16:18:38.706 2019-03-06 16:12:43.944   \n",
       "18948 2019-03-06 16:19:19.984 2019-03-06 16:12:43.944   \n",
       "18954 2019-03-06 16:20:20.782 2019-03-06 16:12:43.944   \n",
       "18932 2019-03-06 23:51:42.553 2019-03-06 16:12:43.944   \n",
       "18931 2019-03-06 23:51:43.862 2019-03-06 16:12:43.944   \n",
       "18930 2019-03-06 23:51:45.517 2019-03-06 16:12:43.944   \n",
       "18933 2019-03-06 23:51:47.338 2019-03-06 16:12:43.944   \n",
       "18934 2019-03-06 23:52:01.319 2019-03-06 16:12:43.944   \n",
       "18935 2019-03-06 23:53:22.492 2019-03-06 16:12:43.944   \n",
       "18944 2019-03-07 02:37:27.702 2019-03-06 16:12:43.944   \n",
       "18947 2019-03-07 02:37:29.175 2019-03-06 16:12:43.944   \n",
       "18946 2019-03-07 02:37:30.789 2019-03-06 16:12:43.944   \n",
       "18945 2019-03-07 02:37:32.090 2019-03-06 16:12:43.944   \n",
       "\n",
       "           event_install_delta  event_id  session_2_hours  \n",
       "18929 -2 days +23:45:28.188000        80               14  \n",
       "18927 -2 days +23:45:30.929000        80               14  \n",
       "18928 -2 days +23:45:32.288000        81               14  \n",
       "18926 -2 days +23:45:32.341000         1               14  \n",
       "18943 -1 days +01:27:38.035000         1               16  \n",
       "18915 -1 days +02:54:45.352000        80               18  \n",
       "18916 -1 days +02:54:49.970000        80               18  \n",
       "18914 -1 days +02:54:53.146000         1               18  \n",
       "18913        -1 days +02:54:55        81               18  \n",
       "18941 -1 days +22:19:16.834000        80               14  \n",
       "18937 -1 days +22:19:16.964000        80               14  \n",
       "18942 -1 days +22:19:18.634000         1               14  \n",
       "18936 -1 days +22:19:20.492000        81               14  \n",
       "18939 -1 days +22:19:46.555000        82               14  \n",
       "18938 -1 days +22:19:54.749000        82               14  \n",
       "18940 -1 days +22:19:57.430000        82               14  \n",
       "18952   0 days 00:04:11.960000        80               16  \n",
       "18950   0 days 00:04:14.407000        80               16  \n",
       "18951   0 days 00:04:16.248000         1               16  \n",
       "18953   0 days 00:04:20.784000        81               16  \n",
       "18949   0 days 00:05:18.921000        82               16  \n",
       "18955   0 days 00:05:54.762000        82               16  \n",
       "18948   0 days 00:06:36.040000        82               16  \n",
       "18954   0 days 00:07:36.838000        82               16  \n",
       "18932   0 days 07:38:58.609000        80               22  \n",
       "18931   0 days 07:38:59.918000        80               22  \n",
       "18930   0 days 07:39:01.573000         1               22  \n",
       "18933   0 days 07:39:03.394000        81               22  \n",
       "18934   0 days 07:39:17.375000        89               22  \n",
       "18935   0 days 07:40:38.548000        89               22  \n",
       "18944   0 days 10:24:43.758000        80                2  \n",
       "18947   0 days 10:24:45.231000        80                2  \n",
       "18946   0 days 10:24:46.845000         1                2  \n",
       "18945   0 days 10:24:48.146000        81                2  "
      ]
     },
     "execution_count": 112,
     "metadata": {},
     "output_type": "execute_result"
    }
   ],
   "source": [
    "#otra vez vuelve a pasar lo mismo, todas las sesiones son con eventos 1-80-81\n",
    "#excepto por la primera\n",
    "#pareceria que es la misma aplicacion pero para IOS\n",
    "app_17[app_17[\"ref_hash\"] == 3895390168213205094][[\"date\", \"created\", \"event_install_delta\", \"event_id\", \"session_2_hours\"]].sort_values(by=\"date\")"
   ]
  },
  {
   "cell_type": "code",
   "execution_count": 113,
   "metadata": {},
   "outputs": [
    {
     "data": {
      "text/html": [
       "<div>\n",
       "<style scoped>\n",
       "    .dataframe tbody tr th:only-of-type {\n",
       "        vertical-align: middle;\n",
       "    }\n",
       "\n",
       "    .dataframe tbody tr th {\n",
       "        vertical-align: top;\n",
       "    }\n",
       "\n",
       "    .dataframe thead th {\n",
       "        text-align: right;\n",
       "    }\n",
       "</style>\n",
       "<table border=\"1\" class=\"dataframe\">\n",
       "  <thead>\n",
       "    <tr style=\"text-align: right;\">\n",
       "      <th></th>\n",
       "      <th>date</th>\n",
       "      <th>created</th>\n",
       "      <th>event_install_delta</th>\n",
       "      <th>event_id</th>\n",
       "      <th>session_2_hours</th>\n",
       "    </tr>\n",
       "  </thead>\n",
       "  <tbody>\n",
       "    <tr>\n",
       "      <th>23381</th>\n",
       "      <td>2019-03-06 10:55:32.462</td>\n",
       "      <td>2019-03-08 18:47:54.051</td>\n",
       "      <td>-3 days +16:07:38.411000</td>\n",
       "      <td>1</td>\n",
       "      <td>10</td>\n",
       "    </tr>\n",
       "    <tr>\n",
       "      <th>23376</th>\n",
       "      <td>2019-03-06 10:55:33.982</td>\n",
       "      <td>2019-03-08 18:47:54.051</td>\n",
       "      <td>-3 days +16:07:39.931000</td>\n",
       "      <td>80</td>\n",
       "      <td>10</td>\n",
       "    </tr>\n",
       "    <tr>\n",
       "      <th>23382</th>\n",
       "      <td>2019-03-06 10:55:36.972</td>\n",
       "      <td>2019-03-08 18:47:54.051</td>\n",
       "      <td>-3 days +16:07:42.921000</td>\n",
       "      <td>80</td>\n",
       "      <td>10</td>\n",
       "    </tr>\n",
       "    <tr>\n",
       "      <th>23377</th>\n",
       "      <td>2019-03-06 10:55:39.882</td>\n",
       "      <td>2019-03-08 18:47:54.051</td>\n",
       "      <td>-3 days +16:07:45.831000</td>\n",
       "      <td>81</td>\n",
       "      <td>10</td>\n",
       "    </tr>\n",
       "    <tr>\n",
       "      <th>23378</th>\n",
       "      <td>2019-03-06 10:55:45.376</td>\n",
       "      <td>2019-03-08 18:47:54.051</td>\n",
       "      <td>-3 days +16:07:51.325000</td>\n",
       "      <td>89</td>\n",
       "      <td>10</td>\n",
       "    </tr>\n",
       "    <tr>\n",
       "      <th>23383</th>\n",
       "      <td>2019-03-06 10:55:46.595</td>\n",
       "      <td>2019-03-08 18:47:54.051</td>\n",
       "      <td>-3 days +16:07:52.544000</td>\n",
       "      <td>88</td>\n",
       "      <td>10</td>\n",
       "    </tr>\n",
       "    <tr>\n",
       "      <th>23379</th>\n",
       "      <td>2019-03-06 10:56:46.709</td>\n",
       "      <td>2019-03-08 18:47:54.051</td>\n",
       "      <td>-3 days +16:08:52.658000</td>\n",
       "      <td>89</td>\n",
       "      <td>10</td>\n",
       "    </tr>\n",
       "    <tr>\n",
       "      <th>23380</th>\n",
       "      <td>2019-03-06 10:56:48.943</td>\n",
       "      <td>2019-03-08 18:47:54.051</td>\n",
       "      <td>-3 days +16:08:54.892000</td>\n",
       "      <td>88</td>\n",
       "      <td>10</td>\n",
       "    </tr>\n",
       "    <tr>\n",
       "      <th>23389</th>\n",
       "      <td>2019-03-06 10:58:06.426</td>\n",
       "      <td>2019-03-08 18:47:54.051</td>\n",
       "      <td>-3 days +16:10:12.375000</td>\n",
       "      <td>89</td>\n",
       "      <td>10</td>\n",
       "    </tr>\n",
       "    <tr>\n",
       "      <th>23387</th>\n",
       "      <td>2019-03-06 10:58:09.181</td>\n",
       "      <td>2019-03-08 18:47:54.051</td>\n",
       "      <td>-3 days +16:10:15.130000</td>\n",
       "      <td>88</td>\n",
       "      <td>10</td>\n",
       "    </tr>\n",
       "    <tr>\n",
       "      <th>23388</th>\n",
       "      <td>2019-03-06 10:58:13.822</td>\n",
       "      <td>2019-03-08 18:47:54.051</td>\n",
       "      <td>-3 days +16:10:19.771000</td>\n",
       "      <td>88</td>\n",
       "      <td>10</td>\n",
       "    </tr>\n",
       "    <tr>\n",
       "      <th>23384</th>\n",
       "      <td>2019-03-06 10:58:38.266</td>\n",
       "      <td>2019-03-08 18:47:54.051</td>\n",
       "      <td>-3 days +16:10:44.215000</td>\n",
       "      <td>126</td>\n",
       "      <td>10</td>\n",
       "    </tr>\n",
       "    <tr>\n",
       "      <th>23386</th>\n",
       "      <td>2019-03-06 10:58:38.829</td>\n",
       "      <td>2019-03-08 18:47:54.051</td>\n",
       "      <td>-3 days +16:10:44.778000</td>\n",
       "      <td>84</td>\n",
       "      <td>10</td>\n",
       "    </tr>\n",
       "    <tr>\n",
       "      <th>23385</th>\n",
       "      <td>2019-03-06 10:58:38.856</td>\n",
       "      <td>2019-03-08 18:47:54.051</td>\n",
       "      <td>-3 days +16:10:44.805000</td>\n",
       "      <td>118</td>\n",
       "      <td>10</td>\n",
       "    </tr>\n",
       "    <tr>\n",
       "      <th>23375</th>\n",
       "      <td>2019-03-13 01:09:08.499</td>\n",
       "      <td>2019-03-08 18:47:54.051</td>\n",
       "      <td>4 days 06:21:14.448000</td>\n",
       "      <td>89</td>\n",
       "      <td>0</td>\n",
       "    </tr>\n",
       "    <tr>\n",
       "      <th>23374</th>\n",
       "      <td>2019-03-13 01:10:08.940</td>\n",
       "      <td>2019-03-08 18:47:54.051</td>\n",
       "      <td>4 days 06:22:14.889000</td>\n",
       "      <td>89</td>\n",
       "      <td>0</td>\n",
       "    </tr>\n",
       "    <tr>\n",
       "      <th>23372</th>\n",
       "      <td>2019-03-13 01:13:08.942</td>\n",
       "      <td>2019-03-08 18:47:54.051</td>\n",
       "      <td>4 days 06:25:14.891000</td>\n",
       "      <td>118</td>\n",
       "      <td>0</td>\n",
       "    </tr>\n",
       "    <tr>\n",
       "      <th>23371</th>\n",
       "      <td>2019-03-13 01:13:08.947</td>\n",
       "      <td>2019-03-08 18:47:54.051</td>\n",
       "      <td>4 days 06:25:14.896000</td>\n",
       "      <td>84</td>\n",
       "      <td>0</td>\n",
       "    </tr>\n",
       "    <tr>\n",
       "      <th>23369</th>\n",
       "      <td>2019-03-13 01:13:10.094</td>\n",
       "      <td>2019-03-08 18:47:54.051</td>\n",
       "      <td>4 days 06:25:16.043000</td>\n",
       "      <td>126</td>\n",
       "      <td>0</td>\n",
       "    </tr>\n",
       "    <tr>\n",
       "      <th>23370</th>\n",
       "      <td>2019-03-13 01:14:04.663</td>\n",
       "      <td>2019-03-08 18:47:54.051</td>\n",
       "      <td>4 days 06:26:10.612000</td>\n",
       "      <td>89</td>\n",
       "      <td>0</td>\n",
       "    </tr>\n",
       "    <tr>\n",
       "      <th>23373</th>\n",
       "      <td>2019-03-13 01:17:26.732</td>\n",
       "      <td>2019-03-08 18:47:54.051</td>\n",
       "      <td>4 days 06:29:32.681000</td>\n",
       "      <td>89</td>\n",
       "      <td>0</td>\n",
       "    </tr>\n",
       "  </tbody>\n",
       "</table>\n",
       "</div>"
      ],
      "text/plain": [
       "                         date                 created  \\\n",
       "23381 2019-03-06 10:55:32.462 2019-03-08 18:47:54.051   \n",
       "23376 2019-03-06 10:55:33.982 2019-03-08 18:47:54.051   \n",
       "23382 2019-03-06 10:55:36.972 2019-03-08 18:47:54.051   \n",
       "23377 2019-03-06 10:55:39.882 2019-03-08 18:47:54.051   \n",
       "23378 2019-03-06 10:55:45.376 2019-03-08 18:47:54.051   \n",
       "23383 2019-03-06 10:55:46.595 2019-03-08 18:47:54.051   \n",
       "23379 2019-03-06 10:56:46.709 2019-03-08 18:47:54.051   \n",
       "23380 2019-03-06 10:56:48.943 2019-03-08 18:47:54.051   \n",
       "23389 2019-03-06 10:58:06.426 2019-03-08 18:47:54.051   \n",
       "23387 2019-03-06 10:58:09.181 2019-03-08 18:47:54.051   \n",
       "23388 2019-03-06 10:58:13.822 2019-03-08 18:47:54.051   \n",
       "23384 2019-03-06 10:58:38.266 2019-03-08 18:47:54.051   \n",
       "23386 2019-03-06 10:58:38.829 2019-03-08 18:47:54.051   \n",
       "23385 2019-03-06 10:58:38.856 2019-03-08 18:47:54.051   \n",
       "23375 2019-03-13 01:09:08.499 2019-03-08 18:47:54.051   \n",
       "23374 2019-03-13 01:10:08.940 2019-03-08 18:47:54.051   \n",
       "23372 2019-03-13 01:13:08.942 2019-03-08 18:47:54.051   \n",
       "23371 2019-03-13 01:13:08.947 2019-03-08 18:47:54.051   \n",
       "23369 2019-03-13 01:13:10.094 2019-03-08 18:47:54.051   \n",
       "23370 2019-03-13 01:14:04.663 2019-03-08 18:47:54.051   \n",
       "23373 2019-03-13 01:17:26.732 2019-03-08 18:47:54.051   \n",
       "\n",
       "           event_install_delta  event_id  session_2_hours  \n",
       "23381 -3 days +16:07:38.411000         1               10  \n",
       "23376 -3 days +16:07:39.931000        80               10  \n",
       "23382 -3 days +16:07:42.921000        80               10  \n",
       "23377 -3 days +16:07:45.831000        81               10  \n",
       "23378 -3 days +16:07:51.325000        89               10  \n",
       "23383 -3 days +16:07:52.544000        88               10  \n",
       "23379 -3 days +16:08:52.658000        89               10  \n",
       "23380 -3 days +16:08:54.892000        88               10  \n",
       "23389 -3 days +16:10:12.375000        89               10  \n",
       "23387 -3 days +16:10:15.130000        88               10  \n",
       "23388 -3 days +16:10:19.771000        88               10  \n",
       "23384 -3 days +16:10:44.215000       126               10  \n",
       "23386 -3 days +16:10:44.778000        84               10  \n",
       "23385 -3 days +16:10:44.805000       118               10  \n",
       "23375   4 days 06:21:14.448000        89                0  \n",
       "23374   4 days 06:22:14.889000        89                0  \n",
       "23372   4 days 06:25:14.891000       118                0  \n",
       "23371   4 days 06:25:14.896000        84                0  \n",
       "23369   4 days 06:25:16.043000       126                0  \n",
       "23370   4 days 06:26:10.612000        89                0  \n",
       "23373   4 days 06:29:32.681000        89                0  "
      ]
     },
     "execution_count": 113,
     "metadata": {},
     "output_type": "execute_result"
    }
   ],
   "source": [
    "app_17[app_17[\"ref_hash\"] == 8288214953927629367][[\"date\", \"created\", \"event_install_delta\", \"event_id\", \"session_2_hours\"]].sort_values(by=\"date\")"
   ]
  },
  {
   "cell_type": "code",
   "execution_count": null,
   "metadata": {},
   "outputs": [],
   "source": []
  },
  {
   "cell_type": "code",
   "execution_count": null,
   "metadata": {},
   "outputs": [],
   "source": []
  },
  {
   "cell_type": "code",
   "execution_count": null,
   "metadata": {},
   "outputs": [],
   "source": []
  },
  {
   "cell_type": "code",
   "execution_count": null,
   "metadata": {},
   "outputs": [],
   "source": []
  },
  {
   "cell_type": "code",
   "execution_count": null,
   "metadata": {},
   "outputs": [],
   "source": []
  },
  {
   "cell_type": "code",
   "execution_count": null,
   "metadata": {},
   "outputs": [],
   "source": []
  },
  {
   "cell_type": "code",
   "execution_count": null,
   "metadata": {},
   "outputs": [],
   "source": []
  },
  {
   "cell_type": "code",
   "execution_count": null,
   "metadata": {},
   "outputs": [],
   "source": []
  },
  {
   "cell_type": "code",
   "execution_count": null,
   "metadata": {},
   "outputs": [],
   "source": []
  },
  {
   "cell_type": "code",
   "execution_count": 114,
   "metadata": {},
   "outputs": [],
   "source": [
    "#tambien vemos que sistema oeprativo tienen las otras 2 apps con mismos eventos en comun"
   ]
  },
  {
   "cell_type": "code",
   "execution_count": 115,
   "metadata": {},
   "outputs": [
    {
     "data": {
      "text/plain": [
       "7.531669e+18    640\n",
       "Name: device_os, dtype: int64"
      ]
     },
     "execution_count": 115,
     "metadata": {},
     "output_type": "execute_result"
    }
   ],
   "source": [
    "#34 es android\n",
    "app_34_device_os = events_installs[events_installs[\"application_id_x\"] == 34][\"device_os\"].value_counts()\n",
    "app_34_device_os"
   ]
  },
  {
   "cell_type": "code",
   "execution_count": null,
   "metadata": {},
   "outputs": [],
   "source": []
  },
  {
   "cell_type": "code",
   "execution_count": 116,
   "metadata": {},
   "outputs": [
    {
     "data": {
      "text/plain": [
       "6.941825e+18    5322\n",
       "Name: device_os, dtype: int64"
      ]
     },
     "execution_count": 116,
     "metadata": {},
     "output_type": "execute_result"
    }
   ],
   "source": [
    "#8 es IOS\n",
    "app_8_device_os = events_installs[events_installs[\"application_id_x\"] == 8][\"device_os\"].value_counts()\n",
    "app_8_device_os"
   ]
  },
  {
   "cell_type": "code",
   "execution_count": null,
   "metadata": {},
   "outputs": [],
   "source": []
  },
  {
   "cell_type": "code",
   "execution_count": 117,
   "metadata": {},
   "outputs": [],
   "source": [
    "#entocnes hay 4 apps que tienen la mismos events IDS y patrones de comportamiento\n",
    "#2 son IOS y 2 son android"
   ]
  },
  {
   "cell_type": "code",
   "execution_count": null,
   "metadata": {},
   "outputs": [],
   "source": []
  },
  {
   "cell_type": "code",
   "execution_count": null,
   "metadata": {},
   "outputs": [],
   "source": []
  },
  {
   "cell_type": "code",
   "execution_count": null,
   "metadata": {},
   "outputs": [],
   "source": []
  },
  {
   "cell_type": "code",
   "execution_count": null,
   "metadata": {},
   "outputs": [],
   "source": []
  },
  {
   "cell_type": "code",
   "execution_count": null,
   "metadata": {},
   "outputs": [],
   "source": []
  },
  {
   "cell_type": "code",
   "execution_count": null,
   "metadata": {},
   "outputs": [],
   "source": []
  },
  {
   "cell_type": "code",
   "execution_count": null,
   "metadata": {},
   "outputs": [],
   "source": []
  },
  {
   "cell_type": "code",
   "execution_count": null,
   "metadata": {},
   "outputs": [],
   "source": []
  },
  {
   "cell_type": "code",
   "execution_count": null,
   "metadata": {},
   "outputs": [],
   "source": []
  },
  {
   "cell_type": "code",
   "execution_count": null,
   "metadata": {},
   "outputs": [],
   "source": []
  },
  {
   "cell_type": "code",
   "execution_count": null,
   "metadata": {},
   "outputs": [],
   "source": []
  },
  {
   "cell_type": "code",
   "execution_count": null,
   "metadata": {},
   "outputs": [],
   "source": []
  },
  {
   "cell_type": "code",
   "execution_count": null,
   "metadata": {},
   "outputs": [],
   "source": []
  },
  {
   "cell_type": "code",
   "execution_count": null,
   "metadata": {},
   "outputs": [],
   "source": []
  },
  {
   "cell_type": "code",
   "execution_count": null,
   "metadata": {},
   "outputs": [],
   "source": []
  },
  {
   "cell_type": "code",
   "execution_count": null,
   "metadata": {},
   "outputs": [],
   "source": []
  },
  {
   "cell_type": "code",
   "execution_count": null,
   "metadata": {},
   "outputs": [],
   "source": []
  },
  {
   "cell_type": "code",
   "execution_count": null,
   "metadata": {},
   "outputs": [],
   "source": []
  },
  {
   "cell_type": "code",
   "execution_count": null,
   "metadata": {},
   "outputs": [],
   "source": []
  },
  {
   "cell_type": "code",
   "execution_count": null,
   "metadata": {},
   "outputs": [],
   "source": []
  },
  {
   "cell_type": "code",
   "execution_count": null,
   "metadata": {},
   "outputs": [],
   "source": []
  },
  {
   "cell_type": "code",
   "execution_count": null,
   "metadata": {},
   "outputs": [],
   "source": []
  },
  {
   "cell_type": "code",
   "execution_count": null,
   "metadata": {},
   "outputs": [],
   "source": []
  },
  {
   "cell_type": "code",
   "execution_count": null,
   "metadata": {},
   "outputs": [],
   "source": []
  },
  {
   "cell_type": "code",
   "execution_count": null,
   "metadata": {},
   "outputs": [],
   "source": []
  },
  {
   "cell_type": "code",
   "execution_count": null,
   "metadata": {},
   "outputs": [],
   "source": []
  },
  {
   "cell_type": "code",
   "execution_count": null,
   "metadata": {},
   "outputs": [],
   "source": []
  },
  {
   "cell_type": "code",
   "execution_count": null,
   "metadata": {},
   "outputs": [],
   "source": []
  },
  {
   "cell_type": "markdown",
   "metadata": {},
   "source": [
    "# "
   ]
  }
 ],
 "metadata": {
  "kernelspec": {
   "display_name": "Python 3",
   "language": "python",
   "name": "python3"
  },
  "language_info": {
   "codemirror_mode": {
    "name": "ipython",
    "version": 3
   },
   "file_extension": ".py",
   "mimetype": "text/x-python",
   "name": "python",
   "nbconvert_exporter": "python",
   "pygments_lexer": "ipython3",
   "version": "3.6.5"
  }
 },
 "nbformat": 4,
 "nbformat_minor": 2
}
