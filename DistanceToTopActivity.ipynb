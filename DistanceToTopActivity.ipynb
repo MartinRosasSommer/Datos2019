{
 "cells": [
  {
   "cell_type": "code",
   "execution_count": null,
   "metadata": {},
   "outputs": [],
   "source": [
    "from datetime import datetime, timedelta\n",
    "from pyspark import SparkContext, SQLContext\n",
    "from pyspark.sql.functions import hour, mean\n",
    "import pyspark\n",
    "sc = SparkContext.getOrCreate()"
   ]
  },
  {
   "cell_type": "code",
   "execution_count": null,
   "metadata": {},
   "outputs": [],
   "source": [
    "spark = pyspark.sql.SparkSession.builder.appName(\"auctions\").getOrCreate()\n",
    "df_auctions = spark.read.csv('auctions.csv', header=True)\n",
    "rdd_auctions = df_auctions.rdd\n",
    "#AuctionTypeId, country, date, deviceId, platform, refType, sourceId"
   ]
  },
  {
   "cell_type": "code",
   "execution_count": null,
   "metadata": {},
   "outputs": [],
   "source": [
    "spark = pyspark.sql.SparkSession.builder.appName(\"installs\").getOrCreate()\n",
    "df_installs = spark.read.csv('installs.csv', header=True)\n",
    "rdd_installs = df_installs.rdd\n",
    "#created, applicationId, refType, refHash, clickHash, attributed, implicit, deviceCountryCode, deviceBrand, deviceModel, sessionUserAgent, userAgent, eventUuid, kind, wifi, transId, ipAddress, deviceLanguage"
   ]
  },
  {
   "cell_type": "code",
   "execution_count": null,
   "metadata": {},
   "outputs": [],
   "source": [
    "rdd_auctions = rdd_auctions.map(lambda x: (x.device_id, datetime.strptime(x.date, \"%Y-%m-%d %H:%M:%S.%f\")))\n",
    "rdd_auctions = rdd_auctions.groupByKey().mapValues(list).mapValues(sorted)\n",
    "rdd_installs = rdd_installs.map(lambda x: (x.device_id, datetime.strptime(x.created, \"%Y-%m-%d %H:%M:%S.%f\")))\n",
    "rdd_installs = rdd_installs.groupByKey().mapValues(list).mapValues(sorted)"
   ]
  },
  {
   "cell_type": "code",
   "execution_count": null,
   "metadata": {},
   "outputs": [],
   "source": [
    "auctionsMax = datetime.strptime(\"00:30:00\", \"%H:%M:%S\")\n",
    "installsMax = datetime.strptime(\"23:00:00\", \"%H:%M:%S\")"
   ]
  },
  {
   "cell_type": "code",
   "execution_count": null,
   "metadata": {},
   "outputs": [],
   "source": [
    "def get_timeDeltas_toMax_auctions(dateList):\n",
    "    \"\"\"\n",
    "    esta funcion recibe una lista de fechas ordenada de las apariciones de un ID\n",
    "    la idea es devolver una lista de tuplas, en la que cada tupla sea asi:\n",
    "    valor 1 = ultima fecha en que aparecio en un auction\n",
    "    valor 2 = distancia temporal hasta el siguiente pico de actividad (sea auctions o installs)\n",
    "    \"\"\"\n",
    "    distancias = []\n",
    "    longitud_actual = len(dateList)\n",
    "    \"\"\"\n",
    "    En lastConversionIndexFound guardo el indice de la última conversión encontrada, \n",
    "    no quiero iterar n veces si aplica para otras fechas\n",
    "    \"\"\"\n",
    "    date = dateList[longitud_actual - 1]\n",
    "    timeDeltaToMax = (datetime(year = 1900, month = 1, day = 1, hour = date.hour, minute = date.minute, second = date.second) - auctionsMax).total_seconds()\n",
    "    distancias.append(timeDeltaToMax)\n",
    "        \n",
    "    return distancias"
   ]
  },
  {
   "cell_type": "code",
   "execution_count": null,
   "metadata": {},
   "outputs": [],
   "source": [
    "def get_timeDeltas_toMax_installs(dateList):\n",
    "    \"\"\"\n",
    "    esta funcion recibe una lista de fechas ordenada de las apariciones de un ID\n",
    "    la idea es devolver una lista de tuplas, en la que cada tupla sea asi:\n",
    "    valor 1 = ultima fecha en que aparecio en un auction\n",
    "    valor 2 = distancia temporal hasta el siguiente pico de actividad (sea auctions o installs)\n",
    "    \"\"\"\n",
    "    distancias = []\n",
    "    longitud_actual = len(dateList)\n",
    "    \"\"\"\n",
    "    En lastConversionIndexFound guardo el indice de la última conversión encontrada, \n",
    "    no quiero iterar n veces si aplica para otras fechas\n",
    "    \"\"\"\n",
    "    date = dateList[longitud_actual - 1]\n",
    "    timeDeltaToMax = (datetime(year = 1900, month = 1, day = 1, hour = date.hour, minute = date.minute, second = date.second) - installsMax).total_seconds()\n",
    "    distancias.append(timeDeltaToMax)\n",
    "        \n",
    "    return distancias"
   ]
  },
  {
   "cell_type": "code",
   "execution_count": null,
   "metadata": {},
   "outputs": [],
   "source": [
    "rdd_auctions_topActivity_timeDeltas = rdd_auctions.flatMapValues(get_timeDeltas_toMax_auctions)\n",
    "rdd_installs_topActivity_timeDeltas = rdd_installs.flatMapValues(get_timeDeltas_toMax_installs)"
   ]
  },
  {
   "cell_type": "code",
   "execution_count": null,
   "metadata": {},
   "outputs": [],
   "source": [
    "def toCSVLine(data):\n",
    "  return ','.join(str(d) for d in data)"
   ]
  },
  {
   "cell_type": "code",
   "execution_count": null,
   "metadata": {},
   "outputs": [],
   "source": [
    "rdd_auctions_topActivity_timeDeltas.map(toCSVLine)\n",
    "rdd_auctions_topActivity_timeDeltas.repartition(1).saveAsTextFile('auctions_topActivity.csv')"
   ]
  },
  {
   "cell_type": "code",
   "execution_count": null,
   "metadata": {},
   "outputs": [],
   "source": [
    "rdd_installs_topActivity_timeDeltas.map(toCSVLine)\n",
    "rdd_installs_topActivity_timeDeltas.repartition(1).saveAsTextFile('auctions_topActivity.csv')"
   ]
  },
  {
   "cell_type": "code",
   "execution_count": null,
   "metadata": {},
   "outputs": [],
   "source": []
  }
 ],
 "metadata": {
  "kernelspec": {
   "display_name": "Python 3",
   "language": "python",
   "name": "python3"
  },
  "language_info": {
   "codemirror_mode": {
    "name": "ipython",
    "version": 3
   },
   "file_extension": ".py",
   "mimetype": "text/x-python",
   "name": "python",
   "nbconvert_exporter": "python",
   "pygments_lexer": "ipython3",
   "version": "3.7.3"
  }
 },
 "nbformat": 4,
 "nbformat_minor": 2
}
